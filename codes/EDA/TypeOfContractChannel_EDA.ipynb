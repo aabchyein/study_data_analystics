{
 "cells": [
  {
   "cell_type": "code",
   "execution_count": 1,
   "id": "ca95aa7f-0882-46b8-8643-bc31c519e085",
   "metadata": {
    "tags": []
   },
   "outputs": [],
   "source": [
    "import matplotlib.pyplot as plt\n",
    "# 한글처리\n",
    "import matplotlib as mpl\n",
    "mpl.rc('font',family='Malgun Gothic')\n",
    "import seaborn as sns\n",
    "import pandas as pd"
   ]
  },
  {
   "cell_type": "markdown",
   "id": "3433645c-c35e-461a-869a-20f3b018aa42",
   "metadata": {},
   "source": [
    "### load datasets"
   ]
  },
  {
   "cell_type": "code",
   "execution_count": 2,
   "id": "4fb013e2-a70c-4395-9d82-cba62e4c6b61",
   "metadata": {
    "tags": []
   },
   "outputs": [
    {
     "data": {
      "text/html": [
       "<div>\n",
       "<style scoped>\n",
       "    .dataframe tbody tr th:only-of-type {\n",
       "        vertical-align: middle;\n",
       "    }\n",
       "\n",
       "    .dataframe tbody tr th {\n",
       "        vertical-align: top;\n",
       "    }\n",
       "\n",
       "    .dataframe thead th {\n",
       "        text-align: right;\n",
       "    }\n",
       "</style>\n",
       "<table border=\"1\" class=\"dataframe\">\n",
       "  <thead>\n",
       "    <tr style=\"text-align: right;\">\n",
       "      <th></th>\n",
       "      <th>id</th>\n",
       "      <th>type_of_contract</th>\n",
       "      <th>type_of_contract2</th>\n",
       "      <th>channel</th>\n",
       "      <th>datetime</th>\n",
       "      <th>Term</th>\n",
       "      <th>payment_type</th>\n",
       "      <th>product</th>\n",
       "      <th>amount</th>\n",
       "      <th>state</th>\n",
       "      <th>overdue_count</th>\n",
       "      <th>overdue</th>\n",
       "      <th>credit rating</th>\n",
       "      <th>bank</th>\n",
       "      <th>cancellation</th>\n",
       "      <th>age</th>\n",
       "      <th>Mileage</th>\n",
       "    </tr>\n",
       "  </thead>\n",
       "  <tbody>\n",
       "    <tr>\n",
       "      <th>0</th>\n",
       "      <td>66758234</td>\n",
       "      <td>렌탈</td>\n",
       "      <td>Normal</td>\n",
       "      <td>서비스 방문</td>\n",
       "      <td>2019-10-20</td>\n",
       "      <td>60</td>\n",
       "      <td>CMS</td>\n",
       "      <td>K1</td>\n",
       "      <td>96900</td>\n",
       "      <td>계약확정</td>\n",
       "      <td>0</td>\n",
       "      <td>없음</td>\n",
       "      <td>9.0</td>\n",
       "      <td>새마을금고</td>\n",
       "      <td>정상</td>\n",
       "      <td>43.0</td>\n",
       "      <td>1862.0</td>\n",
       "    </tr>\n",
       "    <tr>\n",
       "      <th>1</th>\n",
       "      <td>66755948</td>\n",
       "      <td>렌탈</td>\n",
       "      <td>Extension_Rental</td>\n",
       "      <td>서비스 방문</td>\n",
       "      <td>2019-10-20</td>\n",
       "      <td>60</td>\n",
       "      <td>카드이체</td>\n",
       "      <td>K1</td>\n",
       "      <td>102900</td>\n",
       "      <td>계약확정</td>\n",
       "      <td>0</td>\n",
       "      <td>없음</td>\n",
       "      <td>2.0</td>\n",
       "      <td>현대카드</td>\n",
       "      <td>정상</td>\n",
       "      <td>62.0</td>\n",
       "      <td>2532.0</td>\n",
       "    </tr>\n",
       "  </tbody>\n",
       "</table>\n",
       "</div>"
      ],
      "text/plain": [
       "         id type_of_contract type_of_contract2 channel    datetime  Term  \\\n",
       "0  66758234               렌탈            Normal  서비스 방문  2019-10-20    60   \n",
       "1  66755948               렌탈  Extension_Rental  서비스 방문  2019-10-20    60   \n",
       "\n",
       "  payment_type product  amount state  overdue_count overdue  credit rating  \\\n",
       "0          CMS      K1   96900  계약확정              0      없음            9.0   \n",
       "1         카드이체      K1  102900  계약확정              0      없음            2.0   \n",
       "\n",
       "    bank cancellation   age  Mileage  \n",
       "0  새마을금고           정상  43.0   1862.0  \n",
       "1   현대카드           정상  62.0   2532.0  "
      ]
     },
     "execution_count": 2,
     "metadata": {},
     "output_type": "execute_result"
    }
   ],
   "source": [
    "df_TOCC = pd.read_csv('../../datasets/TypeOfContractChannel.csv')\n",
    "df_TOCC[:2]"
   ]
  },
  {
   "cell_type": "markdown",
   "id": "6a427bae-43e2-4a8e-b27c-9351a9d3b3aa",
   "metadata": {},
   "source": [
    "### 분석 대상\n",
    "- 궁금한 점 : 한 건의 거래 내역당 총합에 영향을 준 내용은 무엇인가?\n",
    "- 목표 변수 선정 : amount\n",
    "- 설명 변수 선정 : type_of_contract, datetime, product, age"
   ]
  },
  {
   "cell_type": "markdown",
   "id": "4d5969d4-f7fb-4998-a14f-503a19014d9b",
   "metadata": {},
   "source": [
    "### EDA 전략"
   ]
  },
  {
   "cell_type": "markdown",
   "id": "8a6012a6-3669-4487-96bd-0e18b7cff604",
   "metadata": {},
   "source": [
    "#### 해당 변수(목표와 설명) 선택\n",
    "- 이상치와 결측치 처리"
   ]
  },
  {
   "cell_type": "code",
   "execution_count": 3,
   "id": "29d714f4-b4a3-46ee-adad-f00d44488677",
   "metadata": {
    "tags": []
   },
   "outputs": [
    {
     "data": {
      "text/plain": [
       "Index(['id', 'type_of_contract', 'type_of_contract2', 'channel', 'datetime',\n",
       "       'Term', 'payment_type', 'product', 'amount', 'state', 'overdue_count',\n",
       "       'overdue', 'credit rating', 'bank', 'cancellation', 'age', 'Mileage'],\n",
       "      dtype='object')"
      ]
     },
     "execution_count": 3,
     "metadata": {},
     "output_type": "execute_result"
    }
   ],
   "source": [
    "df_TOCC.columns"
   ]
  },
  {
   "cell_type": "code",
   "execution_count": 4,
   "id": "ccbefafc-3bdd-408f-8d74-f84229a888da",
   "metadata": {
    "tags": []
   },
   "outputs": [
    {
     "data": {
      "text/html": [
       "<div>\n",
       "<style scoped>\n",
       "    .dataframe tbody tr th:only-of-type {\n",
       "        vertical-align: middle;\n",
       "    }\n",
       "\n",
       "    .dataframe tbody tr th {\n",
       "        vertical-align: top;\n",
       "    }\n",
       "\n",
       "    .dataframe thead th {\n",
       "        text-align: right;\n",
       "    }\n",
       "</style>\n",
       "<table border=\"1\" class=\"dataframe\">\n",
       "  <thead>\n",
       "    <tr style=\"text-align: right;\">\n",
       "      <th></th>\n",
       "      <th>type_of_contract</th>\n",
       "      <th>datetime</th>\n",
       "      <th>product</th>\n",
       "      <th>amount</th>\n",
       "      <th>age</th>\n",
       "    </tr>\n",
       "  </thead>\n",
       "  <tbody>\n",
       "    <tr>\n",
       "      <th>0</th>\n",
       "      <td>렌탈</td>\n",
       "      <td>2019-10-20</td>\n",
       "      <td>K1</td>\n",
       "      <td>96900</td>\n",
       "      <td>43.0</td>\n",
       "    </tr>\n",
       "    <tr>\n",
       "      <th>1</th>\n",
       "      <td>렌탈</td>\n",
       "      <td>2019-10-20</td>\n",
       "      <td>K1</td>\n",
       "      <td>102900</td>\n",
       "      <td>62.0</td>\n",
       "    </tr>\n",
       "  </tbody>\n",
       "</table>\n",
       "</div>"
      ],
      "text/plain": [
       "  type_of_contract    datetime product  amount   age\n",
       "0               렌탈  2019-10-20      K1   96900  43.0\n",
       "1               렌탈  2019-10-20      K1  102900  62.0"
      ]
     },
     "execution_count": 4,
     "metadata": {},
     "output_type": "execute_result"
    }
   ],
   "source": [
    "# 5개의 columns를 추출해서 choose변수에 담음\n",
    "df_TOCC_choose = df_TOCC[['type_of_contract', 'datetime', 'product', 'amount', 'age']]\n",
    "df_TOCC_choose[:2]"
   ]
  },
  {
   "cell_type": "code",
   "execution_count": 5,
   "id": "7d142861-8ab0-4691-9ba2-20f24a192ce6",
   "metadata": {
    "tags": []
   },
   "outputs": [
    {
     "data": {
      "text/plain": [
       "type_of_contract    0\n",
       "datetime            0\n",
       "product             0\n",
       "amount              0\n",
       "age                 0\n",
       "dtype: int64"
      ]
     },
     "execution_count": 5,
     "metadata": {},
     "output_type": "execute_result"
    }
   ],
   "source": [
    "# df_TOCC_choose.info()\n",
    "# df_TOCC_choose.isnull().sum()    # null값 찾기 <null값은 계산이 안됨. 값을 채워주거나 drop으로 날리기>\n",
    "df_TOCC_choose = df_TOCC_choose.dropna()\n",
    "df_TOCC_choose.isnull().sum()      # null 값 제거 완료 확인"
   ]
  },
  {
   "cell_type": "markdown",
   "id": "0973c2f9-2a1f-46a6-ba62-e112ed4b56e2",
   "metadata": {
    "tags": []
   },
   "source": [
    "#### 범주형과 연속형(순서형)으로 dtype 변형"
   ]
  },
  {
   "cell_type": "code",
   "execution_count": 6,
   "id": "fc4c0340-a20c-40c1-a277-fe97bc7af7fd",
   "metadata": {
    "tags": []
   },
   "outputs": [],
   "source": [
    "df_TOCC_choose['datetime'] = pd.to_datetime(df_TOCC_choose['datetime'])"
   ]
  },
  {
   "cell_type": "code",
   "execution_count": 7,
   "id": "49507a97-30bd-40b5-987c-600422195035",
   "metadata": {
    "tags": []
   },
   "outputs": [
    {
     "data": {
      "text/plain": [
       "type_of_contract            object\n",
       "datetime            datetime64[ns]\n",
       "product                     object\n",
       "amount                       int64\n",
       "age                        float64\n",
       "dtype: object"
      ]
     },
     "execution_count": 7,
     "metadata": {},
     "output_type": "execute_result"
    }
   ],
   "source": [
    "df_TOCC_choose.dtypes"
   ]
  },
  {
   "cell_type": "code",
   "execution_count": 8,
   "id": "69914a32-cc9b-4527-a445-d63f9ba6f9cb",
   "metadata": {
    "tags": []
   },
   "outputs": [
    {
     "name": "stderr",
     "output_type": "stream",
     "text": [
      "C:\\Users\\koreavc\\AppData\\Local\\Temp\\ipykernel_2964\\318549244.py:2: FutureWarning: Treating datetime data as categorical rather than numeric in `.describe` is deprecated and will be removed in a future version of pandas. Specify `datetime_is_numeric=True` to silence this warning and adopt the future behavior now.\n",
      "  df_TOCC_choose.describe(include='all')\n"
     ]
    },
    {
     "data": {
      "text/html": [
       "<div>\n",
       "<style scoped>\n",
       "    .dataframe tbody tr th:only-of-type {\n",
       "        vertical-align: middle;\n",
       "    }\n",
       "\n",
       "    .dataframe tbody tr th {\n",
       "        vertical-align: top;\n",
       "    }\n",
       "\n",
       "    .dataframe thead th {\n",
       "        text-align: right;\n",
       "    }\n",
       "</style>\n",
       "<table border=\"1\" class=\"dataframe\">\n",
       "  <thead>\n",
       "    <tr style=\"text-align: right;\">\n",
       "      <th></th>\n",
       "      <th>type_of_contract</th>\n",
       "      <th>datetime</th>\n",
       "      <th>product</th>\n",
       "      <th>amount</th>\n",
       "      <th>age</th>\n",
       "    </tr>\n",
       "  </thead>\n",
       "  <tbody>\n",
       "    <tr>\n",
       "      <th>count</th>\n",
       "      <td>40505</td>\n",
       "      <td>40505</td>\n",
       "      <td>40505</td>\n",
       "      <td>40505.000000</td>\n",
       "      <td>40505.000000</td>\n",
       "    </tr>\n",
       "    <tr>\n",
       "      <th>unique</th>\n",
       "      <td>2</td>\n",
       "      <td>101</td>\n",
       "      <td>6</td>\n",
       "      <td>NaN</td>\n",
       "      <td>NaN</td>\n",
       "    </tr>\n",
       "    <tr>\n",
       "      <th>top</th>\n",
       "      <td>렌탈</td>\n",
       "      <td>2019-10-25 00:00:00</td>\n",
       "      <td>K1</td>\n",
       "      <td>NaN</td>\n",
       "      <td>NaN</td>\n",
       "    </tr>\n",
       "    <tr>\n",
       "      <th>freq</th>\n",
       "      <td>38449</td>\n",
       "      <td>702</td>\n",
       "      <td>30135</td>\n",
       "      <td>NaN</td>\n",
       "      <td>NaN</td>\n",
       "    </tr>\n",
       "    <tr>\n",
       "      <th>first</th>\n",
       "      <td>NaN</td>\n",
       "      <td>2019-10-20 00:00:00</td>\n",
       "      <td>NaN</td>\n",
       "      <td>NaN</td>\n",
       "      <td>NaN</td>\n",
       "    </tr>\n",
       "    <tr>\n",
       "      <th>last</th>\n",
       "      <td>NaN</td>\n",
       "      <td>2020-02-03 00:00:00</td>\n",
       "      <td>NaN</td>\n",
       "      <td>NaN</td>\n",
       "      <td>NaN</td>\n",
       "    </tr>\n",
       "    <tr>\n",
       "      <th>mean</th>\n",
       "      <td>NaN</td>\n",
       "      <td>NaN</td>\n",
       "      <td>NaN</td>\n",
       "      <td>94919.192174</td>\n",
       "      <td>46.608098</td>\n",
       "    </tr>\n",
       "    <tr>\n",
       "      <th>std</th>\n",
       "      <td>NaN</td>\n",
       "      <td>NaN</td>\n",
       "      <td>NaN</td>\n",
       "      <td>12618.603722</td>\n",
       "      <td>13.466188</td>\n",
       "    </tr>\n",
       "    <tr>\n",
       "      <th>min</th>\n",
       "      <td>NaN</td>\n",
       "      <td>NaN</td>\n",
       "      <td>NaN</td>\n",
       "      <td>55200.000000</td>\n",
       "      <td>20.000000</td>\n",
       "    </tr>\n",
       "    <tr>\n",
       "      <th>25%</th>\n",
       "      <td>NaN</td>\n",
       "      <td>NaN</td>\n",
       "      <td>NaN</td>\n",
       "      <td>87900.000000</td>\n",
       "      <td>37.000000</td>\n",
       "    </tr>\n",
       "    <tr>\n",
       "      <th>50%</th>\n",
       "      <td>NaN</td>\n",
       "      <td>NaN</td>\n",
       "      <td>NaN</td>\n",
       "      <td>96900.000000</td>\n",
       "      <td>46.000000</td>\n",
       "    </tr>\n",
       "    <tr>\n",
       "      <th>75%</th>\n",
       "      <td>NaN</td>\n",
       "      <td>NaN</td>\n",
       "      <td>NaN</td>\n",
       "      <td>98400.000000</td>\n",
       "      <td>56.000000</td>\n",
       "    </tr>\n",
       "    <tr>\n",
       "      <th>max</th>\n",
       "      <td>NaN</td>\n",
       "      <td>NaN</td>\n",
       "      <td>NaN</td>\n",
       "      <td>215700.000000</td>\n",
       "      <td>107.000000</td>\n",
       "    </tr>\n",
       "  </tbody>\n",
       "</table>\n",
       "</div>"
      ],
      "text/plain": [
       "       type_of_contract             datetime product         amount  \\\n",
       "count             40505                40505   40505   40505.000000   \n",
       "unique                2                  101       6            NaN   \n",
       "top                  렌탈  2019-10-25 00:00:00      K1            NaN   \n",
       "freq              38449                  702   30135            NaN   \n",
       "first               NaN  2019-10-20 00:00:00     NaN            NaN   \n",
       "last                NaN  2020-02-03 00:00:00     NaN            NaN   \n",
       "mean                NaN                  NaN     NaN   94919.192174   \n",
       "std                 NaN                  NaN     NaN   12618.603722   \n",
       "min                 NaN                  NaN     NaN   55200.000000   \n",
       "25%                 NaN                  NaN     NaN   87900.000000   \n",
       "50%                 NaN                  NaN     NaN   96900.000000   \n",
       "75%                 NaN                  NaN     NaN   98400.000000   \n",
       "max                 NaN                  NaN     NaN  215700.000000   \n",
       "\n",
       "                 age  \n",
       "count   40505.000000  \n",
       "unique           NaN  \n",
       "top              NaN  \n",
       "freq             NaN  \n",
       "first            NaN  \n",
       "last             NaN  \n",
       "mean       46.608098  \n",
       "std        13.466188  \n",
       "min        20.000000  \n",
       "25%        37.000000  \n",
       "50%        46.000000  \n",
       "75%        56.000000  \n",
       "max       107.000000  "
      ]
     },
     "execution_count": 8,
     "metadata": {},
     "output_type": "execute_result"
    }
   ],
   "source": [
    "# df_TOCC_choose.describe()\n",
    "df_TOCC_choose.describe(include='all')"
   ]
  },
  {
   "cell_type": "markdown",
   "id": "70b8f421-ec08-4786-ae46-b78f6248a9b8",
   "metadata": {},
   "source": [
    "#### 변수들의 상관성 확인\n",
    "- 목표 변수의 정규화 여부 판단\n",
    "- 목표 변수와 각 설명 변수의 관계 확인"
   ]
  },
  {
   "cell_type": "code",
   "execution_count": 9,
   "id": "0154ae45-08e2-4326-b9e2-eb7949f54de1",
   "metadata": {
    "tags": []
   },
   "outputs": [
    {
     "data": {
      "text/plain": [
       "<Axes: xlabel='amount', ylabel='Count'>"
      ]
     },
     "execution_count": 9,
     "metadata": {},
     "output_type": "execute_result"
    },
    {
     "data": {
      "image/png": "[encoded data removed]",
      "text/plain": [
       "<Figure size 640x480 with 1 Axes>"
      ]
     },
     "metadata": {},
     "output_type": "display_data"
    }
   ],
   "source": [
    "sns.histplot(data=df_TOCC_choose, x='amount', kde=True)"
   ]
  },
  {
   "cell_type": "code",
   "execution_count": 10,
   "id": "1cf7b94e-b078-4adb-87f7-4d4ba43c2b2d",
   "metadata": {
    "tags": []
   },
   "outputs": [
    {
     "name": "stderr",
     "output_type": "stream",
     "text": [
      "C:\\Users\\koreavc\\AppData\\Local\\Temp\\ipykernel_2964\\3697256325.py:3: FutureWarning: The default value of numeric_only in DataFrame.corr is deprecated. In a future version, it will default to False. Select only valid columns or specify the value of numeric_only to silence this warning.\n",
      "  df_TOCC_choose.corr() # 관계성 있을 경우 : pairplot() 을 이용해 시각화해보기\n"
     ]
    },
    {
     "data": {
      "text/html": [
       "<div>\n",
       "<style scoped>\n",
       "    .dataframe tbody tr th:only-of-type {\n",
       "        vertical-align: middle;\n",
       "    }\n",
       "\n",
       "    .dataframe tbody tr th {\n",
       "        vertical-align: top;\n",
       "    }\n",
       "\n",
       "    .dataframe thead th {\n",
       "        text-align: right;\n",
       "    }\n",
       "</style>\n",
       "<table border=\"1\" class=\"dataframe\">\n",
       "  <thead>\n",
       "    <tr style=\"text-align: right;\">\n",
       "      <th></th>\n",
       "      <th>amount</th>\n",
       "      <th>age</th>\n",
       "    </tr>\n",
       "  </thead>\n",
       "  <tbody>\n",
       "    <tr>\n",
       "      <th>amount</th>\n",
       "      <td>1.000000</td>\n",
       "      <td>-0.003539</td>\n",
       "    </tr>\n",
       "    <tr>\n",
       "      <th>age</th>\n",
       "      <td>-0.003539</td>\n",
       "      <td>1.000000</td>\n",
       "    </tr>\n",
       "  </tbody>\n",
       "</table>\n",
       "</div>"
      ],
      "text/plain": [
       "          amount       age\n",
       "amount  1.000000 -0.003539\n",
       "age    -0.003539  1.000000"
      ]
     },
     "execution_count": 10,
     "metadata": {},
     "output_type": "execute_result"
    }
   ],
   "source": [
    "# - 목표 변수와 각 설명 변수의 관계 확인\n",
    "# 연속형 / 연속형 : 상관계수\n",
    "df_TOCC_choose.corr() # 관계성 있을 경우 : pairplot() 을 이용해 시각화해보기\n",
    "# 결과 : age와 amount는 0에 가깝기 때문에 관계없음"
   ]
  },
  {
   "cell_type": "code",
   "execution_count": 11,
   "id": "223e291d-2d23-443a-8fb4-e7c3df5d3a00",
   "metadata": {
    "tags": []
   },
   "outputs": [
    {
     "data": {
      "text/plain": [
       "<Axes: xlabel='product', ylabel='amount'>"
      ]
     },
     "execution_count": 11,
     "metadata": {},
     "output_type": "execute_result"
    },
    {
     "data": {
      "image/png": "[encoded data removed]",
      "text/plain": [
       "<Figure size 640x480 with 1 Axes>"
      ]
     },
     "metadata": {},
     "output_type": "display_data"
    }
   ],
   "source": [
    "# 범주형 / 연속형 : 범주형 항목의 최상 or 최하 중에서 개수 선택(항목 중에서 목표변수에 영향을 주는 것을 선택해야 함)\n",
    "# 항목이 2개 이상 필요(type_of_contract의 경우 항목이 2개이므로 의미가 없음, 굳이 시각화할 필요가 없음)\n",
    "sns.barplot(data=df_TOCC_choose, x='product', y='amount')  # y는 목표변수\n",
    "\n",
    "# product의 경우 6개의 항목 중 상위 3개만, 전부 다, 상위2개 추출 이런식으로 선택을 해야함."
   ]
  },
  {
   "cell_type": "code",
   "execution_count": 12,
   "id": "dbc7d17f-6096-4ea8-82df-4583b84930fb",
   "metadata": {
    "tags": []
   },
   "outputs": [
    {
     "data": {
      "text/html": [
       "<div>\n",
       "<style scoped>\n",
       "    .dataframe tbody tr th:only-of-type {\n",
       "        vertical-align: middle;\n",
       "    }\n",
       "\n",
       "    .dataframe tbody tr th {\n",
       "        vertical-align: top;\n",
       "    }\n",
       "\n",
       "    .dataframe thead th {\n",
       "        text-align: right;\n",
       "    }\n",
       "</style>\n",
       "<table border=\"1\" class=\"dataframe\">\n",
       "  <thead>\n",
       "    <tr style=\"text-align: right;\">\n",
       "      <th></th>\n",
       "      <th>type_of_contract</th>\n",
       "      <th>datetime</th>\n",
       "      <th>product</th>\n",
       "      <th>amount</th>\n",
       "      <th>age</th>\n",
       "    </tr>\n",
       "  </thead>\n",
       "  <tbody>\n",
       "    <tr>\n",
       "      <th>58</th>\n",
       "      <td>렌탈</td>\n",
       "      <td>2019-10-21</td>\n",
       "      <td>K4</td>\n",
       "      <td>126900</td>\n",
       "      <td>28.0</td>\n",
       "    </tr>\n",
       "    <tr>\n",
       "      <th>110</th>\n",
       "      <td>렌탈</td>\n",
       "      <td>2019-10-21</td>\n",
       "      <td>K4</td>\n",
       "      <td>125700</td>\n",
       "      <td>23.0</td>\n",
       "    </tr>\n",
       "  </tbody>\n",
       "</table>\n",
       "</div>"
      ],
      "text/plain": [
       "    type_of_contract   datetime product  amount   age\n",
       "58                렌탈 2019-10-21      K4  126900  28.0\n",
       "110               렌탈 2019-10-21      K4  125700  23.0"
      ]
     },
     "execution_count": 12,
     "metadata": {},
     "output_type": "execute_result"
    }
   ],
   "source": [
    "# 변수 안에서 원하는 항목 필터링 : 상위 3개 분석\n",
    "conditions = (df_TOCC_choose['product'] == 'K4') | (df_TOCC_choose['product'] == 'K5') | (df_TOCC_choose['product'] == 'K6')\n",
    "df_TOCC_choose_product = df_TOCC_choose.loc[conditions]\n",
    "df_TOCC_choose_product[:2]"
   ]
  },
  {
   "cell_type": "code",
   "execution_count": 13,
   "id": "03863326-a02c-4e23-8279-ee6d14712115",
   "metadata": {
    "tags": []
   },
   "outputs": [
    {
     "data": {
      "text/plain": [
       "<Axes: xlabel='product', ylabel='amount'>"
      ]
     },
     "execution_count": 13,
     "metadata": {},
     "output_type": "execute_result"
    },
    {
     "data": {
      "image/png": "[encoded data removed]",
      "text/plain": [
       "<Figure size 640x480 with 1 Axes>"
      ]
     },
     "metadata": {},
     "output_type": "display_data"
    }
   ],
   "source": [
    "sns.barplot(data=df_TOCC_choose_product, x='product', y='amount')"
   ]
  },
  {
   "cell_type": "code",
   "execution_count": 14,
   "id": "268c990c-eb01-46dd-9cd9-4b215b3d43c4",
   "metadata": {
    "tags": []
   },
   "outputs": [
    {
     "data": {
      "text/plain": [
       "<Axes: xlabel='datetime', ylabel='amount'>"
      ]
     },
     "execution_count": 14,
     "metadata": {},
     "output_type": "execute_result"
    },
    {
     "data": {
      "image/png": "[encoded data removed]",
      "text/plain": [
       "<Figure size 640x480 with 1 Axes>"
      ]
     },
     "metadata": {},
     "output_type": "display_data"
    }
   ],
   "source": [
    "# 순서형 / 연속형\n",
    "sns.lineplot(data=df_TOCC_choose_product, x='datetime', y='amount')"
   ]
  },
  {
   "cell_type": "code",
   "execution_count": 15,
   "id": "32f5833f-4650-4235-9346-d742e73294e8",
   "metadata": {
    "tags": []
   },
   "outputs": [
    {
     "name": "stderr",
     "output_type": "stream",
     "text": [
      "C:\\Users\\koreavc\\AppData\\Local\\Temp\\ipykernel_2964\\569983461.py:6: SettingWithCopyWarning: \n",
      "A value is trying to be set on a copy of a slice from a DataFrame.\n",
      "Try using .loc[row_indexer,col_indexer] = value instead\n",
      "\n",
      "See the caveats in the documentation: https://pandas.pydata.org/pandas-docs/stable/user_guide/indexing.html#returning-a-view-versus-a-copy\n",
      "  df_TOCC_choose_product['day_name'] = df_TOCC_choose_product['datetime'].dt.day_name()\n"
     ]
    },
    {
     "data": {
      "text/plain": [
       "Thursday     177\n",
       "Friday       170\n",
       "Wednesday    157\n",
       "Tuesday      156\n",
       "Monday       149\n",
       "Sunday       136\n",
       "Saturday       5\n",
       "Name: day_name, dtype: int64"
      ]
     },
     "execution_count": 15,
     "metadata": {},
     "output_type": "execute_result"
    }
   ],
   "source": [
    "# datetime을 요일별로 변환(날짜가 특정 요일로 변환됨)\n",
    "# 해당 사항을 day_name이라는 컬럼에 넣기\n",
    "## .loc[] : 컬럼이 없는 경우, 컬럼이 있는 경우 []\n",
    "\n",
    "#df_TOCC_choose_product['datetime'].dt.day_name()  ## column 하나를 동작시키므로 series로 나옴.\n",
    "df_TOCC_choose_product['day_name'] = df_TOCC_choose_product['datetime'].dt.day_name()\n",
    "df_TOCC_choose_product['day_name'].value_counts()"
   ]
  },
  {
   "cell_type": "code",
   "execution_count": 16,
   "id": "e8ebe5b2-1a43-4b6b-a38b-9c1b81a794de",
   "metadata": {
    "tags": []
   },
   "outputs": [
    {
     "data": {
      "text/plain": [
       "<Axes: xlabel='day_name', ylabel='amount'>"
      ]
     },
     "execution_count": 16,
     "metadata": {},
     "output_type": "execute_result"
    },
    {
     "data": {
      "image/png": "[encoded data removed]",
      "text/plain": [
       "<Figure size 640x480 with 1 Axes>"
      ]
     },
     "metadata": {},
     "output_type": "display_data"
    }
   ],
   "source": [
    "# 범주형 / 연속형\n",
    "sns.barplot(data=df_TOCC_choose_product, x='day_name', y='amount')"
   ]
  },
  {
   "cell_type": "markdown",
   "id": "aba86567-7758-4f30-bad9-1cad79c258d3",
   "metadata": {},
   "source": [
    "#### 보고서\n",
    "* 변수간 상관성 확인용\n",
    "    * 목표변수 : 비정규 분포\n",
    "    * 설명변수\n",
    "        1. type_of_contract(범주형) : 2개 항목\n",
    "        2. product(범주형) : 상위 3개 항목\n",
    "        3. age(연속형) : 상관 계수가 -0.003539 <0.5보다 작아서 설명 변수로 채택 어려움>\n",
    "        4. datetime(순서형) : 분포 특성상 요일별로 변환\n",
    "        5. day_name(범주형) : 요일별 분석을 위한 컬럼 추가"
   ]
  },
  {
   "cell_type": "code",
   "execution_count": null,
   "id": "9b4b112a-5b35-46bc-adae-4451186c45b7",
   "metadata": {},
   "outputs": [],
   "source": []
  }
 ],
 "metadata": {
  "kernelspec": {
   "display_name": "Python 3 (ipykernel)",
   "language": "python",
   "name": "python3"
  },
  "language_info": {
   "codemirror_mode": {
    "name": "ipython",
    "version": 3
   },
   "file_extension": ".py",
   "mimetype": "text/x-python",
   "name": "python",
   "nbconvert_exporter": "python",
   "pygments_lexer": "ipython3",
   "version": "3.11.4"
  }
 },
 "nbformat": 4,
 "nbformat_minor": 5
}
