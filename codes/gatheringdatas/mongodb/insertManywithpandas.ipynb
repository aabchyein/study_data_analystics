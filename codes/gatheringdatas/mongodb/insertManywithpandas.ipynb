{
 "cells": [
  {
   "cell_type": "code",
   "execution_count": 43,
   "id": "052323cd-dde1-4eee-bf90-4ee10350145b",
   "metadata": {
    "tags": []
   },
   "outputs": [],
   "source": [
    "import pandas as pd"
   ]
  },
  {
   "cell_type": "code",
   "execution_count": 44,
   "id": "c9049d10-a640-4354-a06f-864c5772d38c",
   "metadata": {
    "tags": []
   },
   "outputs": [
    {
     "data": {
      "text/html": [
       "<div>\n",
       "<style scoped>\n",
       "    .dataframe tbody tr th:only-of-type {\n",
       "        vertical-align: middle;\n",
       "    }\n",
       "\n",
       "    .dataframe tbody tr th {\n",
       "        vertical-align: top;\n",
       "    }\n",
       "\n",
       "    .dataframe thead th {\n",
       "        text-align: right;\n",
       "    }\n",
       "</style>\n",
       "<table border=\"1\" class=\"dataframe\">\n",
       "  <thead>\n",
       "    <tr style=\"text-align: right;\">\n",
       "      <th></th>\n",
       "      <th>Unnamed: 0</th>\n",
       "      <th>_id</th>\n",
       "      <th>RN_INDI</th>\n",
       "      <th>BTH_YYYY</th>\n",
       "      <th>DTH_YYYYMM</th>\n",
       "      <th>COD1</th>\n",
       "      <th>COD2</th>\n",
       "    </tr>\n",
       "  </thead>\n",
       "  <tbody>\n",
       "    <tr>\n",
       "      <th>0</th>\n",
       "      <td>0</td>\n",
       "      <td>64d2fd08ff87c6c528e0a793</td>\n",
       "      <td>294364</td>\n",
       "      <td>1921LE</td>\n",
       "      <td>200707.0</td>\n",
       "      <td>T08-T14</td>\n",
       "      <td>W00-W19</td>\n",
       "    </tr>\n",
       "    <tr>\n",
       "      <th>1</th>\n",
       "      <td>1</td>\n",
       "      <td>64d2fd08ff87c6c528e0a794</td>\n",
       "      <td>646257</td>\n",
       "      <td>1921LE</td>\n",
       "      <td>200805.0</td>\n",
       "      <td>A15-A19</td>\n",
       "      <td>NaN</td>\n",
       "    </tr>\n",
       "    <tr>\n",
       "      <th>2</th>\n",
       "      <td>2</td>\n",
       "      <td>64d2fd08ff87c6c528e0a795</td>\n",
       "      <td>733575</td>\n",
       "      <td>1921LE</td>\n",
       "      <td>201309.0</td>\n",
       "      <td>G30</td>\n",
       "      <td>NaN</td>\n",
       "    </tr>\n",
       "  </tbody>\n",
       "</table>\n",
       "</div>"
      ],
      "text/plain": [
       "   Unnamed: 0                       _id  RN_INDI BTH_YYYY  DTH_YYYYMM  \\\n",
       "0           0  64d2fd08ff87c6c528e0a793   294364   1921LE    200707.0   \n",
       "1           1  64d2fd08ff87c6c528e0a794   646257   1921LE    200805.0   \n",
       "2           2  64d2fd08ff87c6c528e0a795   733575   1921LE    201309.0   \n",
       "\n",
       "      COD1     COD2  \n",
       "0  T08-T14  W00-W19  \n",
       "1  A15-A19      NaN  \n",
       "2      G30      NaN  "
      ]
     },
     "execution_count": 44,
     "metadata": {},
     "output_type": "execute_result"
    }
   ],
   "source": [
    "df_BND = pd.read_csv('./NSC2_BND.csv')\n",
    "df_BND.head(3)"
   ]
  },
  {
   "cell_type": "markdown",
   "id": "970da36b-5f4c-4a4f-983c-9df1c9f57245",
   "metadata": {},
   "source": [
    "## insertMany to Mongodb\n",
    "-데이터베이스 혹은 collection 등의 이름이 오타날 경우 새롭게 생성되므로 오타 주의"
   ]
  },
  {
   "cell_type": "code",
   "execution_count": 45,
   "id": "4aec972c-54dc-4da4-ab4b-329c822848ec",
   "metadata": {
    "tags": []
   },
   "outputs": [],
   "source": [
    "import pymongo as mg"
   ]
  },
  {
   "cell_type": "code",
   "execution_count": 46,
   "id": "107e276f-3c5d-4d21-ad4f-372ae49d8e14",
   "metadata": {},
   "outputs": [],
   "source": [
    "client = mg.MongoClient(host='mongodb://localhost:27017')"
   ]
  },
  {
   "cell_type": "code",
   "execution_count": 47,
   "id": "cee1baa5-f65b-4407-8f43-2683ea60cd0a",
   "metadata": {
    "tags": []
   },
   "outputs": [
    {
     "data": {
      "text/plain": [
       "Database(MongoClient(host=['localhost:27017'], document_class=dict, tz_aware=False, connect=True), 'study_test')"
      ]
     },
     "execution_count": 47,
     "metadata": {},
     "output_type": "execute_result"
    }
   ],
   "source": [
    "database = client['study_test']\n",
    "database"
   ]
  },
  {
   "cell_type": "code",
   "execution_count": 48,
   "id": "b32ac0d8-40ad-4ff9-9df1-e1db934b6155",
   "metadata": {
    "tags": []
   },
   "outputs": [
    {
     "data": {
      "text/plain": [
       "Collection(Database(MongoClient(host=['localhost:27017'], document_class=dict, tz_aware=False, connect=True), 'study_test'), 'collect_tests')"
      ]
     },
     "execution_count": 48,
     "metadata": {},
     "output_type": "execute_result"
    }
   ],
   "source": [
    "collection = database['collect_tests']\n",
    "collection"
   ]
  },
  {
   "cell_type": "code",
   "execution_count": 55,
   "id": "aaa0737e-8c6d-4d3a-a980-04830b5aa896",
   "metadata": {
    "tags": []
   },
   "outputs": [
    {
     "data": {
      "text/plain": [
       "Index(['Unnamed: 0', '_id', 'RN_INDI', 'BTH_YYYY', 'DTH_YYYYMM', 'COD1',\n",
       "       'COD2'],\n",
       "      dtype='object')"
      ]
     },
     "execution_count": 55,
     "metadata": {},
     "output_type": "execute_result"
    }
   ],
   "source": [
    "df_BND.columns"
   ]
  },
  {
   "cell_type": "code",
   "execution_count": 57,
   "id": "4eb539fb-777e-4835-97dc-cbd183c4f638",
   "metadata": {
    "tags": []
   },
   "outputs": [],
   "source": [
    "df_BND = df_BND.drop(columns=['Unnamed: 0', '_id'])"
   ]
  },
  {
   "cell_type": "code",
   "execution_count": 58,
   "id": "9ce63b12-257f-4fff-bee5-f523012ee9a4",
   "metadata": {
    "tags": []
   },
   "outputs": [],
   "source": [
    "# refer) https://pandas.pydata.org/pandas-docs/version/1.4/reference/api/pandas.DataFrame.to_dict.html\n",
    "# to.dict : dataframe을 dictionary로 변환\n",
    "data_list = df_BND.to_dict(orient='records')\n",
    "# data_list"
   ]
  },
  {
   "cell_type": "code",
   "execution_count": 59,
   "id": "b55ebff2-3628-4dbc-9f83-0a2f38a05c9c",
   "metadata": {
    "tags": []
   },
   "outputs": [
    {
     "data": {
      "text/plain": [
       "list"
      ]
     },
     "execution_count": 59,
     "metadata": {},
     "output_type": "execute_result"
    }
   ],
   "source": [
    "type(data_list)"
   ]
  },
  {
   "cell_type": "code",
   "execution_count": 60,
   "id": "594a746e-bcc3-4d05-bd66-dd65fea18749",
   "metadata": {
    "tags": []
   },
   "outputs": [
    {
     "data": {
      "text/plain": [
       "<pymongo.results.InsertManyResult at 0x242f36c0a80>"
      ]
     },
     "execution_count": 60,
     "metadata": {},
     "output_type": "execute_result"
    }
   ],
   "source": [
    "collection.insert_many(data_list)"
   ]
  },
  {
   "cell_type": "code",
   "execution_count": 53,
   "id": "beed9bf4-c0a9-4500-bc4b-7f3938880f09",
   "metadata": {
    "tags": []
   },
   "outputs": [
    {
     "name": "stdout",
     "output_type": "stream",
     "text": [
      "<class 'pandas.core.frame.DataFrame'>\n",
      "RangeIndex: 1000 entries, 0 to 999\n",
      "Data columns (total 7 columns):\n",
      " #   Column      Non-Null Count  Dtype  \n",
      "---  ------      --------------  -----  \n",
      " 0   Unnamed: 0  1000 non-null   int64  \n",
      " 1   _id         1000 non-null   object \n",
      " 2   RN_INDI     1000 non-null   int64  \n",
      " 3   BTH_YYYY    1000 non-null   object \n",
      " 4   DTH_YYYYMM  71 non-null     float64\n",
      " 5   COD1        60 non-null     object \n",
      " 6   COD2        7 non-null      object \n",
      "dtypes: float64(1), int64(2), object(4)\n",
      "memory usage: 54.8+ KB\n"
     ]
    }
   ],
   "source": [
    "df_BND.info()"
   ]
  },
  {
   "cell_type": "code",
   "execution_count": 54,
   "id": "6a873dce-d589-4a4b-b91b-6cd56050e289",
   "metadata": {
    "tags": []
   },
   "outputs": [
    {
     "data": {
      "text/html": [
       "<div>\n",
       "<style scoped>\n",
       "    .dataframe tbody tr th:only-of-type {\n",
       "        vertical-align: middle;\n",
       "    }\n",
       "\n",
       "    .dataframe tbody tr th {\n",
       "        vertical-align: top;\n",
       "    }\n",
       "\n",
       "    .dataframe thead th {\n",
       "        text-align: right;\n",
       "    }\n",
       "</style>\n",
       "<table border=\"1\" class=\"dataframe\">\n",
       "  <thead>\n",
       "    <tr style=\"text-align: right;\">\n",
       "      <th></th>\n",
       "      <th>Unnamed: 0</th>\n",
       "      <th>RN_INDI</th>\n",
       "      <th>DTH_YYYYMM</th>\n",
       "    </tr>\n",
       "  </thead>\n",
       "  <tbody>\n",
       "    <tr>\n",
       "      <th>count</th>\n",
       "      <td>1000.000000</td>\n",
       "      <td>1.000000e+03</td>\n",
       "      <td>71.000000</td>\n",
       "    </tr>\n",
       "    <tr>\n",
       "      <th>mean</th>\n",
       "      <td>499.500000</td>\n",
       "      <td>6.404133e+05</td>\n",
       "      <td>201471.873239</td>\n",
       "    </tr>\n",
       "    <tr>\n",
       "      <th>std</th>\n",
       "      <td>288.819436</td>\n",
       "      <td>5.241253e+05</td>\n",
       "      <td>432.203819</td>\n",
       "    </tr>\n",
       "    <tr>\n",
       "      <th>min</th>\n",
       "      <td>0.000000</td>\n",
       "      <td>1.433000e+03</td>\n",
       "      <td>200707.000000</td>\n",
       "    </tr>\n",
       "    <tr>\n",
       "      <th>25%</th>\n",
       "      <td>249.750000</td>\n",
       "      <td>2.812005e+05</td>\n",
       "      <td>201104.000000</td>\n",
       "    </tr>\n",
       "    <tr>\n",
       "      <th>50%</th>\n",
       "      <td>499.500000</td>\n",
       "      <td>5.499230e+05</td>\n",
       "      <td>201508.000000</td>\n",
       "    </tr>\n",
       "    <tr>\n",
       "      <th>75%</th>\n",
       "      <td>749.250000</td>\n",
       "      <td>8.177570e+05</td>\n",
       "      <td>201904.500000</td>\n",
       "    </tr>\n",
       "    <tr>\n",
       "      <th>max</th>\n",
       "      <td>999.000000</td>\n",
       "      <td>3.000758e+06</td>\n",
       "      <td>202105.000000</td>\n",
       "    </tr>\n",
       "  </tbody>\n",
       "</table>\n",
       "</div>"
      ],
      "text/plain": [
       "        Unnamed: 0       RN_INDI     DTH_YYYYMM\n",
       "count  1000.000000  1.000000e+03      71.000000\n",
       "mean    499.500000  6.404133e+05  201471.873239\n",
       "std     288.819436  5.241253e+05     432.203819\n",
       "min       0.000000  1.433000e+03  200707.000000\n",
       "25%     249.750000  2.812005e+05  201104.000000\n",
       "50%     499.500000  5.499230e+05  201508.000000\n",
       "75%     749.250000  8.177570e+05  201904.500000\n",
       "max     999.000000  3.000758e+06  202105.000000"
      ]
     },
     "execution_count": 54,
     "metadata": {},
     "output_type": "execute_result"
    }
   ],
   "source": [
    "df_BND.describe()"
   ]
  },
  {
   "cell_type": "code",
   "execution_count": null,
   "id": "862f1b64-925f-4e5a-a035-b2c3e64de084",
   "metadata": {},
   "outputs": [],
   "source": []
  }
 ],
 "metadata": {
  "kernelspec": {
   "display_name": "Python 3 (ipykernel)",
   "language": "python",
   "name": "python3"
  },
  "language_info": {
   "codemirror_mode": {
    "name": "ipython",
    "version": 3
   },
   "file_extension": ".py",
   "mimetype": "text/x-python",
   "name": "python",
   "nbconvert_exporter": "python",
   "pygments_lexer": "ipython3",
   "version": "3.11.3"
  }
 },
 "nbformat": 4,
 "nbformat_minor": 5
}
