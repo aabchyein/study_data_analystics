{
 "cells": [
  {
   "cell_type": "code",
   "execution_count": 1,
   "id": "4aec972c-54dc-4da4-ab4b-329c822848ec",
   "metadata": {
    "tags": []
   },
   "outputs": [],
   "source": [
    "import pymongo as mg\n",
    "import pandas as pd"
   ]
  },
  {
   "cell_type": "code",
   "execution_count": 2,
   "id": "107e276f-3c5d-4d21-ad4f-372ae49d8e14",
   "metadata": {},
   "outputs": [],
   "source": [
    "client = mg.MongoClient(host='mongodb://localhost:27017')"
   ]
  },
  {
   "cell_type": "code",
   "execution_count": 3,
   "id": "cee1baa5-f65b-4407-8f43-2683ea60cd0a",
   "metadata": {
    "tags": []
   },
   "outputs": [],
   "source": [
    "database = client['study_data_analytics']"
   ]
  },
  {
   "cell_type": "code",
   "execution_count": 4,
   "id": "b32ac0d8-40ad-4ff9-9df1-e1db934b6155",
   "metadata": {
    "tags": []
   },
   "outputs": [],
   "source": [
    "collection = database['collect_update']"
   ]
  },
  {
   "cell_type": "code",
   "execution_count": 7,
   "id": "681645bd-25bf-427a-b0fd-cf5d421d9374",
   "metadata": {
    "tags": []
   },
   "outputs": [],
   "source": [
    "cursor_data = collection.find({})"
   ]
  },
  {
   "cell_type": "code",
   "execution_count": 8,
   "id": "bb7fba37-3197-4657-8633-288902de9045",
   "metadata": {
    "tags": []
   },
   "outputs": [
    {
     "data": {
      "text/html": [
       "<div>\n",
       "<style scoped>\n",
       "    .dataframe tbody tr th:only-of-type {\n",
       "        vertical-align: middle;\n",
       "    }\n",
       "\n",
       "    .dataframe tbody tr th {\n",
       "        vertical-align: top;\n",
       "    }\n",
       "\n",
       "    .dataframe thead th {\n",
       "        text-align: right;\n",
       "    }\n",
       "</style>\n",
       "<table border=\"1\" class=\"dataframe\">\n",
       "  <thead>\n",
       "    <tr style=\"text-align: right;\">\n",
       "      <th></th>\n",
       "      <th>_id</th>\n",
       "      <th>name</th>\n",
       "      <th>age</th>\n",
       "      <th>city</th>\n",
       "    </tr>\n",
       "  </thead>\n",
       "  <tbody>\n",
       "    <tr>\n",
       "      <th>0</th>\n",
       "      <td>650130d18b0d4765967e21cc</td>\n",
       "      <td>Alice</td>\n",
       "      <td>26</td>\n",
       "      <td>Seoul</td>\n",
       "    </tr>\n",
       "    <tr>\n",
       "      <th>1</th>\n",
       "      <td>650130d18b0d4765967e21cd</td>\n",
       "      <td>Bob</td>\n",
       "      <td>30</td>\n",
       "      <td>Busan</td>\n",
       "    </tr>\n",
       "  </tbody>\n",
       "</table>\n",
       "</div>"
      ],
      "text/plain": [
       "                        _id   name  age   city\n",
       "0  650130d18b0d4765967e21cc  Alice   26  Seoul\n",
       "1  650130d18b0d4765967e21cd    Bob   30  Busan"
      ]
     },
     "execution_count": 8,
     "metadata": {},
     "output_type": "execute_result"
    }
   ],
   "source": [
    "df_collect_update = pd.DataFrame(list(cursor_data))\n",
    "df_collect_update[:2]"
   ]
  },
  {
   "cell_type": "code",
   "execution_count": 9,
   "id": "ff62d4d1-3364-4cce-bd3c-365abc16b657",
   "metadata": {
    "tags": []
   },
   "outputs": [
    {
     "data": {
      "text/html": [
       "<div>\n",
       "<style scoped>\n",
       "    .dataframe tbody tr th:only-of-type {\n",
       "        vertical-align: middle;\n",
       "    }\n",
       "\n",
       "    .dataframe tbody tr th {\n",
       "        vertical-align: top;\n",
       "    }\n",
       "\n",
       "    .dataframe thead th {\n",
       "        text-align: right;\n",
       "    }\n",
       "</style>\n",
       "<table border=\"1\" class=\"dataframe\">\n",
       "  <thead>\n",
       "    <tr style=\"text-align: right;\">\n",
       "      <th></th>\n",
       "      <th>_id</th>\n",
       "      <th>name</th>\n",
       "      <th>age</th>\n",
       "      <th>city</th>\n",
       "      <th>update</th>\n",
       "    </tr>\n",
       "  </thead>\n",
       "  <tbody>\n",
       "    <tr>\n",
       "      <th>0</th>\n",
       "      <td>650130d18b0d4765967e21cc</td>\n",
       "      <td>Alice</td>\n",
       "      <td>26</td>\n",
       "      <td>Seoul</td>\n",
       "      <td>2023-09-13 13:03:14.437903</td>\n",
       "    </tr>\n",
       "    <tr>\n",
       "      <th>1</th>\n",
       "      <td>650130d18b0d4765967e21cd</td>\n",
       "      <td>Bob</td>\n",
       "      <td>30</td>\n",
       "      <td>Busan</td>\n",
       "      <td>2023-09-13 13:03:14.437903</td>\n",
       "    </tr>\n",
       "  </tbody>\n",
       "</table>\n",
       "</div>"
      ],
      "text/plain": [
       "                        _id   name  age   city                     update\n",
       "0  650130d18b0d4765967e21cc  Alice   26  Seoul 2023-09-13 13:03:14.437903\n",
       "1  650130d18b0d4765967e21cd    Bob   30  Busan 2023-09-13 13:03:14.437903"
      ]
     },
     "execution_count": 9,
     "metadata": {},
     "output_type": "execute_result"
    }
   ],
   "source": [
    "from datetime import datetime\n",
    "df_collect_update['update'] = datetime.now() # 새로운 컬럼 추가, 몽고db에는 컬럼이 추가되진 않음.\n",
    "df_collect_update[:2]"
   ]
  },
  {
   "cell_type": "code",
   "execution_count": 13,
   "id": "e3c2d862-5cb4-4399-97f8-2ef427c1c0f8",
   "metadata": {
    "tags": []
   },
   "outputs": [],
   "source": [
    "# 컬럼을 추가 -> 새로운 collection을 만들어서 넣어줌\n",
    "collection_new = database['collect_update_new'] # new collection 만들기\n",
    "dict_collect_update = df_collect_update.to_dict(orient='records') # to_dict : 데이터프레임을 dict으로 변환\n",
    "result = collection_new.insert_many(dict_collect_update) #새로운 collection(테이블)에 넣어주기"
   ]
  },
  {
   "cell_type": "code",
   "execution_count": 14,
   "id": "2e29e0ad-7a49-4487-b9ff-aed4827a6466",
   "metadata": {
    "tags": []
   },
   "outputs": [
    {
     "data": {
      "text/plain": [
       "<pymongo.results.InsertManyResult at 0x14406286e80>"
      ]
     },
     "execution_count": 14,
     "metadata": {},
     "output_type": "execute_result"
    }
   ],
   "source": [
    "result\n",
    "# InsertManyResult는 class"
   ]
  },
  {
   "cell_type": "code",
   "execution_count": 15,
   "id": "6ed1f565-785a-4536-8ba5-f0f43a6927cd",
   "metadata": {
    "tags": []
   },
   "outputs": [
    {
     "data": {
      "text/plain": [
       "[ObjectId('650130d18b0d4765967e21cc'),\n",
       " ObjectId('650130d18b0d4765967e21cd'),\n",
       " ObjectId('650130d18b0d4765967e21ce')]"
      ]
     },
     "execution_count": 15,
     "metadata": {},
     "output_type": "execute_result"
    }
   ],
   "source": [
    "result.inserted_ids"
   ]
  },
  {
   "cell_type": "code",
   "execution_count": null,
   "id": "eb11a0fd-a6c6-4df1-a7da-d6fdf255029c",
   "metadata": {},
   "outputs": [],
   "source": []
  }
 ],
 "metadata": {
  "kernelspec": {
   "display_name": "Python 3 (ipykernel)",
   "language": "python",
   "name": "python3"
  },
  "language_info": {
   "codemirror_mode": {
    "name": "ipython",
    "version": 3
   },
   "file_extension": ".py",
   "mimetype": "text/x-python",
   "name": "python",
   "nbconvert_exporter": "python",
   "pygments_lexer": "ipython3",
   "version": "3.11.3"
  }
 },
 "nbformat": 4,
 "nbformat_minor": 5
}
