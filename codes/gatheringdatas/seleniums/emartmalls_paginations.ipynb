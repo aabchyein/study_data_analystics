{
 "cells": [
  {
   "cell_type": "code",
   "execution_count": 14,
   "id": "281c5141-103a-42c8-83b6-45440e74affc",
   "metadata": {
    "tags": []
   },
   "outputs": [],
   "source": [
    "from selenium import webdriver"
   ]
  },
  {
   "cell_type": "code",
   "execution_count": 15,
   "id": "9b518e7d-51f5-4f30-adea-cdd7b02facd8",
   "metadata": {
    "tags": []
   },
   "outputs": [],
   "source": [
    "# open chrome browser\n",
    "browser = webdriver.Chrome(executable_path='../../../../chromedriver.exe')"
   ]
  },
  {
   "cell_type": "code",
   "execution_count": 16,
   "id": "f4d9abaa-fbd1-4c56-b2e0-dd4481f1b2ed",
   "metadata": {
    "tags": []
   },
   "outputs": [],
   "source": [
    "# url in address window(주소창에 url 입력)\n",
    "browser.get('https://emart.ssg.com/disp/category.ssg?dispCtgId=6000214033')"
   ]
  },
  {
   "cell_type": "code",
   "execution_count": 17,
   "id": "80ee1e44-943a-44af-aa00-43956f85c3af",
   "metadata": {},
   "outputs": [
    {
     "ename": "NoSuchElementException",
     "evalue": "Message: no such element: Unable to locate element: {\"method\":\"css selector\",\"selector\":\"#swiper-wrapper-f1077b3aa7f7914e8 > li.mnemitem_grid_item.swiper-slide.swiper-slide-active > div > div > div.mnemitem_detailbx > div.mnemitem_tx_thmb > a > div.mnemitem_tit > span.mnemitem_goods_tit\"}\n  (Session info: chrome=116.0.5845.141)\n",
     "output_type": "error",
     "traceback": [
      "\u001b[1;31m---------------------------------------------------------------------------\u001b[0m",
      "\u001b[1;31mNoSuchElementException\u001b[0m                    Traceback (most recent call last)",
      "Cell \u001b[1;32mIn[17], line 2\u001b[0m\n\u001b[0;32m      1\u001b[0m element_path \u001b[38;5;241m=\u001b[39m \u001b[38;5;124m'\u001b[39m\u001b[38;5;124m#swiper-wrapper-f1077b3aa7f7914e8 > li.mnemitem_grid_item.swiper-slide.swiper-slide-active > div > div > div.mnemitem_detailbx > div.mnemitem_tx_thmb > a > div.mnemitem_tit > span.mnemitem_goods_tit\u001b[39m\u001b[38;5;124m'\u001b[39m\n\u001b[1;32m----> 2\u001b[0m element \u001b[38;5;241m=\u001b[39m browser\u001b[38;5;241m.\u001b[39mfind_element_by_css_selector(element_path) \u001b[38;5;66;03m#단수 찾기\u001b[39;00m\n\u001b[0;32m      3\u001b[0m \u001b[38;5;28mtype\u001b[39m(element)\n",
      "File \u001b[1;32m~\\anaconda3\\Lib\\site-packages\\selenium\\webdriver\\remote\\webdriver.py:598\u001b[0m, in \u001b[0;36mWebDriver.find_element_by_css_selector\u001b[1;34m(self, css_selector)\u001b[0m\n\u001b[0;32m    582\u001b[0m \u001b[38;5;28;01mdef\u001b[39;00m \u001b[38;5;21mfind_element_by_css_selector\u001b[39m(\u001b[38;5;28mself\u001b[39m, css_selector):\n\u001b[0;32m    583\u001b[0m \u001b[38;5;250m    \u001b[39m\u001b[38;5;124;03m\"\"\"\u001b[39;00m\n\u001b[0;32m    584\u001b[0m \u001b[38;5;124;03m    Finds an element by css selector.\u001b[39;00m\n\u001b[0;32m    585\u001b[0m \n\u001b[1;32m   (...)\u001b[0m\n\u001b[0;32m    596\u001b[0m \u001b[38;5;124;03m        element = driver.find_element_by_css_selector('#foo')\u001b[39;00m\n\u001b[0;32m    597\u001b[0m \u001b[38;5;124;03m    \"\"\"\u001b[39;00m\n\u001b[1;32m--> 598\u001b[0m     \u001b[38;5;28;01mreturn\u001b[39;00m \u001b[38;5;28mself\u001b[39m\u001b[38;5;241m.\u001b[39mfind_element(by\u001b[38;5;241m=\u001b[39mBy\u001b[38;5;241m.\u001b[39mCSS_SELECTOR, value\u001b[38;5;241m=\u001b[39mcss_selector)\n",
      "File \u001b[1;32m~\\anaconda3\\Lib\\site-packages\\selenium\\webdriver\\remote\\webdriver.py:976\u001b[0m, in \u001b[0;36mWebDriver.find_element\u001b[1;34m(self, by, value)\u001b[0m\n\u001b[0;32m    974\u001b[0m         by \u001b[38;5;241m=\u001b[39m By\u001b[38;5;241m.\u001b[39mCSS_SELECTOR\n\u001b[0;32m    975\u001b[0m         value \u001b[38;5;241m=\u001b[39m \u001b[38;5;124m'\u001b[39m\u001b[38;5;124m[name=\u001b[39m\u001b[38;5;124m\"\u001b[39m\u001b[38;5;132;01m%s\u001b[39;00m\u001b[38;5;124m\"\u001b[39m\u001b[38;5;124m]\u001b[39m\u001b[38;5;124m'\u001b[39m \u001b[38;5;241m%\u001b[39m value\n\u001b[1;32m--> 976\u001b[0m \u001b[38;5;28;01mreturn\u001b[39;00m \u001b[38;5;28mself\u001b[39m\u001b[38;5;241m.\u001b[39mexecute(Command\u001b[38;5;241m.\u001b[39mFIND_ELEMENT, {\n\u001b[0;32m    977\u001b[0m     \u001b[38;5;124m'\u001b[39m\u001b[38;5;124musing\u001b[39m\u001b[38;5;124m'\u001b[39m: by,\n\u001b[0;32m    978\u001b[0m     \u001b[38;5;124m'\u001b[39m\u001b[38;5;124mvalue\u001b[39m\u001b[38;5;124m'\u001b[39m: value})[\u001b[38;5;124m'\u001b[39m\u001b[38;5;124mvalue\u001b[39m\u001b[38;5;124m'\u001b[39m]\n",
      "File \u001b[1;32m~\\anaconda3\\Lib\\site-packages\\selenium\\webdriver\\remote\\webdriver.py:321\u001b[0m, in \u001b[0;36mWebDriver.execute\u001b[1;34m(self, driver_command, params)\u001b[0m\n\u001b[0;32m    319\u001b[0m response \u001b[38;5;241m=\u001b[39m \u001b[38;5;28mself\u001b[39m\u001b[38;5;241m.\u001b[39mcommand_executor\u001b[38;5;241m.\u001b[39mexecute(driver_command, params)\n\u001b[0;32m    320\u001b[0m \u001b[38;5;28;01mif\u001b[39;00m response:\n\u001b[1;32m--> 321\u001b[0m     \u001b[38;5;28mself\u001b[39m\u001b[38;5;241m.\u001b[39merror_handler\u001b[38;5;241m.\u001b[39mcheck_response(response)\n\u001b[0;32m    322\u001b[0m     response[\u001b[38;5;124m'\u001b[39m\u001b[38;5;124mvalue\u001b[39m\u001b[38;5;124m'\u001b[39m] \u001b[38;5;241m=\u001b[39m \u001b[38;5;28mself\u001b[39m\u001b[38;5;241m.\u001b[39m_unwrap_value(\n\u001b[0;32m    323\u001b[0m         response\u001b[38;5;241m.\u001b[39mget(\u001b[38;5;124m'\u001b[39m\u001b[38;5;124mvalue\u001b[39m\u001b[38;5;124m'\u001b[39m, \u001b[38;5;28;01mNone\u001b[39;00m))\n\u001b[0;32m    324\u001b[0m     \u001b[38;5;28;01mreturn\u001b[39;00m response\n",
      "File \u001b[1;32m~\\anaconda3\\Lib\\site-packages\\selenium\\webdriver\\remote\\errorhandler.py:242\u001b[0m, in \u001b[0;36mErrorHandler.check_response\u001b[1;34m(self, response)\u001b[0m\n\u001b[0;32m    240\u001b[0m         alert_text \u001b[38;5;241m=\u001b[39m value[\u001b[38;5;124m'\u001b[39m\u001b[38;5;124malert\u001b[39m\u001b[38;5;124m'\u001b[39m]\u001b[38;5;241m.\u001b[39mget(\u001b[38;5;124m'\u001b[39m\u001b[38;5;124mtext\u001b[39m\u001b[38;5;124m'\u001b[39m)\n\u001b[0;32m    241\u001b[0m     \u001b[38;5;28;01mraise\u001b[39;00m exception_class(message, screen, stacktrace, alert_text)\n\u001b[1;32m--> 242\u001b[0m \u001b[38;5;28;01mraise\u001b[39;00m exception_class(message, screen, stacktrace)\n",
      "\u001b[1;31mNoSuchElementException\u001b[0m: Message: no such element: Unable to locate element: {\"method\":\"css selector\",\"selector\":\"#swiper-wrapper-f1077b3aa7f7914e8 > li.mnemitem_grid_item.swiper-slide.swiper-slide-active > div > div > div.mnemitem_detailbx > div.mnemitem_tx_thmb > a > div.mnemitem_tit > span.mnemitem_goods_tit\"}\n  (Session info: chrome=116.0.5845.141)\n"
     ]
    }
   ],
   "source": [
    "element_path = '#swiper-wrapper-f1077b3aa7f7914e8 > li.mnemitem_grid_item.swiper-slide.swiper-slide-active > div > div > div.mnemitem_detailbx > div.mnemitem_tx_thmb > a > div.mnemitem_tit > span.mnemitem_goods_tit'\n",
    "element = browser.find_element_by_css_selector(element_path) #단수 찾기\n",
    "type(element)\n",
    "\n",
    "# element : <span class=\"mnemitem_goods_tit\">몰리스 쉬야응가 1회용 패드 L 50매</span>"
   ]
  },
  {
   "cell_type": "code",
   "execution_count": null,
   "id": "adbc79a1-08d8-4b47-8ee2-92e97e59f872",
   "metadata": {
    "tags": []
   },
   "outputs": [],
   "source": [
    "# 태그 사이에 들어있는 글자 가져오기\n",
    "element.text"
   ]
  },
  {
   "cell_type": "code",
   "execution_count": null,
   "id": "6b8c797d-db42-4e49-93ab-7d48d0f66829",
   "metadata": {
    "tags": []
   },
   "outputs": [],
   "source": [
    "# 태그의 class 이름을 가져오기\n",
    "element.get_attribute('class')"
   ]
  },
  {
   "cell_type": "markdown",
   "id": "3dc9898a-a87b-41e2-879d-6b322ad9fcc3",
   "metadata": {
    "tags": []
   },
   "source": [
    "### 여러 개의 element 가져오기"
   ]
  },
  {
   "cell_type": "code",
   "execution_count": 8,
   "id": "9c7c7eb2-cd22-41ac-ba66-1e8307432a3e",
   "metadata": {
    "tags": []
   },
   "outputs": [
    {
     "data": {
      "text/plain": [
       "(list, selenium.webdriver.remote.webelement.WebElement)"
      ]
     },
     "execution_count": 8,
     "metadata": {},
     "output_type": "execute_result"
    }
   ],
   "source": [
    "element_path = '.mnemitem_goods_tit'\n",
    "elements = browser.find_elements_by_css_selector(element_path)\n",
    "type(elements), type(elements[0])"
   ]
  },
  {
   "cell_type": "code",
   "execution_count": 9,
   "id": "a9b41265-d0bd-480d-88ee-f96706e7fa58",
   "metadata": {
    "collapsed": true,
    "jupyter": {
     "outputs_hidden": true
    },
    "tags": []
   },
   "outputs": [
    {
     "name": "stdout",
     "output_type": "stream",
     "text": [
      "몰리스 쉬야응가 1회용 패드 L 50매\n",
      "몰리스 쉬야응가 1회용 패드 L 50매\n",
      "몰리스 쉬야응가 1회용 패드 M 100매\n",
      "몰리스 쉬야응가 1회용 패드 M 100매\n",
      "\n",
      "\n",
      "\n",
      "\n",
      "\n",
      "\n",
      "\n",
      "\n",
      "\n",
      "\n",
      "\n",
      "\n",
      "\n",
      "\n",
      "\n",
      "\n",
      "반려견패드(중)40*50cm*100매\n",
      "반려견패드(대)60*70cm*45매\n",
      "순살듬뿍 치킨말이스틱 30P (300g)\n",
      "순살듬뿍 오리말이스틱 30P (300g)\n",
      "건강한간식 순살듬뿍 고구마 오리말이 300g\n",
      "건강한간식 순살듬뿍 고구마 치킨말이 300g\n",
      "몰리스픽 반려견 패드 L 45매\n",
      "건강한간식 순살듬뿍 안심오리 300g\n",
      "반려견 사료 10kg\n",
      "몰리스 화이트 스틱껌 소프트치킨 400g\n",
      "템테이션 맛있는 닭고기맛 75g\n",
      "몰리스픽 반려견 패드 M 100매\n",
      "국민가격 DTC 치킨고구마 져키 1kg\n",
      "몰리스 미끄러지지 않는 패드 M 80매\n",
      "몰리스 쉬야응가 1회용 패드 M 100매\n",
      "템테이션 고소한 참치맛 75g\n",
      "건강한간식 순살듬뿍 안심치킨 300g\n",
      "치킨 슬라이스 1kg\n",
      "몰리스 미니 닭가슴살과 연어\n",
      "포켄스 덴탈스틱 후레시 칼슘 S 작은별 220g\n",
      "템테이션 믹스업 참치 연어 새우맛 75g\n",
      "츄잉스틱 플레인요거트 250g\n",
      "자연소재 양고기육포&쌀 460g\n",
      "밥이보약 Dog 튼튼한 관절 8kg (네오2 유통기한 23.10.17)\n",
      "템테이션 풍부한 해산물 맛75g\n",
      "몰리스 3~4회용 패드 L 35매\n",
      "포켄스 덴탈스틱 후레시 블루베리 S 작은별 220g\n",
      "[몰리스]프로발란스 어덜트 8kg\n",
      "(이마트가 직접 수입한) 딱 한번 반려견 패드 M 200매\n",
      "자연소재 소고기육포스틱 180g\n",
      "국민 두부 고양이 모래(오리지널)\n",
      "포켄스 덴티페어리 M 75g\n",
      "포켄스 덴티페어리 SS 150g\n",
      "맥시 비프져키 800g\n",
      "몰리스미니참치와도미\n",
      "[포켄스] 덴티 페어리(소)\n",
      "원더푸드 반려견 고구마말랭이 간식 1kg\n",
      "챠오 츄루 참치 4개입\n",
      "챠오 츄르 참치/해물믹스맛 20개입\n",
      "순살간식 오리고기 순살 300g\n",
      "해피밀 황태와 소고기 1.2kg\n",
      "몰리스 미끄러지지 않는 패드 L 35매\n",
      "포켄스 덴탈스틱 후레시 오메가3 S 작은별 220g\n",
      "몰리스픽 전연령 반려묘사료 15KG\n",
      "몰리스 닭가슴살과흰살생선\n",
      "슈퍼츄 터키츄 본S 10개입\n",
      "Think your Dog Teeth 소고기우유껌 15P\n",
      "[시저] 연어와 감자 (100g*3개)\n",
      "몰리스 3~4회용 패드 M 80매\n",
      "반려묘사료 10kg\n",
      "몰리스 크런치홀릭 닭고기 60g\n",
      "템테이션 연어맛 75g\n",
      "[쉬바] 참치 흰 살과 도미와 그레이비 소스 85g\n",
      "칠면조힘줄 스트립 85g\n",
      "챠오 츄르 닭가슴살 4개입\n",
      "몰리스픽 전연령 반려묘사료 5KG\n",
      "Natural 밀크스틱27P(80g)\n",
      "몰리스미니참치와게맛살\n",
      "[시저 Cesar] 비프 사료 100g*3\n",
      "후코홀릭 명태베리\n",
      "[쉬바] 촉촉한 닭가슴살과 그레이비 소스 85g\n",
      "위스카스 캣 주니어 포켓 오션피쉬 1.1kg (2~12개월)\n",
      "해피밀 황태와 오리 1.2kg\n",
      "몰리스 크런치홀릭 연어 60g\n",
      "국민 두부 고양이 모래(녹차)\n",
      "헌터본 연어 16P 240g\n",
      "챠오 츄르 가다랑어 4개입\n",
      "해피밀 황태와 연어 1.2kg\n",
      "몰리스 쉬야응가 1회용 패드 XL 40매\n",
      "템테이션 부드러운 우유맛 75g\n",
      "[시저] 흰살생선과 야채 (100g*3개)\n",
      "슈퍼츄 터키츄 링S 1개입\n",
      "내츄럴랩 건강한치즈 애견간식 요거트 스틱 100g\n",
      "보양대첩 쿨링 30g캔 *8입\n",
      "자연소재 오리고기 육포스틱 460g\n",
      "츄르비 닭가슴살&구운가다랑어 4개입\n",
      "몰리스 냄새잡는 패드 M 80매\n",
      "츄잉스틱 딸기요거트 250g\n",
      "가 직접 수입한 치킨 화이트본 S 13개입\n",
      "몰리스 치즈 화이트스틱껌 치킨 270g\n"
     ]
    }
   ],
   "source": [
    "for webelement in elements :\n",
    "    try:\n",
    "        print(webelement.text)\n",
    "    except:\n",
    "        pass"
   ]
  },
  {
   "cell_type": "markdown",
   "id": "026719eb-b196-46e2-8326-93fa4e2c82d0",
   "metadata": {},
   "source": [
    "### paginations\n",
    "- page 2 tag : #area_itemlist > div.paginate > div > a:nth-child(2)\n",
    "- page 7 tag : #area_itemlist > div.paginate > div > a:nth-child(7)"
   ]
  },
  {
   "cell_type": "code",
   "execution_count": 18,
   "id": "7e95030f-b88d-4642-a591-301be7226500",
   "metadata": {
    "tags": []
   },
   "outputs": [],
   "source": [
    "element_path = '#area_itemlist > div.paginate > div > strong'\n",
    "pagination = browser.find_element_by_css_selector(element_path)\n",
    "pagination.click()"
   ]
  },
  {
   "cell_type": "code",
   "execution_count": 19,
   "id": "6da07f0a-c1ce-4861-9aa1-021539804d44",
   "metadata": {
    "tags": []
   },
   "outputs": [],
   "source": [
    "# 페이지가 로딩이 완료되기 전에는 화면이 아직 완전히 나타난게 아니라서 클릭이 안되기 때문에 오류가 날 수 있음(방어코드 필요)\n",
    "browser.implicitly_wait(10)  # 페이지 로딩이 완료될 때까지 기다리는 함수(10초)"
   ]
  },
  {
   "cell_type": "code",
   "execution_count": 20,
   "id": "f995b475-91f3-4801-9391-7df75693c447",
   "metadata": {
    "tags": []
   },
   "outputs": [
    {
     "name": "stdout",
     "output_type": "stream",
     "text": [
      "성공 : #area_itemlist > div.paginate > div > a:nth-child(2)\n",
      "성공 : #area_itemlist > div.paginate > div > a:nth-child(3)\n",
      "실패 : #area_itemlist > div.paginate > div > a:nth-child(3)\n",
      "성공 : #area_itemlist > div.paginate > div > a:nth-child(4)\n",
      "성공 : #area_itemlist > div.paginate > div > a:nth-child(5)\n",
      "성공 : #area_itemlist > div.paginate > div > a:nth-child(6)\n",
      "성공 : #area_itemlist > div.paginate > div > a:nth-child(7)\n",
      "성공 : #area_itemlist > div.paginate > div > a:nth-child(8)\n",
      "성공 : #area_itemlist > div.paginate > div > a:nth-child(9)\n",
      "실패 : #area_itemlist > div.paginate > div > a:nth-child(9)\n",
      "성공 : #area_itemlist > div.paginate > div > a:nth-child(10)\n",
      "실패 : #area_itemlist > div.paginate > div > a:nth-child(10)\n"
     ]
    }
   ],
   "source": [
    "# 2page부터 10page까지 : 첫 페이지는 tag가 다름\n",
    "for page_number in range(2, 11):\n",
    "    element_path = '#area_itemlist > div.paginate > div > a:nth-child({})'.format(page_number)\n",
    "    try :\n",
    "        print('성공 : {}'.format(element_path)) # 값이 변경되는지 확인\n",
    "        pagination = browser.find_element_by_css_selector(element_path)\n",
    "        pagination.click()\n",
    "    except :\n",
    "        print('실패 : {}'.format(element_path)) # 값이 변경되는지 확인\n",
    "        pass"
   ]
  },
  {
   "cell_type": "code",
   "execution_count": null,
   "id": "29a7398e-e203-4677-9143-cadd6fcdb09e",
   "metadata": {
    "tags": []
   },
   "outputs": [],
   "source": [
    "# browser.quit()"
   ]
  }
 ],
 "metadata": {
  "kernelspec": {
   "display_name": "Python 3 (ipykernel)",
   "language": "python",
   "name": "python3"
  },
  "language_info": {
   "codemirror_mode": {
    "name": "ipython",
    "version": 3
   },
   "file_extension": ".py",
   "mimetype": "text/x-python",
   "name": "python",
   "nbconvert_exporter": "python",
   "pygments_lexer": "ipython3",
   "version": "3.11.3"
  }
 },
 "nbformat": 4,
 "nbformat_minor": 5
}
