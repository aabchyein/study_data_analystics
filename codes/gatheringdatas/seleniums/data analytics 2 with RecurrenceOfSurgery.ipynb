{
 "cells": [
  {
   "cell_type": "code",
   "execution_count": 4,
   "id": "49ccd436-7776-48d0-975b-db9d0eac5915",
   "metadata": {
    "tags": []
   },
   "outputs": [],
   "source": [
    "from selenium import webdriver\n",
    "import time"
   ]
  },
  {
   "cell_type": "code",
   "execution_count": 2,
   "id": "2ceb7591-d618-4fb3-85d0-042e88d41f18",
   "metadata": {
    "tags": []
   },
   "outputs": [],
   "source": [
    "# open chrome browser\n",
    "browser = webdriver.Chrome(executable_path='../../../../chromedriver.exe')"
   ]
  },
  {
   "cell_type": "code",
   "execution_count": null,
   "id": "b64dfcfe-3413-40a0-b088-a0ba7f2028d7",
   "metadata": {},
   "outputs": [],
   "source": [
    "# url in address window(주소창에 url 입력)\n",
    "browser.get('https://www.teamblind.com/kr/search/%EB%94%94%EC%8A%A4%ED%81%AC')"
   ]
  },
  {
   "cell_type": "code",
   "execution_count": null,
   "id": "4e15c786-3c1b-413b-81c0-ad5d569fb996",
   "metadata": {},
   "outputs": [],
   "source": [
    "browser.implicitly_wait(10)"
   ]
  },
  {
   "cell_type": "markdown",
   "id": "f5be77a3-8003-4f76-aa12-1cdaaffcdc34",
   "metadata": {},
   "source": [
    "### scrapping 대상 사이트\n",
    "1. 블라인드 : https://www.teamblind.com/kr/search/%EB%94%94%EC%8A%A4%ED%81%AC\n",
    "2. 하이닥 : \n",
    "3."
   ]
  },
  {
   "cell_type": "markdown",
   "id": "0ec9f3be-f9fd-4001-9602-829350a77451",
   "metadata": {},
   "source": [
    "### 글 클릭"
   ]
  },
  {
   "cell_type": "markdown",
   "id": "be6bc7fd-d9be-4e65-853e-996cc64f7908",
   "metadata": {},
   "source": [
    "### 등록된 글 정보\n",
    "- title tag : \n",
    "- content tag :\n",
    "- review tag : "
   ]
  },
  {
   "cell_type": "code",
   "execution_count": null,
   "id": "1da69895-4f3e-4650-9ba6-d73e3d05a824",
   "metadata": {},
   "outputs": [],
   "source": [
    "title_name = browser.find_element_by_css_selector('').text\n",
    "content_name = browser.find_element_by_css_selector('').text\n",
    "review = browser.find_element_by_css_selector('').text\n",
    "\n",
    "[title_name, content_name, review]"
   ]
  }
 ],
 "metadata": {
  "kernelspec": {
   "display_name": "Python 3 (ipykernel)",
   "language": "python",
   "name": "python3"
  },
  "language_info": {
   "codemirror_mode": {
    "name": "ipython",
    "version": 3
   },
   "file_extension": ".py",
   "mimetype": "text/x-python",
   "name": "python",
   "nbconvert_exporter": "python",
   "pygments_lexer": "ipython3",
   "version": "3.11.3"
  }
 },
 "nbformat": 4,
 "nbformat_minor": 5
}
