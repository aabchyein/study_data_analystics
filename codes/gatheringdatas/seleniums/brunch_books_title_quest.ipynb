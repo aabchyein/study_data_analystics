{
 "cells": [
  {
   "cell_type": "markdown",
   "id": "5fa5bf6f-6e16-48c0-a030-5c9141cc5956",
   "metadata": {
    "tags": []
   },
   "source": [
    "### Quest(brunch_books_title_quest.ipynb)\n",
    "- 도서목록 제목만 스크래핑\n",
    "- csv로 저장(brunch_books_title.csv)"
   ]
  },
  {
   "cell_type": "code",
   "execution_count": 21,
   "id": "9cebb448-1aad-4e4d-b1b4-75d9bece1037",
   "metadata": {
    "tags": []
   },
   "outputs": [],
   "source": [
    "from selenium import webdriver"
   ]
  },
  {
   "cell_type": "code",
   "execution_count": 22,
   "id": "5cc5749d-bc0e-4998-8f36-106bb4c8b486",
   "metadata": {
    "tags": []
   },
   "outputs": [],
   "source": [
    "# open chrome browser\n",
    "browser = webdriver.Chrome(executable_path='../../../../chromedriver.exe')"
   ]
  },
  {
   "cell_type": "code",
   "execution_count": 23,
   "id": "2e031843-17f2-4135-b285-b9b5bd02396a",
   "metadata": {
    "tags": []
   },
   "outputs": [],
   "source": [
    "# url in address window(주소창에 url 입력)\n",
    "browser.get('https://brunch.co.kr/keyword/%EC%B1%85%EB%A6%AC%EB%B7%B0')"
   ]
  },
  {
   "cell_type": "code",
   "execution_count": 29,
   "id": "fcf3a29d-881f-48de-8e2c-ebc7c2baee49",
   "metadata": {
    "tags": []
   },
   "outputs": [
    {
     "data": {
      "text/plain": [
       "(list, selenium.webdriver.remote.webelement.WebElement)"
      ]
     },
     "execution_count": 29,
     "metadata": {},
     "output_type": "execute_result"
    }
   ],
   "source": [
    "element_path = '.tit_sub'\n",
    "elements = browser.find_elements_by_css_selector(element_path)\n",
    "type(elements), type(elements[0])"
   ]
  },
  {
   "cell_type": "code",
   "execution_count": 30,
   "id": "9adf7f6f-6197-4a46-8cef-fa0798ca035a",
   "metadata": {
    "tags": []
   },
   "outputs": [],
   "source": [
    "# 제목을 가져와 리스트로 만들기\n",
    "titles = []\n",
    "for webelement in elements :\n",
    "    title = webelement.text\n",
    "    titles.append(title)    "
   ]
  },
  {
   "cell_type": "code",
   "execution_count": 31,
   "id": "a456306f-a786-43c1-a98a-c195b25be0b4",
   "metadata": {
    "tags": []
   },
   "outputs": [
    {
     "data": {
      "text/plain": [
       "['스타트업 CEO를 위한, 혹은 CEO를 이해해 보기 좋은 책 <하드씽>',\n",
       " '[가벼운 책 리뷰]- 인트로',\n",
       " '<텀블러로 지구를 구한다는 농담>을 읽고',\n",
       " '이슬아, <부지런한 사랑>',\n",
       " '사람이 나무도 아닌데',\n",
       " '',\n",
       " '쇼펜하우어 행복론 2장',\n",
       " '\"완벽한 날들\" 메리 올리버',\n",
       " 'by 알베르 카뮈',\n",
       " '',\n",
       " \"'시인의 책상' 리뷰\",\n",
       " '히가시노 게이고 <블랙 쇼맨과 환상의 여자>',\n",
       " '정여울, <그때, 나에게 미처 하지 못한 말>',\n",
       " '한강',\n",
       " '책 <가정교사들>을 추천하며',\n",
       " '',\n",
       " '내가 좋아하는 것들, 쓰기(저 김재용)',\n",
       " '러일전쟁 - 와다 하루키(한길사) ●●●●●●●●◐○',\n",
       " '『우리 대화는 밤새도록 끝이 없지』- 허휘수, 서솔, 상상 출판',\n",
       " '『불안할 땐 뇌과학』- 캐서린 피트먼, 엘리자베스 칼. 현대지성',\n",
       " '그림책 리뷰',\n",
       " '동해선에서 읽은 책 61',\n",
       " 'Jane Kallir',\n",
       " '',\n",
       " '',\n",
       " \"'디자이너 생각위를 걷다'에서 느끼는 사업가의 삶의 지혜\",\n",
       " 'Feat. 부부가 둘 다 놀고 있습니다',\n",
       " '도파민네이션과 최선의 고통을 읽고',\n",
       " '집이라는 모험, 신순화',\n",
       " '1차원이 되고 싶어, 박상영',\n",
       " '나는 단순하게 살기로 했다, 사사키 후미오',\n",
       " 'by 스콧 피츠제럴드',\n",
       " \"'더티 워크'를 읽고 (소원책담 독서모임 - 담쟁이 독서회)\",\n",
       " '숏 컷 - 레이먼드 카버(집사재) ●●●●●●●◐○○',\n",
       " '최초의 직업 프로그래머는 여자라는 사실',\n",
       " '가난해지지 않는 마음, 양다솔',\n",
       " '고슴도치 엑스, 노인경',\n",
       " '대도시의 사랑법, 박상영',\n",
       " '러셀 로버츠 <결심이 필요한 순간들>',\n",
       " '매 순간 흔들려도 매일 우아하게, 곽아람',\n",
       " '당신이 집에서 논다는 거짓말, 정아은',\n",
       " '자기 결정, 페터 비에리',\n",
       " '오티움, 문요한',\n",
       " '엄마의 독서, 정아은',\n",
       " '',\n",
       " '<코스모스> 1장',\n",
       " '2023.08.28~09.03',\n",
       " '나도 읽어본 소설 덕후들의 pick',\n",
       " '오늘 일로 회의감에 느꼈을 당신에게 건네는 질문, \"일이란 무엇인가?\\'',\n",
       " '가장 행복한 곳으로, 정빛그림',\n",
       " '아모스 오즈',\n",
       " '이것은 라울 뒤피에 관한 이야기',\n",
       " '최장순',\n",
       " '암 병동 - 알렉산드르 솔제니친(민음사)  ●●●●●●●●○○',\n",
       " '호르헤 루이스 보르헤스',\n",
       " '<천문대의 시간 천문학자의 하늘> / 전영범',\n",
       " '무슨 책 읽을까 7편',\n",
       " '인생의 격을 높이고 현자의 치를 터득하다',\n",
       " '의뢰인은 죽었다 - 와카타케 나나미(북폴리오)  ●●●●●●●●●◐',\n",
       " '[소설 추천] 구의 증명 | 최진영',\n",
       " '정대건, 임현석 외, 『혹시 MBTI가 어떻게 되세요?』',\n",
       " '에밀 아자르',\n",
       " '어린이의 여행법 - 이지나',\n",
       " '',\n",
       " '책 ㅣ 책소개 ㅣ 책리뷰 ㅣ 독후감 ㅣ 도서 ㅣ 도서추천 ㅣ 독립출판',\n",
       " '존 워너커 엮음',\n",
       " '로리 오코너 저, 정지호 역,『마지막 끈을 놓기 전에』, 심심, 2023',\n",
       " '',\n",
       " '이선주, 『태구는 이웃들이 궁금하다』, 주니어RHK, 2023',\n",
       " \"테드 창의 SF 소설, '외모 지상주의에 대한 소고: 다큐멘터리'\",\n",
       " 'by 실비아 플라스',\n",
       " '소설 <파리대왕>의 등장인물 탐구',\n",
       " '[나목] 박완서',\n",
       " '책 <사라진 개발자들>을 읽고',\n",
       " '',\n",
       " '백승만 작가의 <분자 조각가들>을 읽고',\n",
       " '이서수 <젊은 근희의 행진>',\n",
       " 'to kill a mocking bird 를 읽고',\n",
       " '『물고기는 존재하지 않는다』를 읽고',\n",
       " 'by 데이비드 포스터 월리스']"
      ]
     },
     "execution_count": 31,
     "metadata": {},
     "output_type": "execute_result"
    }
   ],
   "source": [
    "titles"
   ]
  },
  {
   "cell_type": "code",
   "execution_count": 37,
   "id": "6c10e660-b553-40f3-b4c9-e7ca1a923aac",
   "metadata": {
    "tags": []
   },
   "outputs": [],
   "source": [
    "# 리스트를 데이터프레임으로 만들기\n",
    "import pandas as pd\n",
    "df_titles = pd.DataFrame(titles, columns=['Title'])"
   ]
  },
  {
   "cell_type": "code",
   "execution_count": 38,
   "id": "4ceb5270-119e-4d99-a089-655b8b1a9fae",
   "metadata": {},
   "outputs": [],
   "source": [
    "# csv파일로 저장\n",
    "df_titles.to_csv('../../../datasets/brunch_books_title.csv', index=False)"
   ]
  },
  {
   "cell_type": "code",
   "execution_count": 9,
   "id": "5b1c1e37-20a8-4422-8743-aa8e77001fff",
   "metadata": {},
   "outputs": [],
   "source": [
    "# browser 창 닫기\n",
    "# browser.quit()"
   ]
  }
 ],
 "metadata": {
  "kernelspec": {
   "display_name": "Python 3 (ipykernel)",
   "language": "python",
   "name": "python3"
  },
  "language_info": {
   "codemirror_mode": {
    "name": "ipython",
    "version": 3
   },
   "file_extension": ".py",
   "mimetype": "text/x-python",
   "name": "python",
   "nbconvert_exporter": "python",
   "pygments_lexer": "ipython3",
   "version": "3.11.3"
  }
 },
 "nbformat": 4,
 "nbformat_minor": 5
}
