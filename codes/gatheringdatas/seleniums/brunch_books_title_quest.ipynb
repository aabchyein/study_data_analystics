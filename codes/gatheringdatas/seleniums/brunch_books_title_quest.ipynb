{
 "cells": [
  {
   "cell_type": "markdown",
   "id": "5fa5bf6f-6e16-48c0-a030-5c9141cc5956",
   "metadata": {
    "tags": []
   },
   "source": [
    "### Quest(brunch_books_title_quest.ipynb)\n",
    "- 도서목록 제목만 스크래핑\n",
    "- csv로 저장(brunch_books_title.csv)"
   ]
  },
  {
   "cell_type": "code",
   "execution_count": 2,
   "id": "9cebb448-1aad-4e4d-b1b4-75d9bece1037",
   "metadata": {
    "tags": []
   },
   "outputs": [],
   "source": [
    "from selenium import webdriver"
   ]
  },
  {
   "cell_type": "code",
   "execution_count": 3,
   "id": "5cc5749d-bc0e-4998-8f36-106bb4c8b486",
   "metadata": {
    "tags": []
   },
   "outputs": [],
   "source": [
    "# open chrome browser\n",
    "browser = webdriver.Chrome(executable_path='../../../../chromedriver.exe')"
   ]
  },
  {
   "cell_type": "code",
   "execution_count": 4,
   "id": "2e031843-17f2-4135-b285-b9b5bd02396a",
   "metadata": {
    "tags": []
   },
   "outputs": [],
   "source": [
    "# url in address window(주소창에 url 입력)\n",
    "browser.get('https://brunch.co.kr/keyword/%EC%B1%85%EB%A6%AC%EB%B7%B0')"
   ]
  },
  {
   "cell_type": "code",
   "execution_count": 5,
   "id": "fcf3a29d-881f-48de-8e2c-ebc7c2baee49",
   "metadata": {
    "tags": []
   },
   "outputs": [
    {
     "data": {
      "text/plain": [
       "(list, selenium.webdriver.remote.webelement.WebElement)"
      ]
     },
     "execution_count": 5,
     "metadata": {},
     "output_type": "execute_result"
    }
   ],
   "source": [
    "element_path = '.tit_sub'\n",
    "elements = browser.find_elements_by_css_selector(element_path)\n",
    "type(elements), type(elements[0])"
   ]
  },
  {
   "cell_type": "code",
   "execution_count": 6,
   "id": "9adf7f6f-6197-4a46-8cef-fa0798ca035a",
   "metadata": {
    "tags": []
   },
   "outputs": [],
   "source": [
    "# 제목을 가져와 리스트로 만들기\n",
    "titles = []\n",
    "for webelement in elements :\n",
    "    title = webelement.text\n",
    "    titles.append(title)    "
   ]
  },
  {
   "cell_type": "code",
   "execution_count": 11,
   "id": "a456306f-a786-43c1-a98a-c195b25be0b4",
   "metadata": {
    "tags": []
   },
   "outputs": [
    {
     "data": {
      "text/plain": [
       "['', \"'시인의 책상' 리뷰\", '히가시노 게이고 <블랙 쇼맨과 환상의 여자>', '정여울, <그때, 나에게 미처 하지 못한 말>']"
      ]
     },
     "execution_count": 11,
     "metadata": {},
     "output_type": "execute_result"
    }
   ],
   "source": [
    "titles[:10]"
   ]
  },
  {
   "cell_type": "code",
   "execution_count": 8,
   "id": "6c10e660-b553-40f3-b4c9-e7ca1a923aac",
   "metadata": {
    "tags": []
   },
   "outputs": [],
   "source": [
    "# 리스트를 데이터프레임으로 만들기\n",
    "import pandas as pd\n",
    "df_titles = pd.DataFrame(titles, columns=['Title'])"
   ]
  },
  {
   "cell_type": "code",
   "execution_count": 9,
   "id": "4ceb5270-119e-4d99-a089-655b8b1a9fae",
   "metadata": {},
   "outputs": [],
   "source": [
    "# csv파일로 저장\n",
    "df_titles.to_csv('../../../datasets/brunch_books_title.csv')"
   ]
  },
  {
   "cell_type": "code",
   "execution_count": 10,
   "id": "5b1c1e37-20a8-4422-8743-aa8e77001fff",
   "metadata": {},
   "outputs": [],
   "source": [
    "# browser 창 닫기\n",
    "browser.quit()"
   ]
  }
 ],
 "metadata": {
  "kernelspec": {
   "display_name": "Python 3 (ipykernel)",
   "language": "python",
   "name": "python3"
  },
  "language_info": {
   "codemirror_mode": {
    "name": "ipython",
    "version": 3
   },
   "file_extension": ".py",
   "mimetype": "text/x-python",
   "name": "python",
   "nbconvert_exporter": "python",
   "pygments_lexer": "ipython3",
   "version": "3.11.3"
  }
 },
 "nbformat": 4,
 "nbformat_minor": 5
}
