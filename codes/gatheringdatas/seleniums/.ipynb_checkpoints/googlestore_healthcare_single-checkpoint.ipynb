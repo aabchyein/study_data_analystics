{
 "cells": [
  {
   "cell_type": "code",
   "execution_count": 1,
   "id": "6c49da98-915a-4f21-ada1-eba697405f5d",
   "metadata": {
    "tags": []
   },
   "outputs": [],
   "source": [
    "from selenium import webdriver"
   ]
  },
  {
   "cell_type": "code",
   "execution_count": 2,
   "id": "07da4a3b-a636-40f7-b20b-5bcb0669fccc",
   "metadata": {
    "tags": []
   },
   "outputs": [],
   "source": [
    "# open chrome browser\n",
    "browser = webdriver.Chrome(executable_path='../../../../chromedriver.exe')"
   ]
  },
  {
   "cell_type": "code",
   "execution_count": 3,
   "id": "7ce142c2-8595-43be-8add-1a455d1d559e",
   "metadata": {
    "tags": []
   },
   "outputs": [],
   "source": [
    "# url in address window(주소창에 url 입력)\n",
    "browser.get('https://play.google.com/store/search?q=%ED%97%AC%EC%8A%A4%EC%BC%80%EC%96%B4%EC%95%B1&c=apps&hl=ko-KR')"
   ]
  },
  {
   "cell_type": "code",
   "execution_count": 4,
   "id": "b29143cc-2565-477c-a6eb-3955d545505c",
   "metadata": {
    "tags": []
   },
   "outputs": [],
   "source": [
    "browser.implicitly_wait(10)"
   ]
  },
  {
   "cell_type": "markdown",
   "id": "40fb5681-1822-45dd-bcba-f11a4053500d",
   "metadata": {},
   "source": [
    "## 제품 클릭\n",
    "- tag : section > div > div > div > div:nth-child(2) > div > div > div"
   ]
  },
  {
   "cell_type": "code",
   "execution_count": 5,
   "id": "b595024e-5440-4314-90bf-896e935fb9ac",
   "metadata": {
    "tags": []
   },
   "outputs": [],
   "source": [
    "click_path = 'section > div > div > div > div:nth-child(2) > div > div > div'\n",
    "browser.find_element_by_css_selector(click_path).click()"
   ]
  },
  {
   "cell_type": "markdown",
   "id": "8a8d32c2-500e-4277-a5eb-1c8c39a66808",
   "metadata": {},
   "source": [
    "## 제품 정보\n",
    "- 서비스명 tag : div > h1 > span\n",
    "- 만든 회사명 tag : div.Il7kR > div > div > div > a > span \n",
    "- 앱 정보 tag : div:nth-child(1) > c-wiz:nth-child(2) > div > section > div"
   ]
  },
  {
   "cell_type": "code",
   "execution_count": 6,
   "id": "5663221e-0ade-415d-94cf-2431d8a1b8e9",
   "metadata": {
    "tags": []
   },
   "outputs": [
    {
     "data": {
      "text/plain": [
       "['NH헬스케어',\n",
       " 'NH농협생명',\n",
       " '한국인의 건강관리 NH 헬스케어!\\n\\n지인들과 재밌고 건강하게 즐기는 NH헬스케어만의 새로운 걷기 방법 – 걷기 배틀\\n걷기 목표 달성시 지급되는 포인트로 완성하는 온라인 텃밭 – 랜선 텃밭 가꾸기\\n\\n즐겁고 과학적인 당신만을 위한 건강 솔루션 NH 헬스케어!\\n업데이트 날짜\\n2023. 7. 21.\\n건강/운동']"
      ]
     },
     "execution_count": 6,
     "metadata": {},
     "output_type": "execute_result"
    }
   ],
   "source": [
    "service_name = browser.find_element_by_css_selector('div > h1 > span').text\n",
    "company_name = browser.find_element_by_css_selector('div.Il7kR > div > div > div > a > span').text\n",
    "app_information = browser.find_element_by_css_selector('div:nth-child(1) > c-wiz:nth-child(2) > div > section > div').text\n",
    "\n",
    "[service_name, company_name, app_information]"
   ]
  },
  {
   "cell_type": "markdown",
   "id": "a40c1bee-7e13-4ca3-abfa-4a6d2c8cb21d",
   "metadata": {},
   "source": [
    "### 리뷰 모두보기\n",
    "- click tag : div:nth-child(5) > div > div > button > span"
   ]
  },
  {
   "cell_type": "code",
   "execution_count": 7,
   "id": "d905ee4a-d898-4b12-b228-d3ae56605b07",
   "metadata": {
    "tags": []
   },
   "outputs": [],
   "source": [
    "import time\n",
    "time.sleep(2)"
   ]
  },
  {
   "cell_type": "code",
   "execution_count": 22,
   "id": "e7e1e466-4e06-4175-8929-e9180e8a8f8c",
   "metadata": {
    "tags": []
   },
   "outputs": [],
   "source": [
    "browser.find_element_by_xpath('//*/div/div/button/*[contains(text(), \"리뷰\")]').click()"
   ]
  },
  {
   "cell_type": "markdown",
   "id": "cd6fdc4c-8a6e-490c-8f10-477ba7fc86fc",
   "metadata": {},
   "source": [
    "## 리뷰 내용 가져오기\n",
    "- 리뷰 묶음 tag : div.fysCi > div > div:nth-child(2) > div\n",
    "- 리뷰 내용 tag : div.h3YV2d\n",
    "- 리뷰 등록 날짜 tag :  header > div.Jx4nYe > span\n",
    "- 별점 tag : header > div.Jx4nYe > div"
   ]
  },
  {
   "cell_type": "code",
   "execution_count": 23,
   "id": "15ef45c7-f8db-4600-a26e-fc28fdbd9432",
   "metadata": {
    "tags": []
   },
   "outputs": [
    {
     "data": {
      "text/plain": [
       "40"
      ]
     },
     "execution_count": 23,
     "metadata": {},
     "output_type": "execute_result"
    }
   ],
   "source": [
    "reviews_bundle = browser.find_elements_by_css_selector('div.fysCi > div > div:nth-child(2) > div')\n",
    "len(reviews_bundle)"
   ]
  },
  {
   "cell_type": "code",
   "execution_count": 24,
   "id": "c1be9308-cdc4-424b-b97f-74c3710c9ff2",
   "metadata": {
    "tags": []
   },
   "outputs": [],
   "source": [
    "content = reviews_bundle[0].find_element_by_css_selector('div.h3YV2d').text\n",
    "date = reviews_bundle[0].find_element_by_css_selector('header > div.Jx4nYe > span').text\n",
    "stars = reviews_bundle[0].find_element_by_css_selector('header > div.Jx4nYe > div').get_attribute('aria-label')"
   ]
  },
  {
   "cell_type": "code",
   "execution_count": null,
   "id": "646bdd25-ce27-4d57-b381-f9675d108eeb",
   "metadata": {
    "tags": []
   },
   "outputs": [],
   "source": [
    "[content, date, stars]"
   ]
  },
  {
   "cell_type": "markdown",
   "id": "a7c8a551-dd58-4dba-87c4-b67909fdf58e",
   "metadata": {},
   "source": [
    "## 추가 댓글 가져오기(2가지 방법)\n",
    "* 팝업에 나타나는 댓글 목록이 스크롤 하면 계속 밑에 추가되어서 나타남\n",
    "1. 마지막 내용(댓글)을 클릭\n",
    "2. 마지막 화면까지 스크롤링"
   ]
  },
  {
   "cell_type": "code",
   "execution_count": 25,
   "id": "1983831b-136c-4126-ab74-a0c4d820ee8e",
   "metadata": {
    "tags": []
   },
   "outputs": [],
   "source": [
    "reviews_bundle[39].click()"
   ]
  },
  {
   "cell_type": "code",
   "execution_count": 26,
   "id": "486f9bea-ca81-4ccc-a64a-af83b10e08df",
   "metadata": {
    "tags": []
   },
   "outputs": [
    {
     "data": {
      "text/plain": [
       "80"
      ]
     },
     "execution_count": 26,
     "metadata": {},
     "output_type": "execute_result"
    }
   ],
   "source": [
    "reviews_bundle = browser.find_elements_by_css_selector('div.fysCi > div > div:nth-child(2) > div')\n",
    "len(reviews_bundle)"
   ]
  },
  {
   "cell_type": "code",
   "execution_count": 27,
   "id": "6083b8db-17cb-45f8-b836-8c878a9e97a6",
   "metadata": {
    "tags": []
   },
   "outputs": [
    {
     "data": {
      "text/plain": [
       "[<selenium.webdriver.remote.webelement.WebElement (session=\"23bcac9ab1da693e3cfe4ad15328f15e\", element=\"BB46D001F455B8A611F21594B1405353_element_145\")>,\n",
       " <selenium.webdriver.remote.webelement.WebElement (session=\"23bcac9ab1da693e3cfe4ad15328f15e\", element=\"BB46D001F455B8A611F21594B1405353_element_146\")>,\n",
       " <selenium.webdriver.remote.webelement.WebElement (session=\"23bcac9ab1da693e3cfe4ad15328f15e\", element=\"BB46D001F455B8A611F21594B1405353_element_147\")>,\n",
       " <selenium.webdriver.remote.webelement.WebElement (session=\"23bcac9ab1da693e3cfe4ad15328f15e\", element=\"BB46D001F455B8A611F21594B1405353_element_148\")>,\n",
       " <selenium.webdriver.remote.webelement.WebElement (session=\"23bcac9ab1da693e3cfe4ad15328f15e\", element=\"BB46D001F455B8A611F21594B1405353_element_149\")>,\n",
       " <selenium.webdriver.remote.webelement.WebElement (session=\"23bcac9ab1da693e3cfe4ad15328f15e\", element=\"BB46D001F455B8A611F21594B1405353_element_150\")>,\n",
       " <selenium.webdriver.remote.webelement.WebElement (session=\"23bcac9ab1da693e3cfe4ad15328f15e\", element=\"BB46D001F455B8A611F21594B1405353_element_151\")>,\n",
       " <selenium.webdriver.remote.webelement.WebElement (session=\"23bcac9ab1da693e3cfe4ad15328f15e\", element=\"BB46D001F455B8A611F21594B1405353_element_152\")>,\n",
       " <selenium.webdriver.remote.webelement.WebElement (session=\"23bcac9ab1da693e3cfe4ad15328f15e\", element=\"BB46D001F455B8A611F21594B1405353_element_153\")>,\n",
       " <selenium.webdriver.remote.webelement.WebElement (session=\"23bcac9ab1da693e3cfe4ad15328f15e\", element=\"BB46D001F455B8A611F21594B1405353_element_154\")>,\n",
       " <selenium.webdriver.remote.webelement.WebElement (session=\"23bcac9ab1da693e3cfe4ad15328f15e\", element=\"BB46D001F455B8A611F21594B1405353_element_155\")>,\n",
       " <selenium.webdriver.remote.webelement.WebElement (session=\"23bcac9ab1da693e3cfe4ad15328f15e\", element=\"BB46D001F455B8A611F21594B1405353_element_156\")>,\n",
       " <selenium.webdriver.remote.webelement.WebElement (session=\"23bcac9ab1da693e3cfe4ad15328f15e\", element=\"BB46D001F455B8A611F21594B1405353_element_157\")>,\n",
       " <selenium.webdriver.remote.webelement.WebElement (session=\"23bcac9ab1da693e3cfe4ad15328f15e\", element=\"BB46D001F455B8A611F21594B1405353_element_158\")>,\n",
       " <selenium.webdriver.remote.webelement.WebElement (session=\"23bcac9ab1da693e3cfe4ad15328f15e\", element=\"BB46D001F455B8A611F21594B1405353_element_159\")>,\n",
       " <selenium.webdriver.remote.webelement.WebElement (session=\"23bcac9ab1da693e3cfe4ad15328f15e\", element=\"BB46D001F455B8A611F21594B1405353_element_160\")>,\n",
       " <selenium.webdriver.remote.webelement.WebElement (session=\"23bcac9ab1da693e3cfe4ad15328f15e\", element=\"BB46D001F455B8A611F21594B1405353_element_161\")>,\n",
       " <selenium.webdriver.remote.webelement.WebElement (session=\"23bcac9ab1da693e3cfe4ad15328f15e\", element=\"BB46D001F455B8A611F21594B1405353_element_162\")>,\n",
       " <selenium.webdriver.remote.webelement.WebElement (session=\"23bcac9ab1da693e3cfe4ad15328f15e\", element=\"BB46D001F455B8A611F21594B1405353_element_163\")>,\n",
       " <selenium.webdriver.remote.webelement.WebElement (session=\"23bcac9ab1da693e3cfe4ad15328f15e\", element=\"BB46D001F455B8A611F21594B1405353_element_164\")>,\n",
       " <selenium.webdriver.remote.webelement.WebElement (session=\"23bcac9ab1da693e3cfe4ad15328f15e\", element=\"BB46D001F455B8A611F21594B1405353_element_165\")>,\n",
       " <selenium.webdriver.remote.webelement.WebElement (session=\"23bcac9ab1da693e3cfe4ad15328f15e\", element=\"BB46D001F455B8A611F21594B1405353_element_166\")>,\n",
       " <selenium.webdriver.remote.webelement.WebElement (session=\"23bcac9ab1da693e3cfe4ad15328f15e\", element=\"BB46D001F455B8A611F21594B1405353_element_167\")>,\n",
       " <selenium.webdriver.remote.webelement.WebElement (session=\"23bcac9ab1da693e3cfe4ad15328f15e\", element=\"BB46D001F455B8A611F21594B1405353_element_168\")>,\n",
       " <selenium.webdriver.remote.webelement.WebElement (session=\"23bcac9ab1da693e3cfe4ad15328f15e\", element=\"BB46D001F455B8A611F21594B1405353_element_169\")>,\n",
       " <selenium.webdriver.remote.webelement.WebElement (session=\"23bcac9ab1da693e3cfe4ad15328f15e\", element=\"BB46D001F455B8A611F21594B1405353_element_170\")>,\n",
       " <selenium.webdriver.remote.webelement.WebElement (session=\"23bcac9ab1da693e3cfe4ad15328f15e\", element=\"BB46D001F455B8A611F21594B1405353_element_171\")>,\n",
       " <selenium.webdriver.remote.webelement.WebElement (session=\"23bcac9ab1da693e3cfe4ad15328f15e\", element=\"BB46D001F455B8A611F21594B1405353_element_172\")>,\n",
       " <selenium.webdriver.remote.webelement.WebElement (session=\"23bcac9ab1da693e3cfe4ad15328f15e\", element=\"BB46D001F455B8A611F21594B1405353_element_173\")>,\n",
       " <selenium.webdriver.remote.webelement.WebElement (session=\"23bcac9ab1da693e3cfe4ad15328f15e\", element=\"BB46D001F455B8A611F21594B1405353_element_174\")>,\n",
       " <selenium.webdriver.remote.webelement.WebElement (session=\"23bcac9ab1da693e3cfe4ad15328f15e\", element=\"BB46D001F455B8A611F21594B1405353_element_175\")>,\n",
       " <selenium.webdriver.remote.webelement.WebElement (session=\"23bcac9ab1da693e3cfe4ad15328f15e\", element=\"BB46D001F455B8A611F21594B1405353_element_176\")>,\n",
       " <selenium.webdriver.remote.webelement.WebElement (session=\"23bcac9ab1da693e3cfe4ad15328f15e\", element=\"BB46D001F455B8A611F21594B1405353_element_177\")>,\n",
       " <selenium.webdriver.remote.webelement.WebElement (session=\"23bcac9ab1da693e3cfe4ad15328f15e\", element=\"BB46D001F455B8A611F21594B1405353_element_178\")>,\n",
       " <selenium.webdriver.remote.webelement.WebElement (session=\"23bcac9ab1da693e3cfe4ad15328f15e\", element=\"BB46D001F455B8A611F21594B1405353_element_179\")>,\n",
       " <selenium.webdriver.remote.webelement.WebElement (session=\"23bcac9ab1da693e3cfe4ad15328f15e\", element=\"BB46D001F455B8A611F21594B1405353_element_180\")>,\n",
       " <selenium.webdriver.remote.webelement.WebElement (session=\"23bcac9ab1da693e3cfe4ad15328f15e\", element=\"BB46D001F455B8A611F21594B1405353_element_181\")>,\n",
       " <selenium.webdriver.remote.webelement.WebElement (session=\"23bcac9ab1da693e3cfe4ad15328f15e\", element=\"BB46D001F455B8A611F21594B1405353_element_182\")>,\n",
       " <selenium.webdriver.remote.webelement.WebElement (session=\"23bcac9ab1da693e3cfe4ad15328f15e\", element=\"BB46D001F455B8A611F21594B1405353_element_183\")>,\n",
       " <selenium.webdriver.remote.webelement.WebElement (session=\"23bcac9ab1da693e3cfe4ad15328f15e\", element=\"BB46D001F455B8A611F21594B1405353_element_184\")>]"
      ]
     },
     "execution_count": 27,
     "metadata": {},
     "output_type": "execute_result"
    }
   ],
   "source": [
    "# slicing을 하면서 계속 looping을 돌면 마지막까지 갈 수 있음\n",
    "reviews_bundle[40:]"
   ]
  },
  {
   "cell_type": "markdown",
   "id": "0c1d25ee-fc82-4132-a148-ee7ca3d885c7",
   "metadata": {},
   "source": [
    "### 추가 댓글 모두 가져오기"
   ]
  },
  {
   "cell_type": "code",
   "execution_count": 28,
   "id": "75bd085a-ddf1-4d05-9f82-683d88f3f247",
   "metadata": {
    "tags": []
   },
   "outputs": [
    {
     "data": {
      "text/plain": [
       "80"
      ]
     },
     "execution_count": 28,
     "metadata": {},
     "output_type": "execute_result"
    }
   ],
   "source": [
    "reviews_bundle = browser.find_elements_by_css_selector('div.fysCi > div > div:nth-child(2) > div')\n",
    "len(reviews_bundle)"
   ]
  },
  {
   "cell_type": "code",
   "execution_count": null,
   "id": "df116e24-c232-4443-ad78-413654eec027",
   "metadata": {},
   "outputs": [],
   "source": [
    "review_loop_standard = 40\n",
    "while(reviews_bundle >= review_loop_standard) # loop 멈추는 조건(while문으로 들어가는 여부)\n",
    "    reviews_bundle"
   ]
  }
 ],
 "metadata": {
  "kernelspec": {
   "display_name": "Python 3 (ipykernel)",
   "language": "python",
   "name": "python3"
  },
  "language_info": {
   "codemirror_mode": {
    "name": "ipython",
    "version": 3
   },
   "file_extension": ".py",
   "mimetype": "text/x-python",
   "name": "python",
   "nbconvert_exporter": "python",
   "pygments_lexer": "ipython3",
   "version": "3.11.3"
  }
 },
 "nbformat": 4,
 "nbformat_minor": 5
}
