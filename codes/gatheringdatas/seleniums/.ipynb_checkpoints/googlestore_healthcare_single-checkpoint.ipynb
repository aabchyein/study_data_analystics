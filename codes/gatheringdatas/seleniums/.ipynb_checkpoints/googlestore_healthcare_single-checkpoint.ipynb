{
 "cells": [
  {
   "cell_type": "code",
   "execution_count": 1,
   "id": "6c49da98-915a-4f21-ada1-eba697405f5d",
   "metadata": {
    "tags": []
   },
   "outputs": [],
   "source": [
    "from selenium import webdriver"
   ]
  },
  {
   "cell_type": "code",
   "execution_count": 2,
   "id": "07da4a3b-a636-40f7-b20b-5bcb0669fccc",
   "metadata": {
    "tags": []
   },
   "outputs": [],
   "source": [
    "# open chrome browser\n",
    "browser = webdriver.Chrome(executable_path='../../../../chromedriver.exe')"
   ]
  },
  {
   "cell_type": "code",
   "execution_count": 3,
   "id": "7ce142c2-8595-43be-8add-1a455d1d559e",
   "metadata": {
    "tags": []
   },
   "outputs": [],
   "source": [
    "# url in address window(주소창에 url 입력)\n",
    "browser.get('https://play.google.com/store/search?q=%ED%97%AC%EC%8A%A4%EC%BC%80%EC%96%B4%EC%95%B1&c=apps&hl=ko-KR')"
   ]
  },
  {
   "cell_type": "code",
   "execution_count": 4,
   "id": "b29143cc-2565-477c-a6eb-3955d545505c",
   "metadata": {
    "tags": []
   },
   "outputs": [],
   "source": [
    "browser.implicitly_wait(10)"
   ]
  },
  {
   "cell_type": "markdown",
   "id": "d5fbb360-585b-4dbb-92f8-b59faaa923ed",
   "metadata": {},
   "source": [
    "### 서비스 클릭\n",
    "- section > div > div > div > div:nth-child(2) > div > div > div"
   ]
  },
  {
   "cell_type": "code",
   "execution_count": 6,
   "id": "1772e716-4770-4d2b-a2e1-6e5dcd6384c0",
   "metadata": {
    "tags": []
   },
   "outputs": [],
   "source": [
    "click_path = 'section > div > div > div > div:nth-child(2) > div > div > div'\n",
    "browser.find_element_by_css_selector(click_path).click()"
   ]
  },
  {
   "cell_type": "markdown",
   "id": "daa47e85-e682-477b-9201-fc8276457958",
   "metadata": {
    "tags": []
   },
   "source": [
    "### 서비스 정보\n",
    "- 서비스명 tag : div > h1 > span\n",
    "- 만든회사명 tag : div.Il7kR > div > div > div > a > span\n",
    "- 앱정보 tag : div:nth-child(1) > c-wiz:nth-child(2) > div > section > div"
   ]
  },
  {
   "cell_type": "code",
   "execution_count": 11,
   "id": "0ee49b89-4252-4586-8344-6c7d09dca38d",
   "metadata": {
    "tags": []
   },
   "outputs": [
    {
     "data": {
      "text/plain": [
       "['NH헬스케어',\n",
       " 'NH농협생명',\n",
       " '한국인의 건강관리 NH 헬스케어!\\n\\n지인들과 재밌고 건강하게 즐기는 NH헬스케어만의 새로운 걷기 방법 – 걷기 배틀\\n걷기 목표 달성시 지급되는 포인트로 완성하는 온라인 텃밭 – 랜선 텃밭 가꾸기\\n\\n즐겁고 과학적인 당신만을 위한 건강 솔루션 NH 헬스케어!\\n업데이트 날짜\\n2023. 7. 21.\\n건강/운동']"
      ]
     },
     "execution_count": 11,
     "metadata": {},
     "output_type": "execute_result"
    }
   ],
   "source": [
    "service_name = browser.find_element_by_css_selector('div > h1 > span').text\n",
    "company_name = browser.find_element_by_css_selector('div.Il7kR > div > div > div > a > span').text\n",
    "app_information = browser.find_element_by_css_selector('div:nth-child(1) > c-wiz:nth-child(2) > div > section > div').text\n",
    "\n",
    "[service_name, company_name, app_information]"
   ]
  },
  {
   "cell_type": "markdown",
   "id": "4ba3e1c5-0155-43f5-b31f-0ea871df9261",
   "metadata": {},
   "source": [
    "### 리뷰 모두 보기\n",
    "- click tag : div:nth-child(5) > div > div > button > span"
   ]
  },
  {
   "cell_type": "code",
   "execution_count": 12,
   "id": "7f9a8534-ec73-4c24-bef1-8da4dbbdb8c3",
   "metadata": {
    "tags": []
   },
   "outputs": [],
   "source": [
    "import time\n",
    "time.sleep(2)"
   ]
  },
  {
   "cell_type": "code",
   "execution_count": 13,
   "id": "52ece59f-0ae1-418b-83a3-af7531561c25",
   "metadata": {
    "tags": []
   },
   "outputs": [
    {
     "ename": "ElementClickInterceptedException",
     "evalue": "Message: element click intercepted: Element <span jsname=\"V67aGc\" class=\"VfPpkd-vQzf8d\">...</span> is not clickable at point (101, 863). Other element would receive the click: <div class=\"VfPpkd-IE5DDf\" jsname=\"GGAcbc\" jsaction=\"click:KY1IRb\"></div>\n  (Session info: chrome=116.0.5845.180)\n",
     "output_type": "error",
     "traceback": [
      "\u001b[1;31m---------------------------------------------------------------------------\u001b[0m",
      "\u001b[1;31mElementClickInterceptedException\u001b[0m          Traceback (most recent call last)",
      "Cell \u001b[1;32mIn[13], line 1\u001b[0m\n\u001b[1;32m----> 1\u001b[0m browser\u001b[38;5;241m.\u001b[39mfind_element_by_xpath(\u001b[38;5;124m'\u001b[39m\u001b[38;5;124m//*/div/div/button/*[contains(text(), \u001b[39m\u001b[38;5;124m\"\u001b[39m\u001b[38;5;124m리뷰\u001b[39m\u001b[38;5;124m\"\u001b[39m\u001b[38;5;124m)]\u001b[39m\u001b[38;5;124m'\u001b[39m)\u001b[38;5;241m.\u001b[39mclick()\n",
      "File \u001b[1;32m~\\anaconda3\\Lib\\site-packages\\selenium\\webdriver\\remote\\webelement.py:80\u001b[0m, in \u001b[0;36mWebElement.click\u001b[1;34m(self)\u001b[0m\n\u001b[0;32m     78\u001b[0m \u001b[38;5;28;01mdef\u001b[39;00m \u001b[38;5;21mclick\u001b[39m(\u001b[38;5;28mself\u001b[39m):\n\u001b[0;32m     79\u001b[0m \u001b[38;5;250m    \u001b[39m\u001b[38;5;124;03m\"\"\"Clicks the element.\"\"\"\u001b[39;00m\n\u001b[1;32m---> 80\u001b[0m     \u001b[38;5;28mself\u001b[39m\u001b[38;5;241m.\u001b[39m_execute(Command\u001b[38;5;241m.\u001b[39mCLICK_ELEMENT)\n",
      "File \u001b[1;32m~\\anaconda3\\Lib\\site-packages\\selenium\\webdriver\\remote\\webelement.py:633\u001b[0m, in \u001b[0;36mWebElement._execute\u001b[1;34m(self, command, params)\u001b[0m\n\u001b[0;32m    631\u001b[0m     params \u001b[38;5;241m=\u001b[39m {}\n\u001b[0;32m    632\u001b[0m params[\u001b[38;5;124m'\u001b[39m\u001b[38;5;124mid\u001b[39m\u001b[38;5;124m'\u001b[39m] \u001b[38;5;241m=\u001b[39m \u001b[38;5;28mself\u001b[39m\u001b[38;5;241m.\u001b[39m_id\n\u001b[1;32m--> 633\u001b[0m \u001b[38;5;28;01mreturn\u001b[39;00m \u001b[38;5;28mself\u001b[39m\u001b[38;5;241m.\u001b[39m_parent\u001b[38;5;241m.\u001b[39mexecute(command, params)\n",
      "File \u001b[1;32m~\\anaconda3\\Lib\\site-packages\\selenium\\webdriver\\remote\\webdriver.py:321\u001b[0m, in \u001b[0;36mWebDriver.execute\u001b[1;34m(self, driver_command, params)\u001b[0m\n\u001b[0;32m    319\u001b[0m response \u001b[38;5;241m=\u001b[39m \u001b[38;5;28mself\u001b[39m\u001b[38;5;241m.\u001b[39mcommand_executor\u001b[38;5;241m.\u001b[39mexecute(driver_command, params)\n\u001b[0;32m    320\u001b[0m \u001b[38;5;28;01mif\u001b[39;00m response:\n\u001b[1;32m--> 321\u001b[0m     \u001b[38;5;28mself\u001b[39m\u001b[38;5;241m.\u001b[39merror_handler\u001b[38;5;241m.\u001b[39mcheck_response(response)\n\u001b[0;32m    322\u001b[0m     response[\u001b[38;5;124m'\u001b[39m\u001b[38;5;124mvalue\u001b[39m\u001b[38;5;124m'\u001b[39m] \u001b[38;5;241m=\u001b[39m \u001b[38;5;28mself\u001b[39m\u001b[38;5;241m.\u001b[39m_unwrap_value(\n\u001b[0;32m    323\u001b[0m         response\u001b[38;5;241m.\u001b[39mget(\u001b[38;5;124m'\u001b[39m\u001b[38;5;124mvalue\u001b[39m\u001b[38;5;124m'\u001b[39m, \u001b[38;5;28;01mNone\u001b[39;00m))\n\u001b[0;32m    324\u001b[0m     \u001b[38;5;28;01mreturn\u001b[39;00m response\n",
      "File \u001b[1;32m~\\anaconda3\\Lib\\site-packages\\selenium\\webdriver\\remote\\errorhandler.py:242\u001b[0m, in \u001b[0;36mErrorHandler.check_response\u001b[1;34m(self, response)\u001b[0m\n\u001b[0;32m    240\u001b[0m         alert_text \u001b[38;5;241m=\u001b[39m value[\u001b[38;5;124m'\u001b[39m\u001b[38;5;124malert\u001b[39m\u001b[38;5;124m'\u001b[39m]\u001b[38;5;241m.\u001b[39mget(\u001b[38;5;124m'\u001b[39m\u001b[38;5;124mtext\u001b[39m\u001b[38;5;124m'\u001b[39m)\n\u001b[0;32m    241\u001b[0m     \u001b[38;5;28;01mraise\u001b[39;00m exception_class(message, screen, stacktrace, alert_text)\n\u001b[1;32m--> 242\u001b[0m \u001b[38;5;28;01mraise\u001b[39;00m exception_class(message, screen, stacktrace)\n",
      "\u001b[1;31mElementClickInterceptedException\u001b[0m: Message: element click intercepted: Element <span jsname=\"V67aGc\" class=\"VfPpkd-vQzf8d\">...</span> is not clickable at point (101, 863). Other element would receive the click: <div class=\"VfPpkd-IE5DDf\" jsname=\"GGAcbc\" jsaction=\"click:KY1IRb\"></div>\n  (Session info: chrome=116.0.5845.180)\n"
     ]
    }
   ],
   "source": [
    "browser.find_element_by_xpath('//*/div/div/button/*[contains(text(), \"리뷰\")]').click()\n",
    "#browser.find_element_by_css_selector(div:nth-child(5) > div > div > button > span).click()"
   ]
  },
  {
   "cell_type": "markdown",
   "id": "cd6fdc4c-8a6e-490c-8f10-477ba7fc86fc",
   "metadata": {},
   "source": [
    "## 리뷰 내용 가져오기\n",
    "- 리뷰 묶음 tag : div.fysCi > div > div:nth-child(2) > div\n",
    "- 리뷰 내용 tag : div.h3YV2d\n",
    "- 리뷰 등록 날짜 tag :  header > div.Jx4nYe > span\n",
    "- 별점 tag : header > div.Jx4nYe > div"
   ]
  },
  {
   "cell_type": "code",
   "execution_count": 14,
   "id": "c97012dc-aa28-4412-aada-53a1957330de",
   "metadata": {
    "tags": []
   },
   "outputs": [
    {
     "data": {
      "text/plain": [
       "40"
      ]
     },
     "execution_count": 14,
     "metadata": {},
     "output_type": "execute_result"
    }
   ],
   "source": [
    "reviews_bundle = browser.find_elements_by_css_selector('div.fysCi > div > div:nth-child(2) > div')\n",
    "len(reviews_bundle)"
   ]
  },
  {
   "cell_type": "code",
   "execution_count": 16,
   "id": "9a146941-6a03-491c-b6cc-349f79ec883a",
   "metadata": {
    "tags": []
   },
   "outputs": [],
   "source": [
    "content = reviews_bundle[0].find_element_by_css_selector('div.h3YV2d').text\n",
    "date = reviews_bundle[0].find_element_by_css_selector('header > div.Jx4nYe > span').text\n",
    "stars = reviews_bundle[0].find_element_by_css_selector('header > div.Jx4nYe > div').get_attribute('aria-label')"
   ]
  },
  {
   "cell_type": "code",
   "execution_count": 17,
   "id": "65bce9f8-06bb-4653-85e8-11983a5cea5a",
   "metadata": {
    "tags": []
   },
   "outputs": [
    {
     "data": {
      "text/plain": [
       "['', '', '별표 5개 만점에 4개를 받았습니다.']"
      ]
     },
     "execution_count": 17,
     "metadata": {},
     "output_type": "execute_result"
    }
   ],
   "source": [
    "[content, date, stars]"
   ]
  },
  {
   "cell_type": "markdown",
   "id": "b37f2c83-bdfd-4070-b851-ec9942703268",
   "metadata": {},
   "source": [
    "### 추가 댓글 가져오기(2가지 방법)\n",
    "1. 마지막 내용(댓글)을 클릭\n",
    "2. 마지막 화면까지 스크롤링"
   ]
  },
  {
   "cell_type": "code",
   "execution_count": 18,
   "id": "014613cc-436d-432d-a7aa-32d25903a5d2",
   "metadata": {
    "tags": []
   },
   "outputs": [
    {
     "ename": "ElementClickInterceptedException",
     "evalue": "Message: element click intercepted: Element is not clickable at point (456, 1148)\n  (Session info: chrome=116.0.5845.180)\n",
     "output_type": "error",
     "traceback": [
      "\u001b[1;31m---------------------------------------------------------------------------\u001b[0m",
      "\u001b[1;31mElementClickInterceptedException\u001b[0m          Traceback (most recent call last)",
      "Cell \u001b[1;32mIn[18], line 1\u001b[0m\n\u001b[1;32m----> 1\u001b[0m reviews_bundle[\u001b[38;5;241m39\u001b[39m]\u001b[38;5;241m.\u001b[39mclick()\n",
      "File \u001b[1;32m~\\anaconda3\\Lib\\site-packages\\selenium\\webdriver\\remote\\webelement.py:80\u001b[0m, in \u001b[0;36mWebElement.click\u001b[1;34m(self)\u001b[0m\n\u001b[0;32m     78\u001b[0m \u001b[38;5;28;01mdef\u001b[39;00m \u001b[38;5;21mclick\u001b[39m(\u001b[38;5;28mself\u001b[39m):\n\u001b[0;32m     79\u001b[0m \u001b[38;5;250m    \u001b[39m\u001b[38;5;124;03m\"\"\"Clicks the element.\"\"\"\u001b[39;00m\n\u001b[1;32m---> 80\u001b[0m     \u001b[38;5;28mself\u001b[39m\u001b[38;5;241m.\u001b[39m_execute(Command\u001b[38;5;241m.\u001b[39mCLICK_ELEMENT)\n",
      "File \u001b[1;32m~\\anaconda3\\Lib\\site-packages\\selenium\\webdriver\\remote\\webelement.py:633\u001b[0m, in \u001b[0;36mWebElement._execute\u001b[1;34m(self, command, params)\u001b[0m\n\u001b[0;32m    631\u001b[0m     params \u001b[38;5;241m=\u001b[39m {}\n\u001b[0;32m    632\u001b[0m params[\u001b[38;5;124m'\u001b[39m\u001b[38;5;124mid\u001b[39m\u001b[38;5;124m'\u001b[39m] \u001b[38;5;241m=\u001b[39m \u001b[38;5;28mself\u001b[39m\u001b[38;5;241m.\u001b[39m_id\n\u001b[1;32m--> 633\u001b[0m \u001b[38;5;28;01mreturn\u001b[39;00m \u001b[38;5;28mself\u001b[39m\u001b[38;5;241m.\u001b[39m_parent\u001b[38;5;241m.\u001b[39mexecute(command, params)\n",
      "File \u001b[1;32m~\\anaconda3\\Lib\\site-packages\\selenium\\webdriver\\remote\\webdriver.py:321\u001b[0m, in \u001b[0;36mWebDriver.execute\u001b[1;34m(self, driver_command, params)\u001b[0m\n\u001b[0;32m    319\u001b[0m response \u001b[38;5;241m=\u001b[39m \u001b[38;5;28mself\u001b[39m\u001b[38;5;241m.\u001b[39mcommand_executor\u001b[38;5;241m.\u001b[39mexecute(driver_command, params)\n\u001b[0;32m    320\u001b[0m \u001b[38;5;28;01mif\u001b[39;00m response:\n\u001b[1;32m--> 321\u001b[0m     \u001b[38;5;28mself\u001b[39m\u001b[38;5;241m.\u001b[39merror_handler\u001b[38;5;241m.\u001b[39mcheck_response(response)\n\u001b[0;32m    322\u001b[0m     response[\u001b[38;5;124m'\u001b[39m\u001b[38;5;124mvalue\u001b[39m\u001b[38;5;124m'\u001b[39m] \u001b[38;5;241m=\u001b[39m \u001b[38;5;28mself\u001b[39m\u001b[38;5;241m.\u001b[39m_unwrap_value(\n\u001b[0;32m    323\u001b[0m         response\u001b[38;5;241m.\u001b[39mget(\u001b[38;5;124m'\u001b[39m\u001b[38;5;124mvalue\u001b[39m\u001b[38;5;124m'\u001b[39m, \u001b[38;5;28;01mNone\u001b[39;00m))\n\u001b[0;32m    324\u001b[0m     \u001b[38;5;28;01mreturn\u001b[39;00m response\n",
      "File \u001b[1;32m~\\anaconda3\\Lib\\site-packages\\selenium\\webdriver\\remote\\errorhandler.py:242\u001b[0m, in \u001b[0;36mErrorHandler.check_response\u001b[1;34m(self, response)\u001b[0m\n\u001b[0;32m    240\u001b[0m         alert_text \u001b[38;5;241m=\u001b[39m value[\u001b[38;5;124m'\u001b[39m\u001b[38;5;124malert\u001b[39m\u001b[38;5;124m'\u001b[39m]\u001b[38;5;241m.\u001b[39mget(\u001b[38;5;124m'\u001b[39m\u001b[38;5;124mtext\u001b[39m\u001b[38;5;124m'\u001b[39m)\n\u001b[0;32m    241\u001b[0m     \u001b[38;5;28;01mraise\u001b[39;00m exception_class(message, screen, stacktrace, alert_text)\n\u001b[1;32m--> 242\u001b[0m \u001b[38;5;28;01mraise\u001b[39;00m exception_class(message, screen, stacktrace)\n",
      "\u001b[1;31mElementClickInterceptedException\u001b[0m: Message: element click intercepted: Element is not clickable at point (456, 1148)\n  (Session info: chrome=116.0.5845.180)\n"
     ]
    }
   ],
   "source": [
    "reviews_bundle[39].click()"
   ]
  },
  {
   "cell_type": "code",
   "execution_count": 19,
   "id": "7c9927c5-4bb9-4a7b-9066-0e860bb19ed1",
   "metadata": {},
   "outputs": [
    {
     "data": {
      "text/plain": [
       "40"
      ]
     },
     "execution_count": 19,
     "metadata": {},
     "output_type": "execute_result"
    }
   ],
   "source": [
    "reviews_bundle = browser.find_elements_by_css_selector('div.fysCi > div > div:nth-child(2) > div')\n",
    "len(reviews_bundle)"
   ]
  },
  {
   "cell_type": "code",
   "execution_count": 22,
   "id": "d04daa3c-d75f-478b-9ecd-9252dd1739c8",
   "metadata": {},
   "outputs": [
    {
     "data": {
      "text/plain": [
       "[]"
      ]
     },
     "execution_count": 22,
     "metadata": {},
     "output_type": "execute_result"
    }
   ],
   "source": [
    "# 40번째부터 스크랩핑\n",
    "reviews_bundle[40:]"
   ]
  },
  {
   "cell_type": "markdown",
   "id": "69e5801c-8f88-44c4-b818-b317c7d8cc26",
   "metadata": {},
   "source": [
    "### 클릭 갯수"
   ]
  },
  {
   "cell_type": "code",
   "execution_count": null,
   "id": "290c04f4-e4cf-4ca7-a7d7-fadb23dbf3f3",
   "metadata": {},
   "outputs": [],
   "source": [
    "# review_total_count / review_standard_count_per\n",
    "20 / 40, 39 / 40, 40 / 40, 45 / 40, 80 / 40, 89 / 40, 116 / 40, 121 / 40,473 / 40"
   ]
  },
  {
   "cell_type": "markdown",
   "id": "b4122df0-2691-4d4b-b703-c99cd4b351cd",
   "metadata": {},
   "source": [
    "### 추가 댓글 모두 가져오기"
   ]
  },
  {
   "cell_type": "code",
   "execution_count": null,
   "id": "976f79e2-ab43-4403-8b09-ccead27a4223",
   "metadata": {},
   "outputs": [],
   "source": [
    "# loop 1번 돌 때, loop 3번 돌 때\n",
    "list(range(1, 2)), list(range(1, 4))"
   ]
  },
  {
   "cell_type": "code",
   "execution_count": null,
   "id": "24328315-2660-46ab-b1d7-869657da97f5",
   "metadata": {},
   "outputs": [],
   "source": [
    "review_total_count = 473 # 리뷰 총 갯수\n",
    "review_standard_count_per = 40\n",
    "\n",
    "loop_count_float = review_total_count / review_standard_count_per\n",
    "if (loop_count_float > 1.0) :\n",
    "    loop_count_int =  int(loop_count_float)\n",
    "    for count in range(1, loop_count_int+1) : # range는 +1을 해줘야 원하는 횟수만큼 반복될 수 있음\n",
    "        print('count: {}, click_count: {}'.format(count, click_count))\n",
    "        click_count = count * review_standard_count_per\n",
    "        reviews_bundle[click_count - 1].click()\n",
    "        time.sleep(5)\n",
    "        reviews_bundle = browser.find_elements_by_css_selector('div.fysCi > div > div:nth-child(2) > div')\n",
    "        print('reviews_bundle count: {}'.format(len(reviews_bundle)))\n",
    "        pass"
   ]
  },
  {
   "cell_type": "code",
   "execution_count": null,
   "id": "4dae370e-8f9f-4bfa-9f3b-c71256b050ea",
   "metadata": {},
   "outputs": [],
   "source": [
    "reviews_loop_flag = True\n",
    "reviews_loop_standard_count = 40\n",
    "while(reviews_loop_flag): # 멈추는 조건(while문 안으로 들어가는 여부)\n",
    "    reviews_bundle_count = len(reviews_bundle)\n",
    "    if(reviews_bundle_count <= reviews_loop_standard_count) :\n",
    "        reviews_loop_flag = False\n",
    "    else :\n",
    "        \n",
    "    pass\n",
    "print('Done')"
   ]
  },
  {
   "cell_type": "code",
   "execution_count": null,
   "id": "723ab3d8-b8c0-4d30-bd6c-d35bc465e4ae",
   "metadata": {
    "tags": []
   },
   "outputs": [],
   "source": [
    "browser.back() # 팝업 닫기"
   ]
  },
  {
   "cell_type": "code",
   "execution_count": null,
   "id": "45313ac2-d8c9-40cf-a24a-e86285dfa369",
   "metadata": {
    "tags": []
   },
   "outputs": [],
   "source": [
    "browser.back() # 리스트로 돌아가기"
   ]
  },
  {
   "cell_type": "code",
   "execution_count": null,
   "id": "e7a4bbae-c81b-4853-bac8-1d6c6dbb0a0a",
   "metadata": {},
   "outputs": [],
   "source": [
    "# browser.quit()"
   ]
  }
 ],
 "metadata": {
  "kernelspec": {
   "display_name": "Python 3 (ipykernel)",
   "language": "python",
   "name": "python3"
  },
  "language_info": {
   "codemirror_mode": {
    "name": "ipython",
    "version": 3
   },
   "file_extension": ".py",
   "mimetype": "text/x-python",
   "name": "python",
   "nbconvert_exporter": "python",
   "pygments_lexer": "ipython3",
   "version": "3.11.3"
  }
 },
 "nbformat": 4,
 "nbformat_minor": 5
}
