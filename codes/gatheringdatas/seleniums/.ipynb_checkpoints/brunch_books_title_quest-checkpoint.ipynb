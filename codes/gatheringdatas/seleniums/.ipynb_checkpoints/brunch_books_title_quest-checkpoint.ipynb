{
 "cells": [
  {
   "cell_type": "markdown",
   "id": "5fa5bf6f-6e16-48c0-a030-5c9141cc5956",
   "metadata": {
    "tags": []
   },
   "source": [
    "### Quest(brunch_books_title_quest.ipynb)\n",
    "- 도서목록 제목만 스크래핑\n",
    "- csv로 저장(brunch_books_title.csv)"
   ]
  },
  {
   "cell_type": "code",
   "execution_count": 1,
   "id": "9cebb448-1aad-4e4d-b1b4-75d9bece1037",
   "metadata": {
    "tags": []
   },
   "outputs": [],
   "source": [
    "from selenium import webdriver"
   ]
  },
  {
   "cell_type": "code",
   "execution_count": 6,
   "id": "5cc5749d-bc0e-4998-8f36-106bb4c8b486",
   "metadata": {
    "tags": []
   },
   "outputs": [],
   "source": [
    "# open chrome browser\n",
    "browser = webdriver.Chrome(executable_path='../../../../chromedriver.exe')"
   ]
  },
  {
   "cell_type": "code",
   "execution_count": 7,
   "id": "2e031843-17f2-4135-b285-b9b5bd02396a",
   "metadata": {
    "tags": []
   },
   "outputs": [],
   "source": [
    "# url in address window(주소창에 url 입력)\n",
    "browser.get('https://brunch.co.kr/keyword/%EC%B1%85%EB%A6%AC%EB%B7%B0')"
   ]
  },
  {
   "cell_type": "code",
   "execution_count": 8,
   "id": "fcf3a29d-881f-48de-8e2c-ebc7c2baee49",
   "metadata": {
    "tags": []
   },
   "outputs": [
    {
     "data": {
      "text/plain": [
       "(list, selenium.webdriver.remote.webelement.WebElement)"
      ]
     },
     "execution_count": 8,
     "metadata": {},
     "output_type": "execute_result"
    }
   ],
   "source": [
    "element_path = '.tit_sub'\n",
    "elements = browser.find_elements_by_css_selector(element_path)\n",
    "type(elements), type(elements[0])"
   ]
  },
  {
   "cell_type": "code",
   "execution_count": 12,
   "id": "9adf7f6f-6197-4a46-8cef-fa0798ca035a",
   "metadata": {
    "tags": []
   },
   "outputs": [],
   "source": [
    "# 제목을 가져와 리스트로 만들기\n",
    "titles = []\n",
    "for webelement in elements :\n",
    "    title = webelement.text\n",
    "    titles.append(title)    "
   ]
  },
  {
   "cell_type": "code",
   "execution_count": 14,
   "id": "a456306f-a786-43c1-a98a-c195b25be0b4",
   "metadata": {
    "tags": []
   },
   "outputs": [
    {
     "data": {
      "text/plain": [
       "['러일전쟁 - 와다 하루키(한길사)  ●●●●●●●●◐○',\n",
       " '『우리 대화는 밤새도록 끝이 없지』- 허휘수, 서솔, 상상 출판',\n",
       " '『불안할 땐 뇌과학』- 캐서린 피트먼, 엘리자베스 칼. 현대지성',\n",
       " '그림책 리뷰',\n",
       " '동해선에서 읽은 책 61',\n",
       " 'Jane Kallir',\n",
       " '',\n",
       " '',\n",
       " \"'디자이너 생각위를 걷다'에서 느끼는 사업가의 삶의 지혜\",\n",
       " 'Feat. 부부가 둘 다 놀고 있습니다']"
      ]
     },
     "execution_count": 14,
     "metadata": {},
     "output_type": "execute_result"
    }
   ],
   "source": [
    "titles[:10]"
   ]
  },
  {
   "cell_type": "code",
   "execution_count": 16,
   "id": "6c10e660-b553-40f3-b4c9-e7ca1a923aac",
   "metadata": {
    "tags": []
   },
   "outputs": [],
   "source": [
    "# 리스트를 데이터프레임으로 만들기\n",
    "import pandas as pd\n",
    "df_titles = pd.DataFrame(titles, columns=['Title'])"
   ]
  },
  {
   "cell_type": "code",
   "execution_count": null,
   "id": "4ceb5270-119e-4d99-a089-655b8b1a9fae",
   "metadata": {},
   "outputs": [],
   "source": [
    "# csv파일로 저장\n",
    "df_titles.to_csv('../../../datasets/brunch_books_title.csv')"
   ]
  },
  {
   "cell_type": "code",
   "execution_count": null,
   "id": "5b1c1e37-20a8-4422-8743-aa8e77001fff",
   "metadata": {},
   "outputs": [],
   "source": [
    "# browser 창 닫기\n",
    "browser.quit()"
   ]
  }
 ],
 "metadata": {
  "kernelspec": {
   "display_name": "Python 3 (ipykernel)",
   "language": "python",
   "name": "python3"
  },
  "language_info": {
   "codemirror_mode": {
    "name": "ipython",
    "version": 3
   },
   "file_extension": ".py",
   "mimetype": "text/x-python",
   "name": "python",
   "nbconvert_exporter": "python",
   "pygments_lexer": "ipython3",
   "version": "3.11.3"
  }
 },
 "nbformat": 4,
 "nbformat_minor": 5
}
