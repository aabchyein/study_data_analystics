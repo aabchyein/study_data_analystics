{
 "cells": [
  {
   "cell_type": "markdown",
   "id": "1546a71f-5bc6-40cc-a48c-0304775b6d96",
   "metadata": {},
   "source": [
    "## Quest\n",
    "- scrapping 대상 사이트 : 코리안즈(https://a73.koreanz.xyz/)\n",
    "- 상세 메뉴 중 선택\n",
    "- 1page ~ 10page까지 정보 수집\n",
    "- 게시물 번호, 제목, 게시 날짜, 조회수, 상세 채널 리스트(채널명, 링크)"
   ]
  },
  {
   "cell_type": "code",
   "execution_count": 104,
   "id": "281c5141-103a-42c8-83b6-45440e74affc",
   "metadata": {
    "tags": []
   },
   "outputs": [],
   "source": [
    "from selenium import webdriver\n",
    "import time"
   ]
  },
  {
   "cell_type": "code",
   "execution_count": 105,
   "id": "9b518e7d-51f5-4f30-adea-cdd7b02facd8",
   "metadata": {
    "tags": []
   },
   "outputs": [],
   "source": [
    "# open chrome browser\n",
    "browser = webdriver.Chrome(executable_path='../../../../chromedriver.exe')"
   ]
  },
  {
   "cell_type": "code",
   "execution_count": 106,
   "id": "f4d9abaa-fbd1-4c56-b2e0-dd4481f1b2ed",
   "metadata": {
    "tags": []
   },
   "outputs": [],
   "source": [
    "# 오락/예능 TV다시보기 주소\n",
    "browser.get('https://a73.koreanz.xyz/bbs/board.php?bo_table=tvyeneng')"
   ]
  },
  {
   "cell_type": "code",
   "execution_count": 107,
   "id": "1dbf4b3c-d2b5-4bf5-b4ad-7779d77d35ae",
   "metadata": {
    "tags": []
   },
   "outputs": [],
   "source": [
    "browser.implicitly_wait(10)"
   ]
  },
  {
   "cell_type": "markdown",
   "id": "e1394a82-2154-4166-96bf-cc92e6b237af",
   "metadata": {},
   "source": [
    "### 한 페이지에서 프로그램 정보 가져오기"
   ]
  },
  {
   "cell_type": "code",
   "execution_count": null,
   "id": "c1ce9478-9990-4370-97ce-bcdd71e7e2a1",
   "metadata": {},
   "outputs": [],
   "source": [
    "list_path = '#list-body > li'\n",
    "program_list = browser.find_elements_by_css_selector(list_path)\n",
    "len(program_list)"
   ]
  },
  {
   "cell_type": "code",
   "execution_count": null,
   "id": "40cf1643-bd27-4ae2-a999-fb8e79672947",
   "metadata": {},
   "outputs": [],
   "source": [
    "try:\n",
    "            numbers = browser.find_element_by_css_selector('li:nth-child(1) > div.wr-num.hidden-xs').text\n",
    "        except:\n",
    "            numbers = int()\n",
    "        try:\n",
    "            titles = browser.find_element_by_css_selector('li:nth-child(1) > div.wr-subject').text\n",
    "        except:\n",
    "            titles = str()\n",
    "        try:\n",
    "            dates = browser.find_elements_by_css_selector('li:nth-child(1) > div.wr-date.hidden-xs').text\n",
    "        except:\n",
    "            dates = str()\n",
    "        try:\n",
    "            views = browser.find_elements_by_css_selector('li:nth-child(1) > div.wr-hit.hidden-xs').text\n",
    "        except:\n",
    "            views = int()\n",
    "[numbers]"
   ]
  },
  {
   "cell_type": "markdown",
   "id": "9d316c8a-5d6a-4d18-92a3-bd383f07e4ce",
   "metadata": {},
   "source": [
    "### final(모든 프로그램 정보 가져오기)"
   ]
  },
  {
   "cell_type": "code",
   "execution_count": 108,
   "id": "fb8351ed-7adb-4087-9be2-0c9f1f41de89",
   "metadata": {
    "tags": []
   },
   "outputs": [],
   "source": [
    "import pandas as pd\n",
    "import pymongo as mg"
   ]
  },
  {
   "cell_type": "code",
   "execution_count": 110,
   "id": "dc0b2a1c-ac5f-4da7-a44b-3dc1d0148837",
   "metadata": {
    "tags": []
   },
   "outputs": [
    {
     "ename": "IndentationError",
     "evalue": "unexpected indent (427766570.py, line 17)",
     "output_type": "error",
     "traceback": [
      "\u001b[1;36m  Cell \u001b[1;32mIn[110], line 17\u001b[1;36m\u001b[0m\n\u001b[1;33m    for program in program_list :\u001b[0m\n\u001b[1;37m    ^\u001b[0m\n\u001b[1;31mIndentationError\u001b[0m\u001b[1;31m:\u001b[0m unexpected indent\n"
     ]
    }
   ],
   "source": [
    "# client = mg.MongoClient(host='mongodb://localhost:27017')\n",
    "# database = client['study_data_analytics']\n",
    "# collection = database['koreanz_show_program']\n",
    "\n",
    "# pagination\n",
    "# for page_number in range(2, 20) :\n",
    "#     element_path = 'div.list-page.text-center > ul > li:nth-child({})'.format(page_number)\n",
    "#     pagination = browser.find_element_by_css_selector(element_path)\n",
    "#     pagination.click()\n",
    "\n",
    "    # 프로그램에 대한 리스트 가져오기\n",
    "    list_path = '#list-body > li'\n",
    "    program_list = browser.find_elements_by_css_selector(list_path)\n",
    "    len(program_list)\n",
    "\n",
    "    # 프로그램 정보 가져오기(게시물번호, 제목, 게시 날짜, 조회수)\n",
    "    for program in program_list :\n",
    "        try:\n",
    "            numbers = browser.find_elements_by_css_selector('li:nth-child(1) > div.wr-num.hidden-xs').text\n",
    "        except:\n",
    "            numbers = int()\n",
    "        try:\n",
    "            titles = browser.find_elements_by_css_selector('li:nth-child(1) > div.wr-subject').text\n",
    "        except:\n",
    "            titles = str()\n",
    "        try:\n",
    "            dates = browser.find_elements_by_css_selector('li:nth-child(1) > div.wr-date.hidden-xs').text\n",
    "        except:\n",
    "            dates = str()\n",
    "        try:\n",
    "            views = browser.find_elements_by_css_selector('li:nth-child(1) > div.wr-hit.hidden-xs').text\n",
    "        except:\n",
    "            views = int()\n",
    "\n",
    "    # 특정 프로그램 클릭\n",
    "    for program in program_list:\n",
    "        program.click()\n",
    "        time.sleep(2)\n",
    "\n",
    "    # 프로그램 상세채널(채널명, 링크) 가져오기\n",
    "    channels_bundle = browser.find_elements_by_css_selector('div.view-content > div > a')\n",
    "    for channel_bundle in channels_bundle:\n",
    "        channel_name = channels_bundle.text\n",
    "        channel_link = channels_bundle.get_attribute('href')\n",
    "        print(channel_name, channel_link)\n",
    "        \n",
    "        # # 저장 위한 작업\n",
    "        # df_reviews = pd.DataFrame(data=reviews_list, columns=serviceapp_columns_name)\n",
    "        # data_dict = df_reviews.to_dict(orient='records')\n",
    "        # collection.insert_many(data_dict)\n",
    "    \n",
    "#     print('number: {}, title: {}, date: {}, view: {}, channel_list: {}'.format())\n",
    "#     time.sleep(3)\n",
    "# print('Done')"
   ]
  },
  {
   "cell_type": "code",
   "execution_count": 24,
   "id": "ce6ecb61-4213-487b-b78f-ca2b0457b757",
   "metadata": {
    "tags": []
   },
   "outputs": [],
   "source": [
    "browser.back() # 리스트로 돌아가기"
   ]
  },
  {
   "cell_type": "code",
   "execution_count": 6,
   "id": "29a7398e-e203-4677-9143-cadd6fcdb09e",
   "metadata": {
    "tags": []
   },
   "outputs": [],
   "source": [
    "# browser.quit()"
   ]
  }
 ],
 "metadata": {
  "kernelspec": {
   "display_name": "Python 3 (ipykernel)",
   "language": "python",
   "name": "python3"
  },
  "language_info": {
   "codemirror_mode": {
    "name": "ipython",
    "version": 3
   },
   "file_extension": ".py",
   "mimetype": "text/x-python",
   "name": "python",
   "nbconvert_exporter": "python",
   "pygments_lexer": "ipython3",
   "version": "3.11.3"
  }
 },
 "nbformat": 4,
 "nbformat_minor": 5
}
