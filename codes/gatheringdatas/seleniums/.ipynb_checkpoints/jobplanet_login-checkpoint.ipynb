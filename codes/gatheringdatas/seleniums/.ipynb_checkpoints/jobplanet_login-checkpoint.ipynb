{
 "cells": [
  {
   "cell_type": "code",
   "execution_count": 11,
   "id": "281c5141-103a-42c8-83b6-45440e74affc",
   "metadata": {
    "tags": []
   },
   "outputs": [],
   "source": [
    "from selenium import webdriver\n",
    "import time"
   ]
  },
  {
   "cell_type": "code",
   "execution_count": 14,
   "id": "9b518e7d-51f5-4f30-adea-cdd7b02facd8",
   "metadata": {
    "tags": []
   },
   "outputs": [],
   "source": [
    "# open chrome browser\n",
    "browser = webdriver.Chrome(executable_path='../../../../chromedriver.exe')"
   ]
  },
  {
   "cell_type": "markdown",
   "id": "4dd52d38-2fa3-4f3b-981b-86375bad916e",
   "metadata": {},
   "source": [
    "### login\n",
    "- user email tag : #user_email\n",
    "- password tag : #user_password\n",
    "- submit button tag : fieldset > button"
   ]
  },
  {
   "cell_type": "code",
   "execution_count": 15,
   "id": "f4d9abaa-fbd1-4c56-b2e0-dd4481f1b2ed",
   "metadata": {
    "tags": []
   },
   "outputs": [],
   "source": [
    "# 로그인화면\n",
    "browser.implicitly_wait(10)\n",
    "browser.get('https://www.jobplanet.co.kr/users/sign_in?_nav=gb')"
   ]
  },
  {
   "cell_type": "code",
   "execution_count": 16,
   "id": "4ab51f02-d228-4a2c-969f-01ec5b7c0184",
   "metadata": {
    "tags": []
   },
   "outputs": [],
   "source": [
    "# 로그인하기\n",
    "browser.find_element_by_css_selector('#user_email').send_keys('*******')\n",
    "browser.find_element_by_css_selector('#user_password').send_keys('********')\n",
    "browser.find_element_by_css_selector('fieldset > button').click()"
   ]
  },
  {
   "cell_type": "markdown",
   "id": "4e825a2d-7423-41b2-a922-ff69e9aab9fc",
   "metadata": {},
   "source": [
    "### 검색어 입력 후 검색 (검색어:분석가) - 채용공고 더보기"
   ]
  },
  {
   "cell_type": "code",
   "execution_count": 17,
   "id": "db269f94-9d18-4571-8534-5d208685f25d",
   "metadata": {
    "tags": []
   },
   "outputs": [],
   "source": [
    "browser.implicitly_wait(10)\n",
    "search_word = 'https://www.jobplanet.co.kr/job/search?_rs_act=index&_rs_con=search&_rs_element=see_more_job_postings_top&q=%EB%B6%84%EC%84%9D%EA%B0%80'\n",
    "browser.get(search_word)"
   ]
  },
  {
   "cell_type": "code",
   "execution_count": 5,
   "id": "29a7398e-e203-4677-9143-cadd6fcdb09e",
   "metadata": {
    "tags": []
   },
   "outputs": [],
   "source": [
    "# browser.quit()"
   ]
  }
 ],
 "metadata": {
  "kernelspec": {
   "display_name": "Python 3 (ipykernel)",
   "language": "python",
   "name": "python3"
  },
  "language_info": {
   "codemirror_mode": {
    "name": "ipython",
    "version": 3
   },
   "file_extension": ".py",
   "mimetype": "text/x-python",
   "name": "python",
   "nbconvert_exporter": "python",
   "pygments_lexer": "ipython3",
   "version": "3.11.3"
  }
 },
 "nbformat": 4,
 "nbformat_minor": 5
}
