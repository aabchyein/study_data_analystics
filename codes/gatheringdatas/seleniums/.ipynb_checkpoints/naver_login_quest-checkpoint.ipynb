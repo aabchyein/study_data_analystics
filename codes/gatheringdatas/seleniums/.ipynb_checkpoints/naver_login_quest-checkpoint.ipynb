{
 "cells": [
  {
   "cell_type": "markdown",
   "id": "302e11a1-fb23-4799-b2b3-3d0b289a79be",
   "metadata": {},
   "source": [
    "### Quest\n",
    "- naver.com login\n",
    "- login 후에 메일로 이동"
   ]
  },
  {
   "cell_type": "code",
   "execution_count": 1,
   "id": "b9402fdf-b8f4-43c9-a1ae-23b9f9d0fb91",
   "metadata": {
    "tags": []
   },
   "outputs": [],
   "source": [
    "from selenium import webdriver"
   ]
  },
  {
   "cell_type": "code",
   "execution_count": 2,
   "id": "8b4b7450-b1f7-4703-ab04-fee1e80f8549",
   "metadata": {
    "tags": []
   },
   "outputs": [],
   "source": [
    "# open chrome browser\n",
    "browser = webdriver.Chrome(executable_path='../../../../chromedriver.exe')"
   ]
  },
  {
   "cell_type": "code",
   "execution_count": 3,
   "id": "00374a2e-93c8-4d44-b07a-a854e1f36a25",
   "metadata": {
    "tags": []
   },
   "outputs": [],
   "source": [
    "# url in address window(주소창에 url 입력)\n",
    "browser.get('https://www.naver.com/')"
   ]
  },
  {
   "cell_type": "markdown",
   "id": "6ee4c0cd-9722-4e97-9531-c623402dcbce",
   "metadata": {},
   "source": [
    "#### 로그인 화면 링크 tag\n",
    "- naver login 버튼 클릭 : #account > div > a"
   ]
  },
  {
   "cell_type": "code",
   "execution_count": 4,
   "id": "b927c54b-dab7-4f59-9dae-b64af79861b6",
   "metadata": {
    "tags": []
   },
   "outputs": [],
   "source": [
    "element_path = '#account > div > a'\n",
    "login_screen = browser.find_element_by_css_selector(element_path)\n",
    "login_screen.click()"
   ]
  },
  {
   "cell_type": "markdown",
   "id": "2b49241d-3d98-4e17-a7bb-95b8020aaa80",
   "metadata": {
    "tags": []
   },
   "source": [
    "#### Login 화면 tag\n",
    "- user id input tag : #id\n",
    "- password input tag : #pw\n",
    "- click tag : #log\\.login"
   ]
  },
  {
   "cell_type": "code",
   "execution_count": 6,
   "id": "40187ce6-8283-4684-b0d5-c6df23e98c37",
   "metadata": {
    "tags": []
   },
   "outputs": [],
   "source": [
    "# 아이디 입력\n",
    "element_path = '#id'\n",
    "id_field = browser.find_element_by_css_selector(element_path)\n",
    "id_field.send_keys('abcqaz369')"
   ]
  },
  {
   "cell_type": "code",
   "execution_count": 8,
   "id": "b95e7ff8-afbf-48c1-b451-3ef8d56b7c5b",
   "metadata": {
    "tags": []
   },
   "outputs": [],
   "source": [
    "# 비밀번호 입력\n",
    "element_path = '#pw'\n",
    "password_field = browser.find_element_by_css_selector(element_path)\n",
    "password_field.send_keys('***********')"
   ]
  },
  {
   "cell_type": "code",
   "execution_count": 12,
   "id": "e2ab6ea0-63a1-43eb-840d-f00ce0fdb98f",
   "metadata": {
    "tags": []
   },
   "outputs": [],
   "source": [
    "# signin button 클릭\n",
    "element_path = '#log\\.login'\n",
    "signin_button = browser.find_element_by_css_selector(element_path)\n",
    "signin_button.click()"
   ]
  },
  {
   "cell_type": "markdown",
   "id": "29cbcb72-4476-4cc8-8771-da7c87bc2b09",
   "metadata": {},
   "source": [
    "#### 메일 화면 링크 tag\n",
    "- 메일 버튼 클릭 : a > span.service_icon.type_mail"
   ]
  },
  {
   "cell_type": "code",
   "execution_count": 13,
   "id": "950da7aa-3c51-4456-95aa-f8c3b5fc3da0",
   "metadata": {
    "tags": []
   },
   "outputs": [],
   "source": [
    "# 메일 button 클릭\n",
    "element_path = 'a > span.service_icon.type_mail'\n",
    "mail_button = browser.find_element_by_css_selector(element_path)\n",
    "mail_button.click()"
   ]
  },
  {
   "cell_type": "code",
   "execution_count": 14,
   "id": "bf44b33d-73e8-437d-b2ea-5c31248b1e1c",
   "metadata": {
    "tags": []
   },
   "outputs": [],
   "source": [
    "# browser.quit()"
   ]
  }
 ],
 "metadata": {
  "kernelspec": {
   "display_name": "Python 3 (ipykernel)",
   "language": "python",
   "name": "python3"
  },
  "language_info": {
   "codemirror_mode": {
    "name": "ipython",
    "version": 3
   },
   "file_extension": ".py",
   "mimetype": "text/x-python",
   "name": "python",
   "nbconvert_exporter": "python",
   "pygments_lexer": "ipython3",
   "version": "3.11.3"
  }
 },
 "nbformat": 4,
 "nbformat_minor": 5
}
