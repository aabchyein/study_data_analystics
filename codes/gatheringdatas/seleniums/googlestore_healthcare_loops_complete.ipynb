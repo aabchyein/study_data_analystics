{
 "cells": [
  {
   "cell_type": "code",
   "execution_count": 4,
   "id": "6c49da98-915a-4f21-ada1-eba697405f5d",
   "metadata": {
    "tags": []
   },
   "outputs": [],
   "source": [
    "from selenium import webdriver\n",
    "import time"
   ]
  },
  {
   "cell_type": "code",
   "execution_count": 5,
   "id": "07da4a3b-a636-40f7-b20b-5bcb0669fccc",
   "metadata": {
    "tags": []
   },
   "outputs": [],
   "source": [
    "# open chrome browser\n",
    "browser = webdriver.Chrome(executable_path='../../../../chromedriver.exe')"
   ]
  },
  {
   "cell_type": "code",
   "execution_count": 6,
   "id": "7ce142c2-8595-43be-8add-1a455d1d559e",
   "metadata": {
    "tags": []
   },
   "outputs": [],
   "source": [
    "# url in address window(주소창에 url 입력)\n",
    "browser.get('https://play.google.com/store/search?q=%ED%97%AC%EC%8A%A4%EC%BC%80%EC%96%B4%EC%95%B1&c=apps&hl=ko-KR')"
   ]
  },
  {
   "cell_type": "code",
   "execution_count": 7,
   "id": "b29143cc-2565-477c-a6eb-3955d545505c",
   "metadata": {
    "tags": []
   },
   "outputs": [],
   "source": [
    "browser.implicitly_wait(10)"
   ]
  },
  {
   "cell_type": "markdown",
   "id": "cd6fdc4c-8a6e-490c-8f10-477ba7fc86fc",
   "metadata": {},
   "source": [
    "## 리뷰 내용 가져오기\n",
    "- 리뷰 묶음 tag : div.fysCi > div > div:nth-child(2) > div\n",
    "- 리뷰 내용 tag : div.h3YV2d\n",
    "- 리뷰 등록 날짜 tag :  header > div.Jx4nYe > span\n",
    "- 별점 tag : header > div.Jx4nYe > div"
   ]
  },
  {
   "cell_type": "code",
   "execution_count": 8,
   "id": "c60a75e1-2fb1-45ad-b7c1-d7f4d9372904",
   "metadata": {
    "tags": []
   },
   "outputs": [],
   "source": [
    "import pandas as pd\n",
    "import pymongo as mg"
   ]
  },
  {
   "cell_type": "code",
   "execution_count": 10,
   "id": "c1be9308-cdc4-424b-b97f-74c3710c9ff2",
   "metadata": {
    "tags": []
   },
   "outputs": [
    {
     "name": "stdout",
     "output_type": "stream",
     "text": [
      "service_name : Samsung Health(삼성 헬스), review count : 40\n",
      "service_name : NH헬스케어, review count : 40\n",
      "service_name : , review count : 0\n",
      "service_name : , review count : 0\n",
      "service_name : SK VIEW 헬스케어, review count : 2\n",
      "service_name : 애니핏 플러스 나에게 핏한 건강관리, review count : 40\n",
      "service_name : 헬스케어 건강관리서비스, review count : 1\n",
      "service_name : 오케어, review count : 40\n",
      "service_name : 채움건강, review count : 40\n",
      "Done\n"
     ]
    }
   ],
   "source": [
    "client = mg.MongoClient(host='mongodb://localhost:27017')\n",
    "database = client['study_data_analytics']\n",
    "collection = database['googlestore_heathcare']\n",
    "\n",
    "# 서비스 앱에 대한 리스트 가져오기\n",
    "click_path = 'section > div > div > div > div'\n",
    "company_list = browser.find_elements_by_css_selector(click_path)\n",
    "len(company_list)\n",
    "\n",
    "# 특정 서비스 클릭\n",
    "for company in company_list:\n",
    "    company.click()\n",
    "    time.sleep(2)\n",
    "    \n",
    "    # 서비스 앱에 대한 정보 가져오기\n",
    "    # ** 개인이 만든 앱 경우 company_name없을 수도 있음 -> 각 변수값이 없을 수 있기 때문에 그런 경우는 공백으로 채워줘야 함\n",
    "    # ** 각 변수들을 try문으로 감싸줌\n",
    "    try :\n",
    "        service_name = browser.find_element_by_css_selector('div > h1 > span').text\n",
    "    except :\n",
    "        service_name = str()\n",
    "    try :\n",
    "        company_name = browser.find_element_by_css_selector('div.Il7kR > div > div > div > a > span').text\n",
    "    except :\n",
    "        company_name = str()\n",
    "    try : \n",
    "        app_information = browser.find_element_by_css_selector('div:nth-child(1) > c-wiz:nth-child(2) > div > section > div').text\n",
    "    except :\n",
    "        app_information = str()\n",
    "    # [service_name, company_name, app_information]\n",
    "\n",
    "    #댓글 팝업 띄우기(리뷰가 없을 시 대비한 방어 코드까지 작성함)\n",
    "    review_flag = True\n",
    "    try :\n",
    "        browser.find_element_by_xpath('//*/div/div/button/*[contains(text(), \"리뷰\")]').click()\n",
    "    except :\n",
    "        review_flag = False\n",
    "    \n",
    "    #회사 서비스에 대한 전체 리뷰 가져오기\n",
    "    serviceapp_columns_name = ['service_name', 'content', 'date', 'stars']\n",
    "    reviews_list = list()\n",
    "    if review_flag :\n",
    "        reviews_bundle = browser.find_elements_by_css_selector('div.fysCi > div > div:nth-child(2) > div')\n",
    "        len(reviews_bundle)\n",
    "\n",
    "        for review_bundle in reviews_bundle:\n",
    "            content = review_bundle.find_element_by_css_selector('div.h3YV2d').text\n",
    "            date = review_bundle.find_element_by_css_selector('header > div.Jx4nYe > span').text\n",
    "            stars = review_bundle.find_element_by_css_selector('header > div.Jx4nYe > div').get_attribute('aria-label')\n",
    "            review_list = [service_name, content, date, stars]\n",
    "            reviews_list.append(review_list) # 특정 회사 서비스의 리뷰에 대한 모든 것이 담긴다\n",
    "        \n",
    "        browser.back() #리뷰 팝업 창 닫기\n",
    "        \n",
    "        # 저장 위한 작업\n",
    "        df_reviews = pd.DataFrame(data=reviews_list, columns=serviceapp_columns_name) # 저장을 위한 작업\n",
    "        data_dict = df_reviews.to_dict(orient='records')\n",
    "        collection.insert_many(data_dict)\n",
    "        \n",
    "    print('service_name : {}, review count : {}'.format(service_name, len(reviews_list))) # 서비스 이름과 그 서비스에 달린 댓글 개수 확인용\n",
    "    browser.back() #리스트로 돌아가기\n",
    "    time.sleep(3)\n",
    "print('Done')"
   ]
  },
  {
   "cell_type": "code",
   "execution_count": null,
   "id": "e7a4bbae-c81b-4853-bac8-1d6c6dbb0a0a",
   "metadata": {},
   "outputs": [],
   "source": [
    "# browser.quit()"
   ]
  }
 ],
 "metadata": {
  "kernelspec": {
   "display_name": "Python 3 (ipykernel)",
   "language": "python",
   "name": "python3"
  },
  "language_info": {
   "codemirror_mode": {
    "name": "ipython",
    "version": 3
   },
   "file_extension": ".py",
   "mimetype": "text/x-python",
   "name": "python",
   "nbconvert_exporter": "python",
   "pygments_lexer": "ipython3",
   "version": "3.11.3"
  }
 },
 "nbformat": 4,
 "nbformat_minor": 5
}
