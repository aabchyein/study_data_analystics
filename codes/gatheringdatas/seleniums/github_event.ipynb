{
 "cells": [
  {
   "cell_type": "markdown",
   "id": "aa97d780-6a8f-4f38-99c1-552cab1adbe3",
   "metadata": {},
   "source": [
    "## Github signin\n",
    "- event : 값을 넣거나 클릭"
   ]
  },
  {
   "cell_type": "code",
   "execution_count": 55,
   "id": "eb2d25c1-047c-4953-8336-d1a51ab7b617",
   "metadata": {
    "tags": []
   },
   "outputs": [],
   "source": [
    "from selenium import webdriver\n",
    "options = webdriver.ChromeOptions()\n",
    "options.add_argument(\"--window-size=1560,840\")\n",
    "# browser = webdriver.Chrome(executable_path='../../../../chromedriver.exe', options=options)"
   ]
  },
  {
   "cell_type": "code",
   "execution_count": 56,
   "id": "f8a0a80d-6e73-4418-99c0-0b5a02c0ded9",
   "metadata": {
    "tags": []
   },
   "outputs": [],
   "source": [
    "# open chrome browser\n",
    "browser = webdriver.Chrome(executable_path='../../../../chromedriver.exe')"
   ]
  },
  {
   "cell_type": "code",
   "execution_count": 57,
   "id": "133887f9-2586-42d7-a0cc-cf8ab97a22e8",
   "metadata": {
    "tags": []
   },
   "outputs": [],
   "source": [
    "# url in address window(주소창에 url 입력)\n",
    "browser.get('https://github.com/')"
   ]
  },
  {
   "cell_type": "code",
   "execution_count": 58,
   "id": "3b942038-992d-4864-885d-ed3d85c4fdbb",
   "metadata": {
    "tags": []
   },
   "outputs": [
    {
     "data": {
      "text/plain": [
       "selenium.webdriver.chrome.webdriver.WebDriver"
      ]
     },
     "execution_count": 58,
     "metadata": {},
     "output_type": "execute_result"
    }
   ],
   "source": [
    "type(browser)"
   ]
  },
  {
   "cell_type": "markdown",
   "id": "684a0344-509c-4362-bc38-daf1cb503a38",
   "metadata": {},
   "source": [
    "### Login 화면 링크 tag\n",
    "- 접힘 메뉴 tag : body > div.logged-out.env-production.page-responsive.header-overlay.home-campaign > div.position-relative.js-header-wrapper > header > div > div.d-flex.flex-justify-between.flex-items-center.width-full.width-lg-auto > div.flex-1.flex-order-2.text-right > button > span > span\n",
    "- click tag : div > div > div > a.HeaderMenu-link.HeaderMenu-link--sign-in"
   ]
  },
  {
   "cell_type": "code",
   "execution_count": 62,
   "id": "8a396189-033b-4523-af7d-12688a161168",
   "metadata": {
    "tags": []
   },
   "outputs": [],
   "source": [
    "# 접힘 메뉴 클릭\n",
    "# 접힘 메뉴가 나타날 수도 있고 화면이 크면 안나타날 수도 있기 때문에 try문으로 싸줌\n",
    "element_path = 'body > div.logged-out.env-production.page-responsive.header-overlay.home-campaign > div.position-relative.js-header-wrapper > header > div > div.d-flex.flex-justify-between.flex-items-center.width-full.width-lg-auto > div.flex-1.flex-order-2.text-right > button > span > span'\n",
    "try :\n",
    "    collapsed_menu = browser.find_element_by_css_selector(element_path)\n",
    "    collapsed_menu.click()\n",
    "except :\n",
    "    pass\n",
    "## except에서 아무것도 안하지만 코드는 들어가야 할 때 pass를 넣어줌(except의 영역이 어디까지인지 모르기 때문에 코드를 넣어주긴 해야 함)"
   ]
  },
  {
   "cell_type": "code",
   "execution_count": 60,
   "id": "aae49589-6561-48e3-aa5d-9e48fab8f0c4",
   "metadata": {
    "tags": []
   },
   "outputs": [
    {
     "data": {
      "text/plain": [
       "selenium.webdriver.remote.webelement.WebElement"
      ]
     },
     "execution_count": 60,
     "metadata": {},
     "output_type": "execute_result"
    }
   ],
   "source": [
    "# 펼쳐진 메뉴에서 로그인 버튼 클릭\n",
    "element_path = 'div > div > div > a.HeaderMenu-link.HeaderMenu-link--sign-in'\n",
    "# browser.find_element_by_css_selector(element_path).click()\n",
    "signin_button = browser.find_element_by_css_selector(element_path)\n",
    "type(signin_button)"
   ]
  },
  {
   "cell_type": "code",
   "execution_count": 61,
   "id": "665d16fe-9bff-4751-8e64-56164caf69aa",
   "metadata": {
    "tags": []
   },
   "outputs": [],
   "source": [
    "signin_button.click()"
   ]
  },
  {
   "cell_type": "markdown",
   "id": "8e9778e7-a4f8-47f0-8642-2e175119c7fd",
   "metadata": {},
   "source": [
    "### Login 화면 tag\n",
    "- user id input tag : #login_field\n",
    "- password input tag : #password\n",
    "- click tag : input.btn.btn-primary.btn-block.js-sign-in-button"
   ]
  },
  {
   "cell_type": "code",
   "execution_count": 34,
   "id": "c0160d1f-1aff-46df-aaee-041f8e846618",
   "metadata": {
    "tags": []
   },
   "outputs": [],
   "source": [
    "# 아이디 입력\n",
    "element_path = '#login_field'\n",
    "login_field = browser.find_element_by_css_selector(element_path)\n",
    "login_field.send_keys('aabchyein')"
   ]
  },
  {
   "cell_type": "code",
   "execution_count": 37,
   "id": "7aa6cf6e-e402-4311-86a9-4306cea10bc8",
   "metadata": {
    "tags": []
   },
   "outputs": [],
   "source": [
    "# 비밀번호 입력\n",
    "element_path = '#password'\n",
    "password_field = browser.find_element_by_css_selector(element_path)\n",
    "password_field.send_keys('******')"
   ]
  },
  {
   "cell_type": "code",
   "execution_count": 38,
   "id": "76d480e6-b642-474e-a9fc-934d4aa305fe",
   "metadata": {
    "tags": []
   },
   "outputs": [],
   "source": [
    "# signin button 클릭\n",
    "element_path = 'input.btn.btn-primary.btn-block.js-sign-in-button'\n",
    "signin_button = browser.find_element_by_css_selector(element_path)\n",
    "signin_button.click()"
   ]
  },
  {
   "cell_type": "code",
   "execution_count": null,
   "id": "d0dd589d-cc9d-4c09-a6c6-d03aba785132",
   "metadata": {},
   "outputs": [],
   "source": [
    "# browser.quit()"
   ]
  }
 ],
 "metadata": {
  "kernelspec": {
   "display_name": "Python 3 (ipykernel)",
   "language": "python",
   "name": "python3"
  },
  "language_info": {
   "codemirror_mode": {
    "name": "ipython",
    "version": 3
   },
   "file_extension": ".py",
   "mimetype": "text/x-python",
   "name": "python",
   "nbconvert_exporter": "python",
   "pygments_lexer": "ipython3",
   "version": "3.11.3"
  }
 },
 "nbformat": 4,
 "nbformat_minor": 5
}
