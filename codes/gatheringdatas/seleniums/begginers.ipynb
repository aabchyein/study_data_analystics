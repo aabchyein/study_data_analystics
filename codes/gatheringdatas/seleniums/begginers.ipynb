{
 "cells": [
  {
   "cell_type": "code",
   "execution_count": 12,
   "id": "281c5141-103a-42c8-83b6-45440e74affc",
   "metadata": {
    "tags": []
   },
   "outputs": [],
   "source": [
    "from selenium import webdriver"
   ]
  },
  {
   "cell_type": "code",
   "execution_count": 16,
   "id": "9b518e7d-51f5-4f30-adea-cdd7b02facd8",
   "metadata": {
    "tags": []
   },
   "outputs": [],
   "source": [
    "# open chrome browser\n",
    "browser = webdriver.Chrome(executable_path='../../../../chromedriver.exe')"
   ]
  },
  {
   "cell_type": "code",
   "execution_count": 17,
   "id": "f4d9abaa-fbd1-4c56-b2e0-dd4481f1b2ed",
   "metadata": {
    "tags": []
   },
   "outputs": [],
   "source": [
    "# url in address window(주소창에 url 입력)\n",
    "browser.get('https://emart.ssg.com/disp/category.ssg?dispCtgId=6000214033')"
   ]
  },
  {
   "cell_type": "code",
   "execution_count": 15,
   "id": "29a7398e-e203-4677-9143-cadd6fcdb09e",
   "metadata": {
    "tags": []
   },
   "outputs": [],
   "source": [
    "browser.quit()"
   ]
  },
  {
   "cell_type": "code",
   "execution_count": null,
   "id": "80ee1e44-943a-44af-aa00-43956f85c3af",
   "metadata": {},
   "outputs": [],
   "source": []
  }
 ],
 "metadata": {
  "kernelspec": {
   "display_name": "Python 3 (ipykernel)",
   "language": "python",
   "name": "python3"
  },
  "language_info": {
   "codemirror_mode": {
    "name": "ipython",
    "version": 3
   },
   "file_extension": ".py",
   "mimetype": "text/x-python",
   "name": "python",
   "nbconvert_exporter": "python",
   "pygments_lexer": "ipython3",
   "version": "3.11.3"
  }
 },
 "nbformat": 4,
 "nbformat_minor": 5
}
