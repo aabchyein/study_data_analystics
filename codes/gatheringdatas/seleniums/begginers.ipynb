{
 "cells": [
  {
   "cell_type": "code",
   "execution_count": 1,
   "id": "281c5141-103a-42c8-83b6-45440e74affc",
   "metadata": {
    "tags": []
   },
   "outputs": [],
   "source": [
    "from selenium import webdriver"
   ]
  },
  {
   "cell_type": "code",
   "execution_count": 2,
   "id": "9b518e7d-51f5-4f30-adea-cdd7b02facd8",
   "metadata": {
    "tags": []
   },
   "outputs": [],
   "source": [
    "# open chrome browser\n",
    "browser = webdriver.Chrome(executable_path='../../../../chromedriver.exe')"
   ]
  },
  {
   "cell_type": "code",
   "execution_count": 3,
   "id": "f4d9abaa-fbd1-4c56-b2e0-dd4481f1b2ed",
   "metadata": {
    "tags": []
   },
   "outputs": [],
   "source": [
    "# url in address window(주소창에 url 입력)\n",
    "browser.get('https://www.w3schools.com/')"
   ]
  },
  {
   "cell_type": "code",
   "execution_count": 4,
   "id": "a875ddc5-4474-4c12-a3ce-d5f33774cb73",
   "metadata": {
    "tags": []
   },
   "outputs": [
    {
     "data": {
      "text/plain": [
       "True"
      ]
     },
     "execution_count": 4,
     "metadata": {},
     "output_type": "execute_result"
    }
   ],
   "source": [
    "# 스크린샷 기능\n",
    "browser.save_screenshot('./begginers.png')"
   ]
  },
  {
   "cell_type": "markdown",
   "id": "19d1ba2c-d898-4629-b747-8426bac76c27",
   "metadata": {},
   "source": [
    "## 마우스 스크롤 기능 구현"
   ]
  },
  {
   "cell_type": "code",
   "execution_count": 5,
   "id": "ed5aa919-6cfa-4247-9e67-dc47101ee88a",
   "metadata": {
    "tags": []
   },
   "outputs": [],
   "source": [
    "# html에 표현되는 부분: body, body 부분을 스크롤 하려고 함\n",
    "from selenium.webdriver.common.keys import Keys"
   ]
  },
  {
   "cell_type": "code",
   "execution_count": 6,
   "id": "5dd3cb56-a0fe-4b06-854f-384fd751c28c",
   "metadata": {
    "tags": []
   },
   "outputs": [],
   "source": [
    "# page down\n",
    "browser.find_element_by_css_selector('body').send_keys(Keys.PAGE_DOWN)"
   ]
  },
  {
   "cell_type": "code",
   "execution_count": 7,
   "id": "0e6ee0b6-3a38-48dc-80f6-048c2d605d6c",
   "metadata": {
    "tags": []
   },
   "outputs": [],
   "source": [
    "# page up\n",
    "browser.find_element_by_css_selector('body').send_keys(Keys.PAGE_UP)"
   ]
  },
  {
   "cell_type": "code",
   "execution_count": 8,
   "id": "d1c6c0d4-5529-48ef-b802-8982d97aa3f7",
   "metadata": {
    "tags": []
   },
   "outputs": [
    {
     "data": {
      "text/plain": [
       "(873, 17832)"
      ]
     },
     "execution_count": 8,
     "metadata": {},
     "output_type": "execute_result"
    }
   ],
   "source": [
    "# 화면 끝까지 이동\n",
    "screen_height = browser.execute_script('return window.innerHeight')\n",
    "document_height = browser.execute_script('return document.body.scrollHeight')   # execute_script : JavaScript 코드를 브라우저에서 실행시키는 함수\n",
    "screen_height, document_height"
   ]
  },
  {
   "cell_type": "code",
   "execution_count": 9,
   "id": "2a403074-dfb7-476d-9606-1a9e77838d8c",
   "metadata": {
    "tags": []
   },
   "outputs": [
    {
     "name": "stdout",
     "output_type": "stream",
     "text": [
      "1636 17832\n",
      "2399 17832\n",
      "3162 17832\n",
      "3925 17832\n",
      "4688 17832\n",
      "5451 17832\n",
      "6214 17832\n",
      "6977 17832\n",
      "7740 17832\n",
      "8503 17832\n",
      "9266 17832\n",
      "10029 17832\n",
      "10792 17832\n",
      "11555 17832\n",
      "12318 17832\n",
      "13081 17832\n",
      "13844 17832\n",
      "14607 17832\n",
      "15370 17832\n",
      "16133 17832\n",
      "16896 17832\n",
      "17659 17832\n",
      "18422 17832\n"
     ]
    }
   ],
   "source": [
    "import time\n",
    "while True:\n",
    "    browser.find_element_by_css_selector('body').send_keys(Keys.PAGE_DOWN)\n",
    "    time.sleep(1)\n",
    "    # window.pageYOffset 이용\n",
    "    current_scroll_position = browser.execute_script('return window.pageYOffset + {0}'.format(screen_height))\n",
    "    \n",
    "    print(current_scroll_position, document_height)\n",
    "    if current_scroll_position >= document_height :\n",
    "        break"
   ]
  },
  {
   "cell_type": "code",
   "execution_count": 10,
   "id": "29a7398e-e203-4677-9143-cadd6fcdb09e",
   "metadata": {
    "tags": []
   },
   "outputs": [],
   "source": [
    "# browser.quit()  # 브라우저 창 닫기"
   ]
  }
 ],
 "metadata": {
  "kernelspec": {
   "display_name": "Python 3 (ipykernel)",
   "language": "python",
   "name": "python3"
  },
  "language_info": {
   "codemirror_mode": {
    "name": "ipython",
    "version": 3
   },
   "file_extension": ".py",
   "mimetype": "text/x-python",
   "name": "python",
   "nbconvert_exporter": "python",
   "pygments_lexer": "ipython3",
   "version": "3.11.3"
  }
 },
 "nbformat": 4,
 "nbformat_minor": 5
}
