{
 "cells": [
  {
   "cell_type": "markdown",
   "id": "cc1d6a2a-3a9f-4913-a6bd-50d71dfc84f6",
   "metadata": {},
   "source": [
    "## Quest\n",
    "- apply() : '신장', '체중' -> BMI\n",
    "- BMI 시각화 및 인사이트\n",
    "* BMI=체중(kg)/[신장²]m"
   ]
  },
  {
   "cell_type": "markdown",
   "id": "eadb324d-f6cc-49e7-8875-9efefc78f78a",
   "metadata": {},
   "source": [
    "#### 분석결과\n",
    "- 과체중의 비율이 전체의 절반을 차지할 정도로 높게 나타남\n",
    "- 정상과 비만의 비율은 비슷하게 나타남. 비만의 비율도 적지 않음\n",
    "- 비만과 과체중의 사람들이 정상체중 범위로 들어가기 위해 식단조절, 운동이 필요해 보임."
   ]
  },
  {
   "cell_type": "code",
   "execution_count": 3,
   "id": "058ba433-273c-4e14-9a7a-f805d2becd77",
   "metadata": {
    "tags": []
   },
   "outputs": [],
   "source": [
    "import matplotlib.pyplot as plt\n",
    "# 한글처리\n",
    "import matplotlib as mpl\n",
    "mpl.rc('font',family='Malgun Gothic')\n",
    "import seaborn as sns\n",
    "import pandas as pd\n",
    "import scipy.stats as stats"
   ]
  },
  {
   "cell_type": "code",
   "execution_count": 4,
   "id": "79870e32-18fe-4d5e-af62-5c17e1e7301f",
   "metadata": {
    "tags": []
   },
   "outputs": [
    {
     "data": {
      "text/html": [
       "<div>\n",
       "<style scoped>\n",
       "    .dataframe tbody tr th:only-of-type {\n",
       "        vertical-align: middle;\n",
       "    }\n",
       "\n",
       "    .dataframe tbody tr th {\n",
       "        vertical-align: top;\n",
       "    }\n",
       "\n",
       "    .dataframe thead th {\n",
       "        text-align: right;\n",
       "    }\n",
       "</style>\n",
       "<table border=\"1\" class=\"dataframe\">\n",
       "  <thead>\n",
       "    <tr style=\"text-align: right;\">\n",
       "      <th></th>\n",
       "      <th>Unnamed: 0</th>\n",
       "      <th>환자ID</th>\n",
       "      <th>Large Lymphocyte</th>\n",
       "      <th>Location of herniation</th>\n",
       "      <th>ODI</th>\n",
       "      <th>가족력</th>\n",
       "      <th>간질성폐질환</th>\n",
       "      <th>고혈압여부</th>\n",
       "      <th>과거수술횟수</th>\n",
       "      <th>당뇨여부</th>\n",
       "      <th>...</th>\n",
       "      <th>Modic change</th>\n",
       "      <th>PI</th>\n",
       "      <th>PT</th>\n",
       "      <th>Seg Angle(raw)</th>\n",
       "      <th>Vaccum disc</th>\n",
       "      <th>골밀도</th>\n",
       "      <th>디스크단면적</th>\n",
       "      <th>디스크위치</th>\n",
       "      <th>척추이동척도</th>\n",
       "      <th>척추전방위증</th>\n",
       "    </tr>\n",
       "  </thead>\n",
       "  <tbody>\n",
       "    <tr>\n",
       "      <th>0</th>\n",
       "      <td>0</td>\n",
       "      <td>1PT</td>\n",
       "      <td>22.8</td>\n",
       "      <td>3</td>\n",
       "      <td>51.0</td>\n",
       "      <td>0.0</td>\n",
       "      <td>0</td>\n",
       "      <td>0</td>\n",
       "      <td>0</td>\n",
       "      <td>0</td>\n",
       "      <td>...</td>\n",
       "      <td>3</td>\n",
       "      <td>51.6</td>\n",
       "      <td>36.6</td>\n",
       "      <td>14.4</td>\n",
       "      <td>0</td>\n",
       "      <td>-1.01</td>\n",
       "      <td>2048.5</td>\n",
       "      <td>4</td>\n",
       "      <td>Down</td>\n",
       "      <td>0</td>\n",
       "    </tr>\n",
       "    <tr>\n",
       "      <th>1</th>\n",
       "      <td>1</td>\n",
       "      <td>2PT</td>\n",
       "      <td>44.9</td>\n",
       "      <td>4</td>\n",
       "      <td>26.0</td>\n",
       "      <td>0.0</td>\n",
       "      <td>0</td>\n",
       "      <td>0</td>\n",
       "      <td>0</td>\n",
       "      <td>0</td>\n",
       "      <td>...</td>\n",
       "      <td>0</td>\n",
       "      <td>40.8</td>\n",
       "      <td>7.2</td>\n",
       "      <td>17.8</td>\n",
       "      <td>0</td>\n",
       "      <td>-1.14</td>\n",
       "      <td>1753.1</td>\n",
       "      <td>4</td>\n",
       "      <td>Up</td>\n",
       "      <td>0</td>\n",
       "    </tr>\n",
       "  </tbody>\n",
       "</table>\n",
       "<p>2 rows × 52 columns</p>\n",
       "</div>"
      ],
      "text/plain": [
       "   Unnamed: 0 환자ID  Large Lymphocyte  Location of herniation   ODI  가족력  \\\n",
       "0           0  1PT              22.8                       3  51.0  0.0   \n",
       "1           1  2PT              44.9                       4  26.0  0.0   \n",
       "\n",
       "   간질성폐질환  고혈압여부  과거수술횟수  당뇨여부  ...  Modic change    PI    PT  Seg Angle(raw)  \\\n",
       "0       0      0       0     0  ...             3  51.6  36.6            14.4   \n",
       "1       0      0       0     0  ...             0  40.8   7.2            17.8   \n",
       "\n",
       "   Vaccum disc   골밀도  디스크단면적  디스크위치  척추이동척도  척추전방위증  \n",
       "0            0 -1.01  2048.5      4    Down       0  \n",
       "1            0 -1.14  1753.1      4      Up       0  \n",
       "\n",
       "[2 rows x 52 columns]"
      ]
     },
     "execution_count": 4,
     "metadata": {},
     "output_type": "execute_result"
    }
   ],
   "source": [
    "df_ROS = pd.read_csv('../../datasets/RecurrenceOfSurgery.csv')\n",
    "df_ROS[:2]"
   ]
  },
  {
   "cell_type": "code",
   "execution_count": 5,
   "id": "3422834e-5bd2-4462-a7be-49532449cb5e",
   "metadata": {
    "tags": []
   },
   "outputs": [
    {
     "name": "stdout",
     "output_type": "stream",
     "text": [
      "<class 'pandas.core.frame.DataFrame'>\n",
      "RangeIndex: 1894 entries, 0 to 1893\n",
      "Data columns (total 2 columns):\n",
      " #   Column  Non-Null Count  Dtype  \n",
      "---  ------  --------------  -----  \n",
      " 0   신장      1894 non-null   int64  \n",
      " 1   체중      1894 non-null   float64\n",
      "dtypes: float64(1), int64(1)\n",
      "memory usage: 29.7 KB\n"
     ]
    }
   ],
   "source": [
    "df_ROS[['신장','체중']].info()"
   ]
  },
  {
   "cell_type": "code",
   "execution_count": 6,
   "id": "9c39bc99-4807-4cce-a435-afd9da867cf7",
   "metadata": {
    "tags": []
   },
   "outputs": [
    {
     "data": {
      "text/plain": [
       "0       1.63\n",
       "1       1.71\n",
       "2       1.78\n",
       "3       1.74\n",
       "4       1.83\n",
       "        ... \n",
       "1889    1.57\n",
       "1890    1.57\n",
       "1891    1.67\n",
       "1892    1.77\n",
       "1893    1.68\n",
       "Name: 신장m, Length: 1894, dtype: float64"
      ]
     },
     "execution_count": 6,
     "metadata": {},
     "output_type": "execute_result"
    }
   ],
   "source": [
    "# 신장(cm) -> 신장(m)\n",
    "df_ROS['신장m'] = df_ROS['신장'] * 0.01\n",
    "df_ROS['신장m']"
   ]
  },
  {
   "cell_type": "code",
   "execution_count": 7,
   "id": "09a80fc4-d06b-46b4-bae0-123a8a658b57",
   "metadata": {
    "tags": []
   },
   "outputs": [
    {
     "data": {
      "text/plain": [
       "0       2.6569\n",
       "1       2.9241\n",
       "2       3.1684\n",
       "3       3.0276\n",
       "4       3.3489\n",
       "         ...  \n",
       "1889    2.4649\n",
       "1890    2.4649\n",
       "1891    2.7889\n",
       "1892    3.1329\n",
       "1893    2.8224\n",
       "Name: 신장², Length: 1894, dtype: float64"
      ]
     },
     "execution_count": 7,
     "metadata": {},
     "output_type": "execute_result"
    }
   ],
   "source": [
    "# 신장² 계산하기\n",
    "df_ROS['신장²'] = df_ROS['신장m'] * df_ROS['신장m']\n",
    "df_ROS['신장²']"
   ]
  },
  {
   "cell_type": "code",
   "execution_count": 8,
   "id": "626e35cf-ce3d-427f-b975-4bc2b24a2e4a",
   "metadata": {
    "tags": []
   },
   "outputs": [
    {
     "data": {
      "text/plain": [
       "0       22.695623\n",
       "1       24.520365\n",
       "2       24.334049\n",
       "3       24.507861\n",
       "4       24.097465\n",
       "          ...    \n",
       "1889    25.964542\n",
       "1890    23.936062\n",
       "1891    25.099502\n",
       "1892    24.577867\n",
       "1893    17.361111\n",
       "Name: BMI, Length: 1894, dtype: float64"
      ]
     },
     "execution_count": 8,
     "metadata": {},
     "output_type": "execute_result"
    }
   ],
   "source": [
    "df_ROS['BMI'] = df_ROS['체중'] / df_ROS['신장²']\n",
    "df_ROS['BMI']"
   ]
  },
  {
   "cell_type": "code",
   "execution_count": 9,
   "id": "02f0f0c7-17ad-4911-9e7e-2d30ae9e9de3",
   "metadata": {
    "tags": []
   },
   "outputs": [],
   "source": [
    "# 저체중, 정상체중, 과체중, 비만 apply() 적용\n",
    "def calculation(BMI) :\n",
    "    if (BMI) < 18.5 :\n",
    "        result = \"저체중\"\n",
    "    elif 18.5 <= (BMI) < 23 :\n",
    "        result = \"정상체중\"\n",
    "    elif 23 <= (BMI) < 25 :\n",
    "        result = \"과체중\"\n",
    "    else :\n",
    "        result = \"비만\"\n",
    "    return result"
   ]
  },
  {
   "cell_type": "code",
   "execution_count": 10,
   "id": "02ee4bf5-45a3-4966-8cdf-1516619874e4",
   "metadata": {
    "tags": []
   },
   "outputs": [
    {
     "data": {
      "text/plain": [
       "0       정상체중\n",
       "1        과체중\n",
       "2        과체중\n",
       "3        과체중\n",
       "4        과체중\n",
       "        ... \n",
       "1889      비만\n",
       "1890     과체중\n",
       "1891      비만\n",
       "1892     과체중\n",
       "1893     저체중\n",
       "Name: BMI결과, Length: 1894, dtype: object"
      ]
     },
     "execution_count": 10,
     "metadata": {},
     "output_type": "execute_result"
    }
   ],
   "source": [
    "df_ROS['BMI결과'] = df_ROS['BMI'].apply(calculation)\n",
    "df_ROS['BMI결과']"
   ]
  },
  {
   "cell_type": "markdown",
   "id": "2f98675b-9c47-4d3e-818f-14e298377d83",
   "metadata": {},
   "source": [
    "#### BMI 시각화\n",
    "- BMI결과(범주형) / BMI(연속형)"
   ]
  },
  {
   "cell_type": "code",
   "execution_count": 17,
   "id": "6d24d3b6-345a-4474-84ba-1e1682341bcf",
   "metadata": {},
   "outputs": [
    {
     "data": {
      "image/png": "[encoded data removed]",
      "text/plain": [
       "<Figure size 640x480 with 1 Axes>"
      ]
     },
     "metadata": {},
     "output_type": "display_data"
    }
   ],
   "source": [
    "pivot = pd.pivot_table(data=df_ROS[['BMI결과', 'BMI']], index='BMI결과', aggfunc=len).plot(kind='bar')"
   ]
  },
  {
   "cell_type": "code",
   "execution_count": 18,
   "id": "53c4571a-6a4b-4c3c-b219-a1cdd1d9040c",
   "metadata": {
    "tags": []
   },
   "outputs": [
    {
     "data": {
      "image/png": "[encoded data removed]",
      "text/plain": [
       "<Figure size 640x480 with 1 Axes>"
      ]
     },
     "metadata": {},
     "output_type": "display_data"
    }
   ],
   "source": [
    "sns.barplot(data=df_ROS, x='BMI결과', y='BMI', estimator=sum)\n",
    "plt.show()"
   ]
  },
  {
   "cell_type": "code",
   "execution_count": 19,
   "id": "5835595a-d904-4af9-9dd4-afa0ae88ae5d",
   "metadata": {
    "tags": []
   },
   "outputs": [
    {
     "data": {
      "image/png": "[encoded data removed]",
      "text/plain": [
       "<Figure size 640x480 with 1 Axes>"
      ]
     },
     "metadata": {},
     "output_type": "display_data"
    }
   ],
   "source": [
    "sns.lineplot(data=df_ROS, x='BMI결과', y='BMI', estimator=len)\n",
    "plt.show()"
   ]
  }
 ],
 "metadata": {
  "kernelspec": {
   "display_name": "Python 3 (ipykernel)",
   "language": "python",
   "name": "python3"
  },
  "language_info": {
   "codemirror_mode": {
    "name": "ipython",
    "version": 3
   },
   "file_extension": ".py",
   "mimetype": "text/x-python",
   "name": "python",
   "nbconvert_exporter": "python",
   "pygments_lexer": "ipython3",
   "version": "3.11.3"
  }
 },
 "nbformat": 4,
 "nbformat_minor": 5
}
