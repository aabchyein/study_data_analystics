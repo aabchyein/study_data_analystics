{
 "cells": [
  {
   "cell_type": "markdown",
   "id": "1c33b9a7-c787-49fd-bdd5-26e66edea1af",
   "metadata": {},
   "source": [
    "## Quest\n",
    "- 선정 변수 (5000건 이하)\n",
    "    * 연속형 : 체중\n",
    "    * 범주형 \n",
    "        1. 재발여부\n",
    "        2. 선택(재발여부가 비정규분포->정규형인 범주형/ 재발여부가 정규->비정규인 범주형으로 선택해야 함)\n",
    "- 연속형 / 범주형(정규 / 비정규 분포) 검증\n",
    "ex) 재발 여부가 정규 분포이면 비정규 분포인 범주형 변수 찾고 검증"
   ]
  },
  {
   "cell_type": "code",
   "execution_count": 3,
   "id": "ff5c4d85-854b-4692-bbca-2f5ddbce8306",
   "metadata": {
    "tags": []
   },
   "outputs": [],
   "source": [
    "import matplotlib.pyplot as plt\n",
    "# 한글처리\n",
    "import matplotlib as mpl\n",
    "mpl.rc('font',family='Malgun Gothic')\n",
    "import seaborn as sns\n",
    "import pandas as pd\n",
    "import scipy.stats as stats"
   ]
  },
  {
   "cell_type": "code",
   "execution_count": 2,
   "id": "f224a86b-b4a9-49c8-b51a-c0693031658f",
   "metadata": {
    "tags": []
   },
   "outputs": [
    {
     "data": {
      "text/html": [
       "<div>\n",
       "<style scoped>\n",
       "    .dataframe tbody tr th:only-of-type {\n",
       "        vertical-align: middle;\n",
       "    }\n",
       "\n",
       "    .dataframe tbody tr th {\n",
       "        vertical-align: top;\n",
       "    }\n",
       "\n",
       "    .dataframe thead th {\n",
       "        text-align: right;\n",
       "    }\n",
       "</style>\n",
       "<table border=\"1\" class=\"dataframe\">\n",
       "  <thead>\n",
       "    <tr style=\"text-align: right;\">\n",
       "      <th></th>\n",
       "      <th>Unnamed: 0</th>\n",
       "      <th>환자ID</th>\n",
       "      <th>Large Lymphocyte</th>\n",
       "      <th>Location of herniation</th>\n",
       "      <th>ODI</th>\n",
       "      <th>가족력</th>\n",
       "      <th>간질성폐질환</th>\n",
       "      <th>고혈압여부</th>\n",
       "      <th>과거수술횟수</th>\n",
       "      <th>당뇨여부</th>\n",
       "      <th>...</th>\n",
       "      <th>Modic change</th>\n",
       "      <th>PI</th>\n",
       "      <th>PT</th>\n",
       "      <th>Seg Angle(raw)</th>\n",
       "      <th>Vaccum disc</th>\n",
       "      <th>골밀도</th>\n",
       "      <th>디스크단면적</th>\n",
       "      <th>디스크위치</th>\n",
       "      <th>척추이동척도</th>\n",
       "      <th>척추전방위증</th>\n",
       "    </tr>\n",
       "  </thead>\n",
       "  <tbody>\n",
       "    <tr>\n",
       "      <th>0</th>\n",
       "      <td>0</td>\n",
       "      <td>1PT</td>\n",
       "      <td>22.8</td>\n",
       "      <td>3</td>\n",
       "      <td>51.0</td>\n",
       "      <td>0.0</td>\n",
       "      <td>0</td>\n",
       "      <td>0</td>\n",
       "      <td>0</td>\n",
       "      <td>0</td>\n",
       "      <td>...</td>\n",
       "      <td>3</td>\n",
       "      <td>51.6</td>\n",
       "      <td>36.6</td>\n",
       "      <td>14.4</td>\n",
       "      <td>0</td>\n",
       "      <td>-1.01</td>\n",
       "      <td>2048.5</td>\n",
       "      <td>4</td>\n",
       "      <td>Down</td>\n",
       "      <td>0</td>\n",
       "    </tr>\n",
       "    <tr>\n",
       "      <th>1</th>\n",
       "      <td>1</td>\n",
       "      <td>2PT</td>\n",
       "      <td>44.9</td>\n",
       "      <td>4</td>\n",
       "      <td>26.0</td>\n",
       "      <td>0.0</td>\n",
       "      <td>0</td>\n",
       "      <td>0</td>\n",
       "      <td>0</td>\n",
       "      <td>0</td>\n",
       "      <td>...</td>\n",
       "      <td>0</td>\n",
       "      <td>40.8</td>\n",
       "      <td>7.2</td>\n",
       "      <td>17.8</td>\n",
       "      <td>0</td>\n",
       "      <td>-1.14</td>\n",
       "      <td>1753.1</td>\n",
       "      <td>4</td>\n",
       "      <td>Up</td>\n",
       "      <td>0</td>\n",
       "    </tr>\n",
       "  </tbody>\n",
       "</table>\n",
       "<p>2 rows × 52 columns</p>\n",
       "</div>"
      ],
      "text/plain": [
       "   Unnamed: 0 환자ID  Large Lymphocyte  Location of herniation   ODI  가족력  \\\n",
       "0           0  1PT              22.8                       3  51.0  0.0   \n",
       "1           1  2PT              44.9                       4  26.0  0.0   \n",
       "\n",
       "   간질성폐질환  고혈압여부  과거수술횟수  당뇨여부  ...  Modic change    PI    PT  Seg Angle(raw)  \\\n",
       "0       0      0       0     0  ...             3  51.6  36.6            14.4   \n",
       "1       0      0       0     0  ...             0  40.8   7.2            17.8   \n",
       "\n",
       "   Vaccum disc   골밀도  디스크단면적  디스크위치  척추이동척도  척추전방위증  \n",
       "0            0 -1.01  2048.5      4    Down       0  \n",
       "1            0 -1.14  1753.1      4      Up       0  \n",
       "\n",
       "[2 rows x 52 columns]"
      ]
     },
     "execution_count": 2,
     "metadata": {},
     "output_type": "execute_result"
    }
   ],
   "source": [
    "df_ROS = pd.read_csv('../../../datasets/RecurrenceOfSurgery.csv')\n",
    "df_ROS.head(2)"
   ]
  },
  {
   "cell_type": "code",
   "execution_count": 27,
   "id": "653f5be2-d223-461b-9b15-8267aaa45909",
   "metadata": {
    "tags": []
   },
   "outputs": [
    {
     "data": {
      "text/html": [
       "<div>\n",
       "<style scoped>\n",
       "    .dataframe tbody tr th:only-of-type {\n",
       "        vertical-align: middle;\n",
       "    }\n",
       "\n",
       "    .dataframe tbody tr th {\n",
       "        vertical-align: top;\n",
       "    }\n",
       "\n",
       "    .dataframe thead th {\n",
       "        text-align: right;\n",
       "    }\n",
       "</style>\n",
       "<table border=\"1\" class=\"dataframe\">\n",
       "  <thead>\n",
       "    <tr style=\"text-align: right;\">\n",
       "      <th></th>\n",
       "      <th>환자ID</th>\n",
       "      <th>직업</th>\n",
       "      <th>수술기법</th>\n",
       "      <th>혈액형</th>\n",
       "      <th>척추이동척도</th>\n",
       "    </tr>\n",
       "  </thead>\n",
       "  <tbody>\n",
       "    <tr>\n",
       "      <th>count</th>\n",
       "      <td>1894</td>\n",
       "      <td>1479</td>\n",
       "      <td>1813</td>\n",
       "      <td>1894</td>\n",
       "      <td>1894</td>\n",
       "    </tr>\n",
       "    <tr>\n",
       "      <th>unique</th>\n",
       "      <td>1894</td>\n",
       "      <td>17</td>\n",
       "      <td>2</td>\n",
       "      <td>4</td>\n",
       "      <td>5</td>\n",
       "    </tr>\n",
       "    <tr>\n",
       "      <th>top</th>\n",
       "      <td>1PT</td>\n",
       "      <td>사무직</td>\n",
       "      <td>TELD</td>\n",
       "      <td>RH+A</td>\n",
       "      <td>Middle</td>\n",
       "    </tr>\n",
       "    <tr>\n",
       "      <th>freq</th>\n",
       "      <td>1</td>\n",
       "      <td>449</td>\n",
       "      <td>1673</td>\n",
       "      <td>688</td>\n",
       "      <td>1260</td>\n",
       "    </tr>\n",
       "  </tbody>\n",
       "</table>\n",
       "</div>"
      ],
      "text/plain": [
       "        환자ID    직업  수술기법   혈액형  척추이동척도\n",
       "count   1894  1479  1813  1894    1894\n",
       "unique  1894    17     2     4       5\n",
       "top      1PT   사무직  TELD  RH+A  Middle\n",
       "freq       1   449  1673   688    1260"
      ]
     },
     "execution_count": 27,
     "metadata": {},
     "output_type": "execute_result"
    }
   ],
   "source": [
    "df_ROS.describe(include=object)"
   ]
  },
  {
   "cell_type": "markdown",
   "id": "778bac37-229b-4d17-ae00-4226cd006435",
   "metadata": {
    "tags": []
   },
   "source": [
    "### 범주형, 연속형 - 범주형에 따른 상관관계 확인"
   ]
  },
  {
   "cell_type": "markdown",
   "id": "425dc250-d47d-4a94-8214-108dbe453969",
   "metadata": {},
   "source": [
    "#### 선정 변수 : 체중(연속형), 재발여부(범주형) - (비정규분포)\n",
    "- 체중(비정규분포) -> 재발여부(2집단 비교) -> wilcoxon test\n",
    "- 분석 내용 : 체중에 따라 재발여부는 차이가 있는가?\n",
    "    - 귀무가설: 차이가 없다.\n",
    "    - 대립가설: 차이가 있다.\n",
    "- 분석 결론 (기준 - P.value 0.05)\n",
    "    - 통계 결론: pvalue=9.368754421483853e-09, 대립가설 참\n",
    "    - 사실 결론: 체중에 따라 재발여부는 차이가 있다."
   ]
  },
  {
   "cell_type": "code",
   "execution_count": 6,
   "id": "caea667c-872a-40b0-9cdd-1c34561446d8",
   "metadata": {
    "tags": []
   },
   "outputs": [
    {
     "data": {
      "text/html": [
       "<div>\n",
       "<style scoped>\n",
       "    .dataframe tbody tr th:only-of-type {\n",
       "        vertical-align: middle;\n",
       "    }\n",
       "\n",
       "    .dataframe tbody tr th {\n",
       "        vertical-align: top;\n",
       "    }\n",
       "\n",
       "    .dataframe thead th {\n",
       "        text-align: right;\n",
       "    }\n",
       "</style>\n",
       "<table border=\"1\" class=\"dataframe\">\n",
       "  <thead>\n",
       "    <tr style=\"text-align: right;\">\n",
       "      <th></th>\n",
       "      <th>체중</th>\n",
       "      <th>재발여부</th>\n",
       "    </tr>\n",
       "  </thead>\n",
       "  <tbody>\n",
       "    <tr>\n",
       "      <th>0</th>\n",
       "      <td>60.3</td>\n",
       "      <td>0</td>\n",
       "    </tr>\n",
       "    <tr>\n",
       "      <th>1</th>\n",
       "      <td>71.7</td>\n",
       "      <td>0</td>\n",
       "    </tr>\n",
       "  </tbody>\n",
       "</table>\n",
       "</div>"
      ],
      "text/plain": [
       "     체중  재발여부\n",
       "0  60.3     0\n",
       "1  71.7     0"
      ]
     },
     "execution_count": 6,
     "metadata": {},
     "output_type": "execute_result"
    }
   ],
   "source": [
    "# 검증 대상 항목만 필터링\n",
    "df_ROS_weight = df_ROS[['체중','재발여부']]\n",
    "df_ROS_weight[:2]"
   ]
  },
  {
   "cell_type": "code",
   "execution_count": 8,
   "id": "ec3035b1-e4a5-40eb-9336-57ccff448482",
   "metadata": {
    "tags": []
   },
   "outputs": [
    {
     "data": {
      "text/plain": [
       "체중      0\n",
       "재발여부    0\n",
       "dtype: int64"
      ]
     },
     "execution_count": 8,
     "metadata": {},
     "output_type": "execute_result"
    }
   ],
   "source": [
    "# null값 확인\n",
    "df_ROS_weight.isnull().sum()"
   ]
  },
  {
   "cell_type": "code",
   "execution_count": 37,
   "id": "2e5fb9d4-1221-47ba-86ad-90daf446944a",
   "metadata": {
    "tags": []
   },
   "outputs": [
    {
     "data": {
      "text/plain": [
       "ShapiroResult(statistic=0.9795888662338257, pvalue=8.319101268931405e-16)"
      ]
     },
     "execution_count": 37,
     "metadata": {},
     "output_type": "execute_result"
    }
   ],
   "source": [
    "# 정규성 검증 (5000건이하)\n",
    "stats.shapiro(df_ROS_weight['체중'])\n",
    "\n",
    "## 결과: pvalue=0.000000000000000831, 비정규화"
   ]
  },
  {
   "cell_type": "code",
   "execution_count": 17,
   "id": "55287cae-4eaf-4bad-8c21-91e457bd0623",
   "metadata": {
    "tags": []
   },
   "outputs": [
    {
     "data": {
      "text/plain": [
       "<Axes: xlabel='체중', ylabel='Count'>"
      ]
     },
     "execution_count": 17,
     "metadata": {},
     "output_type": "execute_result"
    },
    {
     "data": {
      "image/png": "[encoded data removed]",
      "text/plain": [
       "<Figure size 640x480 with 1 Axes>"
      ]
     },
     "metadata": {},
     "output_type": "display_data"
    }
   ],
   "source": [
    "sns.histplot(data=df_ROS_weight, x='체중', kde=True)"
   ]
  },
  {
   "cell_type": "code",
   "execution_count": 20,
   "id": "ffdfe635-8822-423c-85d0-1a0f34bc9504",
   "metadata": {
    "tags": []
   },
   "outputs": [
    {
     "data": {
      "text/plain": [
       "0    1667\n",
       "1     227\n",
       "Name: 재발여부, dtype: int64"
      ]
     },
     "execution_count": 20,
     "metadata": {},
     "output_type": "execute_result"
    }
   ],
   "source": [
    "# 재발여부(범주형-항목2개)\n",
    "# 2개 항목 : 0, 1\n",
    "df_ROS_weight['재발여부'].value_counts()"
   ]
  },
  {
   "cell_type": "code",
   "execution_count": 23,
   "id": "500df118-b4d5-469c-a94c-9c910ba81f70",
   "metadata": {
    "tags": []
   },
   "outputs": [
    {
     "data": {
      "text/html": [
       "<div>\n",
       "<style scoped>\n",
       "    .dataframe tbody tr th:only-of-type {\n",
       "        vertical-align: middle;\n",
       "    }\n",
       "\n",
       "    .dataframe tbody tr th {\n",
       "        vertical-align: top;\n",
       "    }\n",
       "\n",
       "    .dataframe thead th {\n",
       "        text-align: right;\n",
       "    }\n",
       "</style>\n",
       "<table border=\"1\" class=\"dataframe\">\n",
       "  <thead>\n",
       "    <tr style=\"text-align: right;\">\n",
       "      <th></th>\n",
       "      <th>체중</th>\n",
       "      <th>재발여부</th>\n",
       "    </tr>\n",
       "  </thead>\n",
       "  <tbody>\n",
       "    <tr>\n",
       "      <th>0</th>\n",
       "      <td>60.3</td>\n",
       "      <td>0</td>\n",
       "    </tr>\n",
       "    <tr>\n",
       "      <th>1</th>\n",
       "      <td>71.7</td>\n",
       "      <td>0</td>\n",
       "    </tr>\n",
       "  </tbody>\n",
       "</table>\n",
       "</div>"
      ],
      "text/plain": [
       "     체중  재발여부\n",
       "0  60.3     0\n",
       "1  71.7     0"
      ]
     },
     "execution_count": 23,
     "metadata": {},
     "output_type": "execute_result"
    }
   ],
   "source": [
    "df_zero = df_ROS_weight[df_ROS_weight['재발여부'] == 0]\n",
    "df_zero[:2]"
   ]
  },
  {
   "cell_type": "code",
   "execution_count": 24,
   "id": "3d6d0d63-4182-478a-9f83-154d4fed89e3",
   "metadata": {
    "tags": []
   },
   "outputs": [
    {
     "data": {
      "text/html": [
       "<div>\n",
       "<style scoped>\n",
       "    .dataframe tbody tr th:only-of-type {\n",
       "        vertical-align: middle;\n",
       "    }\n",
       "\n",
       "    .dataframe tbody tr th {\n",
       "        vertical-align: top;\n",
       "    }\n",
       "\n",
       "    .dataframe thead th {\n",
       "        text-align: right;\n",
       "    }\n",
       "</style>\n",
       "<table border=\"1\" class=\"dataframe\">\n",
       "  <thead>\n",
       "    <tr style=\"text-align: right;\">\n",
       "      <th></th>\n",
       "      <th>체중</th>\n",
       "      <th>재발여부</th>\n",
       "    </tr>\n",
       "  </thead>\n",
       "  <tbody>\n",
       "    <tr>\n",
       "      <th>28</th>\n",
       "      <td>77.8</td>\n",
       "      <td>1</td>\n",
       "    </tr>\n",
       "    <tr>\n",
       "      <th>40</th>\n",
       "      <td>80.2</td>\n",
       "      <td>1</td>\n",
       "    </tr>\n",
       "  </tbody>\n",
       "</table>\n",
       "</div>"
      ],
      "text/plain": [
       "      체중  재발여부\n",
       "28  77.8     1\n",
       "40  80.2     1"
      ]
     },
     "execution_count": 24,
     "metadata": {},
     "output_type": "execute_result"
    }
   ],
   "source": [
    "df_first = df_ROS_weight[df_ROS_weight['재발여부'] == 1]\n",
    "df_first[:2]"
   ]
  },
  {
   "cell_type": "code",
   "execution_count": 26,
   "id": "97b8cc1a-e183-4f98-bea6-0a3a29e49cc9",
   "metadata": {
    "tags": []
   },
   "outputs": [
    {
     "data": {
      "text/plain": [
       "RanksumsResult(statistic=-5.741778092219353, pvalue=9.368754421483853e-09)"
      ]
     },
     "execution_count": 26,
     "metadata": {},
     "output_type": "execute_result"
    }
   ],
   "source": [
    "# 검증(wilcoxon test)\n",
    "stats.ranksums(df_zero['체중'], df_first['체중']) "
   ]
  },
  {
   "cell_type": "markdown",
   "id": "dbc12af2-3b2b-4a54-a6e4-fd203da2ca87",
   "metadata": {},
   "source": [
    "#### 선정 변수 : 체중(연속형), 직업\\[:100\\] - (정규분포)\n",
    "- 체중(연속형)(정규분포) -> 직업(2집단 비교) -> 등분산 or 이분산 -> T Test\n",
    "- 분석 내용 : 체중에 따라 직업에 차이가 있는가?\n",
    "    - 귀무가설: 차이가 없다.\n",
    "    - 대립가설: 차이가 있다.\n",
    "- 분석 결론 (기준 - P.value 0.05)\n",
    "    - 통계 결론: pvalue=0.57, 귀무가설 참\n",
    "    - 사실 결론: 차이가 없다."
   ]
  },
  {
   "cell_type": "code",
   "execution_count": 32,
   "id": "98ed289c-6abd-4c83-8b06-896c2ffcf50d",
   "metadata": {
    "tags": []
   },
   "outputs": [
    {
     "data": {
      "text/plain": [
       "<Axes: xlabel='체중', ylabel='Count'>"
      ]
     },
     "execution_count": 32,
     "metadata": {},
     "output_type": "execute_result"
    },
    {
     "data": {
      "image/png": "[encoded data removed]",
      "text/plain": [
       "<Figure size 640x480 with 1 Axes>"
      ]
     },
     "metadata": {},
     "output_type": "display_data"
    }
   ],
   "source": [
    "sns.histplot(data=df_ROS, x='체중', kde=True, hue='직업')"
   ]
  },
  {
   "cell_type": "code",
   "execution_count": 79,
   "id": "60c2eaa2-f69a-4157-8578-f743eeb82f71",
   "metadata": {
    "tags": []
   },
   "outputs": [
    {
     "data": {
      "text/plain": [
       "사무직      449\n",
       "자영업      171\n",
       "무직       164\n",
       "학생       135\n",
       "주부       114\n",
       "군인        90\n",
       "공무원       51\n",
       "운수업       50\n",
       "노동직       42\n",
       "농업        40\n",
       "의료직       40\n",
       "사업가       39\n",
       "교사        30\n",
       "특수전문직     23\n",
       "건설업       17\n",
       "운동선수      14\n",
       "예술가       10\n",
       "Name: 직업, dtype: int64"
      ]
     },
     "execution_count": 79,
     "metadata": {},
     "output_type": "execute_result"
    }
   ],
   "source": [
    "# 직업 중 2개의 항목 선택\n",
    "# (위 그래프 참고: 정규분포로 보이는 무직, 학생 선택)\n",
    "df_ROS['직업'].value_counts()"
   ]
  },
  {
   "cell_type": "code",
   "execution_count": 135,
   "id": "474893af-bbef-4ce7-a003-33b469f6ac8b",
   "metadata": {
    "tags": []
   },
   "outputs": [
    {
     "data": {
      "text/html": [
       "<div>\n",
       "<style scoped>\n",
       "    .dataframe tbody tr th:only-of-type {\n",
       "        vertical-align: middle;\n",
       "    }\n",
       "\n",
       "    .dataframe tbody tr th {\n",
       "        vertical-align: top;\n",
       "    }\n",
       "\n",
       "    .dataframe thead th {\n",
       "        text-align: right;\n",
       "    }\n",
       "</style>\n",
       "<table border=\"1\" class=\"dataframe\">\n",
       "  <thead>\n",
       "    <tr style=\"text-align: right;\">\n",
       "      <th></th>\n",
       "      <th>체중</th>\n",
       "      <th>직업</th>\n",
       "    </tr>\n",
       "  </thead>\n",
       "  <tbody>\n",
       "    <tr>\n",
       "      <th>60</th>\n",
       "      <td>71.5</td>\n",
       "      <td>학생</td>\n",
       "    </tr>\n",
       "    <tr>\n",
       "      <th>91</th>\n",
       "      <td>61.1</td>\n",
       "      <td>학생</td>\n",
       "    </tr>\n",
       "  </tbody>\n",
       "</table>\n",
       "</div>"
      ],
      "text/plain": [
       "      체중  직업\n",
       "60  71.5  학생\n",
       "91  61.1  학생"
      ]
     },
     "execution_count": 135,
     "metadata": {},
     "output_type": "execute_result"
    }
   ],
   "source": [
    "# 검증 대상 항목만 필터링 and 300개만 추출(정규분포 자료 획득을 위함)\n",
    "condition = (df_ROS['직업'] == '무직') | (df_ROS['직업'] == '학생')\n",
    "df_ROS_weight = df_ROS[condition][['체중','직업']][:100]\n",
    "df_ROS_weight[:2]"
   ]
  },
  {
   "cell_type": "code",
   "execution_count": 110,
   "id": "b44d836f-4c54-40c7-bcdb-825429ed0263",
   "metadata": {
    "tags": []
   },
   "outputs": [
    {
     "data": {
      "text/plain": [
       "체중    0\n",
       "직업    0\n",
       "dtype: int64"
      ]
     },
     "execution_count": 110,
     "metadata": {},
     "output_type": "execute_result"
    }
   ],
   "source": [
    "# null값 확인\n",
    "df_ROS_weight.isnull().sum()"
   ]
  },
  {
   "cell_type": "markdown",
   "id": "76100856-8aaa-4bc7-a7fa-0cff29b5eba9",
   "metadata": {},
   "source": [
    "##### 정규성 검증\n",
    "- 5천 이하 : shapiro test\n",
    "    * pvalue > 0.05 : 정규분포, 귀무가설 참"
   ]
  },
  {
   "cell_type": "code",
   "execution_count": 132,
   "id": "ed4f7cbb-9d1d-4ab0-9550-aaaac6ca3885",
   "metadata": {
    "tags": []
   },
   "outputs": [
    {
     "data": {
      "text/plain": [
       "ShapiroResult(statistic=0.976185142993927, pvalue=0.06681955605745316)"
      ]
     },
     "execution_count": 132,
     "metadata": {},
     "output_type": "execute_result"
    }
   ],
   "source": [
    "stats.shapiro(df_ROS_weight['체중'])\n",
    "# pvalue=0.06681955605745316, 정규화"
   ]
  },
  {
   "cell_type": "code",
   "execution_count": 133,
   "id": "c1e6d104-eed2-4581-b737-88aaa79f176c",
   "metadata": {
    "tags": []
   },
   "outputs": [
    {
     "data": {
      "text/plain": [
       "<Axes: xlabel='체중', ylabel='Count'>"
      ]
     },
     "execution_count": 133,
     "metadata": {},
     "output_type": "execute_result"
    },
    {
     "data": {
      "image/png": "[encoded data removed]",
      "text/plain": [
       "<Figure size 640x480 with 1 Axes>"
      ]
     },
     "metadata": {},
     "output_type": "display_data"
    }
   ],
   "source": [
    "sns.histplot(data=df_ROS_weight, x='체중', kde=True)"
   ]
  },
  {
   "cell_type": "markdown",
   "id": "06aad066-ee49-4f53-b449-bc0af65ab392",
   "metadata": {},
   "source": [
    "##### 등분산 검증\n",
    "- 결과 : pvalue=0.92로 등분산이다."
   ]
  },
  {
   "cell_type": "code",
   "execution_count": 137,
   "id": "a110a6ae-d8b2-4ce5-b6c2-f13d7014a628",
   "metadata": {
    "tags": []
   },
   "outputs": [
    {
     "data": {
      "text/plain": [
       "<Axes: xlabel='직업', ylabel='count'>"
      ]
     },
     "execution_count": 137,
     "metadata": {},
     "output_type": "execute_result"
    },
    {
     "data": {
      "image/png": "[encoded data removed]",
      "text/plain": [
       "<Figure size 640x480 with 1 Axes>"
      ]
     },
     "metadata": {},
     "output_type": "display_data"
    }
   ],
   "source": [
    "sns.countplot(data=df_ROS_weight, x='직업')"
   ]
  },
  {
   "cell_type": "code",
   "execution_count": 138,
   "id": "59cf14af-90bd-4d9c-8c1f-d58401f25dd6",
   "metadata": {
    "tags": []
   },
   "outputs": [
    {
     "data": {
      "text/html": [
       "<div>\n",
       "<style scoped>\n",
       "    .dataframe tbody tr th:only-of-type {\n",
       "        vertical-align: middle;\n",
       "    }\n",
       "\n",
       "    .dataframe tbody tr th {\n",
       "        vertical-align: top;\n",
       "    }\n",
       "\n",
       "    .dataframe thead th {\n",
       "        text-align: right;\n",
       "    }\n",
       "</style>\n",
       "<table border=\"1\" class=\"dataframe\">\n",
       "  <thead>\n",
       "    <tr style=\"text-align: right;\">\n",
       "      <th></th>\n",
       "      <th>체중</th>\n",
       "      <th>직업</th>\n",
       "    </tr>\n",
       "  </thead>\n",
       "  <tbody>\n",
       "    <tr>\n",
       "      <th>60</th>\n",
       "      <td>71.5</td>\n",
       "      <td>학생</td>\n",
       "    </tr>\n",
       "    <tr>\n",
       "      <th>91</th>\n",
       "      <td>61.1</td>\n",
       "      <td>학생</td>\n",
       "    </tr>\n",
       "  </tbody>\n",
       "</table>\n",
       "</div>"
      ],
      "text/plain": [
       "      체중  직업\n",
       "60  71.5  학생\n",
       "91  61.1  학생"
      ]
     },
     "execution_count": 138,
     "metadata": {},
     "output_type": "execute_result"
    }
   ],
   "source": [
    "# 학생에 대한 DataFrame 만들기\n",
    "df_student = df_ROS_weight[df_ROS_weight['직업'] == '학생']\n",
    "df_student[:2]"
   ]
  },
  {
   "cell_type": "code",
   "execution_count": 146,
   "id": "320af227-3f69-414a-beae-7a8f2fd2ba83",
   "metadata": {
    "tags": []
   },
   "outputs": [
    {
     "data": {
      "text/html": [
       "<div>\n",
       "<style scoped>\n",
       "    .dataframe tbody tr th:only-of-type {\n",
       "        vertical-align: middle;\n",
       "    }\n",
       "\n",
       "    .dataframe tbody tr th {\n",
       "        vertical-align: top;\n",
       "    }\n",
       "\n",
       "    .dataframe thead th {\n",
       "        text-align: right;\n",
       "    }\n",
       "</style>\n",
       "<table border=\"1\" class=\"dataframe\">\n",
       "  <thead>\n",
       "    <tr style=\"text-align: right;\">\n",
       "      <th></th>\n",
       "      <th>체중</th>\n",
       "      <th>직업</th>\n",
       "    </tr>\n",
       "  </thead>\n",
       "  <tbody>\n",
       "    <tr>\n",
       "      <th>962</th>\n",
       "      <td>46.0</td>\n",
       "      <td>무직</td>\n",
       "    </tr>\n",
       "    <tr>\n",
       "      <th>963</th>\n",
       "      <td>49.0</td>\n",
       "      <td>무직</td>\n",
       "    </tr>\n",
       "  </tbody>\n",
       "</table>\n",
       "</div>"
      ],
      "text/plain": [
       "       체중  직업\n",
       "962  46.0  무직\n",
       "963  49.0  무직"
      ]
     },
     "execution_count": 146,
     "metadata": {},
     "output_type": "execute_result"
    }
   ],
   "source": [
    "# 무직에 대한 DataFrame 만들기\n",
    "df_jobless = df_ROS_weight[df_ROS_weight['직업'] == '무직']\n",
    "df_jobless[:2]"
   ]
  },
  {
   "cell_type": "code",
   "execution_count": 147,
   "id": "44623608-7b13-4459-bc17-53675808e9ff",
   "metadata": {
    "tags": []
   },
   "outputs": [
    {
     "data": {
      "text/plain": [
       "LeveneResult(statistic=0.009289501571544135, pvalue=0.9234139661663638)"
      ]
     },
     "execution_count": 147,
     "metadata": {},
     "output_type": "execute_result"
    }
   ],
   "source": [
    "stats.levene(df_student['체중'], df_jobless['체중'])"
   ]
  },
  {
   "cell_type": "code",
   "execution_count": 141,
   "id": "6f2ab2cf-b8dd-434f-91c8-e013460b6683",
   "metadata": {
    "tags": []
   },
   "outputs": [
    {
     "data": {
      "text/plain": [
       "<Axes: xlabel='체중', ylabel='Count'>"
      ]
     },
     "execution_count": 141,
     "metadata": {},
     "output_type": "execute_result"
    },
    {
     "data": {
      "image/png": "[encoded data removed]",
      "text/plain": [
       "<Figure size 640x480 with 1 Axes>"
      ]
     },
     "metadata": {},
     "output_type": "display_data"
    }
   ],
   "source": [
    "sns.histplot(data=df_ROS_weight, x='체중', kde=True, hue='직업')"
   ]
  },
  {
   "cell_type": "code",
   "execution_count": 148,
   "id": "061f4fa4-a8d5-4f98-bb56-fa6d5edb13a1",
   "metadata": {
    "tags": []
   },
   "outputs": [
    {
     "data": {
      "text/plain": [
       "Ttest_indResult(statistic=0.5642542460654604, pvalue=0.5738702531336712)"
      ]
     },
     "execution_count": 148,
     "metadata": {},
     "output_type": "execute_result"
    }
   ],
   "source": [
    "stats.ttest_ind(df_student['체중'], df_jobless['체중'], equal_var=True)"
   ]
  },
  {
   "cell_type": "code",
   "execution_count": null,
   "id": "6751338f-bb97-4f54-b510-0527a8906ee3",
   "metadata": {},
   "outputs": [],
   "source": []
  }
 ],
 "metadata": {
  "kernelspec": {
   "display_name": "Python 3 (ipykernel)",
   "language": "python",
   "name": "python3"
  },
  "language_info": {
   "codemirror_mode": {
    "name": "ipython",
    "version": 3
   },
   "file_extension": ".py",
   "mimetype": "text/x-python",
   "name": "python",
   "nbconvert_exporter": "python",
   "pygments_lexer": "ipython3",
   "version": "3.11.3"
  }
 },
 "nbformat": 4,
 "nbformat_minor": 5
}
