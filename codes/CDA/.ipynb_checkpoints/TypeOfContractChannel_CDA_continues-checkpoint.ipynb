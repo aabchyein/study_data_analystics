{
 "cells": [
  {
   "cell_type": "code",
   "execution_count": 2,
   "id": "af7d02d0-a35a-4469-8bd0-cd9872fd5801",
   "metadata": {
    "tags": []
   },
   "outputs": [],
   "source": [
    "import matplotlib.pyplot as plt\n",
    "# 한글처리\n",
    "import matplotlib as mpl\n",
    "mpl.rc('font',family='Malgun Gothic')\n",
    "import seaborn as sns\n",
    "import pandas as pd"
   ]
  },
  {
   "cell_type": "code",
   "execution_count": 3,
   "id": "7c5f3ce6-fbf0-4bed-9bf3-fe96355cb42d",
   "metadata": {
    "tags": []
   },
   "outputs": [
    {
     "data": {
      "text/html": [
       "<div>\n",
       "<style scoped>\n",
       "    .dataframe tbody tr th:only-of-type {\n",
       "        vertical-align: middle;\n",
       "    }\n",
       "\n",
       "    .dataframe tbody tr th {\n",
       "        vertical-align: top;\n",
       "    }\n",
       "\n",
       "    .dataframe thead th {\n",
       "        text-align: right;\n",
       "    }\n",
       "</style>\n",
       "<table border=\"1\" class=\"dataframe\">\n",
       "  <thead>\n",
       "    <tr style=\"text-align: right;\">\n",
       "      <th></th>\n",
       "      <th>id</th>\n",
       "      <th>type_of_contract</th>\n",
       "      <th>type_of_contract2</th>\n",
       "      <th>channel</th>\n",
       "      <th>datetime</th>\n",
       "      <th>Term</th>\n",
       "      <th>payment_type</th>\n",
       "      <th>product</th>\n",
       "      <th>amount</th>\n",
       "      <th>state</th>\n",
       "      <th>overdue_count</th>\n",
       "      <th>overdue</th>\n",
       "      <th>credit rating</th>\n",
       "      <th>bank</th>\n",
       "      <th>cancellation</th>\n",
       "      <th>age</th>\n",
       "      <th>Mileage</th>\n",
       "    </tr>\n",
       "  </thead>\n",
       "  <tbody>\n",
       "    <tr>\n",
       "      <th>0</th>\n",
       "      <td>66758234</td>\n",
       "      <td>렌탈</td>\n",
       "      <td>Normal</td>\n",
       "      <td>서비스 방문</td>\n",
       "      <td>2019-10-20</td>\n",
       "      <td>60</td>\n",
       "      <td>CMS</td>\n",
       "      <td>K1</td>\n",
       "      <td>96900</td>\n",
       "      <td>계약확정</td>\n",
       "      <td>0</td>\n",
       "      <td>없음</td>\n",
       "      <td>9.0</td>\n",
       "      <td>새마을금고</td>\n",
       "      <td>정상</td>\n",
       "      <td>43.0</td>\n",
       "      <td>1862.0</td>\n",
       "    </tr>\n",
       "    <tr>\n",
       "      <th>1</th>\n",
       "      <td>66755948</td>\n",
       "      <td>렌탈</td>\n",
       "      <td>Extension_Rental</td>\n",
       "      <td>서비스 방문</td>\n",
       "      <td>2019-10-20</td>\n",
       "      <td>60</td>\n",
       "      <td>카드이체</td>\n",
       "      <td>K1</td>\n",
       "      <td>102900</td>\n",
       "      <td>계약확정</td>\n",
       "      <td>0</td>\n",
       "      <td>없음</td>\n",
       "      <td>2.0</td>\n",
       "      <td>현대카드</td>\n",
       "      <td>정상</td>\n",
       "      <td>62.0</td>\n",
       "      <td>2532.0</td>\n",
       "    </tr>\n",
       "  </tbody>\n",
       "</table>\n",
       "</div>"
      ],
      "text/plain": [
       "         id type_of_contract type_of_contract2 channel    datetime  Term  \\\n",
       "0  66758234               렌탈            Normal  서비스 방문  2019-10-20    60   \n",
       "1  66755948               렌탈  Extension_Rental  서비스 방문  2019-10-20    60   \n",
       "\n",
       "  payment_type product  amount state  overdue_count overdue  credit rating  \\\n",
       "0          CMS      K1   96900  계약확정              0      없음            9.0   \n",
       "1         카드이체      K1  102900  계약확정              0      없음            2.0   \n",
       "\n",
       "    bank cancellation   age  Mileage  \n",
       "0  새마을금고           정상  43.0   1862.0  \n",
       "1   현대카드           정상  62.0   2532.0  "
      ]
     },
     "execution_count": 3,
     "metadata": {},
     "output_type": "execute_result"
    }
   ],
   "source": [
    "df_TOCC = pd.read_csv('../../datasets/TypeOfContractChannel.csv')\n",
    "df_TOCC[:2]"
   ]
  },
  {
   "cell_type": "markdown",
   "id": "cc70ffbf-368b-4536-8040-406c89293904",
   "metadata": {},
   "source": [
    "### X:범주형, Y:범주형 - 주로 독립성 증명 (X,Y의 관계가 연관이 있는지 독립적인지 확인)"
   ]
  },
  {
   "cell_type": "markdown",
   "id": "e9515e0b-c523-4be2-babc-854f51d86c17",
   "metadata": {
    "jp-MarkdownHeadingCollapsed": true,
    "tags": []
   },
   "source": [
    "#### 선정 변수 : type_of_contract, cancellation\n",
    "- 분석 내용 : 계약유형(type_of_contract)에 따라 해약여부가 달라지는가?\n",
    "    - 귀무가설: 계약유형에 따라 해약여부가 달라지지 않는다.\n",
    "    - 대립가설: 계약유형에 따라 해약여부가 달라진다.\n",
    "- 분석 결론 (기준 - P.value 0.05)\n",
    "    - 통계 결론: 대립가설 참, 귀무가설 기각\n",
    "    - 사실 결론: 계약유형에 따라 해약여부가 달라진다."
   ]
  },
  {
   "cell_type": "code",
   "execution_count": 4,
   "id": "65d3d674-6566-4f0e-947d-4be14f1b0863",
   "metadata": {
    "tags": []
   },
   "outputs": [
    {
     "data": {
      "text/html": [
       "<div>\n",
       "<style scoped>\n",
       "    .dataframe tbody tr th:only-of-type {\n",
       "        vertical-align: middle;\n",
       "    }\n",
       "\n",
       "    .dataframe tbody tr th {\n",
       "        vertical-align: top;\n",
       "    }\n",
       "\n",
       "    .dataframe thead th {\n",
       "        text-align: right;\n",
       "    }\n",
       "</style>\n",
       "<table border=\"1\" class=\"dataframe\">\n",
       "  <thead>\n",
       "    <tr style=\"text-align: right;\">\n",
       "      <th></th>\n",
       "      <th>type_of_contract</th>\n",
       "      <th>cancellation</th>\n",
       "    </tr>\n",
       "  </thead>\n",
       "  <tbody>\n",
       "    <tr>\n",
       "      <th>count</th>\n",
       "      <td>51300</td>\n",
       "      <td>51279</td>\n",
       "    </tr>\n",
       "    <tr>\n",
       "      <th>unique</th>\n",
       "      <td>2</td>\n",
       "      <td>2</td>\n",
       "    </tr>\n",
       "    <tr>\n",
       "      <th>top</th>\n",
       "      <td>렌탈</td>\n",
       "      <td>정상</td>\n",
       "    </tr>\n",
       "    <tr>\n",
       "      <th>freq</th>\n",
       "      <td>46481</td>\n",
       "      <td>50372</td>\n",
       "    </tr>\n",
       "  </tbody>\n",
       "</table>\n",
       "</div>"
      ],
      "text/plain": [
       "       type_of_contract cancellation\n",
       "count             51300        51279\n",
       "unique                2            2\n",
       "top                  렌탈           정상\n",
       "freq              46481        50372"
      ]
     },
     "execution_count": 4,
     "metadata": {},
     "output_type": "execute_result"
    }
   ],
   "source": [
    "df_TOCC[['type_of_contract', 'cancellation']].describe()  # 항목의 개수(unique)"
   ]
  },
  {
   "cell_type": "code",
   "execution_count": 5,
   "id": "e305f48d-8014-40b9-bedd-075cb75645ba",
   "metadata": {
    "tags": []
   },
   "outputs": [],
   "source": [
    "df_TOCC_category = df_TOCC[['type_of_contract', 'cancellation']]"
   ]
  },
  {
   "cell_type": "code",
   "execution_count": 10,
   "id": "0f6e4cf1-8ae0-42bb-b450-995d00c6c4c0",
   "metadata": {
    "tags": []
   },
   "outputs": [
    {
     "data": {
      "text/html": [
       "<div>\n",
       "<style scoped>\n",
       "    .dataframe tbody tr th:only-of-type {\n",
       "        vertical-align: middle;\n",
       "    }\n",
       "\n",
       "    .dataframe tbody tr th {\n",
       "        vertical-align: top;\n",
       "    }\n",
       "\n",
       "    .dataframe thead th {\n",
       "        text-align: right;\n",
       "    }\n",
       "</style>\n",
       "<table border=\"1\" class=\"dataframe\">\n",
       "  <thead>\n",
       "    <tr style=\"text-align: right;\">\n",
       "      <th>cancellation</th>\n",
       "      <th>정상</th>\n",
       "      <th>해약</th>\n",
       "    </tr>\n",
       "    <tr>\n",
       "      <th>type_of_contract</th>\n",
       "      <th></th>\n",
       "      <th></th>\n",
       "    </tr>\n",
       "  </thead>\n",
       "  <tbody>\n",
       "    <tr>\n",
       "      <th>렌탈</th>\n",
       "      <td>46137</td>\n",
       "      <td>344</td>\n",
       "    </tr>\n",
       "    <tr>\n",
       "      <th>멤버십</th>\n",
       "      <td>4231</td>\n",
       "      <td>563</td>\n",
       "    </tr>\n",
       "  </tbody>\n",
       "</table>\n",
       "</div>"
      ],
      "text/plain": [
       "cancellation         정상   해약\n",
       "type_of_contract            \n",
       "렌탈                46137  344\n",
       "멤버십                4231  563"
      ]
     },
     "execution_count": 10,
     "metadata": {},
     "output_type": "execute_result"
    }
   ],
   "source": [
    "df_TOCC_category_pivot = pd.pivot_table(data=df_TOCC_category, index='type_of_contract', columns='cancellation', aggfunc=len)  # index = group by, aggfunc의 기본값은 평균\n",
    "df_TOCC_category_pivot\n",
    "\n",
    "## 렌탈과 멤버십 2개의 값의 차이가 많이나므로 비교 대상으로는 적절하지 않음\n",
    "## 범주형-범주형의 경우 2가지의 비교가 유의미한지 확인하기 위해서는 둘 다 분포로 변화시켜서 P.value를 이용해 비교해 볼 수 있다.(둘 다 %로 나타낼 수 있음)"
   ]
  },
  {
   "cell_type": "code",
   "execution_count": 7,
   "id": "9f8618b2-e5e3-48c6-9733-e5aea8efac12",
   "metadata": {
    "tags": []
   },
   "outputs": [],
   "source": [
    "import scipy\n",
    "scipy.__version__\n",
    "import scipy.stats as stats"
   ]
  },
  {
   "cell_type": "code",
   "execution_count": 8,
   "id": "020e661f-6c38-407a-b02c-14a9017e8ece",
   "metadata": {
    "tags": []
   },
   "outputs": [
    {
     "data": {
      "text/plain": [
       "Chi2ContingencyResult(statistic=3021.9735309482894, pvalue=0.0, dof=1, expected_freq=array([[45658.8007411,   822.1992589],\n",
       "       [ 4709.1992589,    84.8007411]]))"
      ]
     },
     "execution_count": 8,
     "metadata": {},
     "output_type": "execute_result"
    }
   ],
   "source": [
    "stats.chi2_contingency(observed=df_TOCC_category_pivot, correction=True)\n",
    "\n",
    "## pvalue=0.0"
   ]
  },
  {
   "cell_type": "markdown",
   "id": "7eadbf47-cdff-40eb-abd1-c741c9ab3c83",
   "metadata": {
    "jp-MarkdownHeadingCollapsed": true,
    "tags": []
   },
   "source": [
    "#### 선정 변수 : product, cancellation\n",
    "- 분석 내용 : 차종에 따라 해약여부가 달라지는가?\n",
    "    - 귀무가설: 차종에 따라 해약여부가 달라지지 않는다.\n",
    "    - 대립가설: 차종에 따라 해약여부가 달라진다.\n",
    "- 분석 결론 (기준 - P.value 0.05)\n",
    "    - 통계 결론: 대립가설 참\n",
    "    - 사실 결론: 차종에 따라 해약여부가 달라진다."
   ]
  },
  {
   "cell_type": "code",
   "execution_count": 15,
   "id": "e7d28013-1eb4-48d6-b2e9-f4960deded8b",
   "metadata": {
    "tags": []
   },
   "outputs": [
    {
     "data": {
      "text/html": [
       "<div>\n",
       "<style scoped>\n",
       "    .dataframe tbody tr th:only-of-type {\n",
       "        vertical-align: middle;\n",
       "    }\n",
       "\n",
       "    .dataframe tbody tr th {\n",
       "        vertical-align: top;\n",
       "    }\n",
       "\n",
       "    .dataframe thead th {\n",
       "        text-align: right;\n",
       "    }\n",
       "</style>\n",
       "<table border=\"1\" class=\"dataframe\">\n",
       "  <thead>\n",
       "    <tr style=\"text-align: right;\">\n",
       "      <th></th>\n",
       "      <th>product</th>\n",
       "      <th>cancellation</th>\n",
       "    </tr>\n",
       "  </thead>\n",
       "  <tbody>\n",
       "    <tr>\n",
       "      <th>0</th>\n",
       "      <td>K1</td>\n",
       "      <td>정상</td>\n",
       "    </tr>\n",
       "    <tr>\n",
       "      <th>1</th>\n",
       "      <td>K1</td>\n",
       "      <td>정상</td>\n",
       "    </tr>\n",
       "  </tbody>\n",
       "</table>\n",
       "</div>"
      ],
      "text/plain": [
       "  product cancellation\n",
       "0      K1           정상\n",
       "1      K1           정상"
      ]
     },
     "execution_count": 15,
     "metadata": {},
     "output_type": "execute_result"
    }
   ],
   "source": [
    "# 다른 변수 이름 작성시 .copy() 사용\n",
    "df_TOCC_product = df_TOCC[['product', 'cancellation']].copy()\n",
    "df_TOCC_product[:2]"
   ]
  },
  {
   "cell_type": "code",
   "execution_count": 16,
   "id": "a072fce5-54c7-4342-9c4b-4d8f8a0992fd",
   "metadata": {
    "tags": []
   },
   "outputs": [
    {
     "data": {
      "text/html": [
       "<div>\n",
       "<style scoped>\n",
       "    .dataframe tbody tr th:only-of-type {\n",
       "        vertical-align: middle;\n",
       "    }\n",
       "\n",
       "    .dataframe tbody tr th {\n",
       "        vertical-align: top;\n",
       "    }\n",
       "\n",
       "    .dataframe thead th {\n",
       "        text-align: right;\n",
       "    }\n",
       "</style>\n",
       "<table border=\"1\" class=\"dataframe\">\n",
       "  <thead>\n",
       "    <tr style=\"text-align: right;\">\n",
       "      <th></th>\n",
       "      <th>product</th>\n",
       "      <th>cancellation</th>\n",
       "    </tr>\n",
       "  </thead>\n",
       "  <tbody>\n",
       "    <tr>\n",
       "      <th>count</th>\n",
       "      <td>51303</td>\n",
       "      <td>51279</td>\n",
       "    </tr>\n",
       "    <tr>\n",
       "      <th>unique</th>\n",
       "      <td>6</td>\n",
       "      <td>2</td>\n",
       "    </tr>\n",
       "    <tr>\n",
       "      <th>top</th>\n",
       "      <td>K1</td>\n",
       "      <td>정상</td>\n",
       "    </tr>\n",
       "    <tr>\n",
       "      <th>freq</th>\n",
       "      <td>39134</td>\n",
       "      <td>50372</td>\n",
       "    </tr>\n",
       "  </tbody>\n",
       "</table>\n",
       "</div>"
      ],
      "text/plain": [
       "       product cancellation\n",
       "count    51303        51279\n",
       "unique       6            2\n",
       "top         K1           정상\n",
       "freq     39134        50372"
      ]
     },
     "execution_count": 16,
     "metadata": {},
     "output_type": "execute_result"
    }
   ],
   "source": [
    "df_TOCC_product.describe()\n",
    "# count 값의 차이가 있다 -> null 처리가 필요함"
   ]
  },
  {
   "cell_type": "markdown",
   "id": "4a1faeea-f085-4ac6-a612-e1302260f254",
   "metadata": {
    "tags": []
   },
   "source": [
    "df_TOCC_product = df_TOCC[['product', 'cancellation']].dropna().copy()  # null값 처리\n",
    "df_TOCC_product.describe()"
   ]
  },
  {
   "cell_type": "code",
   "execution_count": 41,
   "id": "2779cfd6-a41d-4fab-b7a1-a81da453b4c9",
   "metadata": {
    "tags": []
   },
   "outputs": [
    {
     "data": {
      "text/html": [
       "<div>\n",
       "<style scoped>\n",
       "    .dataframe tbody tr th:only-of-type {\n",
       "        vertical-align: middle;\n",
       "    }\n",
       "\n",
       "    .dataframe tbody tr th {\n",
       "        vertical-align: top;\n",
       "    }\n",
       "\n",
       "    .dataframe thead th {\n",
       "        text-align: right;\n",
       "    }\n",
       "</style>\n",
       "<table border=\"1\" class=\"dataframe\">\n",
       "  <thead>\n",
       "    <tr style=\"text-align: right;\">\n",
       "      <th>cancellation</th>\n",
       "      <th>정상</th>\n",
       "      <th>해약</th>\n",
       "    </tr>\n",
       "    <tr>\n",
       "      <th>product</th>\n",
       "      <th></th>\n",
       "      <th></th>\n",
       "    </tr>\n",
       "  </thead>\n",
       "  <tbody>\n",
       "    <tr>\n",
       "      <th>K1</th>\n",
       "      <td>38291</td>\n",
       "      <td>820</td>\n",
       "    </tr>\n",
       "    <tr>\n",
       "      <th>K2</th>\n",
       "      <td>8926</td>\n",
       "      <td>67</td>\n",
       "    </tr>\n",
       "    <tr>\n",
       "      <th>K3</th>\n",
       "      <td>2072</td>\n",
       "      <td>10</td>\n",
       "    </tr>\n",
       "    <tr>\n",
       "      <th>K4</th>\n",
       "      <td>323</td>\n",
       "      <td>4</td>\n",
       "    </tr>\n",
       "    <tr>\n",
       "      <th>K5</th>\n",
       "      <td>641</td>\n",
       "      <td>4</td>\n",
       "    </tr>\n",
       "    <tr>\n",
       "      <th>K6</th>\n",
       "      <td>118</td>\n",
       "      <td>2</td>\n",
       "    </tr>\n",
       "  </tbody>\n",
       "</table>\n",
       "</div>"
      ],
      "text/plain": [
       "cancellation     정상   해약\n",
       "product                 \n",
       "K1            38291  820\n",
       "K2             8926   67\n",
       "K3             2072   10\n",
       "K4              323    4\n",
       "K5              641    4\n",
       "K6              118    2"
      ]
     },
     "execution_count": 41,
     "metadata": {},
     "output_type": "execute_result"
    }
   ],
   "source": [
    "df_TOCC_product_pivot = pd.pivot_table(data=df_TOCC_product, index='product'\n",
    "                                       , columns='cancellation', aggfunc=len)  # index -> group by 대상\n",
    "df_TOCC_product_pivot\n",
    "# index와 columns를 바꿔도 가능(순서 바꿔도 상관없음)"
   ]
  },
  {
   "cell_type": "code",
   "execution_count": 40,
   "id": "ae2a944e-3b50-461f-b772-76a21b09b079",
   "metadata": {
    "tags": []
   },
   "outputs": [
    {
     "data": {
      "text/plain": [
       "Chi2ContingencyResult(statistic=103.79474317337241, pvalue=8.372028115481391e-21, dof=5, expected_freq=array([[3.84192086e+04, 6.91791353e+02],\n",
       "       [8.83393274e+03, 1.59067261e+02],\n",
       "       [2.04517380e+03, 3.68262023e+01],\n",
       "       [3.21216058e+02, 5.78394243e+00],\n",
       "       [6.33591306e+02, 1.14086938e+01],\n",
       "       [1.17877452e+02, 2.12254768e+00]]))"
      ]
     },
     "execution_count": 40,
     "metadata": {},
     "output_type": "execute_result"
    }
   ],
   "source": [
    "# product 기준\n",
    "stats.chi2_contingency(observed=df_TOCC_product_pivot, correction=True)  # correction:자유도\n",
    "# pvalue=8.372028115481391e-21(pvalue:0.00000837...), dof=5 (자유도:5)"
   ]
  },
  {
   "cell_type": "code",
   "execution_count": 42,
   "id": "1e03a597-a62f-4061-86bf-e0edbb4508c4",
   "metadata": {
    "tags": []
   },
   "outputs": [
    {
     "data": {
      "text/html": [
       "<div>\n",
       "<style scoped>\n",
       "    .dataframe tbody tr th:only-of-type {\n",
       "        vertical-align: middle;\n",
       "    }\n",
       "\n",
       "    .dataframe tbody tr th {\n",
       "        vertical-align: top;\n",
       "    }\n",
       "\n",
       "    .dataframe thead th {\n",
       "        text-align: right;\n",
       "    }\n",
       "</style>\n",
       "<table border=\"1\" class=\"dataframe\">\n",
       "  <thead>\n",
       "    <tr style=\"text-align: right;\">\n",
       "      <th>product</th>\n",
       "      <th>K1</th>\n",
       "      <th>K2</th>\n",
       "      <th>K3</th>\n",
       "      <th>K4</th>\n",
       "      <th>K5</th>\n",
       "      <th>K6</th>\n",
       "    </tr>\n",
       "    <tr>\n",
       "      <th>cancellation</th>\n",
       "      <th></th>\n",
       "      <th></th>\n",
       "      <th></th>\n",
       "      <th></th>\n",
       "      <th></th>\n",
       "      <th></th>\n",
       "    </tr>\n",
       "  </thead>\n",
       "  <tbody>\n",
       "    <tr>\n",
       "      <th>정상</th>\n",
       "      <td>38291</td>\n",
       "      <td>8926</td>\n",
       "      <td>2072</td>\n",
       "      <td>323</td>\n",
       "      <td>641</td>\n",
       "      <td>118</td>\n",
       "    </tr>\n",
       "    <tr>\n",
       "      <th>해약</th>\n",
       "      <td>820</td>\n",
       "      <td>67</td>\n",
       "      <td>10</td>\n",
       "      <td>4</td>\n",
       "      <td>4</td>\n",
       "      <td>2</td>\n",
       "    </tr>\n",
       "  </tbody>\n",
       "</table>\n",
       "</div>"
      ],
      "text/plain": [
       "product          K1    K2    K3   K4   K5   K6\n",
       "cancellation                                  \n",
       "정상            38291  8926  2072  323  641  118\n",
       "해약              820    67    10    4    4    2"
      ]
     },
     "execution_count": 42,
     "metadata": {},
     "output_type": "execute_result"
    }
   ],
   "source": [
    "df_TOCC_product_pivot = pd.pivot_table(data=df_TOCC_product, index='cancellation'\n",
    "                                       , columns='product', aggfunc=len)  # index -> group by 대상\n",
    "df_TOCC_product_pivot"
   ]
  },
  {
   "cell_type": "code",
   "execution_count": 44,
   "id": "2d801788-1457-4468-8dc7-0ddbbd73d913",
   "metadata": {
    "tags": []
   },
   "outputs": [
    {
     "data": {
      "text/plain": [
       "Chi2ContingencyResult(statistic=103.79474317337241, pvalue=8.372028115481391e-21, dof=5, expected_freq=array([[3.84192086e+04, 8.83393274e+03, 2.04517380e+03, 3.21216058e+02,\n",
       "        6.33591306e+02, 1.17877452e+02],\n",
       "       [6.91791353e+02, 1.59067261e+02, 3.68262023e+01, 5.78394243e+00,\n",
       "        1.14086938e+01, 2.12254768e+00]]))"
      ]
     },
     "execution_count": 44,
     "metadata": {},
     "output_type": "execute_result"
    }
   ],
   "source": [
    "# cancellation 기준\n",
    "stats.chi2_contingency(observed=df_TOCC_product_pivot, correction=True)"
   ]
  },
  {
   "cell_type": "markdown",
   "id": "e140b371-6d53-4e1b-9a49-e9255b291f9f",
   "metadata": {
    "jp-MarkdownHeadingCollapsed": true,
    "tags": []
   },
   "source": [
    "#### 선정 변수 : state, cancellation\n",
    "- 위 두가지의 변수 구성은 참조되지 않는다."
   ]
  },
  {
   "cell_type": "code",
   "execution_count": 29,
   "id": "8e786085-2e0e-472b-9191-0a1ef12a1f33",
   "metadata": {
    "tags": []
   },
   "outputs": [
    {
     "data": {
      "text/html": [
       "<div>\n",
       "<style scoped>\n",
       "    .dataframe tbody tr th:only-of-type {\n",
       "        vertical-align: middle;\n",
       "    }\n",
       "\n",
       "    .dataframe tbody tr th {\n",
       "        vertical-align: top;\n",
       "    }\n",
       "\n",
       "    .dataframe thead th {\n",
       "        text-align: right;\n",
       "    }\n",
       "</style>\n",
       "<table border=\"1\" class=\"dataframe\">\n",
       "  <thead>\n",
       "    <tr style=\"text-align: right;\">\n",
       "      <th></th>\n",
       "      <th>state</th>\n",
       "      <th>cancellation</th>\n",
       "    </tr>\n",
       "  </thead>\n",
       "  <tbody>\n",
       "    <tr>\n",
       "      <th>0</th>\n",
       "      <td>계약확정</td>\n",
       "      <td>정상</td>\n",
       "    </tr>\n",
       "    <tr>\n",
       "      <th>1</th>\n",
       "      <td>계약확정</td>\n",
       "      <td>정상</td>\n",
       "    </tr>\n",
       "  </tbody>\n",
       "</table>\n",
       "</div>"
      ],
      "text/plain": [
       "  state cancellation\n",
       "0  계약확정           정상\n",
       "1  계약확정           정상"
      ]
     },
     "execution_count": 29,
     "metadata": {},
     "output_type": "execute_result"
    }
   ],
   "source": [
    "# error with Nan\n",
    "df_TOCC_error = df_TOCC[['state', 'cancellation']]\n",
    "df_TOCC_error[:2]"
   ]
  },
  {
   "cell_type": "code",
   "execution_count": 34,
   "id": "69bc539f-6c50-4277-9f49-b390307be2d7",
   "metadata": {
    "tags": []
   },
   "outputs": [
    {
     "data": {
      "text/html": [
       "<div>\n",
       "<style scoped>\n",
       "    .dataframe tbody tr th:only-of-type {\n",
       "        vertical-align: middle;\n",
       "    }\n",
       "\n",
       "    .dataframe tbody tr th {\n",
       "        vertical-align: top;\n",
       "    }\n",
       "\n",
       "    .dataframe thead th {\n",
       "        text-align: right;\n",
       "    }\n",
       "</style>\n",
       "<table border=\"1\" class=\"dataframe\">\n",
       "  <thead>\n",
       "    <tr style=\"text-align: right;\">\n",
       "      <th></th>\n",
       "      <th>state</th>\n",
       "      <th>cancellation</th>\n",
       "    </tr>\n",
       "  </thead>\n",
       "  <tbody>\n",
       "    <tr>\n",
       "      <th>count</th>\n",
       "      <td>51279</td>\n",
       "      <td>51279</td>\n",
       "    </tr>\n",
       "    <tr>\n",
       "      <th>unique</th>\n",
       "      <td>4</td>\n",
       "      <td>2</td>\n",
       "    </tr>\n",
       "    <tr>\n",
       "      <th>top</th>\n",
       "      <td>계약확정</td>\n",
       "      <td>정상</td>\n",
       "    </tr>\n",
       "    <tr>\n",
       "      <th>freq</th>\n",
       "      <td>50326</td>\n",
       "      <td>50372</td>\n",
       "    </tr>\n",
       "  </tbody>\n",
       "</table>\n",
       "</div>"
      ],
      "text/plain": [
       "        state cancellation\n",
       "count   51279        51279\n",
       "unique      4            2\n",
       "top      계약확정           정상\n",
       "freq    50326        50372"
      ]
     },
     "execution_count": 34,
     "metadata": {},
     "output_type": "execute_result"
    }
   ],
   "source": [
    "df_TOCC_error.describe()\n",
    "# count값의 차이가 있음 -> null값이 존재하므로 drop필요\n",
    "# unique를 보고 범주형/범주형 확인"
   ]
  },
  {
   "cell_type": "code",
   "execution_count": 33,
   "id": "dbc1a8a5-c7ee-4bbf-af61-da1849f6e3c9",
   "metadata": {
    "tags": []
   },
   "outputs": [
    {
     "data": {
      "text/html": [
       "<div>\n",
       "<style scoped>\n",
       "    .dataframe tbody tr th:only-of-type {\n",
       "        vertical-align: middle;\n",
       "    }\n",
       "\n",
       "    .dataframe tbody tr th {\n",
       "        vertical-align: top;\n",
       "    }\n",
       "\n",
       "    .dataframe thead th {\n",
       "        text-align: right;\n",
       "    }\n",
       "</style>\n",
       "<table border=\"1\" class=\"dataframe\">\n",
       "  <thead>\n",
       "    <tr style=\"text-align: right;\">\n",
       "      <th></th>\n",
       "      <th>state</th>\n",
       "      <th>cancellation</th>\n",
       "    </tr>\n",
       "  </thead>\n",
       "  <tbody>\n",
       "    <tr>\n",
       "      <th>count</th>\n",
       "      <td>51279</td>\n",
       "      <td>51279</td>\n",
       "    </tr>\n",
       "    <tr>\n",
       "      <th>unique</th>\n",
       "      <td>4</td>\n",
       "      <td>2</td>\n",
       "    </tr>\n",
       "    <tr>\n",
       "      <th>top</th>\n",
       "      <td>계약확정</td>\n",
       "      <td>정상</td>\n",
       "    </tr>\n",
       "    <tr>\n",
       "      <th>freq</th>\n",
       "      <td>50326</td>\n",
       "      <td>50372</td>\n",
       "    </tr>\n",
       "  </tbody>\n",
       "</table>\n",
       "</div>"
      ],
      "text/plain": [
       "        state cancellation\n",
       "count   51279        51279\n",
       "unique      4            2\n",
       "top      계약확정           정상\n",
       "freq    50326        50372"
      ]
     },
     "execution_count": 33,
     "metadata": {},
     "output_type": "execute_result"
    }
   ],
   "source": [
    "df_TOCC_error = df_TOCC[['state', 'cancellation']].dropna().copy()\n",
    "df_TOCC_error.describe()"
   ]
  },
  {
   "cell_type": "code",
   "execution_count": 45,
   "id": "197f9c3c-e0e6-4101-9b4b-a4b6bc689484",
   "metadata": {
    "tags": []
   },
   "outputs": [
    {
     "data": {
      "text/html": [
       "<div>\n",
       "<style scoped>\n",
       "    .dataframe tbody tr th:only-of-type {\n",
       "        vertical-align: middle;\n",
       "    }\n",
       "\n",
       "    .dataframe tbody tr th {\n",
       "        vertical-align: top;\n",
       "    }\n",
       "\n",
       "    .dataframe thead th {\n",
       "        text-align: right;\n",
       "    }\n",
       "</style>\n",
       "<table border=\"1\" class=\"dataframe\">\n",
       "  <thead>\n",
       "    <tr style=\"text-align: right;\">\n",
       "      <th>cancellation</th>\n",
       "      <th>정상</th>\n",
       "      <th>해약</th>\n",
       "    </tr>\n",
       "    <tr>\n",
       "      <th>state</th>\n",
       "      <th></th>\n",
       "      <th></th>\n",
       "    </tr>\n",
       "  </thead>\n",
       "  <tbody>\n",
       "    <tr>\n",
       "      <th>계약확정</th>\n",
       "      <td>50326.0</td>\n",
       "      <td>NaN</td>\n",
       "    </tr>\n",
       "    <tr>\n",
       "      <th>기간만료</th>\n",
       "      <td>32.0</td>\n",
       "      <td>NaN</td>\n",
       "    </tr>\n",
       "    <tr>\n",
       "      <th>해약진행중</th>\n",
       "      <td>14.0</td>\n",
       "      <td>NaN</td>\n",
       "    </tr>\n",
       "    <tr>\n",
       "      <th>해약확정</th>\n",
       "      <td>NaN</td>\n",
       "      <td>907.0</td>\n",
       "    </tr>\n",
       "  </tbody>\n",
       "</table>\n",
       "</div>"
      ],
      "text/plain": [
       "cancellation       정상     해약\n",
       "state                       \n",
       "계약확정          50326.0    NaN\n",
       "기간만료             32.0    NaN\n",
       "해약진행중            14.0    NaN\n",
       "해약확정              NaN  907.0"
      ]
     },
     "execution_count": 45,
     "metadata": {},
     "output_type": "execute_result"
    }
   ],
   "source": [
    "df_TOCC_error_pivot = pd.pivot_table(data=df_TOCC_error, index='state', columns='cancellation', aggfunc=len)\n",
    "df_TOCC_error_pivot\n",
    "\n",
    "# 짝을 맞춰야 하기 때문에 null값이 생기게 됨\n",
    "# null값이 있을 경우 chi2을 할 수가 없음"
   ]
  },
  {
   "cell_type": "code",
   "execution_count": 36,
   "id": "709d7db3-df41-471e-955f-ba3556743962",
   "metadata": {
    "tags": []
   },
   "outputs": [
    {
     "data": {
      "text/plain": [
       "Chi2ContingencyResult(statistic=nan, pvalue=nan, dof=3, expected_freq=array([[nan, nan],\n",
       "       [nan, nan],\n",
       "       [nan, nan],\n",
       "       [nan, nan]]))"
      ]
     },
     "execution_count": 36,
     "metadata": {},
     "output_type": "execute_result"
    }
   ],
   "source": [
    "stats.chi2_contingency(observed=df_TOCC_error_pivot, correction=True)"
   ]
  },
  {
   "cell_type": "code",
   "execution_count": null,
   "id": "d33d76e0-1b83-460d-99a0-953ac89e3747",
   "metadata": {},
   "outputs": [],
   "source": []
  }
 ],
 "metadata": {
  "kernelspec": {
   "display_name": "Python 3 (ipykernel)",
   "language": "python",
   "name": "python3"
  },
  "language_info": {
   "codemirror_mode": {
    "name": "ipython",
    "version": 3
   },
   "file_extension": ".py",
   "mimetype": "text/x-python",
   "name": "python",
   "nbconvert_exporter": "python",
   "pygments_lexer": "ipython3",
   "version": "3.11.3"
  }
 },
 "nbformat": 4,
 "nbformat_minor": 5
}
