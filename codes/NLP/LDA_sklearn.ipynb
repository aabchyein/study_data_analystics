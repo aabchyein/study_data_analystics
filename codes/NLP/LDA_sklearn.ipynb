{
 "cells": [
  {
   "cell_type": "code",
   "execution_count": 1,
   "id": "71832a59-b883-4700-aea3-09617ba319c7",
   "metadata": {
    "tags": []
   },
   "outputs": [],
   "source": [
    "sentences = [\n",
    "    \"오늘 날씨가 좋아서 나들이 가고 싶다.\",\n",
    "    \"이 영화는 정말 재미있었어요.\",\n",
    "    \"맛있는 음식을 먹으러 갈까요?\",\n",
    "    \"운동을 하면 건강에 좋아지는 것 같아요.\",\n",
    "    \"공부하기 싫어서 미루고 있어요.\",\n",
    "    \"여행 계획을 세우고 있는데 어디로 갈까요?\",\n",
    "    \"좋은 책을 읽으면 마음이 편안해져요.\",\n",
    "    \"오늘은 친구들과 만나서 재미있게 놀았어요.\",\n",
    "    \"새로운 언어를 배우는 것은 어려워도 흥미로워요.\",\n",
    "    \"주말에 가족들과 함께 시간을 보내기로 했습니다.\"\n",
    "]"
   ]
  },
  {
   "cell_type": "markdown",
   "id": "957bc031-76e7-4476-8b13-17c4f6173c68",
   "metadata": {
    "tags": []
   },
   "source": [
    "### 자연어 전처리"
   ]
  },
  {
   "cell_type": "code",
   "execution_count": 2,
   "id": "03262dd3-69c4-44ef-81f6-23d4915b9c34",
   "metadata": {},
   "outputs": [],
   "source": [
    "# %pip install python-mecab-ko"
   ]
  },
  {
   "cell_type": "code",
   "execution_count": 3,
   "id": "cb48e328-5c65-46c0-bfa3-b4a19cd66128",
   "metadata": {
    "tags": []
   },
   "outputs": [],
   "source": [
    "from mecab import MeCab\n",
    "mecab = MeCab()"
   ]
  },
  {
   "cell_type": "code",
   "execution_count": 4,
   "id": "f1aaf1b8-fe8b-4132-bd66-99f525c55139",
   "metadata": {
    "tags": []
   },
   "outputs": [],
   "source": [
    "# 불용어 리스트 생성 (예시)\n",
    "stopwords = ['가', '고', '을', '를', '이', '는']\n",
    "from konlpy.tag import Okt\n",
    "\n",
    "# Okt 형태소 분석기 인스턴스 생성\n",
    "okt = Okt()\n",
    "\n",
    "# 불용어 리스트 생성 (예시)\n",
    "stopwords = ['가', '고', '을', '를', '이', '는']\n",
    "\n",
    "# 토크나이징 함수 정의\n",
    "def tokenizer(raw, pos=[\"Noun\",\"Alpha\",\"Verb\",\"Number\"], stopword=stopwords):\n",
    "    return [\n",
    "        word for word, tag in okt.pos(\n",
    "            raw, \n",
    "            norm=True,   # normalize 그랰ㅋㅏ -> 그래ㅋㅋ\n",
    "            stem=True    # stemming 바뀌나->바뀌다\n",
    "            )\n",
    "            if len(word) > 1 and tag in pos and word not in stopword\n",
    "\n",
    "    ]"
   ]
  },
  {
   "cell_type": "code",
   "execution_count": 38,
   "id": "10c6b117-525d-42e6-aca1-702c700b7554",
   "metadata": {
    "tags": []
   },
   "outputs": [
    {
     "data": {
      "text/plain": [
       "array([[0.46015789, 0.        , 0.        , 0.        , 0.        ,\n",
       "        0.        , 0.46015789, 0.46015789, 0.        , 0.        ,\n",
       "        0.        , 0.        , 0.        , 0.        , 0.        ,\n",
       "        0.        , 0.        , 0.46015789, 0.        , 0.        ,\n",
       "        0.        , 0.        , 0.39117625, 0.        , 0.        ,\n",
       "        0.        , 0.        , 0.        , 0.        , 0.        ,\n",
       "        0.        ],\n",
       "       [0.        , 0.        , 0.        , 0.        , 0.        ,\n",
       "        0.        , 0.        , 0.        , 0.        , 0.        ,\n",
       "        0.        , 0.        , 0.        , 0.        , 0.        ,\n",
       "        0.        , 0.        , 0.        , 0.        , 0.        ,\n",
       "        0.        , 0.70710678, 0.        , 0.        , 0.        ,\n",
       "        0.        , 0.70710678, 0.        , 0.        , 0.        ,\n",
       "        0.        ],\n",
       "       [0.        , 0.        , 0.51519219, 0.        , 0.        ,\n",
       "        0.        , 0.        , 0.        , 0.        , 0.        ,\n",
       "        0.        , 0.60604332, 0.        , 0.        , 0.        ,\n",
       "        0.        , 0.        , 0.        , 0.        , 0.        ,\n",
       "        0.        , 0.        , 0.        , 0.        , 0.60604332,\n",
       "        0.        , 0.        , 0.        , 0.        , 0.        ,\n",
       "        0.        ],\n",
       "       [0.        , 0.        , 0.        , 0.53051081, 0.        ,\n",
       "        0.        , 0.        , 0.        , 0.        , 0.        ,\n",
       "        0.        , 0.        , 0.        , 0.        , 0.        ,\n",
       "        0.        , 0.        , 0.        , 0.        , 0.        ,\n",
       "        0.        , 0.        , 0.        , 0.53051081, 0.        ,\n",
       "        0.        , 0.        , 0.53051081, 0.        , 0.        ,\n",
       "        0.39455653],\n",
       "       [0.        , 0.        , 0.        , 0.        , 0.        ,\n",
       "        0.62583988, 0.        , 0.        , 0.        , 0.        ,\n",
       "        0.        , 0.        , 0.62583988, 0.        , 0.        ,\n",
       "        0.        , 0.        , 0.        , 0.        , 0.        ,\n",
       "        0.        , 0.        , 0.        , 0.        , 0.        ,\n",
       "        0.        , 0.        , 0.        , 0.        , 0.        ,\n",
       "        0.46545557],\n",
       "       [0.        , 0.        , 0.39117625, 0.        , 0.46015789,\n",
       "        0.        , 0.        , 0.        , 0.        , 0.        ,\n",
       "        0.        , 0.        , 0.        , 0.        , 0.        ,\n",
       "        0.46015789, 0.        , 0.        , 0.46015789, 0.        ,\n",
       "        0.46015789, 0.        , 0.        , 0.        , 0.        ,\n",
       "        0.        , 0.        , 0.        , 0.        , 0.        ,\n",
       "        0.        ],\n",
       "       [0.        , 0.        , 0.        , 0.        , 0.        ,\n",
       "        0.        , 0.        , 0.        , 0.        , 0.70710678,\n",
       "        0.        , 0.        , 0.        , 0.        , 0.        ,\n",
       "        0.        , 0.        , 0.        , 0.        , 0.        ,\n",
       "        0.        , 0.        , 0.        , 0.        , 0.        ,\n",
       "        0.70710678, 0.        , 0.        , 0.        , 0.        ,\n",
       "        0.        ],\n",
       "       [0.        , 0.        , 0.        , 0.        , 0.        ,\n",
       "        0.        , 0.        , 0.        , 0.5182909 , 0.        ,\n",
       "        0.5182909 , 0.        , 0.        , 0.        , 0.        ,\n",
       "        0.        , 0.        , 0.        , 0.        , 0.        ,\n",
       "        0.        , 0.        , 0.44059462, 0.        , 0.        ,\n",
       "        0.        , 0.        , 0.        , 0.        , 0.5182909 ,\n",
       "        0.        ],\n",
       "       [0.        , 0.        , 0.        , 0.        , 0.        ,\n",
       "        0.        , 0.        , 0.        , 0.        , 0.        ,\n",
       "        0.        , 0.        , 0.        , 0.70710678, 0.        ,\n",
       "        0.        , 0.        , 0.        , 0.        , 0.70710678,\n",
       "        0.        , 0.        , 0.        , 0.        , 0.        ,\n",
       "        0.        , 0.        , 0.        , 0.        , 0.        ,\n",
       "        0.        ],\n",
       "       [0.        , 0.46864588, 0.        , 0.        , 0.        ,\n",
       "        0.        , 0.        , 0.        , 0.        , 0.        ,\n",
       "        0.        , 0.        , 0.        , 0.        , 0.46864588,\n",
       "        0.        , 0.46864588, 0.        , 0.        , 0.        ,\n",
       "        0.        , 0.        , 0.        , 0.        , 0.        ,\n",
       "        0.        , 0.        , 0.        , 0.46864588, 0.        ,\n",
       "        0.34854576]])"
      ]
     },
     "execution_count": 38,
     "metadata": {},
     "output_type": "execute_result"
    }
   ],
   "source": [
    "from sklearn.feature_extraction.text import TfidfVectorizer\n",
    "vectorizer = TfidfVectorizer(tokenizer=tokenizer, use_idf=True)\n",
    "features = vectorizer.fit_transform(sentences)\n",
    "features.toarray()\n",
    "\n",
    "# vectorizer를 하면 각 순서(index)와 위치값, 단어들을 가지고 있음\n",
    "# vectorizer는 거리를 가지고 논다고 생각하자!\n",
    "# vectorizer를 하고 나면 거리를 잴 수 있음"
   ]
  },
  {
   "cell_type": "markdown",
   "id": "3620fe72-053c-46c7-bc73-a7f149b1a7eb",
   "metadata": {
    "tags": []
   },
   "source": [
    "### LDA 적용"
   ]
  },
  {
   "cell_type": "code",
   "execution_count": 37,
   "id": "49bec9b8-3310-4204-96cf-7ee295b3b967",
   "metadata": {
    "tags": []
   },
   "outputs": [],
   "source": [
    "from sklearn.decomposition import LatentDirichletAllocation\n",
    "lda_model = LatentDirichletAllocation(n_components=3, random_state=111)   # n_components=3 : 토픽의 개수\n",
    "\n",
    "# 단어들을 좌표상에 쫙 뿌려놓고 몇 개로 분류를 할 지 정해주면 그 개수만큼 토픽이 생기게 됨.\n",
    "# 거리가 가까운 단어들끼리 모여서 하나의 토픽에 들어가게 됨."
   ]
  },
  {
   "cell_type": "code",
   "execution_count": 7,
   "id": "bb7991b2-f2d3-4da8-97da-decf02f1c050",
   "metadata": {
    "tags": []
   },
   "outputs": [
    {
     "data": {
      "text/html": [
       "<style>#sk-container-id-1 {color: black;background-color: white;}#sk-container-id-1 pre{padding: 0;}#sk-container-id-1 div.sk-toggleable {background-color: white;}#sk-container-id-1 label.sk-toggleable__label {cursor: pointer;display: block;width: 100%;margin-bottom: 0;padding: 0.3em;box-sizing: border-box;text-align: center;}#sk-container-id-1 label.sk-toggleable__label-arrow:before {content: \"▸\";float: left;margin-right: 0.25em;color: #696969;}#sk-container-id-1 label.sk-toggleable__label-arrow:hover:before {color: black;}#sk-container-id-1 div.sk-estimator:hover label.sk-toggleable__label-arrow:before {color: black;}#sk-container-id-1 div.sk-toggleable__content {max-height: 0;max-width: 0;overflow: hidden;text-align: left;background-color: #f0f8ff;}#sk-container-id-1 div.sk-toggleable__content pre {margin: 0.2em;color: black;border-radius: 0.25em;background-color: #f0f8ff;}#sk-container-id-1 input.sk-toggleable__control:checked~div.sk-toggleable__content {max-height: 200px;max-width: 100%;overflow: auto;}#sk-container-id-1 input.sk-toggleable__control:checked~label.sk-toggleable__label-arrow:before {content: \"▾\";}#sk-container-id-1 div.sk-estimator input.sk-toggleable__control:checked~label.sk-toggleable__label {background-color: #d4ebff;}#sk-container-id-1 div.sk-label input.sk-toggleable__control:checked~label.sk-toggleable__label {background-color: #d4ebff;}#sk-container-id-1 input.sk-hidden--visually {border: 0;clip: rect(1px 1px 1px 1px);clip: rect(1px, 1px, 1px, 1px);height: 1px;margin: -1px;overflow: hidden;padding: 0;position: absolute;width: 1px;}#sk-container-id-1 div.sk-estimator {font-family: monospace;background-color: #f0f8ff;border: 1px dotted black;border-radius: 0.25em;box-sizing: border-box;margin-bottom: 0.5em;}#sk-container-id-1 div.sk-estimator:hover {background-color: #d4ebff;}#sk-container-id-1 div.sk-parallel-item::after {content: \"\";width: 100%;border-bottom: 1px solid gray;flex-grow: 1;}#sk-container-id-1 div.sk-label:hover label.sk-toggleable__label {background-color: #d4ebff;}#sk-container-id-1 div.sk-serial::before {content: \"\";position: absolute;border-left: 1px solid gray;box-sizing: border-box;top: 0;bottom: 0;left: 50%;z-index: 0;}#sk-container-id-1 div.sk-serial {display: flex;flex-direction: column;align-items: center;background-color: white;padding-right: 0.2em;padding-left: 0.2em;position: relative;}#sk-container-id-1 div.sk-item {position: relative;z-index: 1;}#sk-container-id-1 div.sk-parallel {display: flex;align-items: stretch;justify-content: center;background-color: white;position: relative;}#sk-container-id-1 div.sk-item::before, #sk-container-id-1 div.sk-parallel-item::before {content: \"\";position: absolute;border-left: 1px solid gray;box-sizing: border-box;top: 0;bottom: 0;left: 50%;z-index: -1;}#sk-container-id-1 div.sk-parallel-item {display: flex;flex-direction: column;z-index: 1;position: relative;background-color: white;}#sk-container-id-1 div.sk-parallel-item:first-child::after {align-self: flex-end;width: 50%;}#sk-container-id-1 div.sk-parallel-item:last-child::after {align-self: flex-start;width: 50%;}#sk-container-id-1 div.sk-parallel-item:only-child::after {width: 0;}#sk-container-id-1 div.sk-dashed-wrapped {border: 1px dashed gray;margin: 0 0.4em 0.5em 0.4em;box-sizing: border-box;padding-bottom: 0.4em;background-color: white;}#sk-container-id-1 div.sk-label label {font-family: monospace;font-weight: bold;display: inline-block;line-height: 1.2em;}#sk-container-id-1 div.sk-label-container {text-align: center;}#sk-container-id-1 div.sk-container {/* jupyter's `normalize.less` sets `[hidden] { display: none; }` but bootstrap.min.css set `[hidden] { display: none !important; }` so we also need the `!important` here to be able to override the default hidden behavior on the sphinx rendered scikit-learn.org. See: https://github.com/scikit-learn/scikit-learn/issues/21755 */display: inline-block !important;position: relative;}#sk-container-id-1 div.sk-text-repr-fallback {display: none;}</style><div id=\"sk-container-id-1\" class=\"sk-top-container\"><div class=\"sk-text-repr-fallback\"><pre>LatentDirichletAllocation(n_components=3, random_state=111)</pre><b>In a Jupyter environment, please rerun this cell to show the HTML representation or trust the notebook. <br />On GitHub, the HTML representation is unable to render, please try loading this page with nbviewer.org.</b></div><div class=\"sk-container\" hidden><div class=\"sk-item\"><div class=\"sk-estimator sk-toggleable\"><input class=\"sk-toggleable__control sk-hidden--visually\" id=\"sk-estimator-id-1\" type=\"checkbox\" checked><label for=\"sk-estimator-id-1\" class=\"sk-toggleable__label sk-toggleable__label-arrow\">LatentDirichletAllocation</label><div class=\"sk-toggleable__content\"><pre>LatentDirichletAllocation(n_components=3, random_state=111)</pre></div></div></div></div></div>"
      ],
      "text/plain": [
       "LatentDirichletAllocation(n_components=3, random_state=111)"
      ]
     },
     "execution_count": 7,
     "metadata": {},
     "output_type": "execute_result"
    }
   ],
   "source": [
    "lda_model.fit(features)   # 교육"
   ]
  },
  {
   "cell_type": "code",
   "execution_count": 31,
   "id": "6005187d-bdc8-476e-92d9-61ab90f29755",
   "metadata": {
    "tags": []
   },
   "outputs": [
    {
     "data": {
      "text/plain": [
       "array([0.33440991, 0.79926725, 0.33449536, 0.86083679, 0.33438975,\n",
       "       0.95573491, 0.33440991, 0.33440991, 0.33452947, 0.33498098,\n",
       "       0.33452947, 0.33467772, 0.95573491, 1.03622195, 0.79926725,\n",
       "       0.33438975, 0.79926725, 0.33440991, 0.33438975, 1.03622195,\n",
       "       0.33438975, 0.33501138, 0.33441824, 0.86083679, 0.33467772,\n",
       "       0.33498098, 0.33501138, 0.86083679, 0.79926725, 0.33452947,\n",
       "       1.53902864])"
      ]
     },
     "execution_count": 31,
     "metadata": {},
     "output_type": "execute_result"
    }
   ],
   "source": [
    "# lda_model.components_ : 토픽의 개수가 3개이므로 배열이 3개가 나옴\n",
    "topics_list = lda_model.components_[0] # 첫번째 토픽\n",
    "topics_list   # dictionary_list와 매칭됨. 그래서 이 상태에서 order by를 할 경우 한글과 매칭이 안되므로 두 개를 합친 다음에 order by를 해줘야 한다."
   ]
  },
  {
   "cell_type": "code",
   "execution_count": 30,
   "id": "0931c79c-7a54-4e22-ae1e-cf975607d082",
   "metadata": {
    "tags": []
   },
   "outputs": [
    {
     "data": {
      "text/plain": [
       "31"
      ]
     },
     "execution_count": 30,
     "metadata": {},
     "output_type": "execute_result"
    }
   ],
   "source": [
    "len(lda_model.components_[0])"
   ]
  },
  {
   "cell_type": "markdown",
   "id": "488418ce-1b2d-4230-b21e-80392a15a5b4",
   "metadata": {},
   "source": [
    "### 토픽별 단어 표시"
   ]
  },
  {
   "cell_type": "code",
   "execution_count": 10,
   "id": "55713236-f249-41ab-a40d-5b8f2ac8b0fe",
   "metadata": {
    "tags": []
   },
   "outputs": [
    {
     "data": {
      "text/plain": [
       "array(['가다', '가족', '갈다', '건강', '계획', '공부', '나들이', '날씨', '놀다', '마음', '만나다',\n",
       "       '먹다', '미루다', '배우다', '보내다', '세우다', '시간', '싶다', '어디', '언어', '여행',\n",
       "       '영화', '오늘', '운동', '음식', '읽다', '정말', '좋아지다', '주말', '친구', '하다'],\n",
       "      dtype=object)"
      ]
     },
     "execution_count": 10,
     "metadata": {},
     "output_type": "execute_result"
    }
   ],
   "source": [
    "dictionary_list = vectorizer.get_feature_names_out()\n",
    "dictionary_list"
   ]
  },
  {
   "cell_type": "code",
   "execution_count": 11,
   "id": "0a793202-3646-4ff5-a495-6b73bdf37321",
   "metadata": {
    "tags": []
   },
   "outputs": [
    {
     "data": {
      "text/plain": [
       "31"
      ]
     },
     "execution_count": 11,
     "metadata": {},
     "output_type": "execute_result"
    }
   ],
   "source": [
    "len(vectorizer.get_feature_names_out())"
   ]
  },
  {
   "cell_type": "code",
   "execution_count": 12,
   "id": "4e212220-9027-4a18-a929-09661931891d",
   "metadata": {
    "tags": []
   },
   "outputs": [
    {
     "data": {
      "text/html": [
       "<div>\n",
       "<style scoped>\n",
       "    .dataframe tbody tr th:only-of-type {\n",
       "        vertical-align: middle;\n",
       "    }\n",
       "\n",
       "    .dataframe tbody tr th {\n",
       "        vertical-align: top;\n",
       "    }\n",
       "\n",
       "    .dataframe thead th {\n",
       "        text-align: right;\n",
       "    }\n",
       "</style>\n",
       "<table border=\"1\" class=\"dataframe\">\n",
       "  <thead>\n",
       "    <tr style=\"text-align: right;\">\n",
       "      <th></th>\n",
       "      <th>0</th>\n",
       "      <th>1</th>\n",
       "      <th>2</th>\n",
       "      <th>3</th>\n",
       "      <th>4</th>\n",
       "      <th>5</th>\n",
       "      <th>6</th>\n",
       "      <th>7</th>\n",
       "      <th>8</th>\n",
       "      <th>9</th>\n",
       "      <th>...</th>\n",
       "      <th>21</th>\n",
       "      <th>22</th>\n",
       "      <th>23</th>\n",
       "      <th>24</th>\n",
       "      <th>25</th>\n",
       "      <th>26</th>\n",
       "      <th>27</th>\n",
       "      <th>28</th>\n",
       "      <th>29</th>\n",
       "      <th>30</th>\n",
       "    </tr>\n",
       "  </thead>\n",
       "  <tbody>\n",
       "    <tr>\n",
       "      <th>0</th>\n",
       "      <td>0.33441</td>\n",
       "      <td>0.799267</td>\n",
       "      <td>0.334495</td>\n",
       "      <td>0.860837</td>\n",
       "      <td>0.33439</td>\n",
       "      <td>0.955735</td>\n",
       "      <td>0.33441</td>\n",
       "      <td>0.33441</td>\n",
       "      <td>0.334529</td>\n",
       "      <td>0.334981</td>\n",
       "      <td>...</td>\n",
       "      <td>0.335011</td>\n",
       "      <td>0.334418</td>\n",
       "      <td>0.860837</td>\n",
       "      <td>0.334678</td>\n",
       "      <td>0.334981</td>\n",
       "      <td>0.335011</td>\n",
       "      <td>0.860837</td>\n",
       "      <td>0.799267</td>\n",
       "      <td>0.334529</td>\n",
       "      <td>1.539029</td>\n",
       "    </tr>\n",
       "    <tr>\n",
       "      <th>1</th>\n",
       "      <td>가다</td>\n",
       "      <td>가족</td>\n",
       "      <td>갈다</td>\n",
       "      <td>건강</td>\n",
       "      <td>계획</td>\n",
       "      <td>공부</td>\n",
       "      <td>나들이</td>\n",
       "      <td>날씨</td>\n",
       "      <td>놀다</td>\n",
       "      <td>마음</td>\n",
       "      <td>...</td>\n",
       "      <td>영화</td>\n",
       "      <td>오늘</td>\n",
       "      <td>운동</td>\n",
       "      <td>음식</td>\n",
       "      <td>읽다</td>\n",
       "      <td>정말</td>\n",
       "      <td>좋아지다</td>\n",
       "      <td>주말</td>\n",
       "      <td>친구</td>\n",
       "      <td>하다</td>\n",
       "    </tr>\n",
       "  </tbody>\n",
       "</table>\n",
       "<p>2 rows × 31 columns</p>\n",
       "</div>"
      ],
      "text/plain": [
       "        0         1         2         3        4         5        6        7   \\\n",
       "0  0.33441  0.799267  0.334495  0.860837  0.33439  0.955735  0.33441  0.33441   \n",
       "1       가다        가족        갈다        건강       계획        공부      나들이       날씨   \n",
       "\n",
       "         8         9   ...        21        22        23        24        25  \\\n",
       "0  0.334529  0.334981  ...  0.335011  0.334418  0.860837  0.334678  0.334981   \n",
       "1        놀다        마음  ...        영화        오늘        운동        음식        읽다   \n",
       "\n",
       "         26        27        28        29        30  \n",
       "0  0.335011  0.860837  0.799267  0.334529  1.539029  \n",
       "1        정말      좋아지다        주말        친구        하다  \n",
       "\n",
       "[2 rows x 31 columns]"
      ]
     },
     "execution_count": 12,
     "metadata": {},
     "output_type": "execute_result"
    }
   ],
   "source": [
    "import pandas as pd\n",
    "df_datas = [topics_list, dictionary_list]\n",
    "df_topics = pd.DataFrame(data=df_datas)\n",
    "df_topics"
   ]
  },
  {
   "cell_type": "code",
   "execution_count": 13,
   "id": "c10677cf-6742-4968-a48d-4c8615360f41",
   "metadata": {
    "tags": []
   },
   "outputs": [
    {
     "data": {
      "text/html": [
       "<div>\n",
       "<style scoped>\n",
       "    .dataframe tbody tr th:only-of-type {\n",
       "        vertical-align: middle;\n",
       "    }\n",
       "\n",
       "    .dataframe tbody tr th {\n",
       "        vertical-align: top;\n",
       "    }\n",
       "\n",
       "    .dataframe thead th {\n",
       "        text-align: right;\n",
       "    }\n",
       "</style>\n",
       "<table border=\"1\" class=\"dataframe\">\n",
       "  <thead>\n",
       "    <tr style=\"text-align: right;\">\n",
       "      <th></th>\n",
       "      <th>0</th>\n",
       "      <th>1</th>\n",
       "    </tr>\n",
       "  </thead>\n",
       "  <tbody>\n",
       "    <tr>\n",
       "      <th>0</th>\n",
       "      <td>0.33441</td>\n",
       "      <td>가다</td>\n",
       "    </tr>\n",
       "    <tr>\n",
       "      <th>1</th>\n",
       "      <td>0.799267</td>\n",
       "      <td>가족</td>\n",
       "    </tr>\n",
       "    <tr>\n",
       "      <th>2</th>\n",
       "      <td>0.334495</td>\n",
       "      <td>갈다</td>\n",
       "    </tr>\n",
       "  </tbody>\n",
       "</table>\n",
       "</div>"
      ],
      "text/plain": [
       "          0   1\n",
       "0   0.33441  가다\n",
       "1  0.799267  가족\n",
       "2  0.334495  갈다"
      ]
     },
     "execution_count": 13,
     "metadata": {},
     "output_type": "execute_result"
    }
   ],
   "source": [
    "# 가로를 세로로, 세로를 가로로 만드는 기능\n",
    "df_topics = df_topics.T\n",
    "df_topics[:3]"
   ]
  },
  {
   "cell_type": "code",
   "execution_count": 14,
   "id": "800f31ad-9b4d-49af-bd09-6d1b884359e5",
   "metadata": {
    "tags": []
   },
   "outputs": [
    {
     "data": {
      "text/plain": [
       "RangeIndex(start=0, stop=2, step=1)"
      ]
     },
     "execution_count": 14,
     "metadata": {},
     "output_type": "execute_result"
    }
   ],
   "source": [
    "df_topics.columns"
   ]
  },
  {
   "cell_type": "code",
   "execution_count": 15,
   "id": "1b3c9b31-51ec-432f-9e95-7402a946d7dd",
   "metadata": {
    "tags": []
   },
   "outputs": [
    {
     "data": {
      "text/html": [
       "<div>\n",
       "<style scoped>\n",
       "    .dataframe tbody tr th:only-of-type {\n",
       "        vertical-align: middle;\n",
       "    }\n",
       "\n",
       "    .dataframe tbody tr th {\n",
       "        vertical-align: top;\n",
       "    }\n",
       "\n",
       "    .dataframe thead th {\n",
       "        text-align: right;\n",
       "    }\n",
       "</style>\n",
       "<table border=\"1\" class=\"dataframe\">\n",
       "  <thead>\n",
       "    <tr style=\"text-align: right;\">\n",
       "      <th></th>\n",
       "      <th>0</th>\n",
       "      <th>1</th>\n",
       "    </tr>\n",
       "  </thead>\n",
       "  <tbody>\n",
       "    <tr>\n",
       "      <th>30</th>\n",
       "      <td>1.539029</td>\n",
       "      <td>하다</td>\n",
       "    </tr>\n",
       "    <tr>\n",
       "      <th>19</th>\n",
       "      <td>1.036222</td>\n",
       "      <td>언어</td>\n",
       "    </tr>\n",
       "    <tr>\n",
       "      <th>13</th>\n",
       "      <td>1.036222</td>\n",
       "      <td>배우다</td>\n",
       "    </tr>\n",
       "    <tr>\n",
       "      <th>12</th>\n",
       "      <td>0.955735</td>\n",
       "      <td>미루다</td>\n",
       "    </tr>\n",
       "    <tr>\n",
       "      <th>5</th>\n",
       "      <td>0.955735</td>\n",
       "      <td>공부</td>\n",
       "    </tr>\n",
       "    <tr>\n",
       "      <th>3</th>\n",
       "      <td>0.860837</td>\n",
       "      <td>건강</td>\n",
       "    </tr>\n",
       "    <tr>\n",
       "      <th>27</th>\n",
       "      <td>0.860837</td>\n",
       "      <td>좋아지다</td>\n",
       "    </tr>\n",
       "    <tr>\n",
       "      <th>23</th>\n",
       "      <td>0.860837</td>\n",
       "      <td>운동</td>\n",
       "    </tr>\n",
       "    <tr>\n",
       "      <th>1</th>\n",
       "      <td>0.799267</td>\n",
       "      <td>가족</td>\n",
       "    </tr>\n",
       "    <tr>\n",
       "      <th>28</th>\n",
       "      <td>0.799267</td>\n",
       "      <td>주말</td>\n",
       "    </tr>\n",
       "    <tr>\n",
       "      <th>14</th>\n",
       "      <td>0.799267</td>\n",
       "      <td>보내다</td>\n",
       "    </tr>\n",
       "    <tr>\n",
       "      <th>16</th>\n",
       "      <td>0.799267</td>\n",
       "      <td>시간</td>\n",
       "    </tr>\n",
       "    <tr>\n",
       "      <th>21</th>\n",
       "      <td>0.335011</td>\n",
       "      <td>영화</td>\n",
       "    </tr>\n",
       "    <tr>\n",
       "      <th>26</th>\n",
       "      <td>0.335011</td>\n",
       "      <td>정말</td>\n",
       "    </tr>\n",
       "    <tr>\n",
       "      <th>9</th>\n",
       "      <td>0.334981</td>\n",
       "      <td>마음</td>\n",
       "    </tr>\n",
       "    <tr>\n",
       "      <th>25</th>\n",
       "      <td>0.334981</td>\n",
       "      <td>읽다</td>\n",
       "    </tr>\n",
       "    <tr>\n",
       "      <th>24</th>\n",
       "      <td>0.334678</td>\n",
       "      <td>음식</td>\n",
       "    </tr>\n",
       "    <tr>\n",
       "      <th>11</th>\n",
       "      <td>0.334678</td>\n",
       "      <td>먹다</td>\n",
       "    </tr>\n",
       "    <tr>\n",
       "      <th>10</th>\n",
       "      <td>0.334529</td>\n",
       "      <td>만나다</td>\n",
       "    </tr>\n",
       "    <tr>\n",
       "      <th>8</th>\n",
       "      <td>0.334529</td>\n",
       "      <td>놀다</td>\n",
       "    </tr>\n",
       "    <tr>\n",
       "      <th>29</th>\n",
       "      <td>0.334529</td>\n",
       "      <td>친구</td>\n",
       "    </tr>\n",
       "    <tr>\n",
       "      <th>2</th>\n",
       "      <td>0.334495</td>\n",
       "      <td>갈다</td>\n",
       "    </tr>\n",
       "    <tr>\n",
       "      <th>22</th>\n",
       "      <td>0.334418</td>\n",
       "      <td>오늘</td>\n",
       "    </tr>\n",
       "    <tr>\n",
       "      <th>0</th>\n",
       "      <td>0.33441</td>\n",
       "      <td>가다</td>\n",
       "    </tr>\n",
       "    <tr>\n",
       "      <th>17</th>\n",
       "      <td>0.33441</td>\n",
       "      <td>싶다</td>\n",
       "    </tr>\n",
       "    <tr>\n",
       "      <th>7</th>\n",
       "      <td>0.33441</td>\n",
       "      <td>날씨</td>\n",
       "    </tr>\n",
       "    <tr>\n",
       "      <th>6</th>\n",
       "      <td>0.33441</td>\n",
       "      <td>나들이</td>\n",
       "    </tr>\n",
       "    <tr>\n",
       "      <th>20</th>\n",
       "      <td>0.33439</td>\n",
       "      <td>여행</td>\n",
       "    </tr>\n",
       "    <tr>\n",
       "      <th>18</th>\n",
       "      <td>0.33439</td>\n",
       "      <td>어디</td>\n",
       "    </tr>\n",
       "    <tr>\n",
       "      <th>4</th>\n",
       "      <td>0.33439</td>\n",
       "      <td>계획</td>\n",
       "    </tr>\n",
       "    <tr>\n",
       "      <th>15</th>\n",
       "      <td>0.33439</td>\n",
       "      <td>세우다</td>\n",
       "    </tr>\n",
       "  </tbody>\n",
       "</table>\n",
       "</div>"
      ],
      "text/plain": [
       "           0     1\n",
       "30  1.539029    하다\n",
       "19  1.036222    언어\n",
       "13  1.036222   배우다\n",
       "12  0.955735   미루다\n",
       "5   0.955735    공부\n",
       "3   0.860837    건강\n",
       "27  0.860837  좋아지다\n",
       "23  0.860837    운동\n",
       "1   0.799267    가족\n",
       "28  0.799267    주말\n",
       "14  0.799267   보내다\n",
       "16  0.799267    시간\n",
       "21  0.335011    영화\n",
       "26  0.335011    정말\n",
       "9   0.334981    마음\n",
       "25  0.334981    읽다\n",
       "24  0.334678    음식\n",
       "11  0.334678    먹다\n",
       "10  0.334529   만나다\n",
       "8   0.334529    놀다\n",
       "29  0.334529    친구\n",
       "2   0.334495    갈다\n",
       "22  0.334418    오늘\n",
       "0    0.33441    가다\n",
       "17   0.33441    싶다\n",
       "7    0.33441    날씨\n",
       "6    0.33441   나들이\n",
       "20   0.33439    여행\n",
       "18   0.33439    어디\n",
       "4    0.33439    계획\n",
       "15   0.33439   세우다"
      ]
     },
     "execution_count": 15,
     "metadata": {},
     "output_type": "execute_result"
    }
   ],
   "source": [
    "# 정렬\n",
    "df_topics.sort_values(0, ascending=False) # 위에서부터 중요한 키워드순으로 정렬됨"
   ]
  },
  {
   "cell_type": "markdown",
   "id": "cb9a6bd8-801a-4f7a-8fe1-36bd2325c2f0",
   "metadata": {},
   "source": [
    "### 댓글과 주요 토픽 연결"
   ]
  },
  {
   "cell_type": "code",
   "execution_count": 16,
   "id": "9aa95f5d-85a9-47d5-9f65-107e5fb72cad",
   "metadata": {
    "tags": []
   },
   "outputs": [
    {
     "name": "stdout",
     "output_type": "stream",
     "text": [
      "하다 언어 배우다 미루다\n",
      "오늘 영화 정말 놀다\n",
      "갈다 읽다 마음 먹다\n"
     ]
    }
   ],
   "source": [
    "## 상위 단어 추출\n",
    "topics_list = list()\n",
    "for topic in lda_model.components_: # 3개의 토픽이 하나씩 튀어나옴\n",
    "    df_datas = [topic, dictionary_list] # 2개를 연결시킴\n",
    "    df_topics = pd.DataFrame(data=df_datas)\n",
    "    df_topics = df_topics.T\n",
    "    df_topics = df_topics.sort_values(0, ascending=False) # descending으로 정렬\n",
    "    # print(df_topics[:3])\n",
    "    topics_text = ' '.join(df_topics[1].values[:4]) # 상위 4개 추출\n",
    "    print(topics_text)\n",
    "    topics_list.append(topics_text)   # 리스트로 만들기"
   ]
  },
  {
   "cell_type": "code",
   "execution_count": 17,
   "id": "f4227eeb-208c-4497-a4f7-757dd2770513",
   "metadata": {
    "tags": []
   },
   "outputs": [
    {
     "data": {
      "text/plain": [
       "array(['갈다', '읽다', '마음', '먹다'], dtype=object)"
      ]
     },
     "execution_count": 17,
     "metadata": {},
     "output_type": "execute_result"
    }
   ],
   "source": [
    "# get values from series\n",
    "df_topics[1].values[:4]  # 4는 word의 개수"
   ]
  },
  {
   "cell_type": "code",
   "execution_count": 18,
   "id": "5c8897dc-fe04-4b9f-ae76-0e592936b6f4",
   "metadata": {
    "tags": []
   },
   "outputs": [
    {
     "data": {
      "text/plain": [
       "'갈다 읽다 마음 먹다'"
      ]
     },
     "execution_count": 18,
     "metadata": {},
     "output_type": "execute_result"
    }
   ],
   "source": [
    "# 시리즈를 하나의 문장으로 생성\n",
    "' '.join(df_topics[1].values[:4])"
   ]
  },
  {
   "cell_type": "code",
   "execution_count": 19,
   "id": "3d89378f-910a-400a-bcc3-1431eec87dbd",
   "metadata": {
    "tags": []
   },
   "outputs": [
    {
     "data": {
      "text/html": [
       "<div>\n",
       "<style scoped>\n",
       "    .dataframe tbody tr th:only-of-type {\n",
       "        vertical-align: middle;\n",
       "    }\n",
       "\n",
       "    .dataframe tbody tr th {\n",
       "        vertical-align: top;\n",
       "    }\n",
       "\n",
       "    .dataframe thead th {\n",
       "        text-align: right;\n",
       "    }\n",
       "</style>\n",
       "<table border=\"1\" class=\"dataframe\">\n",
       "  <thead>\n",
       "    <tr style=\"text-align: right;\">\n",
       "      <th></th>\n",
       "      <th>0</th>\n",
       "      <th>1</th>\n",
       "    </tr>\n",
       "  </thead>\n",
       "  <tbody>\n",
       "    <tr>\n",
       "      <th>0</th>\n",
       "      <td>하다 언어 배우다 미루다</td>\n",
       "      <td>Topic0</td>\n",
       "    </tr>\n",
       "    <tr>\n",
       "      <th>1</th>\n",
       "      <td>오늘 영화 정말 놀다</td>\n",
       "      <td>Topic1</td>\n",
       "    </tr>\n",
       "    <tr>\n",
       "      <th>2</th>\n",
       "      <td>갈다 읽다 마음 먹다</td>\n",
       "      <td>Topic2</td>\n",
       "    </tr>\n",
       "  </tbody>\n",
       "</table>\n",
       "</div>"
      ],
      "text/plain": [
       "               0       1\n",
       "0  하다 언어 배우다 미루다  Topic0\n",
       "1    오늘 영화 정말 놀다  Topic1\n",
       "2    갈다 읽다 마음 먹다  Topic2"
      ]
     },
     "execution_count": 19,
     "metadata": {},
     "output_type": "execute_result"
    }
   ],
   "source": [
    "topics_list_add = [topics_list, ['Topic0','Topic1','Topic2']]\n",
    "df_topic_keywords = pd.DataFrame(topics_list_add)\n",
    "df_topic_keywords.T"
   ]
  },
  {
   "cell_type": "code",
   "execution_count": 20,
   "id": "a9e5e460-94e8-40b8-9bc0-c96778f13f9c",
   "metadata": {
    "tags": []
   },
   "outputs": [
    {
     "data": {
      "text/plain": [
       "array([[0.10462299, 0.7905512 , 0.10482582],\n",
       "       [0.13946382, 0.72088285, 0.13965333],\n",
       "       [0.12347941, 0.12362429, 0.7528963 ],\n",
       "       [0.77339137, 0.11328861, 0.11332002],\n",
       "       [0.75164634, 0.12416304, 0.12419063],\n",
       "       [0.10458222, 0.10474923, 0.79066855],\n",
       "       [0.13943843, 0.13959605, 0.72096551],\n",
       "       [0.11268585, 0.77443415, 0.11288   ],\n",
       "       [0.72035161, 0.13980797, 0.13984042],\n",
       "       [0.78957076, 0.10519796, 0.10523128]])"
      ]
     },
     "execution_count": 20,
     "metadata": {},
     "output_type": "execute_result"
    }
   ],
   "source": [
    "topics_output = lda_model.transform(features)\n",
    "topics_output\n",
    "# 첫번째 댓글은 0.66320011이 가장 큰 값으로 (0,1,2) 중 1에 위치한 토픽으로 분류된다는 것을 알 수 있다."
   ]
  },
  {
   "cell_type": "markdown",
   "id": "81ce6e46-1a91-42ad-9990-8f5b23cf5a0d",
   "metadata": {},
   "source": [
    "## 각 댓글별 topic 분류"
   ]
  },
  {
   "cell_type": "code",
   "execution_count": 21,
   "id": "450f917f-679f-46b9-972b-2ccd32ee31b1",
   "metadata": {
    "tags": []
   },
   "outputs": [
    {
     "data": {
      "text/plain": [
       "3"
      ]
     },
     "execution_count": 21,
     "metadata": {},
     "output_type": "execute_result"
    }
   ],
   "source": [
    "lda_model.n_components"
   ]
  },
  {
   "cell_type": "code",
   "execution_count": 22,
   "id": "d91a1369-457f-4023-80f3-77d4691f8b72",
   "metadata": {
    "tags": []
   },
   "outputs": [
    {
     "data": {
      "text/html": [
       "<div>\n",
       "<style scoped>\n",
       "    .dataframe tbody tr th:only-of-type {\n",
       "        vertical-align: middle;\n",
       "    }\n",
       "\n",
       "    .dataframe tbody tr th {\n",
       "        vertical-align: top;\n",
       "    }\n",
       "\n",
       "    .dataframe thead th {\n",
       "        text-align: right;\n",
       "    }\n",
       "</style>\n",
       "<table border=\"1\" class=\"dataframe\">\n",
       "  <thead>\n",
       "    <tr style=\"text-align: right;\">\n",
       "      <th></th>\n",
       "      <th>0</th>\n",
       "      <th>1</th>\n",
       "      <th>2</th>\n",
       "    </tr>\n",
       "  </thead>\n",
       "  <tbody>\n",
       "    <tr>\n",
       "      <th>0</th>\n",
       "      <td>0.104623</td>\n",
       "      <td>0.790551</td>\n",
       "      <td>0.104826</td>\n",
       "    </tr>\n",
       "    <tr>\n",
       "      <th>1</th>\n",
       "      <td>0.139464</td>\n",
       "      <td>0.720883</td>\n",
       "      <td>0.139653</td>\n",
       "    </tr>\n",
       "    <tr>\n",
       "      <th>2</th>\n",
       "      <td>0.123479</td>\n",
       "      <td>0.123624</td>\n",
       "      <td>0.752896</td>\n",
       "    </tr>\n",
       "    <tr>\n",
       "      <th>3</th>\n",
       "      <td>0.773391</td>\n",
       "      <td>0.113289</td>\n",
       "      <td>0.113320</td>\n",
       "    </tr>\n",
       "    <tr>\n",
       "      <th>4</th>\n",
       "      <td>0.751646</td>\n",
       "      <td>0.124163</td>\n",
       "      <td>0.124191</td>\n",
       "    </tr>\n",
       "    <tr>\n",
       "      <th>5</th>\n",
       "      <td>0.104582</td>\n",
       "      <td>0.104749</td>\n",
       "      <td>0.790669</td>\n",
       "    </tr>\n",
       "    <tr>\n",
       "      <th>6</th>\n",
       "      <td>0.139438</td>\n",
       "      <td>0.139596</td>\n",
       "      <td>0.720966</td>\n",
       "    </tr>\n",
       "    <tr>\n",
       "      <th>7</th>\n",
       "      <td>0.112686</td>\n",
       "      <td>0.774434</td>\n",
       "      <td>0.112880</td>\n",
       "    </tr>\n",
       "    <tr>\n",
       "      <th>8</th>\n",
       "      <td>0.720352</td>\n",
       "      <td>0.139808</td>\n",
       "      <td>0.139840</td>\n",
       "    </tr>\n",
       "    <tr>\n",
       "      <th>9</th>\n",
       "      <td>0.789571</td>\n",
       "      <td>0.105198</td>\n",
       "      <td>0.105231</td>\n",
       "    </tr>\n",
       "  </tbody>\n",
       "</table>\n",
       "</div>"
      ],
      "text/plain": [
       "          0         1         2\n",
       "0  0.104623  0.790551  0.104826\n",
       "1  0.139464  0.720883  0.139653\n",
       "2  0.123479  0.123624  0.752896\n",
       "3  0.773391  0.113289  0.113320\n",
       "4  0.751646  0.124163  0.124191\n",
       "5  0.104582  0.104749  0.790669\n",
       "6  0.139438  0.139596  0.720966\n",
       "7  0.112686  0.774434  0.112880\n",
       "8  0.720352  0.139808  0.139840\n",
       "9  0.789571  0.105198  0.105231"
      ]
     },
     "execution_count": 22,
     "metadata": {},
     "output_type": "execute_result"
    }
   ],
   "source": [
    "df_topics_score = pd.DataFrame(topics_output)  # 각 댓글 당 토픽 분류 점수(가장 높은 값에 해당하는 토픽에 속함)\n",
    "df_topics_score"
   ]
  },
  {
   "cell_type": "code",
   "execution_count": 23,
   "id": "857517b3-d273-494f-93f6-d2e7207e3b1e",
   "metadata": {
    "tags": []
   },
   "outputs": [
    {
     "data": {
      "text/plain": [
       "array([1, 1, 2, 0, 0, 2, 2, 1, 0, 0], dtype=int64)"
      ]
     },
     "execution_count": 23,
     "metadata": {},
     "output_type": "execute_result"
    }
   ],
   "source": [
    "# 댓글마다 토픽 분류 지정 (max의 index를 찾음)\n",
    "import numpy as np\n",
    "dominate_in_topic = np.argmax(topics_output, axis=1) # 2차원 배열이기 때문에 row 축을 넣어줘야 함\n",
    "dominate_in_topic"
   ]
  },
  {
   "cell_type": "code",
   "execution_count": 27,
   "id": "35ae4aa2-db95-4278-8a85-9cd472e3c559",
   "metadata": {
    "tags": []
   },
   "outputs": [
    {
     "data": {
      "text/html": [
       "<div>\n",
       "<style scoped>\n",
       "    .dataframe tbody tr th:only-of-type {\n",
       "        vertical-align: middle;\n",
       "    }\n",
       "\n",
       "    .dataframe tbody tr th {\n",
       "        vertical-align: top;\n",
       "    }\n",
       "\n",
       "    .dataframe thead th {\n",
       "        text-align: right;\n",
       "    }\n",
       "</style>\n",
       "<table border=\"1\" class=\"dataframe\">\n",
       "  <thead>\n",
       "    <tr style=\"text-align: right;\">\n",
       "      <th></th>\n",
       "      <th>0</th>\n",
       "      <th>1</th>\n",
       "      <th>2</th>\n",
       "      <th>dominate_topic</th>\n",
       "      <th>sentences</th>\n",
       "    </tr>\n",
       "  </thead>\n",
       "  <tbody>\n",
       "    <tr>\n",
       "      <th>0</th>\n",
       "      <td>0.104623</td>\n",
       "      <td>0.790551</td>\n",
       "      <td>0.104826</td>\n",
       "      <td>1</td>\n",
       "      <td>오늘 날씨가 좋아서 나들이 가고 싶다.</td>\n",
       "    </tr>\n",
       "    <tr>\n",
       "      <th>1</th>\n",
       "      <td>0.139464</td>\n",
       "      <td>0.720883</td>\n",
       "      <td>0.139653</td>\n",
       "      <td>1</td>\n",
       "      <td>이 영화는 정말 재미있었어요.</td>\n",
       "    </tr>\n",
       "    <tr>\n",
       "      <th>2</th>\n",
       "      <td>0.123479</td>\n",
       "      <td>0.123624</td>\n",
       "      <td>0.752896</td>\n",
       "      <td>2</td>\n",
       "      <td>맛있는 음식을 먹으러 갈까요?</td>\n",
       "    </tr>\n",
       "  </tbody>\n",
       "</table>\n",
       "</div>"
      ],
      "text/plain": [
       "          0         1         2  dominate_topic              sentences\n",
       "0  0.104623  0.790551  0.104826               1  오늘 날씨가 좋아서 나들이 가고 싶다.\n",
       "1  0.139464  0.720883  0.139653               1       이 영화는 정말 재미있었어요.\n",
       "2  0.123479  0.123624  0.752896               2       맛있는 음식을 먹으러 갈까요?"
      ]
     },
     "execution_count": 27,
     "metadata": {},
     "output_type": "execute_result"
    }
   ],
   "source": [
    "# 해당 댓글이 어느 토픽에 속하는지 알아보기\n",
    "df_topics_score['dominate_topic'] = dominate_in_topic # 컬럼 추가\n",
    "df_topics_score[:3]"
   ]
  },
  {
   "cell_type": "code",
   "execution_count": 28,
   "id": "44c9d6f0-1e9b-40f2-9372-5338f38111dd",
   "metadata": {
    "tags": []
   },
   "outputs": [
    {
     "data": {
      "text/html": [
       "<div>\n",
       "<style scoped>\n",
       "    .dataframe tbody tr th:only-of-type {\n",
       "        vertical-align: middle;\n",
       "    }\n",
       "\n",
       "    .dataframe tbody tr th {\n",
       "        vertical-align: top;\n",
       "    }\n",
       "\n",
       "    .dataframe thead th {\n",
       "        text-align: right;\n",
       "    }\n",
       "</style>\n",
       "<table border=\"1\" class=\"dataframe\">\n",
       "  <thead>\n",
       "    <tr style=\"text-align: right;\">\n",
       "      <th></th>\n",
       "      <th>0</th>\n",
       "      <th>1</th>\n",
       "      <th>2</th>\n",
       "      <th>dominate_topic</th>\n",
       "      <th>sentences</th>\n",
       "    </tr>\n",
       "  </thead>\n",
       "  <tbody>\n",
       "    <tr>\n",
       "      <th>0</th>\n",
       "      <td>0.104623</td>\n",
       "      <td>0.790551</td>\n",
       "      <td>0.104826</td>\n",
       "      <td>1</td>\n",
       "      <td>오늘 날씨가 좋아서 나들이 가고 싶다.</td>\n",
       "    </tr>\n",
       "    <tr>\n",
       "      <th>1</th>\n",
       "      <td>0.139464</td>\n",
       "      <td>0.720883</td>\n",
       "      <td>0.139653</td>\n",
       "      <td>1</td>\n",
       "      <td>이 영화는 정말 재미있었어요.</td>\n",
       "    </tr>\n",
       "    <tr>\n",
       "      <th>2</th>\n",
       "      <td>0.123479</td>\n",
       "      <td>0.123624</td>\n",
       "      <td>0.752896</td>\n",
       "      <td>2</td>\n",
       "      <td>맛있는 음식을 먹으러 갈까요?</td>\n",
       "    </tr>\n",
       "  </tbody>\n",
       "</table>\n",
       "</div>"
      ],
      "text/plain": [
       "          0         1         2  dominate_topic              sentences\n",
       "0  0.104623  0.790551  0.104826               1  오늘 날씨가 좋아서 나들이 가고 싶다.\n",
       "1  0.139464  0.720883  0.139653               1       이 영화는 정말 재미있었어요.\n",
       "2  0.123479  0.123624  0.752896               2       맛있는 음식을 먹으러 갈까요?"
      ]
     },
     "execution_count": 28,
     "metadata": {},
     "output_type": "execute_result"
    }
   ],
   "source": [
    "# 댓글까지 포함해서 알아보기 쉽게 만들기\n",
    "df_topics_score['sentences'] = sentences\n",
    "df_topics_score[:3]"
   ]
  },
  {
   "cell_type": "code",
   "execution_count": 29,
   "id": "bdc66b5e-5417-414f-b5df-203def17334f",
   "metadata": {
    "tags": []
   },
   "outputs": [
    {
     "data": {
      "text/html": [
       "<div>\n",
       "<style scoped>\n",
       "    .dataframe tbody tr th:only-of-type {\n",
       "        vertical-align: middle;\n",
       "    }\n",
       "\n",
       "    .dataframe tbody tr th {\n",
       "        vertical-align: top;\n",
       "    }\n",
       "\n",
       "    .dataframe thead th {\n",
       "        text-align: right;\n",
       "    }\n",
       "</style>\n",
       "<table border=\"1\" class=\"dataframe\">\n",
       "  <thead>\n",
       "    <tr style=\"text-align: right;\">\n",
       "      <th></th>\n",
       "      <th>0</th>\n",
       "      <th>1</th>\n",
       "      <th>2</th>\n",
       "      <th>dominate_topic</th>\n",
       "      <th>sentences</th>\n",
       "    </tr>\n",
       "  </thead>\n",
       "  <tbody>\n",
       "    <tr>\n",
       "      <th>0</th>\n",
       "      <td>0.104623</td>\n",
       "      <td>0.790551</td>\n",
       "      <td>0.104826</td>\n",
       "      <td>1</td>\n",
       "      <td>오늘 날씨가 좋아서 나들이 가고 싶다.</td>\n",
       "    </tr>\n",
       "    <tr>\n",
       "      <th>1</th>\n",
       "      <td>0.139464</td>\n",
       "      <td>0.720883</td>\n",
       "      <td>0.139653</td>\n",
       "      <td>1</td>\n",
       "      <td>이 영화는 정말 재미있었어요.</td>\n",
       "    </tr>\n",
       "    <tr>\n",
       "      <th>2</th>\n",
       "      <td>0.123479</td>\n",
       "      <td>0.123624</td>\n",
       "      <td>0.752896</td>\n",
       "      <td>2</td>\n",
       "      <td>맛있는 음식을 먹으러 갈까요?</td>\n",
       "    </tr>\n",
       "    <tr>\n",
       "      <th>3</th>\n",
       "      <td>0.773391</td>\n",
       "      <td>0.113289</td>\n",
       "      <td>0.113320</td>\n",
       "      <td>0</td>\n",
       "      <td>운동을 하면 건강에 좋아지는 것 같아요.</td>\n",
       "    </tr>\n",
       "    <tr>\n",
       "      <th>4</th>\n",
       "      <td>0.751646</td>\n",
       "      <td>0.124163</td>\n",
       "      <td>0.124191</td>\n",
       "      <td>0</td>\n",
       "      <td>공부하기 싫어서 미루고 있어요.</td>\n",
       "    </tr>\n",
       "    <tr>\n",
       "      <th>5</th>\n",
       "      <td>0.104582</td>\n",
       "      <td>0.104749</td>\n",
       "      <td>0.790669</td>\n",
       "      <td>2</td>\n",
       "      <td>여행 계획을 세우고 있는데 어디로 갈까요?</td>\n",
       "    </tr>\n",
       "    <tr>\n",
       "      <th>6</th>\n",
       "      <td>0.139438</td>\n",
       "      <td>0.139596</td>\n",
       "      <td>0.720966</td>\n",
       "      <td>2</td>\n",
       "      <td>좋은 책을 읽으면 마음이 편안해져요.</td>\n",
       "    </tr>\n",
       "    <tr>\n",
       "      <th>7</th>\n",
       "      <td>0.112686</td>\n",
       "      <td>0.774434</td>\n",
       "      <td>0.112880</td>\n",
       "      <td>1</td>\n",
       "      <td>오늘은 친구들과 만나서 재미있게 놀았어요.</td>\n",
       "    </tr>\n",
       "    <tr>\n",
       "      <th>8</th>\n",
       "      <td>0.720352</td>\n",
       "      <td>0.139808</td>\n",
       "      <td>0.139840</td>\n",
       "      <td>0</td>\n",
       "      <td>새로운 언어를 배우는 것은 어려워도 흥미로워요.</td>\n",
       "    </tr>\n",
       "    <tr>\n",
       "      <th>9</th>\n",
       "      <td>0.789571</td>\n",
       "      <td>0.105198</td>\n",
       "      <td>0.105231</td>\n",
       "      <td>0</td>\n",
       "      <td>주말에 가족들과 함께 시간을 보내기로 했습니다.</td>\n",
       "    </tr>\n",
       "  </tbody>\n",
       "</table>\n",
       "</div>"
      ],
      "text/plain": [
       "          0         1         2  dominate_topic                   sentences\n",
       "0  0.104623  0.790551  0.104826               1       오늘 날씨가 좋아서 나들이 가고 싶다.\n",
       "1  0.139464  0.720883  0.139653               1            이 영화는 정말 재미있었어요.\n",
       "2  0.123479  0.123624  0.752896               2            맛있는 음식을 먹으러 갈까요?\n",
       "3  0.773391  0.113289  0.113320               0      운동을 하면 건강에 좋아지는 것 같아요.\n",
       "4  0.751646  0.124163  0.124191               0           공부하기 싫어서 미루고 있어요.\n",
       "5  0.104582  0.104749  0.790669               2     여행 계획을 세우고 있는데 어디로 갈까요?\n",
       "6  0.139438  0.139596  0.720966               2        좋은 책을 읽으면 마음이 편안해져요.\n",
       "7  0.112686  0.774434  0.112880               1     오늘은 친구들과 만나서 재미있게 놀았어요.\n",
       "8  0.720352  0.139808  0.139840               0  새로운 언어를 배우는 것은 어려워도 흥미로워요.\n",
       "9  0.789571  0.105198  0.105231               0  주말에 가족들과 함께 시간을 보내기로 했습니다."
      ]
     },
     "execution_count": 29,
     "metadata": {},
     "output_type": "execute_result"
    }
   ],
   "source": [
    "df_topics_score"
   ]
  },
  {
   "cell_type": "code",
   "execution_count": null,
   "id": "806ff08b-2d4a-4631-9fbd-4552b696c529",
   "metadata": {},
   "outputs": [],
   "source": []
  }
 ],
 "metadata": {
  "kernelspec": {
   "display_name": "Python 3 (ipykernel)",
   "language": "python",
   "name": "python3"
  },
  "language_info": {
   "codemirror_mode": {
    "name": "ipython",
    "version": 3
   },
   "file_extension": ".py",
   "mimetype": "text/x-python",
   "name": "python",
   "nbconvert_exporter": "python",
   "pygments_lexer": "ipython3",
   "version": "3.11.3"
  }
 },
 "nbformat": 4,
 "nbformat_minor": 5
}
