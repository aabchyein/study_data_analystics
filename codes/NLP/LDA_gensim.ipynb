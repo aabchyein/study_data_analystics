{
 "cells": [
  {
   "cell_type": "markdown",
   "id": "64bdf12f-3dd0-4f73-a47b-fdc48128113e",
   "metadata": {},
   "source": [
    "## lda\n",
    "- refer) https://heytech.tistory.com/328"
   ]
  },
  {
   "cell_type": "code",
   "execution_count": null,
   "id": "688c04a5-ef4d-4a87-b9c0-ffce9479e894",
   "metadata": {
    "tags": []
   },
   "outputs": [],
   "source": [
    "sentences = [\n",
    "    \"오늘 날씨가 좋아서 나들이 가고 싶다.\", # -> [오늘, 날씨가, 좋아서, 나들이, 가고, 싶다]\n",
    "    \"이 영화는 정말 재미있었어요.\",\n",
    "    \"맛있는 음식을 먹으러 갈까요?\",\n",
    "    \"운동을 하면 건강에 좋아지는 것 같아요.\",\n",
    "    \"공부하기 싫어서 미루고 있어요.\",\n",
    "    \"여행 계획을 세우고 있는데 어디로 갈까요?\",\n",
    "    \"좋은 책을 읽으면 마음이 편안해져요.\",\n",
    "    \"오늘은 친구들과 만나서 재미있게 놀았어요.\",\n",
    "    \"새로운 언어를 배우는 것은 어려워도 흥미로워요.\",\n",
    "    \"주말에 가족들과 함께 시간을 보내기로 했습니다.\"\n",
    "]"
   ]
  },
  {
   "cell_type": "code",
   "execution_count": 3,
   "id": "5ea7eb83-e8b5-4355-93b8-f1908856d1c2",
   "metadata": {
    "tags": []
   },
   "outputs": [],
   "source": [
    "# gensim은 자연어를 처리하는 라이브러리\n",
    "from gensim.corpora import Dictionary\n",
    "from gensim.models import LdaModel   # 주제어 확인"
   ]
  },
  {
   "cell_type": "markdown",
   "id": "31f7dd1e-e49b-49f5-9163-1fa0b4f73cb0",
   "metadata": {},
   "source": [
    "### 전처리(형태소 분석, 불용어 처리 등)"
   ]
  },
  {
   "cell_type": "code",
   "execution_count": 37,
   "id": "766f56d3-c769-4427-9944-05169f931b1f",
   "metadata": {
    "tags": []
   },
   "outputs": [],
   "source": [
    "from mecab import MeCab\n",
    "mecab = MeCab()"
   ]
  },
  {
   "cell_type": "code",
   "execution_count": 27,
   "id": "68c668ce-ac50-4861-9777-28882bece405",
   "metadata": {
    "tags": []
   },
   "outputs": [
    {
     "data": {
      "text/plain": [
       "[['날씨', '나'],\n",
       " ['영화'],\n",
       " ['음식'],\n",
       " ['운동', '건강', '것'],\n",
       " ['공부'],\n",
       " ['여행', '계획', '어디'],\n",
       " ['책', '마음', '편안'],\n",
       " ['오늘', '친구'],\n",
       " ['언어', '것', '흥미'],\n",
       " ['주말', '가족', '시간']]"
      ]
     },
     "execution_count": 27,
     "metadata": {},
     "output_type": "execute_result"
    }
   ],
   "source": [
    "# 형태분석기 사용해 명사만 추출\n",
    "morphs_list = list()\n",
    "for sentence in sentences :\n",
    "    morphs = mecab.nouns(sentence)\n",
    "    morphs_list.append(morphs)\n",
    "morphs_list"
   ]
  },
  {
   "cell_type": "code",
   "execution_count": 28,
   "id": "128c9bdf-8235-4558-957c-eb1171b0bdea",
   "metadata": {
    "tags": []
   },
   "outputs": [],
   "source": [
    "preprocessed_sentences = morphs_list"
   ]
  },
  {
   "cell_type": "code",
   "execution_count": 29,
   "id": "2c3cd2df-6d89-461b-b594-4cb879a22d73",
   "metadata": {
    "tags": []
   },
   "outputs": [
    {
     "data": {
      "text/plain": [
       "<gensim.corpora.dictionary.Dictionary at 0x2891fd8d190>"
      ]
     },
     "execution_count": 29,
     "metadata": {},
     "output_type": "execute_result"
    }
   ],
   "source": [
    "# gensim의 dictionary는 벡터화까지 자동으로 일어남.\n",
    "dictionary = Dictionary(preprocessed_sentences) # sklearn에서의 fit과 같음\n",
    "dictionary"
   ]
  },
  {
   "cell_type": "markdown",
   "id": "a68e243a-b498-4ab2-aa3a-27c97ceb636a",
   "metadata": {},
   "source": [
    "### transform with dictionary"
   ]
  },
  {
   "cell_type": "code",
   "execution_count": 30,
   "id": "a34ebfba-eed9-4053-8ed5-7137276578f5",
   "metadata": {
    "tags": []
   },
   "outputs": [
    {
     "data": {
      "text/plain": [
       "{'나': 0,\n",
       " '날씨': 1,\n",
       " '영화': 2,\n",
       " '음식': 3,\n",
       " '건강': 4,\n",
       " '것': 5,\n",
       " '운동': 6,\n",
       " '공부': 7,\n",
       " '계획': 8,\n",
       " '어디': 9,\n",
       " '여행': 10,\n",
       " '마음': 11,\n",
       " '책': 12,\n",
       " '편안': 13,\n",
       " '오늘': 14,\n",
       " '친구': 15,\n",
       " '언어': 16,\n",
       " '흥미': 17,\n",
       " '가족': 18,\n",
       " '시간': 19,\n",
       " '주말': 20}"
      ]
     },
     "execution_count": 30,
     "metadata": {},
     "output_type": "execute_result"
    }
   ],
   "source": [
    "dictionary.token2id\n",
    "# 컬럼의 수(=차원의 수) : 75개"
   ]
  },
  {
   "cell_type": "code",
   "execution_count": 31,
   "id": "64fcce20-49b0-4f0f-bdf7-64bd699fff18",
   "metadata": {
    "tags": []
   },
   "outputs": [
    {
     "data": {
      "text/plain": [
       "[(0, 1), (1, 1)]"
      ]
     },
     "execution_count": 31,
     "metadata": {},
     "output_type": "execute_result"
    }
   ],
   "source": [
    "dictionary.doc2bow(preprocessed_sentences[0]) # transform\n",
    "# 좌표값이 결과로 나옴"
   ]
  },
  {
   "cell_type": "code",
   "execution_count": 32,
   "id": "a32979e3-6b84-47da-ad48-65d322ff2bda",
   "metadata": {
    "tags": []
   },
   "outputs": [],
   "source": [
    "# dictionary에 의한 한글 문장을 벡터화\n",
    "corpus_list = list()\n",
    "for sentence in preprocessed_sentences:\n",
    "    morphs_vector = dictionary.doc2bow(sentence)\n",
    "    corpus_list.append(morphs_vector) # 리스트에 morphs_vector값을 하나씩 담기\n",
    "# corpus_list"
   ]
  },
  {
   "cell_type": "code",
   "execution_count": 33,
   "id": "8da172f7-d3e3-4cbb-adf4-4bb84f7dba74",
   "metadata": {
    "tags": []
   },
   "outputs": [],
   "source": [
    "# fit\n",
    "lda_model = LdaModel(corpus=corpus_list, id2word=dictionary, num_topics=3) # corpus_list에는 숫자만 담겨있기 때문에 dictionary를 같이 넣어줌\n",
    "\n",
    "## corpus : 분석 대상\n",
    "## num_topics : 주제로 선정하고 싶은 개수 3개\n",
    "## 여러 문장에서 연관성을 가진 단어만을 뽑아 하나의 문장으로 나열\n",
    "## ex. 여행, 바다, 산, 계획 -> '여행'이라는 하나의 주제가 됨"
   ]
  },
  {
   "cell_type": "code",
   "execution_count": 36,
   "id": "243bbd77-8eef-4b25-b790-92762a1917fa",
   "metadata": {
    "tags": []
   },
   "outputs": [
    {
     "data": {
      "text/plain": [
       "[(0, '0.101*\"것\" + 0.097*\"건강\" + 0.097*\"운동\" + 0.097*\"나\" + 0.095*\"날씨\"'),\n",
       " (1, '0.080*\"것\" + 0.080*\"흥미\" + 0.080*\"언어\" + 0.079*\"주말\" + 0.079*\"어디\"'),\n",
       " (2, '0.092*\"편안\" + 0.092*\"오늘\" + 0.091*\"책\" + 0.090*\"마음\" + 0.090*\"친구\"')]"
      ]
     },
     "execution_count": 36,
     "metadata": {},
     "output_type": "execute_result"
    }
   ],
   "source": [
    "lda_model.print_topics(num_words=5)"
   ]
  }
 ],
 "metadata": {
  "kernelspec": {
   "display_name": "Python 3 (ipykernel)",
   "language": "python",
   "name": "python3"
  },
  "language_info": {
   "codemirror_mode": {
    "name": "ipython",
    "version": 3
   },
   "file_extension": ".py",
   "mimetype": "text/x-python",
   "name": "python",
   "nbconvert_exporter": "python",
   "pygments_lexer": "ipython3",
   "version": "3.11.3"
  }
 },
 "nbformat": 4,
 "nbformat_minor": 5
}
