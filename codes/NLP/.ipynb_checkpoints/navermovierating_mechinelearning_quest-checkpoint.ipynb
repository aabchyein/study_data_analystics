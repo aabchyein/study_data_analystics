{
 "cells": [
  {
   "cell_type": "markdown",
   "id": "6fda63cf-4422-4d19-9a80-8ad920dc370e",
   "metadata": {},
   "source": [
    "## Quest\n",
    "- 머신러닝을 이용한 감성분석\n",
    "- 영화 댓글 학습(0:부정, 1:긍정)\n",
    "- 타 사이트 댓글 이용 성능 확인"
   ]
  },
  {
   "cell_type": "code",
   "execution_count": null,
   "id": "ab3d3e28-874a-4ace-a68a-515c51805a82",
   "metadata": {
    "tags": []
   },
   "outputs": [],
   "source": [
    "%pip install wget"
   ]
  },
  {
   "cell_type": "code",
   "execution_count": 1,
   "id": "a6cae7bc-15f4-48c4-8e31-553f910e5b51",
   "metadata": {
    "tags": []
   },
   "outputs": [],
   "source": [
    "import wget"
   ]
  },
  {
   "cell_type": "code",
   "execution_count": null,
   "id": "7d07caff-3a32-4a7f-ab15-7c67ceb34f3a",
   "metadata": {
    "tags": []
   },
   "outputs": [],
   "source": [
    "wget.download('https://raw.githubusercontent.com/e9t/nsmc/master/ratings_train.txt')"
   ]
  },
  {
   "cell_type": "code",
   "execution_count": 2,
   "id": "447a4730-90b0-44b0-a62b-15499e61cd9b",
   "metadata": {
    "tags": []
   },
   "outputs": [
    {
     "data": {
      "text/html": [
       "<div>\n",
       "<style scoped>\n",
       "    .dataframe tbody tr th:only-of-type {\n",
       "        vertical-align: middle;\n",
       "    }\n",
       "\n",
       "    .dataframe tbody tr th {\n",
       "        vertical-align: top;\n",
       "    }\n",
       "\n",
       "    .dataframe thead th {\n",
       "        text-align: right;\n",
       "    }\n",
       "</style>\n",
       "<table border=\"1\" class=\"dataframe\">\n",
       "  <thead>\n",
       "    <tr style=\"text-align: right;\">\n",
       "      <th></th>\n",
       "      <th>id</th>\n",
       "      <th>document</th>\n",
       "      <th>label</th>\n",
       "    </tr>\n",
       "  </thead>\n",
       "  <tbody>\n",
       "    <tr>\n",
       "      <th>0</th>\n",
       "      <td>9976970</td>\n",
       "      <td>아 더빙.. 진짜 짜증나네요 목소리</td>\n",
       "      <td>0</td>\n",
       "    </tr>\n",
       "    <tr>\n",
       "      <th>1</th>\n",
       "      <td>3819312</td>\n",
       "      <td>흠...포스터보고 초딩영화줄....오버연기조차 가볍지 않구나</td>\n",
       "      <td>1</td>\n",
       "    </tr>\n",
       "    <tr>\n",
       "      <th>2</th>\n",
       "      <td>10265843</td>\n",
       "      <td>너무재밓었다그래서보는것을추천한다</td>\n",
       "      <td>0</td>\n",
       "    </tr>\n",
       "    <tr>\n",
       "      <th>3</th>\n",
       "      <td>9045019</td>\n",
       "      <td>교도소 이야기구먼 ..솔직히 재미는 없다..평점 조정</td>\n",
       "      <td>0</td>\n",
       "    </tr>\n",
       "    <tr>\n",
       "      <th>4</th>\n",
       "      <td>6483659</td>\n",
       "      <td>사이몬페그의 익살스런 연기가 돋보였던 영화!스파이더맨에서 늙어보이기만 했던 커스틴 ...</td>\n",
       "      <td>1</td>\n",
       "    </tr>\n",
       "  </tbody>\n",
       "</table>\n",
       "</div>"
      ],
      "text/plain": [
       "         id                                           document  label\n",
       "0   9976970                                아 더빙.. 진짜 짜증나네요 목소리      0\n",
       "1   3819312                  흠...포스터보고 초딩영화줄....오버연기조차 가볍지 않구나      1\n",
       "2  10265843                                  너무재밓었다그래서보는것을추천한다      0\n",
       "3   9045019                      교도소 이야기구먼 ..솔직히 재미는 없다..평점 조정      0\n",
       "4   6483659  사이몬페그의 익살스런 연기가 돋보였던 영화!스파이더맨에서 늙어보이기만 했던 커스틴 ...      1"
      ]
     },
     "execution_count": 2,
     "metadata": {},
     "output_type": "execute_result"
    }
   ],
   "source": [
    "import pandas as pd\n",
    "df_naver_movie_comments = pd.read_csv('./ratings_train.txt', sep='\\t')\n",
    "df_naver_movie_comments[:5]"
   ]
  },
  {
   "cell_type": "code",
   "execution_count": 3,
   "id": "7b00010f-ef57-4380-92b8-3c15ea790853",
   "metadata": {
    "tags": []
   },
   "outputs": [],
   "source": [
    "df_naver_movie_comments = df_naver_movie_comments[:1000]"
   ]
  },
  {
   "cell_type": "code",
   "execution_count": 4,
   "id": "24d5047b-14ce-4b3a-bf21-ff07b3435a9c",
   "metadata": {
    "collapsed": true,
    "jupyter": {
     "outputs_hidden": true
    },
    "tags": []
   },
   "outputs": [
    {
     "data": {
      "text/html": [
       "<div>\n",
       "<style scoped>\n",
       "    .dataframe tbody tr th:only-of-type {\n",
       "        vertical-align: middle;\n",
       "    }\n",
       "\n",
       "    .dataframe tbody tr th {\n",
       "        vertical-align: top;\n",
       "    }\n",
       "\n",
       "    .dataframe thead th {\n",
       "        text-align: right;\n",
       "    }\n",
       "</style>\n",
       "<table border=\"1\" class=\"dataframe\">\n",
       "  <thead>\n",
       "    <tr style=\"text-align: right;\">\n",
       "      <th></th>\n",
       "      <th>id</th>\n",
       "      <th>document</th>\n",
       "      <th>label</th>\n",
       "    </tr>\n",
       "  </thead>\n",
       "  <tbody>\n",
       "    <tr>\n",
       "      <th>0</th>\n",
       "      <td>9976970</td>\n",
       "      <td>아 더빙.. 진짜 짜증나네요 목소리</td>\n",
       "      <td>0</td>\n",
       "    </tr>\n",
       "    <tr>\n",
       "      <th>2</th>\n",
       "      <td>10265843</td>\n",
       "      <td>너무재밓었다그래서보는것을추천한다</td>\n",
       "      <td>0</td>\n",
       "    </tr>\n",
       "    <tr>\n",
       "      <th>3</th>\n",
       "      <td>9045019</td>\n",
       "      <td>교도소 이야기구먼 ..솔직히 재미는 없다..평점 조정</td>\n",
       "      <td>0</td>\n",
       "    </tr>\n",
       "    <tr>\n",
       "      <th>5</th>\n",
       "      <td>5403919</td>\n",
       "      <td>막 걸음마 뗀 3세부터 초등학교 1학년생인 8살용영화.ㅋㅋㅋ...별반개도 아까움.</td>\n",
       "      <td>0</td>\n",
       "    </tr>\n",
       "    <tr>\n",
       "      <th>6</th>\n",
       "      <td>7797314</td>\n",
       "      <td>원작의 긴장감을 제대로 살려내지못했다.</td>\n",
       "      <td>0</td>\n",
       "    </tr>\n",
       "    <tr>\n",
       "      <th>...</th>\n",
       "      <td>...</td>\n",
       "      <td>...</td>\n",
       "      <td>...</td>\n",
       "    </tr>\n",
       "    <tr>\n",
       "      <th>993</th>\n",
       "      <td>9673323</td>\n",
       "      <td>마이클베이 최근작을 볼때마다 느낀다. 블록버스터 액션장르라도 탄탄한 시나리오는 영화...</td>\n",
       "      <td>0</td>\n",
       "    </tr>\n",
       "    <tr>\n",
       "      <th>994</th>\n",
       "      <td>8121444</td>\n",
       "      <td>0점은없나?1점은 너무 후하네</td>\n",
       "      <td>0</td>\n",
       "    </tr>\n",
       "    <tr>\n",
       "      <th>995</th>\n",
       "      <td>10275296</td>\n",
       "      <td>미달이는.. 연예계를 바라보는 태도를 고쳐야 한다.</td>\n",
       "      <td>0</td>\n",
       "    </tr>\n",
       "    <tr>\n",
       "      <th>996</th>\n",
       "      <td>6473973</td>\n",
       "      <td>파괴된 관객들.</td>\n",
       "      <td>0</td>\n",
       "    </tr>\n",
       "    <tr>\n",
       "      <th>998</th>\n",
       "      <td>7126211</td>\n",
       "      <td>중견배우들이 만들어놓은 긴장감이 나름 긴장감있게 싸워보려했던 도술사들에 의해 헛웃음...</td>\n",
       "      <td>0</td>\n",
       "    </tr>\n",
       "  </tbody>\n",
       "</table>\n",
       "<p>508 rows × 3 columns</p>\n",
       "</div>"
      ],
      "text/plain": [
       "           id                                           document  label\n",
       "0     9976970                                아 더빙.. 진짜 짜증나네요 목소리      0\n",
       "2    10265843                                  너무재밓었다그래서보는것을추천한다      0\n",
       "3     9045019                      교도소 이야기구먼 ..솔직히 재미는 없다..평점 조정      0\n",
       "5     5403919      막 걸음마 뗀 3세부터 초등학교 1학년생인 8살용영화.ㅋㅋㅋ...별반개도 아까움.      0\n",
       "6     7797314                              원작의 긴장감을 제대로 살려내지못했다.      0\n",
       "..        ...                                                ...    ...\n",
       "993   9673323  마이클베이 최근작을 볼때마다 느낀다. 블록버스터 액션장르라도 탄탄한 시나리오는 영화...      0\n",
       "994   8121444                                   0점은없나?1점은 너무 후하네      0\n",
       "995  10275296                       미달이는.. 연예계를 바라보는 태도를 고쳐야 한다.      0\n",
       "996   6473973                                           파괴된 관객들.      0\n",
       "998   7126211  중견배우들이 만들어놓은 긴장감이 나름 긴장감있게 싸워보려했던 도술사들에 의해 헛웃음...      0\n",
       "\n",
       "[508 rows x 3 columns]"
      ]
     },
     "execution_count": 4,
     "metadata": {},
     "output_type": "execute_result"
    }
   ],
   "source": [
    "df_nagative = df_naver_movie_comments.loc[df_naver_movie_comments['label'] == 0]\n",
    "df_nagative"
   ]
  },
  {
   "cell_type": "code",
   "execution_count": 5,
   "id": "79ccb628-c9bc-4e23-b5bc-7509f532ce1c",
   "metadata": {
    "collapsed": true,
    "jupyter": {
     "outputs_hidden": true
    },
    "tags": []
   },
   "outputs": [
    {
     "data": {
      "text/html": [
       "<div>\n",
       "<style scoped>\n",
       "    .dataframe tbody tr th:only-of-type {\n",
       "        vertical-align: middle;\n",
       "    }\n",
       "\n",
       "    .dataframe tbody tr th {\n",
       "        vertical-align: top;\n",
       "    }\n",
       "\n",
       "    .dataframe thead th {\n",
       "        text-align: right;\n",
       "    }\n",
       "</style>\n",
       "<table border=\"1\" class=\"dataframe\">\n",
       "  <thead>\n",
       "    <tr style=\"text-align: right;\">\n",
       "      <th></th>\n",
       "      <th>id</th>\n",
       "      <th>document</th>\n",
       "      <th>label</th>\n",
       "    </tr>\n",
       "  </thead>\n",
       "  <tbody>\n",
       "    <tr>\n",
       "      <th>1</th>\n",
       "      <td>3819312</td>\n",
       "      <td>흠...포스터보고 초딩영화줄....오버연기조차 가볍지 않구나</td>\n",
       "      <td>1</td>\n",
       "    </tr>\n",
       "    <tr>\n",
       "      <th>4</th>\n",
       "      <td>6483659</td>\n",
       "      <td>사이몬페그의 익살스런 연기가 돋보였던 영화!스파이더맨에서 늙어보이기만 했던 커스틴 ...</td>\n",
       "      <td>1</td>\n",
       "    </tr>\n",
       "    <tr>\n",
       "      <th>8</th>\n",
       "      <td>7156791</td>\n",
       "      <td>액션이 없는데도 재미 있는 몇안되는 영화</td>\n",
       "      <td>1</td>\n",
       "    </tr>\n",
       "    <tr>\n",
       "      <th>9</th>\n",
       "      <td>5912145</td>\n",
       "      <td>왜케 평점이 낮은건데? 꽤 볼만한데.. 헐리우드식 화려함에만 너무 길들여져 있나?</td>\n",
       "      <td>1</td>\n",
       "    </tr>\n",
       "    <tr>\n",
       "      <th>10</th>\n",
       "      <td>9008700</td>\n",
       "      <td>걍인피니트가짱이다.진짜짱이다♥</td>\n",
       "      <td>1</td>\n",
       "    </tr>\n",
       "    <tr>\n",
       "      <th>...</th>\n",
       "      <td>...</td>\n",
       "      <td>...</td>\n",
       "      <td>...</td>\n",
       "    </tr>\n",
       "    <tr>\n",
       "      <th>990</th>\n",
       "      <td>474835</td>\n",
       "      <td>마지막이 좀황당했지만 좋은영화</td>\n",
       "      <td>1</td>\n",
       "    </tr>\n",
       "    <tr>\n",
       "      <th>991</th>\n",
       "      <td>3279841</td>\n",
       "      <td>우연히 tv를 돌려보다가 사로잡혔다. 최근 10년간 본 코미디 영화 중 최고</td>\n",
       "      <td>1</td>\n",
       "    </tr>\n",
       "    <tr>\n",
       "      <th>992</th>\n",
       "      <td>8407277</td>\n",
       "      <td>연 기 굿 화이팅해요누나</td>\n",
       "      <td>1</td>\n",
       "    </tr>\n",
       "    <tr>\n",
       "      <th>997</th>\n",
       "      <td>8417568</td>\n",
       "      <td>알콜중독자들 덕에 평점이 낮은가?</td>\n",
       "      <td>1</td>\n",
       "    </tr>\n",
       "    <tr>\n",
       "      <th>999</th>\n",
       "      <td>8379556</td>\n",
       "      <td>남자 주인공 늑대 인간으로 변하고 끝나네유. 평점 보고 안 볼까 하다가 봤는디 재밌...</td>\n",
       "      <td>1</td>\n",
       "    </tr>\n",
       "  </tbody>\n",
       "</table>\n",
       "<p>492 rows × 3 columns</p>\n",
       "</div>"
      ],
      "text/plain": [
       "          id                                           document  label\n",
       "1    3819312                  흠...포스터보고 초딩영화줄....오버연기조차 가볍지 않구나      1\n",
       "4    6483659  사이몬페그의 익살스런 연기가 돋보였던 영화!스파이더맨에서 늙어보이기만 했던 커스틴 ...      1\n",
       "8    7156791                             액션이 없는데도 재미 있는 몇안되는 영화      1\n",
       "9    5912145      왜케 평점이 낮은건데? 꽤 볼만한데.. 헐리우드식 화려함에만 너무 길들여져 있나?      1\n",
       "10   9008700                                   걍인피니트가짱이다.진짜짱이다♥      1\n",
       "..       ...                                                ...    ...\n",
       "990   474835                                   마지막이 좀황당했지만 좋은영화      1\n",
       "991  3279841         우연히 tv를 돌려보다가 사로잡혔다. 최근 10년간 본 코미디 영화 중 최고      1\n",
       "992  8407277                                      연 기 굿 화이팅해요누나      1\n",
       "997  8417568                                 알콜중독자들 덕에 평점이 낮은가?      1\n",
       "999  8379556  남자 주인공 늑대 인간으로 변하고 끝나네유. 평점 보고 안 볼까 하다가 봤는디 재밌...      1\n",
       "\n",
       "[492 rows x 3 columns]"
      ]
     },
     "execution_count": 5,
     "metadata": {},
     "output_type": "execute_result"
    }
   ],
   "source": [
    "df_positive = df_naver_movie_comments.loc[df_naver_movie_comments['label'] == 1]\n",
    "df_positive"
   ]
  },
  {
   "cell_type": "code",
   "execution_count": 3,
   "id": "cb9f5a4b-ae0d-44ef-84b7-61a31a28a0a9",
   "metadata": {
    "tags": []
   },
   "outputs": [
    {
     "ename": "NameError",
     "evalue": "name 'df_nagative' is not defined",
     "output_type": "error",
     "traceback": [
      "\u001b[1;31m---------------------------------------------------------------------------\u001b[0m",
      "\u001b[1;31mNameError\u001b[0m                                 Traceback (most recent call last)",
      "Cell \u001b[1;32mIn[3], line 1\u001b[0m\n\u001b[1;32m----> 1\u001b[0m negative_list \u001b[38;5;241m=\u001b[39m \u001b[38;5;28mlist\u001b[39m(df_nagative[\u001b[38;5;124m'\u001b[39m\u001b[38;5;124mdocument\u001b[39m\u001b[38;5;124m'\u001b[39m])\n",
      "\u001b[1;31mNameError\u001b[0m: name 'df_nagative' is not defined"
     ]
    }
   ],
   "source": [
    "negative_list = list(df_nagative['document'])"
   ]
  },
  {
   "cell_type": "code",
   "execution_count": 4,
   "id": "5f4f3d6d-a032-4f6d-baaa-14a6a8c72fba",
   "metadata": {
    "tags": []
   },
   "outputs": [
    {
     "ename": "NameError",
     "evalue": "name 'df_positive' is not defined",
     "output_type": "error",
     "traceback": [
      "\u001b[1;31m---------------------------------------------------------------------------\u001b[0m",
      "\u001b[1;31mNameError\u001b[0m                                 Traceback (most recent call last)",
      "Cell \u001b[1;32mIn[4], line 1\u001b[0m\n\u001b[1;32m----> 1\u001b[0m positive_list \u001b[38;5;241m=\u001b[39m \u001b[38;5;28mlist\u001b[39m(df_positive[\u001b[38;5;124m'\u001b[39m\u001b[38;5;124mdocument\u001b[39m\u001b[38;5;124m'\u001b[39m])\n",
      "\u001b[1;31mNameError\u001b[0m: name 'df_positive' is not defined"
     ]
    }
   ],
   "source": [
    "positive_list = list(df_positive['document'])"
   ]
  },
  {
   "cell_type": "code",
   "execution_count": 5,
   "id": "56f86771-c94c-48f2-a56d-f53a53cf32d5",
   "metadata": {
    "tags": []
   },
   "outputs": [
    {
     "ename": "NameError",
     "evalue": "name 'negative_list' is not defined",
     "output_type": "error",
     "traceback": [
      "\u001b[1;31m---------------------------------------------------------------------------\u001b[0m",
      "\u001b[1;31mNameError\u001b[0m                                 Traceback (most recent call last)",
      "Cell \u001b[1;32mIn[5], line 1\u001b[0m\n\u001b[1;32m----> 1\u001b[0m comments_list \u001b[38;5;241m=\u001b[39m negative_list \u001b[38;5;241m+\u001b[39m positive_list\n",
      "\u001b[1;31mNameError\u001b[0m: name 'negative_list' is not defined"
     ]
    }
   ],
   "source": [
    "comments_list = negative_list + positive_list"
   ]
  },
  {
   "cell_type": "markdown",
   "id": "3546741e-16c6-4b7c-ad0e-c3302ad93df7",
   "metadata": {},
   "source": [
    "### 불용어 처리"
   ]
  },
  {
   "cell_type": "code",
   "execution_count": 6,
   "id": "e56262e8-7fa8-41a6-b95b-f6a5e4fab405",
   "metadata": {
    "tags": []
   },
   "outputs": [],
   "source": [
    "# !pip install python-mecab-ko"
   ]
  },
  {
   "cell_type": "code",
   "execution_count": 1,
   "id": "001e63de-c6b2-43a7-ba63-f59f2778fdfd",
   "metadata": {
    "tags": []
   },
   "outputs": [
    {
     "ename": "NameError",
     "evalue": "name 'comments_list' is not defined",
     "output_type": "error",
     "traceback": [
      "\u001b[1;31m---------------------------------------------------------------------------\u001b[0m",
      "\u001b[1;31mNameError\u001b[0m                                 Traceback (most recent call last)",
      "Cell \u001b[1;32mIn[1], line 5\u001b[0m\n\u001b[0;32m      2\u001b[0m mecab \u001b[38;5;241m=\u001b[39m MeCab()\n\u001b[0;32m      4\u001b[0m \u001b[38;5;66;03m# 품사 달기\u001b[39;00m\n\u001b[1;32m----> 5\u001b[0m mecab\u001b[38;5;241m.\u001b[39mpos(comments_list[:\u001b[38;5;241m10\u001b[39m])\n",
      "\u001b[1;31mNameError\u001b[0m: name 'comments_list' is not defined"
     ]
    }
   ],
   "source": [
    "from mecab import MeCab\n",
    "mecab = MeCab()\n",
    "\n",
    "# 품사 달기\n",
    "mecab.pos(comments_list[0])"
   ]
  },
  {
   "cell_type": "markdown",
   "id": "99244398-0964-4458-aede-de5f6d1aad2c",
   "metadata": {},
   "source": [
    "### 형태소 분석기를 사용하여 품사 분류"
   ]
  },
  {
   "cell_type": "code",
   "execution_count": null,
   "id": "43b0aafa-29da-45ac-8294-d9e430b7d0b7",
   "metadata": {
    "tags": []
   },
   "outputs": [],
   "source": [
    "tokenized_comments = list()\n",
    "for comment in comments_list:\n",
    "    comment_morphs = mecab.morphs(comment)\n",
    "    \n",
    "    # 불용어 처리\n",
    "    \n",
    "    \n",
    "    tokenized_comments.append(' '.join(comment_morphs))\n",
    "tokenized_comments"
   ]
  },
  {
   "cell_type": "markdown",
   "id": "6d93f666-572c-481f-b630-9c839d930628",
   "metadata": {},
   "source": [
    "### 벡터 토큰화(단어 숫자화)"
   ]
  },
  {
   "cell_type": "code",
   "execution_count": null,
   "id": "9d56b7d8-d81f-4490-a2ec-32786b756f9b",
   "metadata": {
    "tags": []
   },
   "outputs": [],
   "source": [
    "from sklearn.feature_extraction.text import CountVectorizer, TfidfVectorizer"
   ]
  },
  {
   "cell_type": "code",
   "execution_count": null,
   "id": "fbb2d33f-0367-4330-a33c-ebdbf82c86ae",
   "metadata": {},
   "outputs": [],
   "source": [
    "countVectorizer = CountVectorizer()\n",
    "countVectorizer.fit(comments)"
   ]
  },
  {
   "cell_type": "code",
   "execution_count": null,
   "id": "eb00aa73-4fb3-40af-a04c-88abe52c281d",
   "metadata": {},
   "outputs": [],
   "source": [
    "countVectorizer.vocabulary_"
   ]
  },
  {
   "cell_type": "code",
   "execution_count": null,
   "id": "057d2821-48fe-46c4-9b36-2dd4328c6c61",
   "metadata": {},
   "outputs": [],
   "source": [
    "tfidfVectorizer = TfidfVectorizer(use_idf=True)\n",
    "tfidfVectorizer.fit(comments)"
   ]
  },
  {
   "cell_type": "code",
   "execution_count": null,
   "id": "d3a1f4c9-e0fc-45c8-a721-c6b05f61594d",
   "metadata": {},
   "outputs": [],
   "source": [
    "tfidfVectorizer.idf_"
   ]
  },
  {
   "cell_type": "code",
   "execution_count": null,
   "id": "573d67df-1820-4c68-af87-74ab655aa78e",
   "metadata": {},
   "outputs": [],
   "source": [
    "features = tfidfVectorizer.transform(comments)"
   ]
  },
  {
   "cell_type": "markdown",
   "id": "35675afc-7f6b-4ae9-bfb1-86eef352c290",
   "metadata": {},
   "source": [
    "### 목표변수 생성"
   ]
  },
  {
   "cell_type": "code",
   "execution_count": null,
   "id": "ba5c7aed-4f27-4809-a8b8-458b6881b341",
   "metadata": {},
   "outputs": [],
   "source": [
    "target = ['긍정'] * len(comments_positive) + ['부정'] * len(comments_negative)\n",
    "target"
   ]
  },
  {
   "cell_type": "markdown",
   "id": "eaaa9704-af9f-47b9-8d18-138f072f35fd",
   "metadata": {},
   "source": [
    "### 머신러닝 학습"
   ]
  },
  {
   "cell_type": "code",
   "execution_count": null,
   "id": "748e2f90-9e6e-4d2d-9e68-4b7ab5570d2c",
   "metadata": {
    "tags": []
   },
   "outputs": [],
   "source": [
    "from sklearn.svm import SVC"
   ]
  },
  {
   "cell_type": "code",
   "execution_count": null,
   "id": "584348c4-c024-4ba9-baaf-19d2c22de7ab",
   "metadata": {},
   "outputs": [],
   "source": [
    "model = SVC()\n",
    "model.fit(features.toarray(), target)"
   ]
  },
  {
   "cell_type": "markdown",
   "id": "878316d9-3764-4bb9-89b2-7e9f314346ca",
   "metadata": {},
   "source": [
    "### 머신러닝을 통한 에측\n",
    "- 다음사이트 '영화' 댓글을 이용해 예측"
   ]
  },
  {
   "cell_type": "code",
   "execution_count": null,
   "id": "d9fb4aeb-e112-4ec5-9964-a7bd5a7257b4",
   "metadata": {},
   "outputs": [],
   "source": [
    "# comment = '놀란의 영화는 정말 미쳤다는 말밖에 안 나온다. 광복절을 맞이하여 이런 영화를 선사해준 놀란에게 경의를 표합니다.'"
   ]
  },
  {
   "cell_type": "code",
   "execution_count": null,
   "id": "042f4d3d-4b03-4906-9957-9c6d6136fb67",
   "metadata": {},
   "outputs": [],
   "source": [
    "# tokenized_comment = mecab.morphs(comment)"
   ]
  },
  {
   "cell_type": "code",
   "execution_count": null,
   "id": "ec30daf0-1e65-4d2d-826f-b2483f7c9e33",
   "metadata": {},
   "outputs": [],
   "source": [
    "# vectorized_comment = tfidfVectorizer.transform([' '.join(tokenized_comment)]) # 2차원으로 넣어줌\n",
    "# vectorized_comment.toarray()  #벡터화"
   ]
  },
  {
   "cell_type": "code",
   "execution_count": null,
   "id": "05f7943e-8728-4bed-bc54-67a7b583e318",
   "metadata": {},
   "outputs": [],
   "source": [
    "# model.predict(vectorized_comment.toarray())"
   ]
  }
 ],
 "metadata": {
  "kernelspec": {
   "display_name": "Python 3 (ipykernel)",
   "language": "python",
   "name": "python3"
  },
  "language_info": {
   "codemirror_mode": {
    "name": "ipython",
    "version": 3
   },
   "file_extension": ".py",
   "mimetype": "text/x-python",
   "name": "python",
   "nbconvert_exporter": "python",
   "pygments_lexer": "ipython3",
   "version": "3.11.3"
  }
 },
 "nbformat": 4,
 "nbformat_minor": 5
}
