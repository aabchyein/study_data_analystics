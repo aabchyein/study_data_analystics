{
 "cells": [
  {
   "cell_type": "code",
   "execution_count": 1,
   "id": "0b132d67-d27c-410f-9a17-acc3d026be1c",
   "metadata": {
    "collapsed": true,
    "jupyter": {
     "outputs_hidden": true
    },
    "tags": []
   },
   "outputs": [
    {
     "name": "stdout",
     "output_type": "stream",
     "text": [
      "Requirement already satisfied: wordcloud in c:\\users\\koreavc\\anaconda3\\lib\\site-packages (1.9.2)\n",
      "Requirement already satisfied: numpy>=1.6.1 in c:\\users\\koreavc\\anaconda3\\lib\\site-packages (from wordcloud) (1.24.3)\n",
      "Requirement already satisfied: pillow in c:\\users\\koreavc\\anaconda3\\lib\\site-packages (from wordcloud) (9.4.0)\n",
      "Requirement already satisfied: matplotlib in c:\\users\\koreavc\\anaconda3\\lib\\site-packages (from wordcloud) (3.7.1)\n",
      "Requirement already satisfied: contourpy>=1.0.1 in c:\\users\\koreavc\\anaconda3\\lib\\site-packages (from matplotlib->wordcloud) (1.0.5)\n",
      "Requirement already satisfied: cycler>=0.10 in c:\\users\\koreavc\\anaconda3\\lib\\site-packages (from matplotlib->wordcloud) (0.11.0)\n",
      "Requirement already satisfied: fonttools>=4.22.0 in c:\\users\\koreavc\\anaconda3\\lib\\site-packages (from matplotlib->wordcloud) (4.25.0)\n",
      "Requirement already satisfied: kiwisolver>=1.0.1 in c:\\users\\koreavc\\anaconda3\\lib\\site-packages (from matplotlib->wordcloud) (1.4.4)\n",
      "Requirement already satisfied: packaging>=20.0 in c:\\users\\koreavc\\anaconda3\\lib\\site-packages (from matplotlib->wordcloud) (23.0)\n",
      "Requirement already satisfied: pyparsing>=2.3.1 in c:\\users\\koreavc\\anaconda3\\lib\\site-packages (from matplotlib->wordcloud) (3.0.9)\n",
      "Requirement already satisfied: python-dateutil>=2.7 in c:\\users\\koreavc\\anaconda3\\lib\\site-packages (from matplotlib->wordcloud) (2.8.2)\n",
      "Requirement already satisfied: six>=1.5 in c:\\users\\koreavc\\anaconda3\\lib\\site-packages (from python-dateutil>=2.7->matplotlib->wordcloud) (1.16.0)\n"
     ]
    }
   ],
   "source": [
    "!pip install wordcloud"
   ]
  },
  {
   "cell_type": "code",
   "execution_count": 2,
   "id": "7d5524fd-40f8-4621-ad0a-b19d333cf357",
   "metadata": {
    "tags": []
   },
   "outputs": [],
   "source": [
    "from wordcloud import WordCloud"
   ]
  },
  {
   "cell_type": "code",
   "execution_count": 3,
   "id": "30c244e5-6587-41fa-b066-cc6cbf11362e",
   "metadata": {
    "tags": []
   },
   "outputs": [],
   "source": [
    "# 한글 문장 리스트\n",
    "sentences = [\n",
    "    \"오늘 날씨가 좋아서 나들이 가고 싶다.\",\n",
    "    \"이 영화는 정말 재미있었어요.\",\n",
    "    \"맛있는 음식을 먹으러 갈까요?\",\n",
    "    \"운동을 하면 건강에 좋아지는 것 같아요.\",\n",
    "    \"공부하기 싫어서 미루고 있어요.\",\n",
    "    \"여행 계획을 세우고 있는데 어디로 갈까요?\",\n",
    "    \"좋은 책을 읽으면 마음이 편안해져요.\",\n",
    "    \"오늘은 친구들과 만나서 재미있게 놀았어요.\",\n",
    "    \"새로운 언어를 배우는 것은 어려워도 흥미로워요.\",\n",
    "    \"주말에 가족들과 함께 시간을 보내기로 했습니다.\"\n",
    "]\n",
    "\n",
    "sentences = [\n",
    "    \"이 영화는 너무 재미있어서 한 번 더 보고 싶은 마음이 듭니다!\",\n",
    "    \"배우들의 연기력이 정말 뛰어나서 몰입감 있게 영화를 즐길 수 있었습니다.\",\n",
    "    \"스토리가 예상치 못한 전개로 흥미진진하고 긴장감을 유지하며 봤습니다.\",\n",
    "    \"영상미와 음악, 그리고 시각적인 효과들이 아름답게 조합되어 있어 시선을 사로잡았습니다.\",\n",
    "    \"대사 하나하나가 깊은 의미를 담고 있어 생각할 거리가 많은 영화였습니다.\",\n",
    "    \"이런 종류의 영화는 처음 봤는데, 독특한 분위기와 개성적인 캐릭터들로 인상깊게 남았습니다.\",\n",
    "    \"감독의 감성과 메시지 전달력이 돋보여서 마음에 와닿는 순간들이 많았습니다.\",\n",
    "    \"시간 가는 줄 모르고 열중해서 본 작품입니다. 정말 재밌었습니다!\",\n",
    "    \"예고편만 보고 기대했던 것보다 훨씬 좋은 내용과 전개로 만족스러웠습니다.\",\n",
    "    \"모든 면에서 완벽한 영화라 할 수 있으며, 추천할 만한 가치가 있는 작품입니다.\"\n",
    "]"
   ]
  },
  {
   "cell_type": "markdown",
   "id": "76e6d696-6192-42b4-b1e1-700e5b7030a5",
   "metadata": {},
   "source": [
    "## 자연어 처리 위한 단어 생성"
   ]
  },
  {
   "cell_type": "code",
   "execution_count": 4,
   "id": "f12a5572-f841-4c1a-afe4-cbe50b0b4c75",
   "metadata": {
    "tags": []
   },
   "outputs": [
    {
     "data": {
      "text/plain": [
       "'이 영화는 너무 재미있어서 한 번 더 보고 싶은 마음이 듭니다! 배우들의 연기력이 정말 뛰어나서 몰입감 있게 영화를 즐길 수 있었습니다. 스토리가 예상치 못한 전개로 흥미진진하고 긴장감을 유지하며 봤습니다. 영상미와 음악, 그리고 시각적인 효과들이 아름답게 조합되어 있어 시선을 사로잡았습니다. 대사 하나하나가 깊은 의미를 담고 있어 생각할 거리가 많은 영화였습니다. 이런 종류의 영화는 처음 봤는데, 독특한 분위기와 개성적인 캐릭터들로 인상깊게 남았습니다. 감독의 감성과 메시지 전달력이 돋보여서 마음에 와닿는 순간들이 많았습니다. 시간 가는 줄 모르고 열중해서 본 작품입니다. 정말 재밌었습니다! 예고편만 보고 기대했던 것보다 훨씬 좋은 내용과 전개로 만족스러웠습니다. 모든 면에서 완벽한 영화라 할 수 있으며, 추천할 만한 가치가 있는 작품입니다.'"
      ]
     },
     "execution_count": 4,
     "metadata": {},
     "output_type": "execute_result"
    }
   ],
   "source": [
    "# \"맛있는 음식을 먹으러 갈까요?\" -> 4개\n",
    "# \"여행 계획을 세우고 있는데 어디로 갈까요?\" -> 6개\n",
    "# 단어는 10개이지만 동일한 단어 존재 가능(갈까요?)\n",
    "# 전체 단어의 개수에 따라서 wordcloud의 단어 크기가 달라진다\n",
    "\n",
    "# 문장 합치기\n",
    "text = ' '.join(sentences)\n",
    "text"
   ]
  },
  {
   "cell_type": "code",
   "execution_count": 5,
   "id": "614099ae-62a2-4f1c-9085-c3e8218b6b51",
   "metadata": {
    "tags": []
   },
   "outputs": [
    {
     "data": {
      "text/plain": [
       "['이',\n",
       " '영화는',\n",
       " '너무',\n",
       " '재미있어서',\n",
       " '한',\n",
       " '번',\n",
       " '더',\n",
       " '보고',\n",
       " '싶은',\n",
       " '마음이',\n",
       " '듭니다!',\n",
       " '배우들의',\n",
       " '연기력이',\n",
       " '정말',\n",
       " '뛰어나서',\n",
       " '몰입감',\n",
       " '있게',\n",
       " '영화를',\n",
       " '즐길',\n",
       " '수',\n",
       " '있었습니다.',\n",
       " '스토리가',\n",
       " '예상치',\n",
       " '못한',\n",
       " '전개로',\n",
       " '흥미진진하고',\n",
       " '긴장감을',\n",
       " '유지하며',\n",
       " '봤습니다.',\n",
       " '영상미와',\n",
       " '음악,',\n",
       " '그리고',\n",
       " '시각적인',\n",
       " '효과들이',\n",
       " '아름답게',\n",
       " '조합되어',\n",
       " '있어',\n",
       " '시선을',\n",
       " '사로잡았습니다.',\n",
       " '대사',\n",
       " '하나하나가',\n",
       " '깊은',\n",
       " '의미를',\n",
       " '담고',\n",
       " '있어',\n",
       " '생각할',\n",
       " '거리가',\n",
       " '많은',\n",
       " '영화였습니다.',\n",
       " '이런',\n",
       " '종류의',\n",
       " '영화는',\n",
       " '처음',\n",
       " '봤는데,',\n",
       " '독특한',\n",
       " '분위기와',\n",
       " '개성적인',\n",
       " '캐릭터들로',\n",
       " '인상깊게',\n",
       " '남았습니다.',\n",
       " '감독의',\n",
       " '감성과',\n",
       " '메시지',\n",
       " '전달력이',\n",
       " '돋보여서',\n",
       " '마음에',\n",
       " '와닿는',\n",
       " '순간들이',\n",
       " '많았습니다.',\n",
       " '시간',\n",
       " '가는',\n",
       " '줄',\n",
       " '모르고',\n",
       " '열중해서',\n",
       " '본',\n",
       " '작품입니다.',\n",
       " '정말',\n",
       " '재밌었습니다!',\n",
       " '예고편만',\n",
       " '보고',\n",
       " '기대했던',\n",
       " '것보다',\n",
       " '훨씬',\n",
       " '좋은',\n",
       " '내용과',\n",
       " '전개로',\n",
       " '만족스러웠습니다.',\n",
       " '모든',\n",
       " '면에서',\n",
       " '완벽한',\n",
       " '영화라',\n",
       " '할',\n",
       " '수',\n",
       " '있으며,',\n",
       " '추천할',\n",
       " '만한',\n",
       " '가치가',\n",
       " '있는',\n",
       " '작품입니다.']"
      ]
     },
     "execution_count": 5,
     "metadata": {},
     "output_type": "execute_result"
    }
   ],
   "source": [
    "# split 후 단어로 구성된 list 생성\n",
    "text_split = text.split()\n",
    "text_split"
   ]
  },
  {
   "cell_type": "code",
   "execution_count": 6,
   "id": "f11d4248-ce01-4571-9b20-184485e15975",
   "metadata": {
    "tags": []
   },
   "outputs": [
    {
     "data": {
      "text/plain": [
       "Counter({'이': 1,\n",
       "         '영화는': 2,\n",
       "         '너무': 1,\n",
       "         '재미있어서': 1,\n",
       "         '한': 1,\n",
       "         '번': 1,\n",
       "         '더': 1,\n",
       "         '보고': 2,\n",
       "         '싶은': 1,\n",
       "         '마음이': 1,\n",
       "         '듭니다!': 1,\n",
       "         '배우들의': 1,\n",
       "         '연기력이': 1,\n",
       "         '정말': 2,\n",
       "         '뛰어나서': 1,\n",
       "         '몰입감': 1,\n",
       "         '있게': 1,\n",
       "         '영화를': 1,\n",
       "         '즐길': 1,\n",
       "         '수': 2,\n",
       "         '있었습니다.': 1,\n",
       "         '스토리가': 1,\n",
       "         '예상치': 1,\n",
       "         '못한': 1,\n",
       "         '전개로': 2,\n",
       "         '흥미진진하고': 1,\n",
       "         '긴장감을': 1,\n",
       "         '유지하며': 1,\n",
       "         '봤습니다.': 1,\n",
       "         '영상미와': 1,\n",
       "         '음악,': 1,\n",
       "         '그리고': 1,\n",
       "         '시각적인': 1,\n",
       "         '효과들이': 1,\n",
       "         '아름답게': 1,\n",
       "         '조합되어': 1,\n",
       "         '있어': 2,\n",
       "         '시선을': 1,\n",
       "         '사로잡았습니다.': 1,\n",
       "         '대사': 1,\n",
       "         '하나하나가': 1,\n",
       "         '깊은': 1,\n",
       "         '의미를': 1,\n",
       "         '담고': 1,\n",
       "         '생각할': 1,\n",
       "         '거리가': 1,\n",
       "         '많은': 1,\n",
       "         '영화였습니다.': 1,\n",
       "         '이런': 1,\n",
       "         '종류의': 1,\n",
       "         '처음': 1,\n",
       "         '봤는데,': 1,\n",
       "         '독특한': 1,\n",
       "         '분위기와': 1,\n",
       "         '개성적인': 1,\n",
       "         '캐릭터들로': 1,\n",
       "         '인상깊게': 1,\n",
       "         '남았습니다.': 1,\n",
       "         '감독의': 1,\n",
       "         '감성과': 1,\n",
       "         '메시지': 1,\n",
       "         '전달력이': 1,\n",
       "         '돋보여서': 1,\n",
       "         '마음에': 1,\n",
       "         '와닿는': 1,\n",
       "         '순간들이': 1,\n",
       "         '많았습니다.': 1,\n",
       "         '시간': 1,\n",
       "         '가는': 1,\n",
       "         '줄': 1,\n",
       "         '모르고': 1,\n",
       "         '열중해서': 1,\n",
       "         '본': 1,\n",
       "         '작품입니다.': 2,\n",
       "         '재밌었습니다!': 1,\n",
       "         '예고편만': 1,\n",
       "         '기대했던': 1,\n",
       "         '것보다': 1,\n",
       "         '훨씬': 1,\n",
       "         '좋은': 1,\n",
       "         '내용과': 1,\n",
       "         '만족스러웠습니다.': 1,\n",
       "         '모든': 1,\n",
       "         '면에서': 1,\n",
       "         '완벽한': 1,\n",
       "         '영화라': 1,\n",
       "         '할': 1,\n",
       "         '있으며,': 1,\n",
       "         '추천할': 1,\n",
       "         '만한': 1,\n",
       "         '가치가': 1,\n",
       "         '있는': 1})"
      ]
     },
     "execution_count": 6,
     "metadata": {},
     "output_type": "execute_result"
    }
   ],
   "source": [
    "from collections import Counter\n",
    "Counter(text_split)"
   ]
  },
  {
   "cell_type": "code",
   "execution_count": 7,
   "id": "4b4aff26-a2a6-4d37-9e2c-759abcf8d9b8",
   "metadata": {
    "tags": []
   },
   "outputs": [
    {
     "data": {
      "text/plain": [
       "<wordcloud.wordcloud.WordCloud at 0x219788d6690>"
      ]
     },
     "execution_count": 7,
     "metadata": {},
     "output_type": "execute_result"
    }
   ],
   "source": [
    "# 영어가 아닌 다른 언어를 입력 시 깨짐 -> 해당 폰트 경로를 넣어줘야 함.\n",
    "# 한글 폰트 경로 설정 (Windows 환경에 맞게 경로 수정)\n",
    "font_path = 'C:/Windows/Fonts/malgun.ttf'\n",
    "\n",
    "wordCloud = WordCloud(font_path=font_path, background_color='white')\n",
    "wordCloud.generate_from_text(text)"
   ]
  },
  {
   "cell_type": "markdown",
   "id": "42db0131-3dc5-4628-840b-cabe32c0128d",
   "metadata": {
    "tags": []
   },
   "source": [
    "## 자연어 처리 위한 형태분석기 적용"
   ]
  },
  {
   "cell_type": "code",
   "execution_count": 8,
   "id": "0c2983c8-c44d-43ac-be58-49fb9f41eca5",
   "metadata": {
    "tags": []
   },
   "outputs": [],
   "source": [
    "from mecab import MeCab\n",
    "mecab = MeCab()"
   ]
  },
  {
   "cell_type": "code",
   "execution_count": 9,
   "id": "235dcfb2-1129-4448-bb9a-5e433d3230c9",
   "metadata": {
    "collapsed": true,
    "jupyter": {
     "outputs_hidden": true
    },
    "tags": []
   },
   "outputs": [
    {
     "data": {
      "text/plain": [
       "(['영화', '번', '마음'],\n",
       " [('이', 'MM'),\n",
       "  ('영화', 'NNG'),\n",
       "  ('는', 'JX'),\n",
       "  ('너무', 'MAG'),\n",
       "  ('재미있', 'VA'),\n",
       "  ('어서', 'EC'),\n",
       "  ('한', 'MM'),\n",
       "  ('번', 'NNBC'),\n",
       "  ('더', 'MAG'),\n",
       "  ('보', 'VV'),\n",
       "  ('고', 'EC'),\n",
       "  ('싶', 'VX'),\n",
       "  ('은', 'ETM'),\n",
       "  ('마음', 'NNG'),\n",
       "  ('이', 'JKS'),\n",
       "  ('듭니다', 'UNKNOWN'),\n",
       "  ('!', 'SF')])"
      ]
     },
     "execution_count": 9,
     "metadata": {},
     "output_type": "execute_result"
    }
   ],
   "source": [
    "# 명사 가져오기, 품사 달기\n",
    "mecab.nouns(sentences[0]), mecab.pos(sentences[0])"
   ]
  },
  {
   "cell_type": "code",
   "execution_count": 10,
   "id": "6af9f2b6-1908-4457-8d70-d379c10c8b33",
   "metadata": {
    "tags": []
   },
   "outputs": [
    {
     "data": {
      "text/plain": [
       "(['영화', '번', '마음'],\n",
       " ['배우', '연기력', '입감', '영화', '수'],\n",
       " ['영화', '번', '마음', '배우', '연기력', '입감', '영화', '수'])"
      ]
     },
     "execution_count": 10,
     "metadata": {},
     "output_type": "execute_result"
    }
   ],
   "source": [
    "mecab.nouns(sentences[0]), mecab.nouns(sentences[1]), mecab.nouns(sentences[0]) + mecab.nouns(sentences[1])"
   ]
  },
  {
   "cell_type": "code",
   "execution_count": null,
   "id": "19d7b4b5-40b8-4ad7-8ddd-e9974c4a7e80",
   "metadata": {},
   "outputs": [],
   "source": [
    "# 형태분석기 사용해 명사만 추출 \n",
    "# morphs_list = list()\n",
    "# for sentence in sentences:\n",
    "#     morphs = mecab.nouns(sentence)\n",
    "#     morphs_list.append(morphs)\n",
    "# morphs_list # 2차원 형태"
   ]
  },
  {
   "cell_type": "code",
   "execution_count": 11,
   "id": "f554cb45-c1d0-4541-8d30-9facba5fc4b2",
   "metadata": {
    "collapsed": true,
    "jupyter": {
     "outputs_hidden": true
    },
    "tags": []
   },
   "outputs": [
    {
     "data": {
      "text/plain": [
       "['영화',\n",
       " '번',\n",
       " '마음',\n",
       " '배우',\n",
       " '연기력',\n",
       " '입감',\n",
       " '영화',\n",
       " '수',\n",
       " '스토리',\n",
       " '예상',\n",
       " '전개',\n",
       " '긴장감',\n",
       " '유지',\n",
       " '영상미',\n",
       " '음악',\n",
       " '시각',\n",
       " '효과',\n",
       " '조합',\n",
       " '시선',\n",
       " '대사',\n",
       " '하나하나',\n",
       " '의미',\n",
       " '생각',\n",
       " '거리',\n",
       " '영화',\n",
       " '종류',\n",
       " '영화',\n",
       " '독특',\n",
       " '분위기',\n",
       " '개성',\n",
       " '캐릭터',\n",
       " '인상',\n",
       " '감독',\n",
       " '감성',\n",
       " '메시지',\n",
       " '전달',\n",
       " '마음',\n",
       " '순간',\n",
       " '시간',\n",
       " '줄',\n",
       " '열중',\n",
       " '작품',\n",
       " '예고편',\n",
       " '기대',\n",
       " '것',\n",
       " '내용',\n",
       " '전개',\n",
       " '만족',\n",
       " '면',\n",
       " '완벽',\n",
       " '영화',\n",
       " '수',\n",
       " '추천',\n",
       " '만',\n",
       " '가치',\n",
       " '작품']"
      ]
     },
     "execution_count": 11,
     "metadata": {},
     "output_type": "execute_result"
    }
   ],
   "source": [
    "# 형태분석기 사용해 명사만 추출\n",
    "morphs_list = list()\n",
    "for sentence in sentences :\n",
    "    morphs = mecab.nouns(sentence)\n",
    "    morphs_list = morphs_list + morphs\n",
    "morphs_list # 리스트 형태"
   ]
  },
  {
   "cell_type": "code",
   "execution_count": 12,
   "id": "834beaf2-131c-4e7d-82f4-ea9186917160",
   "metadata": {
    "tags": []
   },
   "outputs": [],
   "source": [
    "from collections import Counter\n",
    "nouns_count = Counter(morphs_list)"
   ]
  },
  {
   "cell_type": "code",
   "execution_count": 13,
   "id": "ee215868-c12a-45cb-a703-9e4fdacb655b",
   "metadata": {
    "tags": []
   },
   "outputs": [
    {
     "data": {
      "text/plain": [
       "<wordcloud.wordcloud.WordCloud at 0x21978f9e690>"
      ]
     },
     "execution_count": 13,
     "metadata": {},
     "output_type": "execute_result"
    }
   ],
   "source": [
    "# 영어가 아닌 다른 언어를 입력 시 깨짐 -> 해당 폰트 경로를 넣어줘야 함.\n",
    "# 한글 폰트 경로 설정 (Windows 환경에 맞게 경로 수정)\n",
    "font_path = 'C:/Windows/Fonts/malgun.ttf'\n",
    "\n",
    "wordCloud = WordCloud(font_path=font_path, background_color='white')\n",
    "wordCloud.generate_from_frequencies(nouns_count)"
   ]
  },
  {
   "cell_type": "code",
   "execution_count": 14,
   "id": "f7c96e9b-8a95-4aed-8866-d3e8e786778f",
   "metadata": {
    "collapsed": true,
    "jupyter": {
     "outputs_hidden": true
    },
    "tags": []
   },
   "outputs": [
    {
     "data": {
      "text/plain": [
       "{'영화': 1.0,\n",
       " '마음': 0.4,\n",
       " '수': 0.4,\n",
       " '전개': 0.4,\n",
       " '작품': 0.4,\n",
       " '번': 0.2,\n",
       " '배우': 0.2,\n",
       " '연기력': 0.2,\n",
       " '입감': 0.2,\n",
       " '스토리': 0.2,\n",
       " '예상': 0.2,\n",
       " '긴장감': 0.2,\n",
       " '유지': 0.2,\n",
       " '영상미': 0.2,\n",
       " '음악': 0.2,\n",
       " '시각': 0.2,\n",
       " '효과': 0.2,\n",
       " '조합': 0.2,\n",
       " '시선': 0.2,\n",
       " '대사': 0.2,\n",
       " '하나하나': 0.2,\n",
       " '의미': 0.2,\n",
       " '생각': 0.2,\n",
       " '거리': 0.2,\n",
       " '종류': 0.2,\n",
       " '독특': 0.2,\n",
       " '분위기': 0.2,\n",
       " '개성': 0.2,\n",
       " '캐릭터': 0.2,\n",
       " '인상': 0.2,\n",
       " '감독': 0.2,\n",
       " '감성': 0.2,\n",
       " '메시지': 0.2,\n",
       " '전달': 0.2,\n",
       " '순간': 0.2,\n",
       " '시간': 0.2,\n",
       " '줄': 0.2,\n",
       " '열중': 0.2,\n",
       " '예고편': 0.2,\n",
       " '기대': 0.2,\n",
       " '것': 0.2,\n",
       " '내용': 0.2,\n",
       " '만족': 0.2,\n",
       " '면': 0.2,\n",
       " '완벽': 0.2,\n",
       " '추천': 0.2,\n",
       " '만': 0.2,\n",
       " '가치': 0.2}"
      ]
     },
     "execution_count": 14,
     "metadata": {},
     "output_type": "execute_result"
    }
   ],
   "source": [
    "wordCloud.words_"
   ]
  },
  {
   "cell_type": "code",
   "execution_count": 15,
   "id": "f0121608-e843-45e4-9130-9c1c0a0d0367",
   "metadata": {
    "tags": []
   },
   "outputs": [
    {
     "data": {
      "image/png": "[encoded data removed]",
      "text/plain": [
       "<Figure size 640x480 with 1 Axes>"
      ]
     },
     "metadata": {},
     "output_type": "display_data"
    }
   ],
   "source": [
    "import matplotlib.pyplot as plt\n",
    "plt.imshow(wordCloud)\n",
    "plt.axis('off') # plt 옵션 : 축 없애기\n",
    "plt.show()"
   ]
  }
 ],
 "metadata": {
  "kernelspec": {
   "display_name": "Python 3 (ipykernel)",
   "language": "python",
   "name": "python3"
  },
  "language_info": {
   "codemirror_mode": {
    "name": "ipython",
    "version": 3
   },
   "file_extension": ".py",
   "mimetype": "text/x-python",
   "name": "python",
   "nbconvert_exporter": "python",
   "pygments_lexer": "ipython3",
   "version": "3.11.3"
  }
 },
 "nbformat": 4,
 "nbformat_minor": 5
}
