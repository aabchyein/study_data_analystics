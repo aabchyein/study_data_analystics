{
  "nbformat": 4,
  "nbformat_minor": 0,
  "metadata": {
    "colab": {
      "provenance": [],
      "authorship_tag": "ABX9TyObO8ZfirABrHhAXhyrbiuq",
      "include_colab_link": true
    },
    "kernelspec": {
      "name": "python3",
      "display_name": "Python 3"
    },
    "language_info": {
      "name": "python"
    }
  },
  "cells": [
    {
      "cell_type": "markdown",
      "metadata": {
        "id": "view-in-github",
        "colab_type": "text"
      },
      "source": [
        "<a href=\"https://colab.research.google.com/github/aabchyein/study_data_analystics/blob/main/codes/NLP/healthapp_review_LDA.ipynb\" target=\"_parent\"><img src=\"https://colab.research.google.com/assets/colab-badge.svg\" alt=\"Open In Colab\"/></a>"
      ]
    },
    {
      "cell_type": "markdown",
      "source": [
        "refer : https://heytech.tistory.com/401"
      ],
      "metadata": {
        "id": "8luALw4ijVJ_"
      }
    },
    {
      "cell_type": "code",
      "execution_count": null,
      "metadata": {
        "id": "6A8a9cIciIqZ"
      },
      "outputs": [],
      "source": [
        "# !pip install python-mecab-ko pyLDAvis"
      ]
    },
    {
      "cell_type": "code",
      "source": [
        "import numpy as np"
      ],
      "metadata": {
        "id": "t8IA_xVHpzBE"
      },
      "execution_count": null,
      "outputs": []
    },
    {
      "cell_type": "code",
      "source": [
        "import pandas as pd\n",
        "df_review_negative = pd.read_csv('./review_negative.csv')\n",
        "df_review_negative[:2]"
      ],
      "metadata": {
        "colab": {
          "base_uri": "https://localhost:8080/",
          "height": 164
        },
        "id": "0IizTeztpDAl",
        "outputId": "ec1aace5-e8b4-4a61-b33a-e00b2a472402"
      },
      "execution_count": 7,
      "outputs": [
        {
          "output_type": "execute_result",
          "data": {
            "text/plain": [
              "   Unnamed: 0  ... replaced_review\n",
              "0        1072  ...             NaN\n",
              "1        1167  ...             NaN\n",
              "\n",
              "[2 rows x 6 columns]"
            ],
            "text/html": [
              "\n",
              "  <div id=\"df-d20b381a-0c3a-4f20-aab2-7d964301b5f5\" class=\"colab-df-container\">\n",
              "    <div>\n",
              "<style scoped>\n",
              "    .dataframe tbody tr th:only-of-type {\n",
              "        vertical-align: middle;\n",
              "    }\n",
              "\n",
              "    .dataframe tbody tr th {\n",
              "        vertical-align: top;\n",
              "    }\n",
              "\n",
              "    .dataframe thead th {\n",
              "        text-align: right;\n",
              "    }\n",
              "</style>\n",
              "<table border=\"1\" class=\"dataframe\">\n",
              "  <thead>\n",
              "    <tr style=\"text-align: right;\">\n",
              "      <th></th>\n",
              "      <th>Unnamed: 0</th>\n",
              "      <th>app</th>\n",
              "      <th>review</th>\n",
              "      <th>rating</th>\n",
              "      <th>tokenized_review</th>\n",
              "      <th>replaced_review</th>\n",
              "    </tr>\n",
              "  </thead>\n",
              "  <tbody>\n",
              "    <tr>\n",
              "      <th>0</th>\n",
              "      <td>1072</td>\n",
              "      <td>매일 운동 - 운동 &amp; 피트니스 트레이너 - 빠르고 효율적인 운동</td>\n",
              "      <td>너무 힘들다</td>\n",
              "      <td>1</td>\n",
              "      <td>NaN</td>\n",
              "      <td>NaN</td>\n",
              "    </tr>\n",
              "    <tr>\n",
              "      <th>1</th>\n",
              "      <td>1167</td>\n",
              "      <td>매일 운동 - 운동 &amp; 피트니스 트레이너 - 빠르고 효율적인 운동</td>\n",
              "      <td>훌륭</td>\n",
              "      <td>1</td>\n",
              "      <td>NaN</td>\n",
              "      <td>NaN</td>\n",
              "    </tr>\n",
              "  </tbody>\n",
              "</table>\n",
              "</div>\n",
              "    <div class=\"colab-df-buttons\">\n",
              "\n",
              "  <div class=\"colab-df-container\">\n",
              "    <button class=\"colab-df-convert\" onclick=\"convertToInteractive('df-d20b381a-0c3a-4f20-aab2-7d964301b5f5')\"\n",
              "            title=\"Convert this dataframe to an interactive table.\"\n",
              "            style=\"display:none;\">\n",
              "\n",
              "  <svg xmlns=\"http://www.w3.org/2000/svg\" height=\"24px\" viewBox=\"0 -960 960 960\">\n",
              "    <path d=\"M120-120v-720h720v720H120Zm60-500h600v-160H180v160Zm220 220h160v-160H400v160Zm0 220h160v-160H400v160ZM180-400h160v-160H180v160Zm440 0h160v-160H620v160ZM180-180h160v-160H180v160Zm440 0h160v-160H620v160Z\"/>\n",
              "  </svg>\n",
              "    </button>\n",
              "\n",
              "  <style>\n",
              "    .colab-df-container {\n",
              "      display:flex;\n",
              "      gap: 12px;\n",
              "    }\n",
              "\n",
              "    .colab-df-convert {\n",
              "      background-color: #E8F0FE;\n",
              "      border: none;\n",
              "      border-radius: 50%;\n",
              "      cursor: pointer;\n",
              "      display: none;\n",
              "      fill: #1967D2;\n",
              "      height: 32px;\n",
              "      padding: 0 0 0 0;\n",
              "      width: 32px;\n",
              "    }\n",
              "\n",
              "    .colab-df-convert:hover {\n",
              "      background-color: #E2EBFA;\n",
              "      box-shadow: 0px 1px 2px rgba(60, 64, 67, 0.3), 0px 1px 3px 1px rgba(60, 64, 67, 0.15);\n",
              "      fill: #174EA6;\n",
              "    }\n",
              "\n",
              "    .colab-df-buttons div {\n",
              "      margin-bottom: 4px;\n",
              "    }\n",
              "\n",
              "    [theme=dark] .colab-df-convert {\n",
              "      background-color: #3B4455;\n",
              "      fill: #D2E3FC;\n",
              "    }\n",
              "\n",
              "    [theme=dark] .colab-df-convert:hover {\n",
              "      background-color: #434B5C;\n",
              "      box-shadow: 0px 1px 3px 1px rgba(0, 0, 0, 0.15);\n",
              "      filter: drop-shadow(0px 1px 2px rgba(0, 0, 0, 0.3));\n",
              "      fill: #FFFFFF;\n",
              "    }\n",
              "  </style>\n",
              "\n",
              "    <script>\n",
              "      const buttonEl =\n",
              "        document.querySelector('#df-d20b381a-0c3a-4f20-aab2-7d964301b5f5 button.colab-df-convert');\n",
              "      buttonEl.style.display =\n",
              "        google.colab.kernel.accessAllowed ? 'block' : 'none';\n",
              "\n",
              "      async function convertToInteractive(key) {\n",
              "        const element = document.querySelector('#df-d20b381a-0c3a-4f20-aab2-7d964301b5f5');\n",
              "        const dataTable =\n",
              "          await google.colab.kernel.invokeFunction('convertToInteractive',\n",
              "                                                    [key], {});\n",
              "        if (!dataTable) return;\n",
              "\n",
              "        const docLinkHtml = 'Like what you see? Visit the ' +\n",
              "          '<a target=\"_blank\" href=https://colab.research.google.com/notebooks/data_table.ipynb>data table notebook</a>'\n",
              "          + ' to learn more about interactive tables.';\n",
              "        element.innerHTML = '';\n",
              "        dataTable['output_type'] = 'display_data';\n",
              "        await google.colab.output.renderOutput(dataTable, element);\n",
              "        const docLink = document.createElement('div');\n",
              "        docLink.innerHTML = docLinkHtml;\n",
              "        element.appendChild(docLink);\n",
              "      }\n",
              "    </script>\n",
              "  </div>\n",
              "\n",
              "\n",
              "<div id=\"df-230aae5f-bf68-4d48-9d95-82b3a2139a8b\">\n",
              "  <button class=\"colab-df-quickchart\" onclick=\"quickchart('df-230aae5f-bf68-4d48-9d95-82b3a2139a8b')\"\n",
              "            title=\"Suggest charts.\"\n",
              "            style=\"display:none;\">\n",
              "\n",
              "<svg xmlns=\"http://www.w3.org/2000/svg\" height=\"24px\"viewBox=\"0 0 24 24\"\n",
              "     width=\"24px\">\n",
              "    <g>\n",
              "        <path d=\"M19 3H5c-1.1 0-2 .9-2 2v14c0 1.1.9 2 2 2h14c1.1 0 2-.9 2-2V5c0-1.1-.9-2-2-2zM9 17H7v-7h2v7zm4 0h-2V7h2v10zm4 0h-2v-4h2v4z\"/>\n",
              "    </g>\n",
              "</svg>\n",
              "  </button>\n",
              "\n",
              "<style>\n",
              "  .colab-df-quickchart {\n",
              "      --bg-color: #E8F0FE;\n",
              "      --fill-color: #1967D2;\n",
              "      --hover-bg-color: #E2EBFA;\n",
              "      --hover-fill-color: #174EA6;\n",
              "      --disabled-fill-color: #AAA;\n",
              "      --disabled-bg-color: #DDD;\n",
              "  }\n",
              "\n",
              "  [theme=dark] .colab-df-quickchart {\n",
              "      --bg-color: #3B4455;\n",
              "      --fill-color: #D2E3FC;\n",
              "      --hover-bg-color: #434B5C;\n",
              "      --hover-fill-color: #FFFFFF;\n",
              "      --disabled-bg-color: #3B4455;\n",
              "      --disabled-fill-color: #666;\n",
              "  }\n",
              "\n",
              "  .colab-df-quickchart {\n",
              "    background-color: var(--bg-color);\n",
              "    border: none;\n",
              "    border-radius: 50%;\n",
              "    cursor: pointer;\n",
              "    display: none;\n",
              "    fill: var(--fill-color);\n",
              "    height: 32px;\n",
              "    padding: 0;\n",
              "    width: 32px;\n",
              "  }\n",
              "\n",
              "  .colab-df-quickchart:hover {\n",
              "    background-color: var(--hover-bg-color);\n",
              "    box-shadow: 0 1px 2px rgba(60, 64, 67, 0.3), 0 1px 3px 1px rgba(60, 64, 67, 0.15);\n",
              "    fill: var(--button-hover-fill-color);\n",
              "  }\n",
              "\n",
              "  .colab-df-quickchart-complete:disabled,\n",
              "  .colab-df-quickchart-complete:disabled:hover {\n",
              "    background-color: var(--disabled-bg-color);\n",
              "    fill: var(--disabled-fill-color);\n",
              "    box-shadow: none;\n",
              "  }\n",
              "\n",
              "  .colab-df-spinner {\n",
              "    border: 2px solid var(--fill-color);\n",
              "    border-color: transparent;\n",
              "    border-bottom-color: var(--fill-color);\n",
              "    animation:\n",
              "      spin 1s steps(1) infinite;\n",
              "  }\n",
              "\n",
              "  @keyframes spin {\n",
              "    0% {\n",
              "      border-color: transparent;\n",
              "      border-bottom-color: var(--fill-color);\n",
              "      border-left-color: var(--fill-color);\n",
              "    }\n",
              "    20% {\n",
              "      border-color: transparent;\n",
              "      border-left-color: var(--fill-color);\n",
              "      border-top-color: var(--fill-color);\n",
              "    }\n",
              "    30% {\n",
              "      border-color: transparent;\n",
              "      border-left-color: var(--fill-color);\n",
              "      border-top-color: var(--fill-color);\n",
              "      border-right-color: var(--fill-color);\n",
              "    }\n",
              "    40% {\n",
              "      border-color: transparent;\n",
              "      border-right-color: var(--fill-color);\n",
              "      border-top-color: var(--fill-color);\n",
              "    }\n",
              "    60% {\n",
              "      border-color: transparent;\n",
              "      border-right-color: var(--fill-color);\n",
              "    }\n",
              "    80% {\n",
              "      border-color: transparent;\n",
              "      border-right-color: var(--fill-color);\n",
              "      border-bottom-color: var(--fill-color);\n",
              "    }\n",
              "    90% {\n",
              "      border-color: transparent;\n",
              "      border-bottom-color: var(--fill-color);\n",
              "    }\n",
              "  }\n",
              "</style>\n",
              "\n",
              "  <script>\n",
              "    async function quickchart(key) {\n",
              "      const quickchartButtonEl =\n",
              "        document.querySelector('#' + key + ' button');\n",
              "      quickchartButtonEl.disabled = true;  // To prevent multiple clicks.\n",
              "      quickchartButtonEl.classList.add('colab-df-spinner');\n",
              "      try {\n",
              "        const charts = await google.colab.kernel.invokeFunction(\n",
              "            'suggestCharts', [key], {});\n",
              "      } catch (error) {\n",
              "        console.error('Error during call to suggestCharts:', error);\n",
              "      }\n",
              "      quickchartButtonEl.classList.remove('colab-df-spinner');\n",
              "      quickchartButtonEl.classList.add('colab-df-quickchart-complete');\n",
              "    }\n",
              "    (() => {\n",
              "      let quickchartButtonEl =\n",
              "        document.querySelector('#df-230aae5f-bf68-4d48-9d95-82b3a2139a8b button');\n",
              "      quickchartButtonEl.style.display =\n",
              "        google.colab.kernel.accessAllowed ? 'block' : 'none';\n",
              "    })();\n",
              "  </script>\n",
              "</div>\n",
              "    </div>\n",
              "  </div>\n"
            ]
          },
          "metadata": {},
          "execution_count": 7
        }
      ]
    },
    {
      "cell_type": "code",
      "source": [
        "df_review_negative.info()"
      ],
      "metadata": {
        "colab": {
          "base_uri": "https://localhost:8080/"
        },
        "id": "qy0-HN8Aj928",
        "outputId": "7fd97f04-3aef-47c2-dfdd-27f254802c3b"
      },
      "execution_count": 8,
      "outputs": [
        {
          "output_type": "stream",
          "name": "stdout",
          "text": [
            "<class 'pandas.core.frame.DataFrame'>\n",
            "RangeIndex: 413 entries, 0 to 412\n",
            "Data columns (total 6 columns):\n",
            " #   Column            Non-Null Count  Dtype \n",
            "---  ------            --------------  ----- \n",
            " 0   Unnamed: 0        413 non-null    int64 \n",
            " 1   app               413 non-null    object\n",
            " 2   review            413 non-null    object\n",
            " 3   rating            413 non-null    int64 \n",
            " 4   tokenized_review  346 non-null    object\n",
            " 5   replaced_review   346 non-null    object\n",
            "dtypes: int64(2), object(4)\n",
            "memory usage: 19.5+ KB\n"
          ]
        }
      ]
    },
    {
      "cell_type": "code",
      "source": [
        "# null 값 제거\n",
        "df_review_negative = df_review_negative.dropna()\n",
        "df_review_negative.info()"
      ],
      "metadata": {
        "colab": {
          "base_uri": "https://localhost:8080/"
        },
        "id": "NTcYvKjWr6kG",
        "outputId": "abec85a4-4971-40bd-bd85-77f1f461863c"
      },
      "execution_count": 9,
      "outputs": [
        {
          "output_type": "stream",
          "name": "stdout",
          "text": [
            "<class 'pandas.core.frame.DataFrame'>\n",
            "Index: 346 entries, 3 to 412\n",
            "Data columns (total 6 columns):\n",
            " #   Column            Non-Null Count  Dtype \n",
            "---  ------            --------------  ----- \n",
            " 0   Unnamed: 0        346 non-null    int64 \n",
            " 1   app               346 non-null    object\n",
            " 2   review            346 non-null    object\n",
            " 3   rating            346 non-null    int64 \n",
            " 4   tokenized_review  346 non-null    object\n",
            " 5   replaced_review   346 non-null    object\n",
            "dtypes: int64(2), object(4)\n",
            "memory usage: 18.9+ KB\n"
          ]
        }
      ]
    },
    {
      "cell_type": "markdown",
      "source": [
        "## LDA 분석\n",
        "- negative review 분석"
      ],
      "metadata": {
        "id": "r4qkD8meo5x-"
      }
    },
    {
      "cell_type": "code",
      "source": [
        "from gensim.corpora import Dictionary"
      ],
      "metadata": {
        "id": "nu46D4aeqSsl"
      },
      "execution_count": 10,
      "outputs": []
    },
    {
      "cell_type": "code",
      "source": [
        "df_review_negative[['replaced_review']]  # 2차원 배열"
      ],
      "metadata": {
        "colab": {
          "base_uri": "https://localhost:8080/",
          "height": 424
        },
        "id": "_P3yXEKmtM2f",
        "outputId": "4d172be7-bd69-47c5-c7d2-9a6b2ab256ff"
      },
      "execution_count": 11,
      "outputs": [
        {
          "output_type": "execute_result",
          "data": {
            "text/plain": [
              "                         replaced_review\n",
              "3                                    칼로리\n",
              "5                                     마음\n",
              "7                                     오류\n",
              "8                                     모야\n",
              "9                                     느림\n",
              "..                                   ...\n",
              "406                             운동 리뷰 출창\n",
              "407                                광고 짜증\n",
              "408  운동 친절 운동 운동 체계 순서 운동 기분 시작 운동 구간 시작\n",
              "409                                광고 운동\n",
              "412                                광고 짜증\n",
              "\n",
              "[346 rows x 1 columns]"
            ],
            "text/html": [
              "\n",
              "  <div id=\"df-959ca82b-4db5-4552-9fbe-63b524ebf7c7\" class=\"colab-df-container\">\n",
              "    <div>\n",
              "<style scoped>\n",
              "    .dataframe tbody tr th:only-of-type {\n",
              "        vertical-align: middle;\n",
              "    }\n",
              "\n",
              "    .dataframe tbody tr th {\n",
              "        vertical-align: top;\n",
              "    }\n",
              "\n",
              "    .dataframe thead th {\n",
              "        text-align: right;\n",
              "    }\n",
              "</style>\n",
              "<table border=\"1\" class=\"dataframe\">\n",
              "  <thead>\n",
              "    <tr style=\"text-align: right;\">\n",
              "      <th></th>\n",
              "      <th>replaced_review</th>\n",
              "    </tr>\n",
              "  </thead>\n",
              "  <tbody>\n",
              "    <tr>\n",
              "      <th>3</th>\n",
              "      <td>칼로리</td>\n",
              "    </tr>\n",
              "    <tr>\n",
              "      <th>5</th>\n",
              "      <td>마음</td>\n",
              "    </tr>\n",
              "    <tr>\n",
              "      <th>7</th>\n",
              "      <td>오류</td>\n",
              "    </tr>\n",
              "    <tr>\n",
              "      <th>8</th>\n",
              "      <td>모야</td>\n",
              "    </tr>\n",
              "    <tr>\n",
              "      <th>9</th>\n",
              "      <td>느림</td>\n",
              "    </tr>\n",
              "    <tr>\n",
              "      <th>...</th>\n",
              "      <td>...</td>\n",
              "    </tr>\n",
              "    <tr>\n",
              "      <th>406</th>\n",
              "      <td>운동 리뷰 출창</td>\n",
              "    </tr>\n",
              "    <tr>\n",
              "      <th>407</th>\n",
              "      <td>광고 짜증</td>\n",
              "    </tr>\n",
              "    <tr>\n",
              "      <th>408</th>\n",
              "      <td>운동 친절 운동 운동 체계 순서 운동 기분 시작 운동 구간 시작</td>\n",
              "    </tr>\n",
              "    <tr>\n",
              "      <th>409</th>\n",
              "      <td>광고 운동</td>\n",
              "    </tr>\n",
              "    <tr>\n",
              "      <th>412</th>\n",
              "      <td>광고 짜증</td>\n",
              "    </tr>\n",
              "  </tbody>\n",
              "</table>\n",
              "<p>346 rows × 1 columns</p>\n",
              "</div>\n",
              "    <div class=\"colab-df-buttons\">\n",
              "\n",
              "  <div class=\"colab-df-container\">\n",
              "    <button class=\"colab-df-convert\" onclick=\"convertToInteractive('df-959ca82b-4db5-4552-9fbe-63b524ebf7c7')\"\n",
              "            title=\"Convert this dataframe to an interactive table.\"\n",
              "            style=\"display:none;\">\n",
              "\n",
              "  <svg xmlns=\"http://www.w3.org/2000/svg\" height=\"24px\" viewBox=\"0 -960 960 960\">\n",
              "    <path d=\"M120-120v-720h720v720H120Zm60-500h600v-160H180v160Zm220 220h160v-160H400v160Zm0 220h160v-160H400v160ZM180-400h160v-160H180v160Zm440 0h160v-160H620v160ZM180-180h160v-160H180v160Zm440 0h160v-160H620v160Z\"/>\n",
              "  </svg>\n",
              "    </button>\n",
              "\n",
              "  <style>\n",
              "    .colab-df-container {\n",
              "      display:flex;\n",
              "      gap: 12px;\n",
              "    }\n",
              "\n",
              "    .colab-df-convert {\n",
              "      background-color: #E8F0FE;\n",
              "      border: none;\n",
              "      border-radius: 50%;\n",
              "      cursor: pointer;\n",
              "      display: none;\n",
              "      fill: #1967D2;\n",
              "      height: 32px;\n",
              "      padding: 0 0 0 0;\n",
              "      width: 32px;\n",
              "    }\n",
              "\n",
              "    .colab-df-convert:hover {\n",
              "      background-color: #E2EBFA;\n",
              "      box-shadow: 0px 1px 2px rgba(60, 64, 67, 0.3), 0px 1px 3px 1px rgba(60, 64, 67, 0.15);\n",
              "      fill: #174EA6;\n",
              "    }\n",
              "\n",
              "    .colab-df-buttons div {\n",
              "      margin-bottom: 4px;\n",
              "    }\n",
              "\n",
              "    [theme=dark] .colab-df-convert {\n",
              "      background-color: #3B4455;\n",
              "      fill: #D2E3FC;\n",
              "    }\n",
              "\n",
              "    [theme=dark] .colab-df-convert:hover {\n",
              "      background-color: #434B5C;\n",
              "      box-shadow: 0px 1px 3px 1px rgba(0, 0, 0, 0.15);\n",
              "      filter: drop-shadow(0px 1px 2px rgba(0, 0, 0, 0.3));\n",
              "      fill: #FFFFFF;\n",
              "    }\n",
              "  </style>\n",
              "\n",
              "    <script>\n",
              "      const buttonEl =\n",
              "        document.querySelector('#df-959ca82b-4db5-4552-9fbe-63b524ebf7c7 button.colab-df-convert');\n",
              "      buttonEl.style.display =\n",
              "        google.colab.kernel.accessAllowed ? 'block' : 'none';\n",
              "\n",
              "      async function convertToInteractive(key) {\n",
              "        const element = document.querySelector('#df-959ca82b-4db5-4552-9fbe-63b524ebf7c7');\n",
              "        const dataTable =\n",
              "          await google.colab.kernel.invokeFunction('convertToInteractive',\n",
              "                                                    [key], {});\n",
              "        if (!dataTable) return;\n",
              "\n",
              "        const docLinkHtml = 'Like what you see? Visit the ' +\n",
              "          '<a target=\"_blank\" href=https://colab.research.google.com/notebooks/data_table.ipynb>data table notebook</a>'\n",
              "          + ' to learn more about interactive tables.';\n",
              "        element.innerHTML = '';\n",
              "        dataTable['output_type'] = 'display_data';\n",
              "        await google.colab.output.renderOutput(dataTable, element);\n",
              "        const docLink = document.createElement('div');\n",
              "        docLink.innerHTML = docLinkHtml;\n",
              "        element.appendChild(docLink);\n",
              "      }\n",
              "    </script>\n",
              "  </div>\n",
              "\n",
              "\n",
              "<div id=\"df-75375c3f-27b2-4cc6-94aa-f4f4e22347b3\">\n",
              "  <button class=\"colab-df-quickchart\" onclick=\"quickchart('df-75375c3f-27b2-4cc6-94aa-f4f4e22347b3')\"\n",
              "            title=\"Suggest charts.\"\n",
              "            style=\"display:none;\">\n",
              "\n",
              "<svg xmlns=\"http://www.w3.org/2000/svg\" height=\"24px\"viewBox=\"0 0 24 24\"\n",
              "     width=\"24px\">\n",
              "    <g>\n",
              "        <path d=\"M19 3H5c-1.1 0-2 .9-2 2v14c0 1.1.9 2 2 2h14c1.1 0 2-.9 2-2V5c0-1.1-.9-2-2-2zM9 17H7v-7h2v7zm4 0h-2V7h2v10zm4 0h-2v-4h2v4z\"/>\n",
              "    </g>\n",
              "</svg>\n",
              "  </button>\n",
              "\n",
              "<style>\n",
              "  .colab-df-quickchart {\n",
              "      --bg-color: #E8F0FE;\n",
              "      --fill-color: #1967D2;\n",
              "      --hover-bg-color: #E2EBFA;\n",
              "      --hover-fill-color: #174EA6;\n",
              "      --disabled-fill-color: #AAA;\n",
              "      --disabled-bg-color: #DDD;\n",
              "  }\n",
              "\n",
              "  [theme=dark] .colab-df-quickchart {\n",
              "      --bg-color: #3B4455;\n",
              "      --fill-color: #D2E3FC;\n",
              "      --hover-bg-color: #434B5C;\n",
              "      --hover-fill-color: #FFFFFF;\n",
              "      --disabled-bg-color: #3B4455;\n",
              "      --disabled-fill-color: #666;\n",
              "  }\n",
              "\n",
              "  .colab-df-quickchart {\n",
              "    background-color: var(--bg-color);\n",
              "    border: none;\n",
              "    border-radius: 50%;\n",
              "    cursor: pointer;\n",
              "    display: none;\n",
              "    fill: var(--fill-color);\n",
              "    height: 32px;\n",
              "    padding: 0;\n",
              "    width: 32px;\n",
              "  }\n",
              "\n",
              "  .colab-df-quickchart:hover {\n",
              "    background-color: var(--hover-bg-color);\n",
              "    box-shadow: 0 1px 2px rgba(60, 64, 67, 0.3), 0 1px 3px 1px rgba(60, 64, 67, 0.15);\n",
              "    fill: var(--button-hover-fill-color);\n",
              "  }\n",
              "\n",
              "  .colab-df-quickchart-complete:disabled,\n",
              "  .colab-df-quickchart-complete:disabled:hover {\n",
              "    background-color: var(--disabled-bg-color);\n",
              "    fill: var(--disabled-fill-color);\n",
              "    box-shadow: none;\n",
              "  }\n",
              "\n",
              "  .colab-df-spinner {\n",
              "    border: 2px solid var(--fill-color);\n",
              "    border-color: transparent;\n",
              "    border-bottom-color: var(--fill-color);\n",
              "    animation:\n",
              "      spin 1s steps(1) infinite;\n",
              "  }\n",
              "\n",
              "  @keyframes spin {\n",
              "    0% {\n",
              "      border-color: transparent;\n",
              "      border-bottom-color: var(--fill-color);\n",
              "      border-left-color: var(--fill-color);\n",
              "    }\n",
              "    20% {\n",
              "      border-color: transparent;\n",
              "      border-left-color: var(--fill-color);\n",
              "      border-top-color: var(--fill-color);\n",
              "    }\n",
              "    30% {\n",
              "      border-color: transparent;\n",
              "      border-left-color: var(--fill-color);\n",
              "      border-top-color: var(--fill-color);\n",
              "      border-right-color: var(--fill-color);\n",
              "    }\n",
              "    40% {\n",
              "      border-color: transparent;\n",
              "      border-right-color: var(--fill-color);\n",
              "      border-top-color: var(--fill-color);\n",
              "    }\n",
              "    60% {\n",
              "      border-color: transparent;\n",
              "      border-right-color: var(--fill-color);\n",
              "    }\n",
              "    80% {\n",
              "      border-color: transparent;\n",
              "      border-right-color: var(--fill-color);\n",
              "      border-bottom-color: var(--fill-color);\n",
              "    }\n",
              "    90% {\n",
              "      border-color: transparent;\n",
              "      border-bottom-color: var(--fill-color);\n",
              "    }\n",
              "  }\n",
              "</style>\n",
              "\n",
              "  <script>\n",
              "    async function quickchart(key) {\n",
              "      const quickchartButtonEl =\n",
              "        document.querySelector('#' + key + ' button');\n",
              "      quickchartButtonEl.disabled = true;  // To prevent multiple clicks.\n",
              "      quickchartButtonEl.classList.add('colab-df-spinner');\n",
              "      try {\n",
              "        const charts = await google.colab.kernel.invokeFunction(\n",
              "            'suggestCharts', [key], {});\n",
              "      } catch (error) {\n",
              "        console.error('Error during call to suggestCharts:', error);\n",
              "      }\n",
              "      quickchartButtonEl.classList.remove('colab-df-spinner');\n",
              "      quickchartButtonEl.classList.add('colab-df-quickchart-complete');\n",
              "    }\n",
              "    (() => {\n",
              "      let quickchartButtonEl =\n",
              "        document.querySelector('#df-75375c3f-27b2-4cc6-94aa-f4f4e22347b3 button');\n",
              "      quickchartButtonEl.style.display =\n",
              "        google.colab.kernel.accessAllowed ? 'block' : 'none';\n",
              "    })();\n",
              "  </script>\n",
              "</div>\n",
              "    </div>\n",
              "  </div>\n"
            ]
          },
          "metadata": {},
          "execution_count": 11
        }
      ]
    },
    {
      "cell_type": "code",
      "source": [
        "dictionary = Dictionary(df_review_negative[['replaced_review']].values) # 2차원 배열에서 값만 추출"
      ],
      "metadata": {
        "id": "q8NtGP4Lj9-f"
      },
      "execution_count": 12,
      "outputs": []
    },
    {
      "cell_type": "code",
      "source": [
        "dictionary.doc2bow(df_review_negative[['replaced_review']].values[3]) # 리뷰 하나의 값을 넣어서 벡터화 확인"
      ],
      "metadata": {
        "colab": {
          "base_uri": "https://localhost:8080/"
        },
        "id": "pSgunwg3tHkn",
        "outputId": "7d044034-9e2a-4d35-d6d6-a04f459cc4ae"
      },
      "execution_count": 13,
      "outputs": [
        {
          "output_type": "execute_result",
          "data": {
            "text/plain": [
              "[(3, 1)]"
            ]
          },
          "metadata": {},
          "execution_count": 13
        }
      ]
    },
    {
      "cell_type": "code",
      "source": [
        "# dictionary에 의한 한글 문장을 벡터화\n",
        "corpus_list = list()\n",
        "for sentence in df_review_negative[['replaced_review']].values :\n",
        "  vectors = dictionary.doc2bow(sentence)\n",
        "  corpus_list.append(vectors)"
      ],
      "metadata": {
        "id": "w_4ZOMdTvUv_"
      },
      "execution_count": 14,
      "outputs": []
    },
    {
      "cell_type": "code",
      "source": [
        "# 컬럼 추가해서 list를 담아줌\n",
        "df_review_negative['문장 벡터화'] = corpus_list"
      ],
      "metadata": {
        "id": "cU-yoNGPwYK_"
      },
      "execution_count": 15,
      "outputs": []
    },
    {
      "cell_type": "code",
      "source": [
        "df_review_negative.columns"
      ],
      "metadata": {
        "colab": {
          "base_uri": "https://localhost:8080/"
        },
        "id": "1drRSqnBwy7v",
        "outputId": "3355d948-0bea-4206-a65d-1b83b1305162"
      },
      "execution_count": 16,
      "outputs": [
        {
          "output_type": "execute_result",
          "data": {
            "text/plain": [
              "Index(['Unnamed: 0', 'app', 'review', 'rating', 'tokenized_review',\n",
              "       'replaced_review', '문장 벡터화'],\n",
              "      dtype='object')"
            ]
          },
          "metadata": {},
          "execution_count": 16
        }
      ]
    },
    {
      "cell_type": "markdown",
      "source": [
        "#### 토픽 잡기\n",
        "- 최적의 토픽개수가 3개라고 가정"
      ],
      "metadata": {
        "id": "MJvXB_CCw7Bn"
      }
    },
    {
      "cell_type": "code",
      "source": [
        "from gensim.models import LdaModel"
      ],
      "metadata": {
        "id": "vEWg_m_rw2LH"
      },
      "execution_count": 17,
      "outputs": []
    },
    {
      "cell_type": "code",
      "source": [
        "lda_model = LdaModel(corpus=corpus_list, id2word=dictionary, num_topics=3)"
      ],
      "metadata": {
        "colab": {
          "base_uri": "https://localhost:8080/"
        },
        "id": "JDHcqXcrxXCB",
        "outputId": "52e38186-c853-470e-e2ce-b02b0c0e808c"
      },
      "execution_count": 18,
      "outputs": [
        {
          "output_type": "stream",
          "name": "stderr",
          "text": [
            "WARNING:gensim.models.ldamodel:too few updates, training might not converge; consider increasing the number of passes or iterations to improve accuracy\n"
          ]
        }
      ]
    },
    {
      "cell_type": "code",
      "source": [
        "lda_model.print_topics(num_words=4)\n",
        "# 토픽에서 모든 단어를 다 볼 필요가 없기 때문에 4개의 단어까지만 나오게 지정"
      ],
      "metadata": {
        "colab": {
          "base_uri": "https://localhost:8080/"
        },
        "id": "zEz4QOfSxzfP",
        "outputId": "31ddd91e-2652-4630-d78c-9dce99035a42"
      },
      "execution_count": 19,
      "outputs": [
        {
          "output_type": "execute_result",
          "data": {
            "text/plain": [
              "[(0, '0.013*\"결제 환불\" + 0.013*\"결제 취소\" + 0.010*\"결제\" + 0.009*\"자동 결제 취소\"'),\n",
              " (1, '0.024*\"운동\" + 0.012*\"불편\" + 0.009*\"위젯\" + 0.008*\"자동 결제 환불\"'),\n",
              " (2, '0.029*\"로그인\" + 0.025*\"환불\" + 0.009*\"광고\" + 0.009*\"의견\"')]"
            ]
          },
          "metadata": {},
          "execution_count": 19
        }
      ]
    },
    {
      "cell_type": "markdown",
      "source": [
        "### LDA 시각화"
      ],
      "metadata": {
        "id": "cgYv7dXQ6Fjj"
      }
    },
    {
      "cell_type": "code",
      "source": [
        "%pip install pyLDAvis"
      ],
      "metadata": {
        "id": "vmz2iWxX6F6C"
      },
      "execution_count": null,
      "outputs": []
    },
    {
      "cell_type": "code",
      "source": [
        "import pyLDAvis.gensim_models"
      ],
      "metadata": {
        "id": "E3SYy91Y6PQ6"
      },
      "execution_count": 20,
      "outputs": []
    },
    {
      "cell_type": "code",
      "source": [
        "pyLDAvis.enable_notebook()   # 일반 python에선 불필요\n",
        "result_visualized = pyLDAvis.gensim_models.prepare(lda_model, corpus_list, dictionary)"
      ],
      "metadata": {
        "id": "RsZ9yA7p6kZa"
      },
      "execution_count": 21,
      "outputs": []
    },
    {
      "cell_type": "code",
      "source": [
        "pyLDAvis.display(result_visualized)\n",
        "\n",
        "# 동그라미 : 토픽의 개수 (간격이 적절하게 떨어져 있는 것이 좋음)"
      ],
      "metadata": {
        "id": "wJWJrg-97-F8",
        "outputId": "2ad2b37b-0a32-4972-9933-4e434c1ea5c6",
        "colab": {
          "base_uri": "https://localhost:8080/",
          "height": 880
        }
      },
      "execution_count": 23,
      "outputs": [
        {
          "output_type": "execute_result",
          "data": {
            "text/plain": [
              "<IPython.core.display.HTML object>"
            ],
            "text/html": [
              "\n",
              "<link rel=\"stylesheet\" type=\"text/css\" href=\"https://cdn.jsdelivr.net/gh/bmabey/pyLDAvis@3.4.0/pyLDAvis/js/ldavis.v1.0.0.css\">\n",
              "\n",
              "\n",
              "<div id=\"ldavis_el24211133663610841328504262854\" style=\"background-color:white;\"></div>\n",
              "<script type=\"text/javascript\">\n",
              "\n",
              "var ldavis_el24211133663610841328504262854_data = {\"mdsDat\": {\"x\": [-0.057787791956730096, 0.03985593986213589, 0.017931852094594265], \"y\": [-0.011882902926751952, -0.04104021063271796, 0.05292311355946994], \"topics\": [1, 2, 3], \"cluster\": [1, 1, 1], \"Freq\": [33.60193493700791, 33.406948345722654, 32.991116717269435]}, \"tinfo\": {\"Term\": [\"\\ub85c\\uadf8\\uc778\", \"\\uc6b4\\ub3d9\", \"\\ud658\\ubd88\", \"\\uacb0\\uc81c \\ud658\\ubd88\", \"\\uacb0\\uc81c \\ucde8\\uc18c\", \"\\ubd88\\ud3b8\", \"\\uacb0\\uc81c\", \"\\uc790\\ub3d9 \\uacb0\\uc81c \\ucde8\\uc18c\", \"\\ucde8\\uc18c\", \"\\uad11\\uace0\", \"\\uc758\\uacac\", \"\\ucd5c\\uc545\", \"\\ub3d9\\uc601\\uc0c1\", \"\\ud658\\ubd88 \\uc694\\uccad\", \"\\ub9ac\\ubdf0\", \"\\uac78\\uc74c\", \"\\uc218\\uc815 \\ubd80\\ud0c1\", \"\\uc704\\uc82f\", \"\\ud3ec\\ucf13\\ubaac \\uc5f0\\ub3d9\", \"\\ubb34\\ub8cc \\uacb0\\uc81c \\ucde8\\uc18c\", \"\\uc790\\uc804\\uac70 \\uc778\\uc2dd \\uac78\\uc74c\", \"\\uad11\\uace0 \\uc9dc\\uc99d\", \"\\uc790\\ub3d9 \\uacb0\\uc81c \\ud658\\ubd88\", \"\\uc6b4\\ub3d9 \\uac81\\ub2c8\\ub2e4\", \"\\ub3d9\\uc791 \\ub3d9\\uc791 \\uad11\\uace0 \\uc18c\\ub9ac \\ud654\\uba74 \\ud750\\ub984 \\uc9dc\\uc99d \\uc720\\ub8cc\", \"\\uad6c\\ub3c5 \\ucde8\\uc18c \\uc790\\ub3d9 \\uacb0\\uc81c \\ube44\\uc5f4 \\ucde8\\uc18c \\uc0ad\\uc81c \\uc790\\ub3d9 \\uacb0\\uc81c \\uad6c\\ub3c5 \\ucde8\\uc18c\", \"\\uc560\\ud50c \\uc6cc\\uce58 \\ub3d9\\uc2dc \\ucc29\\uc6a9 \\uac78\\uc74c \\uc808\\ubc18 \\uc774\\ud558 \\uac78\\uc74c \\uac70\\ub9ac\", \"\\uce7c\\ub85c\\ub9ac\", \"\\uc2dc\\uacc4 \\uc5f0\\ub3d9 \\uc2e4\\ub9dd\", \"\\uac24\\ub7ed\\uc2dc \\uae30\\uc900 \\uac78\\uc74c \\uac70\\ub9ac \\uce7c\\ub85c\\ub9ac \\ub9e4\\ud06c\\ub85c \\uc218\\uc815 \\ubd80\\ud0c1 \\ud328\\uce58 \\ubc84\\uadf8 \\uc218\\uc815 \\ubc84\\uadf8\", \"\\ub85c\\uadf8\\uc778\", \"\\ud658\\ubd88\", \"\\uad11\\uace0\", \"\\uc758\\uacac\", \"\\ucd5c\\uc545\", \"\\ub3d9\\uc601\\uc0c1\", \"\\ub9ac\\ubdf0\", \"\\uac78\\uc74c\", \"\\ubb34\\ub8cc \\uacb0\\uc81c \\ucde8\\uc18c\", \"\\uacc4\\uc815 \\uc815\\ubcf4 \\ub2e4\\uc6b4\\ub85c\\ub4dc \\ud655\\uc778\", \"\\uc2dc\\uc815\\uc9c0\", \"\\uc790\\uc804\\uac70 \\uc778\\uc2dd \\uac78\\uc74c\", \"\\ubb34\\ub8cc \\uccb4\\ud5d8 \\uc2dc\\uc791 \\uacb0\\uc81c \\ucde8\\uc18c\", \"\\uacc4\\uc0b0\", \"\\ud55c\\uad6d\\uc5b4 \\uce7c\\ub85c\\ub9ac \\ud0ac\\ub85c\\uce7c\\ub85c\\ub9ac \\ud45c\\uae30 \\ud63c\\ub3d9 \\uc601\\uc5b4 \\ud45c\\uae30 \\ub300\\ubb38\\uc790 \\uc18c\\ubb38\\uc790 \\ubb38\\uc81c \\uc218\\uc815\", \"\\ubb34\\ub8cc \\uacb0\\uc81c \\ud658\\ubd88\", \"\\uc870\\uc544\", \"\\ubaa9\\uc18c\\ub9ac\", \"\\uc815\\ud655\", \"\\uc6b4\\ub3d9 \\uad6c\\uc131 \\uc2e4\\ud589 \\ud654\\uba74 \\ud130\\uce58 \\uc601\\uc0c1 \\uc7ac\\uc0dd \\uac15\\uc81c \\uc885\\ub8cc\", \"\\uad6c\\ub3c5 \\uacb0\\uc81c \\ud658\\ubd88 \\ubd80\\ud0c1\", \"\\uc774\\uc720 \\uae30\\ub85d \\ud45c\\uae30 \\ub370\\uc774\\ud130 \\ub0a0\\ub9bc \\ubb38\\uc81c \\ud574\\uacb0 \\ub370\\uc774\\ud130 \\ub0a0\\ub9bc \\ubb38\\uc81c\", \"\\uac10\\uc0ac\", \"\\uc2e4\\ud589\", \"\\ubb34\\ub8cc \\uacb0\\uc81c \\uad6c\\ub3c5 \\ucd5c\\uc18c \\ucd5c\\uc18c \\ud658\\ubd88 \\uc694\\uccad\", \"\\ubbf8\\uc548 \\uae08\\uc561 \\uc9c0\\ubd88 \\uc720\\ub8cc \\ubbf8\\uc548\", \"\\ubaa9\\ud45c \\ud65c\\ub3d9 \\uc644\\ub8cc \\uc18c\\ub9ac \\uc131\\ucde8\\uac10 \\uc5c5\\ub370\\uc774\\ud2b8 \\uc18c\\ub9ac\", \"\\uc6b4\\ub3d9 \\uac81\\ub2c8\\ub2e4\", \"\\ud559\\uc0dd \\uc911\\uc694 \\ubb38\\uc81c \\uac00\\ub2a5\", \"\\uc6b4\\ub3d9 \\ub9ac\\ubdf0 \\ucd9c\\ucc3d\", \"\\uc6b4\\ub3d9\", \"\\ubd88\\ud3b8\", \"\\uc704\\uc82f\", \"\\uc2dc\\uacc4 \\uc5f0\\ub3d9 \\uc2e4\\ub9dd\", \"\\ub3d9\\uc601\\uc0c1 \\uc124\\uc815 \\uc6b4\\ub3d9 \\ud0c0\\uc774\\uba38 \\uc9c4\\ud589 \\uc791\\ub3d9 \\ud604\\uc0c1 \\uac1c\\uc120\", \"\\uc5c5\\ub370\\uc774\\ud2b8 \\uce21\\uc815\", \"\\ubab8\\ubb34\\uac8c \\uce21\\uc815 \\uc0ac\\uc639 \\uc5f0\\ub3d9 \\uad6c\\uae00 \\ud53c\\ud2b8 \\uc5f0\\ub3d9\", \"\\uad11\\uace0 \\uc0ad\\uc81c \\uad11\\uace0 \\ubd88\\ud3b8 \\uad11\\uace0 \\uc9dc\\uc99d \\ubd88\\ud3b8\", \"\\ubc18\\uc751 \\ub85c\\ub529 \\ud0c8\\ud1f4\", \"\\ud734\\uc2dd \\ud655\\uc778 \\uae30\\ub85d \\ub0a0\\uc9dc \\uc6b4\\ub3d9 \\uac1c\\uc218 \\uc6b4\\ub3d9 \\uc6b4\\ub3d9 \\ud69f\\uc218 \\ucd08\\uae30 \\uc2dc\\uc791 \\uc624\\ub958\", \"\\uc815\\ubcf4\", \"\\uc774\\ud558\", \"\\ud658\\ubd88 \\uacb0\\uc81c\", \"\\uc790\\ub3d9 \\uacb0\\uc81c \\ud658\\ubd88\", \"\\ucde8\\uc18c \\ud658\\ubd88 \\ucde8\\uc18c\", \"\\ucd08\\uae30 \\uad6c\\ub3d9 \\ud604\\uc0c1 \\uc9dc\\uc99d \\uc2a4\\ud0c0\\ud2b8\", \"\\uc9c0\\ub09c\\ub2ec \\uacc4\\uc815 \\ub85c\\uadf8\\uc778 \\uad6c\\ub9e4 \\ubcf5\\uad6c\", \"\\ubc18\\uc751 \\uc18d\\ub3c4\", \"\\uc815\\ud655 \\ubaa8\\ub4dc \\uc124\\uc815 \\ubc14\\ubcf4 \\uac1c\\ub150 \\ucc38\\uacac\", \"\\uc124\\uce58\", \"\\uacb0\\uc81c \\ud658\\ubd88 \\uc694\\uccad \\ud658\\ubd88 \\ud658\\ubd88\", \"\\uccb4\\ud5d8 \\uacb0\\uc815 \\uacb0\\uc81c \\ud658\\ubd88\", \"\\ubabd\\uc7a5 \\ucd94\\ucc9c\", \"\\ubb34\\ub8cc \\uc790\\ub3d9 \\uacb0\\uc81c \\ucde8\\uc18c\", \"\\uc810\\uac80 \\uc810\\uac80\", \"\\uad11\\uace0 \\uc9dc\\uc99d\", \"\\uac78\\uc74c \\ud574\\uacb0\", \"\\ubb34\\uc6a9\\uc9c0\\ubb3c\", \"\\uacb0\\uc81c \\ucde8\\uc18c \\uacb0\\uc81c \\uacb0\\uc81c\", \"\\ubcf5\\uadfc \\uc6b4\\ub3d9\", \"\\uacb0\\uc81c \\ud658\\ubd88\", \"\\uacb0\\uc81c \\ucde8\\uc18c\", \"\\uacb0\\uc81c\", \"\\uc790\\ub3d9 \\uacb0\\uc81c \\ucde8\\uc18c\", \"\\ucde8\\uc18c\", \"\\ud658\\ubd88 \\uc694\\uccad\", \"\\uc218\\uc815 \\ubd80\\ud0c1\", \"\\ub3d9\\uc791 \\ub3d9\\uc791 \\uad11\\uace0 \\uc18c\\ub9ac \\ud654\\uba74 \\ud750\\ub984 \\uc9dc\\uc99d \\uc720\\ub8cc\", \"\\uad6c\\ub3c5 \\ucde8\\uc18c \\uc790\\ub3d9 \\uacb0\\uc81c \\ube44\\uc5f4 \\ucde8\\uc18c \\uc0ad\\uc81c \\uc790\\ub3d9 \\uacb0\\uc81c \\uad6c\\ub3c5 \\ucde8\\uc18c\", \"\\uc560\\ud50c \\uc6cc\\uce58 \\ub3d9\\uc2dc \\ucc29\\uc6a9 \\uac78\\uc74c \\uc808\\ubc18 \\uc774\\ud558 \\uac78\\uc74c \\uac70\\ub9ac\", \"\\uce7c\\ub85c\\ub9ac\", \"\\ud3ec\\ucf13\\ubaac \\uc5f0\\ub3d9\", \"\\uac24\\ub7ed\\uc2dc \\uae30\\uc900 \\uac78\\uc74c \\uac70\\ub9ac \\uce7c\\ub85c\\ub9ac \\ub9e4\\ud06c\\ub85c \\uc218\\uc815 \\ubd80\\ud0c1 \\ud328\\uce58 \\ubc84\\uadf8 \\uc218\\uc815 \\ubc84\\uadf8\", \"\\uc9c4\\ud589 \\ucffc\\ud2b8 \\uad00\\uc808 \\ubb34\\ub9ac\", \"\\uc6cc\\uce58 \\uc800\\uc7a5 \\ub370\\uc774\\ud130 \\uae30\\uae30 \\uc5f0\\ub3d9 \\ucd08\\uae30\", \"\\uc784\\uac15\\ud601\", \"\\uae30\\uae30 \\uc5f0\\uacb0 \\uacc4\\ud68d \\uac1c\\uc778 \\ud3c9\\uac00 \\uc5f0\\ub3d9 \\ud65c\\uc6a9\", \"\\ucde8\\uc18c \\ucde8\\uc18c \\ubd80\\ud0c1\", \"\\uc790\\uc804\\uac70 \\ud655\\uc778 \\ud5ec\\uc2a4 \\ud658\\uc0b0 \\uae30\\ub85d \\ubc18\\uc601 \\uc758\\ubb38 \\uc9c0\\ud558 \\uccad\\uacc4\\ucc9c \\uc911\\ub791\\ucc9c \\uc704\\uce58 \\uae30\\ub85d\", \"\\uc815\\ubcf4 \\uc774\\uc720 \\ud608\\uc561 \\uc21c\\ud658 \\uc2a4\\ud2b8\\ub808\\uce6d \\ucffc\\ud2b8 \\ub7f0\\uc9c0 \\uadfc\\uc721 \\uadfc\\uc721 \\uc6b4\\ub3d9 \\uc5f0\\uc608\\uc778 \\uad00\\ub9ac \\ud558\\uccb4 \\uc6b4\\ub3d9 \\uc2a4\\ud2b8\\ub808\\uce6d \\ub9c8\\uc0ac\\uc9c0 \\uad00\\ub9ac \\ud608\\uc561 \\uc21c\\ud658\", \"\\ud658\\ubd88 \\uc694\\uccad \\uacb0\\uc81c \\ud655\\uc778 \\uac00\\ub2a5 \\uacb0\\uc81c \\uc815\\ud655 \\uace0\\uc9c0\", \"\\ub4e3\\ubcf4\\uc7a1 \\uad6d\\uc5b4\", \"\\ud658\\ubd88 \\ubc29\\ubc95 \\ub3d9\\uc758 \\uacb0\\uc81c \\uacb0\\uc81c \\ucde8\\uc18c\", \"\\uc5b4\\ubca4\\uc838\\uc2a4 \\uc6b4\\ub3d9 \\uc6b4\\ub3d9 \\ud69f\\uc218 \\uc6b4\\ub3d9 \\uc6b4\\ub3d9 \\uc6b4\\ub3d9 \\uc5f4\\uc758 \\uc7ac\\ubbf8 \\uad11\\uace0 \\ucd5c\\uc545\", \"\\uad6c\\uae00 \\ud658\\ubd88 \\uc694\\uccad \\uacb0\\uc81c \\ucde8\\uc18c \\uad8c\\ud55c \\uacb0\\uc81c \\ucde8\\uc18c \\ubd80\\ud0c1 \\ubc29\\ubc95\", \"\\uc2ec\\ubc15\\uc218 \\uc218\\uba74 \\ub370\\uc774\\ud130 \\ud5ec\\uc2a4 \\uc5f0\\uacb0 \\ud65c\\ub3d9 \\uac78\\uc74c \\uad6c\\uae00 \\uce6d\\ucc2c \\uc120\\ud638 \\uad6c\\uae00 \\uae30\\ubcf8 \\ubca0\\uc774\\uc2a4 \\uad6c\\uae00 \\ud53c\\ud2b8\", \"\\uc6cc\\uce58 \\uc5f0\\ub3d9 \\uc6b4\\ub3d9 \\uac78\\uc74c \\ud53c\\ud2b8 \\uc911\\uc9c0 \\uc6cc\\uce58\", \"\\uacc4\\uc815 \\uc815\\ubcf4 \\ub2e4\\uc6b4\\ub85c\\ub4dc \\uc624\\ub958\", \"\\uc18c\\ub9ac \\uad11\\uace0\", \"\\ubb34\\ub8cc \\uc0ad\\uc81c \\uacb0\\uc81c \\ud655\\uc778 \\ucde8\\uc18c\", \"\\ubc18\\ub098\\uc808 \\ub9cc\\ubcf4\", \"\\uc720\\ub8cc\", \"\\ud658\\ubd88\"], \"Freq\": [4.0, 3.0, 4.0, 2.0, 2.0, 2.0, 1.0, 1.0, 1.0, 1.0, 1.0, 1.0, 1.0, 1.0, 1.0, 1.0, 1.0, 1.0, 1.0, 1.0, 1.0, 1.0, 1.0, 1.0, 1.0, 1.0, 1.0, 1.0, 1.0, 1.0, 3.3827657091020242, 2.9459327694536652, 1.088310807312346, 1.0847410958302512, 1.0791356483139758, 1.073047064039841, 1.0368824045034204, 1.0330017183981584, 1.0014429914941496, 0.6605142683129183, 0.6576492846633039, 0.9784374743421766, 0.6522625047137018, 0.6509320379023624, 0.646024496700023, 0.6438745814387777, 0.6433530601043471, 0.6431090013297583, 0.6407274792722196, 0.6403898141042715, 0.6400820878232684, 0.638322515012064, 0.6359166845273314, 0.631805961657822, 0.6315954149465585, 0.6309907360527294, 0.6310123916671561, 0.9456227218014202, 0.6303999167521334, 0.6299473685496517, 2.8224346151033877, 1.4388043865478348, 1.0136140250320687, 0.6660735288050713, 0.6595859626758314, 0.6590414164053323, 0.6576339497227901, 0.6572994281184458, 0.6511115050739017, 0.6497090441048275, 0.6480541982921861, 0.6475903355108121, 0.6473129759247805, 0.9701748741552105, 0.6458183667679932, 0.6457731538721526, 0.6454258757721961, 0.6441681498946878, 0.6430801876760858, 0.6428236044921904, 0.6428107403468263, 0.6422083861595025, 0.6409468387157982, 0.6399443504002852, 0.639927557038973, 0.9589612147887294, 0.6390868663007181, 0.6376216993511031, 0.6368235302648888, 0.6351272392977269, 1.5196149391069464, 1.4858181013179144, 1.1012765755451506, 1.080907726838317, 1.0751314909203995, 1.0502975248876105, 1.003651235872332, 0.6625583070587668, 0.6571824869501921, 0.6558015759836556, 0.6557843537983076, 0.982479854590235, 0.653895654138468, 0.6535724723887262, 0.6466846613473547, 0.6460942167953593, 0.6451725641047718, 0.642512640101675, 0.6423431291477397, 0.6415868944843226, 0.6374536231556761, 0.6365150140542056, 0.6358632287556311, 0.6336109496273319, 0.6329871238025014, 0.632397689193474, 0.6314784284730737, 0.6290557879125505, 0.6277267561216305, 0.6272571857964301, 0.6272733980388102, 0.8161295437505766, 0.7181880919287917], \"Total\": [4.0, 3.0, 4.0, 2.0, 2.0, 2.0, 1.0, 1.0, 1.0, 1.0, 1.0, 1.0, 1.0, 1.0, 1.0, 1.0, 1.0, 1.0, 1.0, 1.0, 1.0, 1.0, 1.0, 1.0, 1.0, 1.0, 1.0, 1.0, 1.0, 1.0, 4.242963735386462, 4.245543738576853, 1.5927721401685349, 1.5924124450578665, 1.5928349983273498, 1.5925176517777777, 1.5926643625391348, 1.5931594477378472, 1.5932146664993123, 1.062242357495103, 1.0621851573261485, 1.5930241588402687, 1.062302970872621, 1.0623151292257265, 1.0621465458698753, 1.062326843474093, 1.062269816573282, 1.062368719153047, 1.0624460396253277, 1.062520181786757, 1.0624206496288264, 1.0623419954771158, 1.0624611977716374, 1.0624796310274272, 1.0624055837404163, 1.062341624991427, 1.0624644179987224, 1.5935958983761136, 1.0624793579754743, 1.0624457144064108, 3.7439137071704307, 2.1376145737755645, 1.6022224782760046, 1.0681256077198666, 1.0680543832479907, 1.068064922428962, 1.0680485151619639, 1.0680107111342467, 1.067955762811484, 1.067913767719083, 1.0679582250235333, 1.0679214024268873, 1.0679174494180983, 1.6018732731253875, 1.0679114150813551, 1.0679080785611315, 1.0679188939679345, 1.0678367474806856, 1.06786478673183, 1.067855178516537, 1.0678868480070403, 1.0678116701465772, 1.0678379975837584, 1.0678046028086778, 1.0678367654010972, 1.6018926212307671, 1.0678699478817557, 1.0677648445695418, 1.067777515147361, 1.0677473682975493, 2.12642201750592, 2.12685937030649, 1.5948911878299146, 1.5950456041630439, 1.5949745422884727, 1.5952667973942187, 1.5948888091972133, 1.0636416364230064, 1.0635731186134505, 1.0636106346140823, 1.0635956258223627, 1.5954277746510725, 1.063564631685711, 1.0636282457136241, 1.0636375000674274, 1.0637107397914927, 1.0637044493700987, 1.063602410102118, 1.0638033382034788, 1.0637573069001816, 1.0637700835092012, 1.0637271505866899, 1.0636848933533067, 1.0636294523762935, 1.063718581232835, 1.063830769346816, 1.0638022304299886, 1.063638408453269, 1.0636164728489779, 1.0635081399581205, 1.0635451085029788, 1.5944309479831755, 4.245543738576853], \"Category\": [\"Default\", \"Default\", \"Default\", \"Default\", \"Default\", \"Default\", \"Default\", \"Default\", \"Default\", \"Default\", \"Default\", \"Default\", \"Default\", \"Default\", \"Default\", \"Default\", \"Default\", \"Default\", \"Default\", \"Default\", \"Default\", \"Default\", \"Default\", \"Default\", \"Default\", \"Default\", \"Default\", \"Default\", \"Default\", \"Default\", \"Topic1\", \"Topic1\", \"Topic1\", \"Topic1\", \"Topic1\", \"Topic1\", \"Topic1\", \"Topic1\", \"Topic1\", \"Topic1\", \"Topic1\", \"Topic1\", \"Topic1\", \"Topic1\", \"Topic1\", \"Topic1\", \"Topic1\", \"Topic1\", \"Topic1\", \"Topic1\", \"Topic1\", \"Topic1\", \"Topic1\", \"Topic1\", \"Topic1\", \"Topic1\", \"Topic1\", \"Topic1\", \"Topic1\", \"Topic1\", \"Topic2\", \"Topic2\", \"Topic2\", \"Topic2\", \"Topic2\", \"Topic2\", \"Topic2\", \"Topic2\", \"Topic2\", \"Topic2\", \"Topic2\", \"Topic2\", \"Topic2\", \"Topic2\", \"Topic2\", \"Topic2\", \"Topic2\", \"Topic2\", \"Topic2\", \"Topic2\", \"Topic2\", \"Topic2\", \"Topic2\", \"Topic2\", \"Topic2\", \"Topic2\", \"Topic2\", \"Topic2\", \"Topic2\", \"Topic2\", \"Topic3\", \"Topic3\", \"Topic3\", \"Topic3\", \"Topic3\", \"Topic3\", \"Topic3\", \"Topic3\", \"Topic3\", \"Topic3\", \"Topic3\", \"Topic3\", \"Topic3\", \"Topic3\", \"Topic3\", \"Topic3\", \"Topic3\", \"Topic3\", \"Topic3\", \"Topic3\", \"Topic3\", \"Topic3\", \"Topic3\", \"Topic3\", \"Topic3\", \"Topic3\", \"Topic3\", \"Topic3\", \"Topic3\", \"Topic3\", \"Topic3\", \"Topic3\", \"Topic3\"], \"logprob\": [30.0, 29.0, 28.0, 27.0, 26.0, 25.0, 24.0, 23.0, 22.0, 21.0, 20.0, 19.0, 18.0, 17.0, 16.0, 15.0, 14.0, 13.0, 12.0, 11.0, 10.0, 9.0, 8.0, 7.0, 6.0, 5.0, 4.0, 3.0, 2.0, 1.0, -3.5372, -3.6754, -4.6712, -4.6745, -4.6797, -4.6853, -4.7196, -4.7234, -4.7544, -5.1706, -5.1749, -4.7777, -5.1832, -5.1852, -5.1928, -5.1961, -5.1969, -5.1973, -5.201, -5.2015, -5.202, -5.2048, -5.2085, -5.215, -5.2154, -5.2163, -5.2163, -4.8118, -5.2173, -5.218, -3.7124, -4.3862, -4.7365, -5.1564, -5.1662, -5.167, -5.1691, -5.1696, -5.1791, -5.1813, -5.1838, -5.1845, -5.185, -4.7803, -5.1873, -5.1873, -5.1879, -5.1898, -5.1915, -5.1919, -5.1919, -5.1929, -5.1948, -5.1964, -5.1964, -4.7919, -5.1977, -5.2, -5.2013, -5.204, -4.319, -4.3415, -4.641, -4.6597, -4.6651, -4.6884, -4.7339, -5.1492, -5.1573, -5.1594, -5.1594, -4.7552, -5.1623, -5.1628, -5.1734, -5.1743, -5.1757, -5.1799, -5.1801, -5.1813, -5.1878, -5.1893, -5.1903, -5.1938, -5.1948, -5.1957, -5.1972, -5.201, -5.2032, -5.2039, -5.2039, -4.9407, -5.0685], \"loglift\": [30.0, 29.0, 28.0, 27.0, 26.0, 25.0, 24.0, 23.0, 22.0, 21.0, 20.0, 19.0, 18.0, 17.0, 16.0, 15.0, 14.0, 13.0, 12.0, 11.0, 10.0, 9.0, 8.0, 7.0, 6.0, 5.0, 4.0, 3.0, 2.0, 1.0, 0.864, 0.7251, 0.7097, 0.7067, 0.7012, 0.6958, 0.6614, 0.6573, 0.6263, 0.6155, 0.6112, 0.6032, 0.6028, 0.6008, 0.5934, 0.5899, 0.5891, 0.5886, 0.5849, 0.5843, 0.5839, 0.5812, 0.5773, 0.5708, 0.5705, 0.5696, 0.5696, 0.5687, 0.5686, 0.5679, 0.8139, 0.7005, 0.6385, 0.6241, 0.6144, 0.6136, 0.6115, 0.611, 0.6016, 0.5995, 0.5969, 0.5962, 0.5958, 0.595, 0.5935, 0.5934, 0.5928, 0.591, 0.5893, 0.5889, 0.5888, 0.588, 0.586, 0.5844, 0.5844, 0.5833, 0.583, 0.5808, 0.5796, 0.5769, 0.7729, 0.7503, 0.7386, 0.7198, 0.7145, 0.691, 0.6458, 0.6356, 0.6275, 0.6254, 0.6254, 0.6241, 0.6225, 0.6219, 0.6113, 0.6104, 0.6089, 0.6049, 0.6044, 0.6033, 0.5968, 0.5954, 0.5944, 0.5909, 0.5899, 0.5888, 0.5874, 0.5837, 0.5816, 0.581, 0.581, 0.4392, -0.668]}, \"token.table\": {\"Topic\": [1, 3, 1, 2, 3, 3, 2, 3, 2, 1, 3, 1, 1, 2, 2, 3, 1, 3, 3, 1, 2, 3, 3, 1, 1, 1, 1, 2, 2, 1, 1, 1, 3, 2, 1, 2, 1, 3, 2, 2, 2, 2, 2, 3, 3, 2, 1, 1, 3, 3, 3, 2, 2, 3, 1, 1, 1, 3, 3, 2, 1, 3, 1, 1, 2, 3, 3, 2, 1, 3, 2, 2, 3, 1, 2, 1, 2, 3, 2, 2, 1, 3, 3, 2, 3, 3, 1, 1, 1, 2, 3, 2, 3, 3, 3, 2], \"Freq\": [0.9412108433676063, 0.9402343498533198, 0.6276835638892994, 0.9364436202962882, 0.6270020222261357, 0.4701768316049479, 0.9365246840414998, 0.940547070870626, 0.9364288003605109, 0.9413402600496285, 0.9401691327169999, 0.9414047490613365, 0.6278361950091541, 0.936320197517478, 0.6242615683139107, 0.9400982718953861, 0.9412467654401916, 0.9402268471242213, 0.9401107615862442, 0.6279365248376798, 0.9362819119368857, 0.9401662794651108, 0.9400906984920506, 0.7070529439080276, 0.6278786814854898, 0.9412927752590745, 0.9412079906484007, 0.9362870560691293, 0.9364716392025211, 0.9412601131851127, 0.6276618091881164, 0.9413298799169308, 0.9402842934886974, 0.9365009266392659, 0.9413510339508486, 0.9365357972645555, 0.9413167821679489, 0.9402516094569572, 0.9363683729440396, 0.936472735518111, 0.9365511259413658, 0.46781118180428044, 0.9364565721254436, 0.9401885223923091, 0.6270029573430574, 0.9362194790317828, 0.9414554450349429, 0.941194514037875, 0.9399991322059544, 0.9401936831543973, 0.9401770492212899, 0.9362726731309827, 0.8013005198956189, 0.26710017329853963, 0.6275116552565224, 0.941158593635726, 0.9412245599378231, 0.9400243498228052, 0.9401699356562803, 0.6241330486612586, 0.6271830092516192, 0.6271830092516192, 0.6279780110382528, 0.9413164538891103, 0.936398500608253, 0.9401052020928348, 0.6269413221728681, 0.6242691084101285, 0.6277368704364196, 0.9400233709444566, 0.9364727198022476, 0.9363662141166282, 0.9400640479866859, 0.9412242718252785, 0.9364481462680979, 0.9413804142772739, 0.9364007001359658, 0.940178115831313, 0.936494728384764, 0.9364101836811377, 0.6278114186655297, 0.6269692546723649, 0.9402009533844405, 0.936407258015702, 0.940206950575609, 0.6267911439730981, 0.9411947559202213, 0.9414896690936573, 0.7066232701221985, 0.23554109004073284, 0.23554109004073284, 0.9364019667858166, 0.9401280456728706, 0.6268543930290816, 0.9400527571720815, 0.9364051950897332], \"Term\": [\"\\uac10\\uc0ac\", \"\\uac24\\ub7ed\\uc2dc \\uae30\\uc900 \\uac78\\uc74c \\uac70\\ub9ac \\uce7c\\ub85c\\ub9ac \\ub9e4\\ud06c\\ub85c \\uc218\\uc815 \\ubd80\\ud0c1 \\ud328\\uce58 \\ubc84\\uadf8 \\uc218\\uc815 \\ubc84\\uadf8\", \"\\uac78\\uc74c\", \"\\uac78\\uc74c \\ud574\\uacb0\", \"\\uacb0\\uc81c\", \"\\uacb0\\uc81c \\ucde8\\uc18c\", \"\\uacb0\\uc81c \\ucde8\\uc18c \\uacb0\\uc81c \\uacb0\\uc81c\", \"\\uacb0\\uc81c \\ud658\\ubd88\", \"\\uacb0\\uc81c \\ud658\\ubd88 \\uc694\\uccad \\ud658\\ubd88 \\ud658\\ubd88\", \"\\uacc4\\uc0b0\", \"\\uacc4\\uc815 \\uc815\\ubcf4 \\ub2e4\\uc6b4\\ub85c\\ub4dc \\uc624\\ub958\", \"\\uacc4\\uc815 \\uc815\\ubcf4 \\ub2e4\\uc6b4\\ub85c\\ub4dc \\ud655\\uc778\", \"\\uad11\\uace0\", \"\\uad11\\uace0 \\uc0ad\\uc81c \\uad11\\uace0 \\ubd88\\ud3b8 \\uad11\\uace0 \\uc9dc\\uc99d \\ubd88\\ud3b8\", \"\\uad11\\uace0 \\uc9dc\\uc99d\", \"\\uad6c\\uae00 \\ud658\\ubd88 \\uc694\\uccad \\uacb0\\uc81c \\ucde8\\uc18c \\uad8c\\ud55c \\uacb0\\uc81c \\ucde8\\uc18c \\ubd80\\ud0c1 \\ubc29\\ubc95\", \"\\uad6c\\ub3c5 \\uacb0\\uc81c \\ud658\\ubd88 \\ubd80\\ud0c1\", \"\\uad6c\\ub3c5 \\ucde8\\uc18c \\uc790\\ub3d9 \\uacb0\\uc81c \\ube44\\uc5f4 \\ucde8\\uc18c \\uc0ad\\uc81c \\uc790\\ub3d9 \\uacb0\\uc81c \\uad6c\\ub3c5 \\ucde8\\uc18c\", \"\\uae30\\uae30 \\uc5f0\\uacb0 \\uacc4\\ud68d \\uac1c\\uc778 \\ud3c9\\uac00 \\uc5f0\\ub3d9 \\ud65c\\uc6a9\", \"\\ub3d9\\uc601\\uc0c1\", \"\\ub3d9\\uc601\\uc0c1 \\uc124\\uc815 \\uc6b4\\ub3d9 \\ud0c0\\uc774\\uba38 \\uc9c4\\ud589 \\uc791\\ub3d9 \\ud604\\uc0c1 \\uac1c\\uc120\", \"\\ub3d9\\uc791 \\ub3d9\\uc791 \\uad11\\uace0 \\uc18c\\ub9ac \\ud654\\uba74 \\ud750\\ub984 \\uc9dc\\uc99d \\uc720\\ub8cc\", \"\\ub4e3\\ubcf4\\uc7a1 \\uad6d\\uc5b4\", \"\\ub85c\\uadf8\\uc778\", \"\\ub9ac\\ubdf0\", \"\\ubaa9\\uc18c\\ub9ac\", \"\\ubaa9\\ud45c \\ud65c\\ub3d9 \\uc644\\ub8cc \\uc18c\\ub9ac \\uc131\\ucde8\\uac10 \\uc5c5\\ub370\\uc774\\ud2b8 \\uc18c\\ub9ac\", \"\\ubab8\\ubb34\\uac8c \\uce21\\uc815 \\uc0ac\\uc639 \\uc5f0\\ub3d9 \\uad6c\\uae00 \\ud53c\\ud2b8 \\uc5f0\\ub3d9\", \"\\ubabd\\uc7a5 \\ucd94\\ucc9c\", \"\\ubb34\\ub8cc \\uacb0\\uc81c \\uad6c\\ub3c5 \\ucd5c\\uc18c \\ucd5c\\uc18c \\ud658\\ubd88 \\uc694\\uccad\", \"\\ubb34\\ub8cc \\uacb0\\uc81c \\ucde8\\uc18c\", \"\\ubb34\\ub8cc \\uacb0\\uc81c \\ud658\\ubd88\", \"\\ubb34\\ub8cc \\uc0ad\\uc81c \\uacb0\\uc81c \\ud655\\uc778 \\ucde8\\uc18c\", \"\\ubb34\\ub8cc \\uc790\\ub3d9 \\uacb0\\uc81c \\ucde8\\uc18c\", \"\\ubb34\\ub8cc \\uccb4\\ud5d8 \\uc2dc\\uc791 \\uacb0\\uc81c \\ucde8\\uc18c\", \"\\ubb34\\uc6a9\\uc9c0\\ubb3c\", \"\\ubbf8\\uc548 \\uae08\\uc561 \\uc9c0\\ubd88 \\uc720\\ub8cc \\ubbf8\\uc548\", \"\\ubc18\\ub098\\uc808 \\ub9cc\\ubcf4\", \"\\ubc18\\uc751 \\ub85c\\ub529 \\ud0c8\\ud1f4\", \"\\ubc18\\uc751 \\uc18d\\ub3c4\", \"\\ubcf5\\uadfc \\uc6b4\\ub3d9\", \"\\ubd88\\ud3b8\", \"\\uc124\\uce58\", \"\\uc18c\\ub9ac \\uad11\\uace0\", \"\\uc218\\uc815 \\ubd80\\ud0c1\", \"\\uc2dc\\uacc4 \\uc5f0\\ub3d9 \\uc2e4\\ub9dd\", \"\\uc2dc\\uc815\\uc9c0\", \"\\uc2e4\\ud589\", \"\\uc2ec\\ubc15\\uc218 \\uc218\\uba74 \\ub370\\uc774\\ud130 \\ud5ec\\uc2a4 \\uc5f0\\uacb0 \\ud65c\\ub3d9 \\uac78\\uc74c \\uad6c\\uae00 \\uce6d\\ucc2c \\uc120\\ud638 \\uad6c\\uae00 \\uae30\\ubcf8 \\ubca0\\uc774\\uc2a4 \\uad6c\\uae00 \\ud53c\\ud2b8\", \"\\uc560\\ud50c \\uc6cc\\uce58 \\ub3d9\\uc2dc \\ucc29\\uc6a9 \\uac78\\uc74c \\uc808\\ubc18 \\uc774\\ud558 \\uac78\\uc74c \\uac70\\ub9ac\", \"\\uc5b4\\ubca4\\uc838\\uc2a4 \\uc6b4\\ub3d9 \\uc6b4\\ub3d9 \\ud69f\\uc218 \\uc6b4\\ub3d9 \\uc6b4\\ub3d9 \\uc6b4\\ub3d9 \\uc5f4\\uc758 \\uc7ac\\ubbf8 \\uad11\\uace0 \\ucd5c\\uc545\", \"\\uc5c5\\ub370\\uc774\\ud2b8 \\uce21\\uc815\", \"\\uc6b4\\ub3d9\", \"\\uc6b4\\ub3d9\", \"\\uc6b4\\ub3d9 \\uac81\\ub2c8\\ub2e4\", \"\\uc6b4\\ub3d9 \\uad6c\\uc131 \\uc2e4\\ud589 \\ud654\\uba74 \\ud130\\uce58 \\uc601\\uc0c1 \\uc7ac\\uc0dd \\uac15\\uc81c \\uc885\\ub8cc\", \"\\uc6b4\\ub3d9 \\ub9ac\\ubdf0 \\ucd9c\\ucc3d\", \"\\uc6cc\\uce58 \\uc5f0\\ub3d9 \\uc6b4\\ub3d9 \\uac78\\uc74c \\ud53c\\ud2b8 \\uc911\\uc9c0 \\uc6cc\\uce58\", \"\\uc6cc\\uce58 \\uc800\\uc7a5 \\ub370\\uc774\\ud130 \\uae30\\uae30 \\uc5f0\\ub3d9 \\ucd08\\uae30\", \"\\uc704\\uc82f\", \"\\uc720\\ub8cc\", \"\\uc720\\ub8cc\", \"\\uc758\\uacac\", \"\\uc774\\uc720 \\uae30\\ub85d \\ud45c\\uae30 \\ub370\\uc774\\ud130 \\ub0a0\\ub9bc \\ubb38\\uc81c \\ud574\\uacb0 \\ub370\\uc774\\ud130 \\ub0a0\\ub9bc \\ubb38\\uc81c\", \"\\uc774\\ud558\", \"\\uc784\\uac15\\ud601\", \"\\uc790\\ub3d9 \\uacb0\\uc81c \\ucde8\\uc18c\", \"\\uc790\\ub3d9 \\uacb0\\uc81c \\ud658\\ubd88\", \"\\uc790\\uc804\\uac70 \\uc778\\uc2dd \\uac78\\uc74c\", \"\\uc790\\uc804\\uac70 \\ud655\\uc778 \\ud5ec\\uc2a4 \\ud658\\uc0b0 \\uae30\\ub85d \\ubc18\\uc601 \\uc758\\ubb38 \\uc9c0\\ud558 \\uccad\\uacc4\\ucc9c \\uc911\\ub791\\ucc9c \\uc704\\uce58 \\uae30\\ub85d\", \"\\uc810\\uac80 \\uc810\\uac80\", \"\\uc815\\ubcf4\", \"\\uc815\\ubcf4 \\uc774\\uc720 \\ud608\\uc561 \\uc21c\\ud658 \\uc2a4\\ud2b8\\ub808\\uce6d \\ucffc\\ud2b8 \\ub7f0\\uc9c0 \\uadfc\\uc721 \\uadfc\\uc721 \\uc6b4\\ub3d9 \\uc5f0\\uc608\\uc778 \\uad00\\ub9ac \\ud558\\uccb4 \\uc6b4\\ub3d9 \\uc2a4\\ud2b8\\ub808\\uce6d \\ub9c8\\uc0ac\\uc9c0 \\uad00\\ub9ac \\ud608\\uc561 \\uc21c\\ud658\", \"\\uc815\\ud655\", \"\\uc815\\ud655 \\ubaa8\\ub4dc \\uc124\\uc815 \\ubc14\\ubcf4 \\uac1c\\ub150 \\ucc38\\uacac\", \"\\uc870\\uc544\", \"\\uc9c0\\ub09c\\ub2ec \\uacc4\\uc815 \\ub85c\\uadf8\\uc778 \\uad6c\\ub9e4 \\ubcf5\\uad6c\", \"\\uc9c4\\ud589 \\ucffc\\ud2b8 \\uad00\\uc808 \\ubb34\\ub9ac\", \"\\uccb4\\ud5d8 \\uacb0\\uc815 \\uacb0\\uc81c \\ud658\\ubd88\", \"\\ucd08\\uae30 \\uad6c\\ub3d9 \\ud604\\uc0c1 \\uc9dc\\uc99d \\uc2a4\\ud0c0\\ud2b8\", \"\\ucd5c\\uc545\", \"\\ucde8\\uc18c\", \"\\ucde8\\uc18c \\ucde8\\uc18c \\ubd80\\ud0c1\", \"\\ucde8\\uc18c \\ud658\\ubd88 \\ucde8\\uc18c\", \"\\uce7c\\ub85c\\ub9ac\", \"\\ud3ec\\ucf13\\ubaac \\uc5f0\\ub3d9\", \"\\ud559\\uc0dd \\uc911\\uc694 \\ubb38\\uc81c \\uac00\\ub2a5\", \"\\ud55c\\uad6d\\uc5b4 \\uce7c\\ub85c\\ub9ac \\ud0ac\\ub85c\\uce7c\\ub85c\\ub9ac \\ud45c\\uae30 \\ud63c\\ub3d9 \\uc601\\uc5b4 \\ud45c\\uae30 \\ub300\\ubb38\\uc790 \\uc18c\\ubb38\\uc790 \\ubb38\\uc81c \\uc218\\uc815\", \"\\ud658\\ubd88\", \"\\ud658\\ubd88\", \"\\ud658\\ubd88\", \"\\ud658\\ubd88 \\uacb0\\uc81c\", \"\\ud658\\ubd88 \\ubc29\\ubc95 \\ub3d9\\uc758 \\uacb0\\uc81c \\uacb0\\uc81c \\ucde8\\uc18c\", \"\\ud658\\ubd88 \\uc694\\uccad\", \"\\ud658\\ubd88 \\uc694\\uccad \\uacb0\\uc81c \\ud655\\uc778 \\uac00\\ub2a5 \\uacb0\\uc81c \\uc815\\ud655 \\uace0\\uc9c0\", \"\\ud734\\uc2dd \\ud655\\uc778 \\uae30\\ub85d \\ub0a0\\uc9dc \\uc6b4\\ub3d9 \\uac1c\\uc218 \\uc6b4\\ub3d9 \\uc6b4\\ub3d9 \\ud69f\\uc218 \\ucd08\\uae30 \\uc2dc\\uc791 \\uc624\\ub958\"]}, \"R\": 30, \"lambda.step\": 0.01, \"plot.opts\": {\"xlab\": \"PC1\", \"ylab\": \"PC2\"}, \"topic.order\": [3, 2, 1]};\n",
              "\n",
              "function LDAvis_load_lib(url, callback){\n",
              "  var s = document.createElement('script');\n",
              "  s.src = url;\n",
              "  s.async = true;\n",
              "  s.onreadystatechange = s.onload = callback;\n",
              "  s.onerror = function(){console.warn(\"failed to load library \" + url);};\n",
              "  document.getElementsByTagName(\"head\")[0].appendChild(s);\n",
              "}\n",
              "\n",
              "if(typeof(LDAvis) !== \"undefined\"){\n",
              "   // already loaded: just create the visualization\n",
              "   !function(LDAvis){\n",
              "       new LDAvis(\"#\" + \"ldavis_el24211133663610841328504262854\", ldavis_el24211133663610841328504262854_data);\n",
              "   }(LDAvis);\n",
              "}else if(typeof define === \"function\" && define.amd){\n",
              "   // require.js is available: use it to load d3/LDAvis\n",
              "   require.config({paths: {d3: \"https://d3js.org/d3.v5\"}});\n",
              "   require([\"d3\"], function(d3){\n",
              "      window.d3 = d3;\n",
              "      LDAvis_load_lib(\"https://cdn.jsdelivr.net/gh/bmabey/pyLDAvis@3.4.0/pyLDAvis/js/ldavis.v3.0.0.js\", function(){\n",
              "        new LDAvis(\"#\" + \"ldavis_el24211133663610841328504262854\", ldavis_el24211133663610841328504262854_data);\n",
              "      });\n",
              "    });\n",
              "}else{\n",
              "    // require.js not available: dynamically load d3 & LDAvis\n",
              "    LDAvis_load_lib(\"https://d3js.org/d3.v5.js\", function(){\n",
              "         LDAvis_load_lib(\"https://cdn.jsdelivr.net/gh/bmabey/pyLDAvis@3.4.0/pyLDAvis/js/ldavis.v3.0.0.js\", function(){\n",
              "                 new LDAvis(\"#\" + \"ldavis_el24211133663610841328504262854\", ldavis_el24211133663610841328504262854_data);\n",
              "            })\n",
              "         });\n",
              "}\n",
              "</script>"
            ]
          },
          "metadata": {},
          "execution_count": 23
        }
      ]
    },
    {
      "cell_type": "code",
      "source": [
        "# 시각화를 html로 저장\n",
        "pyLDAvis.save_html(result_visualized, './result_visualized.html')\n",
        "# 깃허브에 올리면 html이라 바로 열어볼 수 있음 혹은 캡처를 해서 이미지로 저장해 리드미에 올려놓는 것이 좋음"
      ],
      "metadata": {
        "id": "Vo1Ctrw3-DjU"
      },
      "execution_count": 24,
      "outputs": []
    },
    {
      "cell_type": "markdown",
      "source": [
        "# 퀘스트\n",
        "- review_positive.csv 토픽 분석\n",
        "- 토픽 수는 3으로 가정"
      ],
      "metadata": {
        "id": "ubFoWBqTzpnR"
      }
    },
    {
      "cell_type": "markdown",
      "source": [
        "## LDA 분석\n",
        "- positive review 분석"
      ],
      "metadata": {
        "id": "ai_aed7rzmZg"
      }
    },
    {
      "cell_type": "code",
      "source": [
        "df_review_positive = pd.read_csv('./review_positive.csv')\n",
        "df_review_positive[:2]"
      ],
      "metadata": {
        "colab": {
          "base_uri": "https://localhost:8080/",
          "height": 199
        },
        "id": "AdIxsgNUx9mX",
        "outputId": "016df140-7e95-4201-85d6-ef8911f6ef2b"
      },
      "execution_count": 27,
      "outputs": [
        {
          "output_type": "execute_result",
          "data": {
            "text/plain": [
              "   Unnamed: 0                                   app  \\\n",
              "0        1000  매일 운동 - 운동 & 피트니스 트레이너 - 빠르고 효율적인 운동   \n",
              "1        1001  매일 운동 - 운동 & 피트니스 트레이너 - 빠르고 효율적인 운동   \n",
              "\n",
              "                                              review  rating tokenized_review  \\\n",
              "0                                                  👍       5              NaN   \n",
              "1  힘들지만  살이  빠지는것  같아요.    땀이 많이나요   진짜 말을 할수가 없어...       5               최고   \n",
              "\n",
              "  replaced_review  \n",
              "0             NaN  \n",
              "1              최고  "
            ],
            "text/html": [
              "\n",
              "  <div id=\"df-77765056-45c4-42a7-8f79-65494364231b\" class=\"colab-df-container\">\n",
              "    <div>\n",
              "<style scoped>\n",
              "    .dataframe tbody tr th:only-of-type {\n",
              "        vertical-align: middle;\n",
              "    }\n",
              "\n",
              "    .dataframe tbody tr th {\n",
              "        vertical-align: top;\n",
              "    }\n",
              "\n",
              "    .dataframe thead th {\n",
              "        text-align: right;\n",
              "    }\n",
              "</style>\n",
              "<table border=\"1\" class=\"dataframe\">\n",
              "  <thead>\n",
              "    <tr style=\"text-align: right;\">\n",
              "      <th></th>\n",
              "      <th>Unnamed: 0</th>\n",
              "      <th>app</th>\n",
              "      <th>review</th>\n",
              "      <th>rating</th>\n",
              "      <th>tokenized_review</th>\n",
              "      <th>replaced_review</th>\n",
              "    </tr>\n",
              "  </thead>\n",
              "  <tbody>\n",
              "    <tr>\n",
              "      <th>0</th>\n",
              "      <td>1000</td>\n",
              "      <td>매일 운동 - 운동 &amp; 피트니스 트레이너 - 빠르고 효율적인 운동</td>\n",
              "      <td>👍</td>\n",
              "      <td>5</td>\n",
              "      <td>NaN</td>\n",
              "      <td>NaN</td>\n",
              "    </tr>\n",
              "    <tr>\n",
              "      <th>1</th>\n",
              "      <td>1001</td>\n",
              "      <td>매일 운동 - 운동 &amp; 피트니스 트레이너 - 빠르고 효율적인 운동</td>\n",
              "      <td>힘들지만  살이  빠지는것  같아요.    땀이 많이나요   진짜 말을 할수가 없어...</td>\n",
              "      <td>5</td>\n",
              "      <td>최고</td>\n",
              "      <td>최고</td>\n",
              "    </tr>\n",
              "  </tbody>\n",
              "</table>\n",
              "</div>\n",
              "    <div class=\"colab-df-buttons\">\n",
              "\n",
              "  <div class=\"colab-df-container\">\n",
              "    <button class=\"colab-df-convert\" onclick=\"convertToInteractive('df-77765056-45c4-42a7-8f79-65494364231b')\"\n",
              "            title=\"Convert this dataframe to an interactive table.\"\n",
              "            style=\"display:none;\">\n",
              "\n",
              "  <svg xmlns=\"http://www.w3.org/2000/svg\" height=\"24px\" viewBox=\"0 -960 960 960\">\n",
              "    <path d=\"M120-120v-720h720v720H120Zm60-500h600v-160H180v160Zm220 220h160v-160H400v160Zm0 220h160v-160H400v160ZM180-400h160v-160H180v160Zm440 0h160v-160H620v160ZM180-180h160v-160H180v160Zm440 0h160v-160H620v160Z\"/>\n",
              "  </svg>\n",
              "    </button>\n",
              "\n",
              "  <style>\n",
              "    .colab-df-container {\n",
              "      display:flex;\n",
              "      gap: 12px;\n",
              "    }\n",
              "\n",
              "    .colab-df-convert {\n",
              "      background-color: #E8F0FE;\n",
              "      border: none;\n",
              "      border-radius: 50%;\n",
              "      cursor: pointer;\n",
              "      display: none;\n",
              "      fill: #1967D2;\n",
              "      height: 32px;\n",
              "      padding: 0 0 0 0;\n",
              "      width: 32px;\n",
              "    }\n",
              "\n",
              "    .colab-df-convert:hover {\n",
              "      background-color: #E2EBFA;\n",
              "      box-shadow: 0px 1px 2px rgba(60, 64, 67, 0.3), 0px 1px 3px 1px rgba(60, 64, 67, 0.15);\n",
              "      fill: #174EA6;\n",
              "    }\n",
              "\n",
              "    .colab-df-buttons div {\n",
              "      margin-bottom: 4px;\n",
              "    }\n",
              "\n",
              "    [theme=dark] .colab-df-convert {\n",
              "      background-color: #3B4455;\n",
              "      fill: #D2E3FC;\n",
              "    }\n",
              "\n",
              "    [theme=dark] .colab-df-convert:hover {\n",
              "      background-color: #434B5C;\n",
              "      box-shadow: 0px 1px 3px 1px rgba(0, 0, 0, 0.15);\n",
              "      filter: drop-shadow(0px 1px 2px rgba(0, 0, 0, 0.3));\n",
              "      fill: #FFFFFF;\n",
              "    }\n",
              "  </style>\n",
              "\n",
              "    <script>\n",
              "      const buttonEl =\n",
              "        document.querySelector('#df-77765056-45c4-42a7-8f79-65494364231b button.colab-df-convert');\n",
              "      buttonEl.style.display =\n",
              "        google.colab.kernel.accessAllowed ? 'block' : 'none';\n",
              "\n",
              "      async function convertToInteractive(key) {\n",
              "        const element = document.querySelector('#df-77765056-45c4-42a7-8f79-65494364231b');\n",
              "        const dataTable =\n",
              "          await google.colab.kernel.invokeFunction('convertToInteractive',\n",
              "                                                    [key], {});\n",
              "        if (!dataTable) return;\n",
              "\n",
              "        const docLinkHtml = 'Like what you see? Visit the ' +\n",
              "          '<a target=\"_blank\" href=https://colab.research.google.com/notebooks/data_table.ipynb>data table notebook</a>'\n",
              "          + ' to learn more about interactive tables.';\n",
              "        element.innerHTML = '';\n",
              "        dataTable['output_type'] = 'display_data';\n",
              "        await google.colab.output.renderOutput(dataTable, element);\n",
              "        const docLink = document.createElement('div');\n",
              "        docLink.innerHTML = docLinkHtml;\n",
              "        element.appendChild(docLink);\n",
              "      }\n",
              "    </script>\n",
              "  </div>\n",
              "\n",
              "\n",
              "<div id=\"df-9e077574-ca3c-4b51-846a-efcbc82c426f\">\n",
              "  <button class=\"colab-df-quickchart\" onclick=\"quickchart('df-9e077574-ca3c-4b51-846a-efcbc82c426f')\"\n",
              "            title=\"Suggest charts.\"\n",
              "            style=\"display:none;\">\n",
              "\n",
              "<svg xmlns=\"http://www.w3.org/2000/svg\" height=\"24px\"viewBox=\"0 0 24 24\"\n",
              "     width=\"24px\">\n",
              "    <g>\n",
              "        <path d=\"M19 3H5c-1.1 0-2 .9-2 2v14c0 1.1.9 2 2 2h14c1.1 0 2-.9 2-2V5c0-1.1-.9-2-2-2zM9 17H7v-7h2v7zm4 0h-2V7h2v10zm4 0h-2v-4h2v4z\"/>\n",
              "    </g>\n",
              "</svg>\n",
              "  </button>\n",
              "\n",
              "<style>\n",
              "  .colab-df-quickchart {\n",
              "      --bg-color: #E8F0FE;\n",
              "      --fill-color: #1967D2;\n",
              "      --hover-bg-color: #E2EBFA;\n",
              "      --hover-fill-color: #174EA6;\n",
              "      --disabled-fill-color: #AAA;\n",
              "      --disabled-bg-color: #DDD;\n",
              "  }\n",
              "\n",
              "  [theme=dark] .colab-df-quickchart {\n",
              "      --bg-color: #3B4455;\n",
              "      --fill-color: #D2E3FC;\n",
              "      --hover-bg-color: #434B5C;\n",
              "      --hover-fill-color: #FFFFFF;\n",
              "      --disabled-bg-color: #3B4455;\n",
              "      --disabled-fill-color: #666;\n",
              "  }\n",
              "\n",
              "  .colab-df-quickchart {\n",
              "    background-color: var(--bg-color);\n",
              "    border: none;\n",
              "    border-radius: 50%;\n",
              "    cursor: pointer;\n",
              "    display: none;\n",
              "    fill: var(--fill-color);\n",
              "    height: 32px;\n",
              "    padding: 0;\n",
              "    width: 32px;\n",
              "  }\n",
              "\n",
              "  .colab-df-quickchart:hover {\n",
              "    background-color: var(--hover-bg-color);\n",
              "    box-shadow: 0 1px 2px rgba(60, 64, 67, 0.3), 0 1px 3px 1px rgba(60, 64, 67, 0.15);\n",
              "    fill: var(--button-hover-fill-color);\n",
              "  }\n",
              "\n",
              "  .colab-df-quickchart-complete:disabled,\n",
              "  .colab-df-quickchart-complete:disabled:hover {\n",
              "    background-color: var(--disabled-bg-color);\n",
              "    fill: var(--disabled-fill-color);\n",
              "    box-shadow: none;\n",
              "  }\n",
              "\n",
              "  .colab-df-spinner {\n",
              "    border: 2px solid var(--fill-color);\n",
              "    border-color: transparent;\n",
              "    border-bottom-color: var(--fill-color);\n",
              "    animation:\n",
              "      spin 1s steps(1) infinite;\n",
              "  }\n",
              "\n",
              "  @keyframes spin {\n",
              "    0% {\n",
              "      border-color: transparent;\n",
              "      border-bottom-color: var(--fill-color);\n",
              "      border-left-color: var(--fill-color);\n",
              "    }\n",
              "    20% {\n",
              "      border-color: transparent;\n",
              "      border-left-color: var(--fill-color);\n",
              "      border-top-color: var(--fill-color);\n",
              "    }\n",
              "    30% {\n",
              "      border-color: transparent;\n",
              "      border-left-color: var(--fill-color);\n",
              "      border-top-color: var(--fill-color);\n",
              "      border-right-color: var(--fill-color);\n",
              "    }\n",
              "    40% {\n",
              "      border-color: transparent;\n",
              "      border-right-color: var(--fill-color);\n",
              "      border-top-color: var(--fill-color);\n",
              "    }\n",
              "    60% {\n",
              "      border-color: transparent;\n",
              "      border-right-color: var(--fill-color);\n",
              "    }\n",
              "    80% {\n",
              "      border-color: transparent;\n",
              "      border-right-color: var(--fill-color);\n",
              "      border-bottom-color: var(--fill-color);\n",
              "    }\n",
              "    90% {\n",
              "      border-color: transparent;\n",
              "      border-bottom-color: var(--fill-color);\n",
              "    }\n",
              "  }\n",
              "</style>\n",
              "\n",
              "  <script>\n",
              "    async function quickchart(key) {\n",
              "      const quickchartButtonEl =\n",
              "        document.querySelector('#' + key + ' button');\n",
              "      quickchartButtonEl.disabled = true;  // To prevent multiple clicks.\n",
              "      quickchartButtonEl.classList.add('colab-df-spinner');\n",
              "      try {\n",
              "        const charts = await google.colab.kernel.invokeFunction(\n",
              "            'suggestCharts', [key], {});\n",
              "      } catch (error) {\n",
              "        console.error('Error during call to suggestCharts:', error);\n",
              "      }\n",
              "      quickchartButtonEl.classList.remove('colab-df-spinner');\n",
              "      quickchartButtonEl.classList.add('colab-df-quickchart-complete');\n",
              "    }\n",
              "    (() => {\n",
              "      let quickchartButtonEl =\n",
              "        document.querySelector('#df-9e077574-ca3c-4b51-846a-efcbc82c426f button');\n",
              "      quickchartButtonEl.style.display =\n",
              "        google.colab.kernel.accessAllowed ? 'block' : 'none';\n",
              "    })();\n",
              "  </script>\n",
              "</div>\n",
              "    </div>\n",
              "  </div>\n"
            ]
          },
          "metadata": {},
          "execution_count": 27
        }
      ]
    },
    {
      "cell_type": "code",
      "source": [
        "df_review_positive.info()"
      ],
      "metadata": {
        "colab": {
          "base_uri": "https://localhost:8080/"
        },
        "id": "WmLDGIsNz7px",
        "outputId": "2da065f3-0be1-42b1-a6d1-ca33cf714b6c"
      },
      "execution_count": 28,
      "outputs": [
        {
          "output_type": "stream",
          "name": "stdout",
          "text": [
            "<class 'pandas.core.frame.DataFrame'>\n",
            "RangeIndex: 7587 entries, 0 to 7586\n",
            "Data columns (total 6 columns):\n",
            " #   Column            Non-Null Count  Dtype \n",
            "---  ------            --------------  ----- \n",
            " 0   Unnamed: 0        7587 non-null   int64 \n",
            " 1   app               7587 non-null   object\n",
            " 2   review            7587 non-null   object\n",
            " 3   rating            7587 non-null   int64 \n",
            " 4   tokenized_review  4351 non-null   object\n",
            " 5   replaced_review   4351 non-null   object\n",
            "dtypes: int64(2), object(4)\n",
            "memory usage: 355.8+ KB\n"
          ]
        }
      ]
    },
    {
      "cell_type": "code",
      "source": [
        "# null 값 제거\n",
        "df_review_positive = df_review_positive.dropna()\n",
        "df_review_positive.info()"
      ],
      "metadata": {
        "colab": {
          "base_uri": "https://localhost:8080/"
        },
        "id": "1laePe0i0DhZ",
        "outputId": "c13cce41-f605-404e-ee88-889555fd26bf"
      },
      "execution_count": 32,
      "outputs": [
        {
          "output_type": "stream",
          "name": "stdout",
          "text": [
            "<class 'pandas.core.frame.DataFrame'>\n",
            "Int64Index: 4351 entries, 1 to 7585\n",
            "Data columns (total 6 columns):\n",
            " #   Column            Non-Null Count  Dtype \n",
            "---  ------            --------------  ----- \n",
            " 0   Unnamed: 0        4351 non-null   int64 \n",
            " 1   app               4351 non-null   object\n",
            " 2   review            4351 non-null   object\n",
            " 3   rating            4351 non-null   int64 \n",
            " 4   tokenized_review  4351 non-null   object\n",
            " 5   replaced_review   4351 non-null   object\n",
            "dtypes: int64(2), object(4)\n",
            "memory usage: 237.9+ KB\n"
          ]
        }
      ]
    },
    {
      "cell_type": "code",
      "source": [
        "from gensim.corpora import Dictionary"
      ],
      "metadata": {
        "id": "6HLWEkI00OKp"
      },
      "execution_count": 33,
      "outputs": []
    },
    {
      "cell_type": "code",
      "source": [
        "df_review_positive[['replaced_review']]"
      ],
      "metadata": {
        "colab": {
          "base_uri": "https://localhost:8080/",
          "height": 424
        },
        "id": "8ySx-m_K0cuo",
        "outputId": "11f9ffcb-3f44-4111-a49a-7518c811e76a"
      },
      "execution_count": 34,
      "outputs": [
        {
          "output_type": "execute_result",
          "data": {
            "text/plain": [
              "        replaced_review\n",
              "1                    최고\n",
              "4              필요 운동 최고\n",
              "5                 운동 최고\n",
              "7                 집중 운동\n",
              "12                운동 도움\n",
              "...                 ...\n",
              "7579  리뷰 설명 타임 운동 추천 건강\n",
              "7580    운동 몸무게 점차 저녁 기대\n",
              "7582                 추천\n",
              "7583              운동 영상\n",
              "7585                 추천\n",
              "\n",
              "[4351 rows x 1 columns]"
            ],
            "text/html": [
              "\n",
              "  <div id=\"df-2a7cd40d-5adc-4dd2-8554-c183644bc76f\" class=\"colab-df-container\">\n",
              "    <div>\n",
              "<style scoped>\n",
              "    .dataframe tbody tr th:only-of-type {\n",
              "        vertical-align: middle;\n",
              "    }\n",
              "\n",
              "    .dataframe tbody tr th {\n",
              "        vertical-align: top;\n",
              "    }\n",
              "\n",
              "    .dataframe thead th {\n",
              "        text-align: right;\n",
              "    }\n",
              "</style>\n",
              "<table border=\"1\" class=\"dataframe\">\n",
              "  <thead>\n",
              "    <tr style=\"text-align: right;\">\n",
              "      <th></th>\n",
              "      <th>replaced_review</th>\n",
              "    </tr>\n",
              "  </thead>\n",
              "  <tbody>\n",
              "    <tr>\n",
              "      <th>1</th>\n",
              "      <td>최고</td>\n",
              "    </tr>\n",
              "    <tr>\n",
              "      <th>4</th>\n",
              "      <td>필요 운동 최고</td>\n",
              "    </tr>\n",
              "    <tr>\n",
              "      <th>5</th>\n",
              "      <td>운동 최고</td>\n",
              "    </tr>\n",
              "    <tr>\n",
              "      <th>7</th>\n",
              "      <td>집중 운동</td>\n",
              "    </tr>\n",
              "    <tr>\n",
              "      <th>12</th>\n",
              "      <td>운동 도움</td>\n",
              "    </tr>\n",
              "    <tr>\n",
              "      <th>...</th>\n",
              "      <td>...</td>\n",
              "    </tr>\n",
              "    <tr>\n",
              "      <th>7579</th>\n",
              "      <td>리뷰 설명 타임 운동 추천 건강</td>\n",
              "    </tr>\n",
              "    <tr>\n",
              "      <th>7580</th>\n",
              "      <td>운동 몸무게 점차 저녁 기대</td>\n",
              "    </tr>\n",
              "    <tr>\n",
              "      <th>7582</th>\n",
              "      <td>추천</td>\n",
              "    </tr>\n",
              "    <tr>\n",
              "      <th>7583</th>\n",
              "      <td>운동 영상</td>\n",
              "    </tr>\n",
              "    <tr>\n",
              "      <th>7585</th>\n",
              "      <td>추천</td>\n",
              "    </tr>\n",
              "  </tbody>\n",
              "</table>\n",
              "<p>4351 rows × 1 columns</p>\n",
              "</div>\n",
              "    <div class=\"colab-df-buttons\">\n",
              "\n",
              "  <div class=\"colab-df-container\">\n",
              "    <button class=\"colab-df-convert\" onclick=\"convertToInteractive('df-2a7cd40d-5adc-4dd2-8554-c183644bc76f')\"\n",
              "            title=\"Convert this dataframe to an interactive table.\"\n",
              "            style=\"display:none;\">\n",
              "\n",
              "  <svg xmlns=\"http://www.w3.org/2000/svg\" height=\"24px\" viewBox=\"0 -960 960 960\">\n",
              "    <path d=\"M120-120v-720h720v720H120Zm60-500h600v-160H180v160Zm220 220h160v-160H400v160Zm0 220h160v-160H400v160ZM180-400h160v-160H180v160Zm440 0h160v-160H620v160ZM180-180h160v-160H180v160Zm440 0h160v-160H620v160Z\"/>\n",
              "  </svg>\n",
              "    </button>\n",
              "\n",
              "  <style>\n",
              "    .colab-df-container {\n",
              "      display:flex;\n",
              "      gap: 12px;\n",
              "    }\n",
              "\n",
              "    .colab-df-convert {\n",
              "      background-color: #E8F0FE;\n",
              "      border: none;\n",
              "      border-radius: 50%;\n",
              "      cursor: pointer;\n",
              "      display: none;\n",
              "      fill: #1967D2;\n",
              "      height: 32px;\n",
              "      padding: 0 0 0 0;\n",
              "      width: 32px;\n",
              "    }\n",
              "\n",
              "    .colab-df-convert:hover {\n",
              "      background-color: #E2EBFA;\n",
              "      box-shadow: 0px 1px 2px rgba(60, 64, 67, 0.3), 0px 1px 3px 1px rgba(60, 64, 67, 0.15);\n",
              "      fill: #174EA6;\n",
              "    }\n",
              "\n",
              "    .colab-df-buttons div {\n",
              "      margin-bottom: 4px;\n",
              "    }\n",
              "\n",
              "    [theme=dark] .colab-df-convert {\n",
              "      background-color: #3B4455;\n",
              "      fill: #D2E3FC;\n",
              "    }\n",
              "\n",
              "    [theme=dark] .colab-df-convert:hover {\n",
              "      background-color: #434B5C;\n",
              "      box-shadow: 0px 1px 3px 1px rgba(0, 0, 0, 0.15);\n",
              "      filter: drop-shadow(0px 1px 2px rgba(0, 0, 0, 0.3));\n",
              "      fill: #FFFFFF;\n",
              "    }\n",
              "  </style>\n",
              "\n",
              "    <script>\n",
              "      const buttonEl =\n",
              "        document.querySelector('#df-2a7cd40d-5adc-4dd2-8554-c183644bc76f button.colab-df-convert');\n",
              "      buttonEl.style.display =\n",
              "        google.colab.kernel.accessAllowed ? 'block' : 'none';\n",
              "\n",
              "      async function convertToInteractive(key) {\n",
              "        const element = document.querySelector('#df-2a7cd40d-5adc-4dd2-8554-c183644bc76f');\n",
              "        const dataTable =\n",
              "          await google.colab.kernel.invokeFunction('convertToInteractive',\n",
              "                                                    [key], {});\n",
              "        if (!dataTable) return;\n",
              "\n",
              "        const docLinkHtml = 'Like what you see? Visit the ' +\n",
              "          '<a target=\"_blank\" href=https://colab.research.google.com/notebooks/data_table.ipynb>data table notebook</a>'\n",
              "          + ' to learn more about interactive tables.';\n",
              "        element.innerHTML = '';\n",
              "        dataTable['output_type'] = 'display_data';\n",
              "        await google.colab.output.renderOutput(dataTable, element);\n",
              "        const docLink = document.createElement('div');\n",
              "        docLink.innerHTML = docLinkHtml;\n",
              "        element.appendChild(docLink);\n",
              "      }\n",
              "    </script>\n",
              "  </div>\n",
              "\n",
              "\n",
              "<div id=\"df-b486293f-8a2d-48ee-a90f-c44e717a06f1\">\n",
              "  <button class=\"colab-df-quickchart\" onclick=\"quickchart('df-b486293f-8a2d-48ee-a90f-c44e717a06f1')\"\n",
              "            title=\"Suggest charts.\"\n",
              "            style=\"display:none;\">\n",
              "\n",
              "<svg xmlns=\"http://www.w3.org/2000/svg\" height=\"24px\"viewBox=\"0 0 24 24\"\n",
              "     width=\"24px\">\n",
              "    <g>\n",
              "        <path d=\"M19 3H5c-1.1 0-2 .9-2 2v14c0 1.1.9 2 2 2h14c1.1 0 2-.9 2-2V5c0-1.1-.9-2-2-2zM9 17H7v-7h2v7zm4 0h-2V7h2v10zm4 0h-2v-4h2v4z\"/>\n",
              "    </g>\n",
              "</svg>\n",
              "  </button>\n",
              "\n",
              "<style>\n",
              "  .colab-df-quickchart {\n",
              "      --bg-color: #E8F0FE;\n",
              "      --fill-color: #1967D2;\n",
              "      --hover-bg-color: #E2EBFA;\n",
              "      --hover-fill-color: #174EA6;\n",
              "      --disabled-fill-color: #AAA;\n",
              "      --disabled-bg-color: #DDD;\n",
              "  }\n",
              "\n",
              "  [theme=dark] .colab-df-quickchart {\n",
              "      --bg-color: #3B4455;\n",
              "      --fill-color: #D2E3FC;\n",
              "      --hover-bg-color: #434B5C;\n",
              "      --hover-fill-color: #FFFFFF;\n",
              "      --disabled-bg-color: #3B4455;\n",
              "      --disabled-fill-color: #666;\n",
              "  }\n",
              "\n",
              "  .colab-df-quickchart {\n",
              "    background-color: var(--bg-color);\n",
              "    border: none;\n",
              "    border-radius: 50%;\n",
              "    cursor: pointer;\n",
              "    display: none;\n",
              "    fill: var(--fill-color);\n",
              "    height: 32px;\n",
              "    padding: 0;\n",
              "    width: 32px;\n",
              "  }\n",
              "\n",
              "  .colab-df-quickchart:hover {\n",
              "    background-color: var(--hover-bg-color);\n",
              "    box-shadow: 0 1px 2px rgba(60, 64, 67, 0.3), 0 1px 3px 1px rgba(60, 64, 67, 0.15);\n",
              "    fill: var(--button-hover-fill-color);\n",
              "  }\n",
              "\n",
              "  .colab-df-quickchart-complete:disabled,\n",
              "  .colab-df-quickchart-complete:disabled:hover {\n",
              "    background-color: var(--disabled-bg-color);\n",
              "    fill: var(--disabled-fill-color);\n",
              "    box-shadow: none;\n",
              "  }\n",
              "\n",
              "  .colab-df-spinner {\n",
              "    border: 2px solid var(--fill-color);\n",
              "    border-color: transparent;\n",
              "    border-bottom-color: var(--fill-color);\n",
              "    animation:\n",
              "      spin 1s steps(1) infinite;\n",
              "  }\n",
              "\n",
              "  @keyframes spin {\n",
              "    0% {\n",
              "      border-color: transparent;\n",
              "      border-bottom-color: var(--fill-color);\n",
              "      border-left-color: var(--fill-color);\n",
              "    }\n",
              "    20% {\n",
              "      border-color: transparent;\n",
              "      border-left-color: var(--fill-color);\n",
              "      border-top-color: var(--fill-color);\n",
              "    }\n",
              "    30% {\n",
              "      border-color: transparent;\n",
              "      border-left-color: var(--fill-color);\n",
              "      border-top-color: var(--fill-color);\n",
              "      border-right-color: var(--fill-color);\n",
              "    }\n",
              "    40% {\n",
              "      border-color: transparent;\n",
              "      border-right-color: var(--fill-color);\n",
              "      border-top-color: var(--fill-color);\n",
              "    }\n",
              "    60% {\n",
              "      border-color: transparent;\n",
              "      border-right-color: var(--fill-color);\n",
              "    }\n",
              "    80% {\n",
              "      border-color: transparent;\n",
              "      border-right-color: var(--fill-color);\n",
              "      border-bottom-color: var(--fill-color);\n",
              "    }\n",
              "    90% {\n",
              "      border-color: transparent;\n",
              "      border-bottom-color: var(--fill-color);\n",
              "    }\n",
              "  }\n",
              "</style>\n",
              "\n",
              "  <script>\n",
              "    async function quickchart(key) {\n",
              "      const quickchartButtonEl =\n",
              "        document.querySelector('#' + key + ' button');\n",
              "      quickchartButtonEl.disabled = true;  // To prevent multiple clicks.\n",
              "      quickchartButtonEl.classList.add('colab-df-spinner');\n",
              "      try {\n",
              "        const charts = await google.colab.kernel.invokeFunction(\n",
              "            'suggestCharts', [key], {});\n",
              "      } catch (error) {\n",
              "        console.error('Error during call to suggestCharts:', error);\n",
              "      }\n",
              "      quickchartButtonEl.classList.remove('colab-df-spinner');\n",
              "      quickchartButtonEl.classList.add('colab-df-quickchart-complete');\n",
              "    }\n",
              "    (() => {\n",
              "      let quickchartButtonEl =\n",
              "        document.querySelector('#df-b486293f-8a2d-48ee-a90f-c44e717a06f1 button');\n",
              "      quickchartButtonEl.style.display =\n",
              "        google.colab.kernel.accessAllowed ? 'block' : 'none';\n",
              "    })();\n",
              "  </script>\n",
              "</div>\n",
              "    </div>\n",
              "  </div>\n"
            ]
          },
          "metadata": {},
          "execution_count": 34
        }
      ]
    },
    {
      "cell_type": "code",
      "source": [
        "# 2차원 배열에서 값만 추출\n",
        "dictionary = Dictionary(df_review_positive[['replaced_review']].values)"
      ],
      "metadata": {
        "id": "n6qzsVdw0jbh"
      },
      "execution_count": 42,
      "outputs": []
    },
    {
      "cell_type": "code",
      "source": [
        "# 벡터화 확인\n",
        "dictionary.doc2bow(df_review_positive[['replaced_review']].values[3])"
      ],
      "metadata": {
        "colab": {
          "base_uri": "https://localhost:8080/"
        },
        "id": "QXnTxigx0y4Z",
        "outputId": "f76142c9-5c99-416e-fcb1-3abf8ef24b49"
      },
      "execution_count": 44,
      "outputs": [
        {
          "output_type": "execute_result",
          "data": {
            "text/plain": [
              "[(3, 1)]"
            ]
          },
          "metadata": {},
          "execution_count": 44
        }
      ]
    },
    {
      "cell_type": "code",
      "source": [
        "# dictionary에 의한 한글 문장을 벡터화\n",
        "corpus_list = list()\n",
        "for sentence in df_review_positive[['replaced_review']].values :\n",
        "  vectors = dictionary.doc2bow(sentence)\n",
        "  corpus_list.append(vectors)"
      ],
      "metadata": {
        "id": "HJmsY3bW1RCp"
      },
      "execution_count": 50,
      "outputs": []
    },
    {
      "cell_type": "code",
      "source": [
        "# 컬럼 추가\n",
        "df_review_positive['문장 벡터화'] = corpus_list"
      ],
      "metadata": {
        "id": "uJcetKFD1hzX"
      },
      "execution_count": 51,
      "outputs": []
    },
    {
      "cell_type": "code",
      "source": [
        "# 컬럼 추가 확인\n",
        "df_review_positive.columns"
      ],
      "metadata": {
        "colab": {
          "base_uri": "https://localhost:8080/"
        },
        "id": "Wm6nH3X31zoo",
        "outputId": "74b43f8b-3728-4f0a-f891-3141604d7e68"
      },
      "execution_count": 53,
      "outputs": [
        {
          "output_type": "execute_result",
          "data": {
            "text/plain": [
              "Index(['Unnamed: 0', 'app', 'review', 'rating', 'tokenized_review',\n",
              "       'replaced_review', '문장 벡터화'],\n",
              "      dtype='object')"
            ]
          },
          "metadata": {},
          "execution_count": 53
        }
      ]
    },
    {
      "cell_type": "markdown",
      "source": [
        "#### 토픽 잡기"
      ],
      "metadata": {
        "id": "AT5z_gi12E5p"
      }
    },
    {
      "cell_type": "code",
      "source": [
        "from gensim.models import LdaModel"
      ],
      "metadata": {
        "id": "x8I6QJ_L1-z5"
      },
      "execution_count": 54,
      "outputs": []
    },
    {
      "cell_type": "code",
      "source": [
        "lda_model = LdaModel(corpus=corpus_list, id2word=dictionary, num_topics=3)"
      ],
      "metadata": {
        "colab": {
          "base_uri": "https://localhost:8080/"
        },
        "id": "6CG6Iuhy2XHZ",
        "outputId": "f3a07ceb-fa40-4e4f-d169-a031a97e07c4"
      },
      "execution_count": 55,
      "outputs": [
        {
          "output_type": "stream",
          "name": "stderr",
          "text": [
            "WARNING:gensim.models.ldamodel:too few updates, training might not converge; consider increasing the number of passes or iterations to improve accuracy\n"
          ]
        }
      ]
    },
    {
      "cell_type": "code",
      "source": [
        "lda_model.print_topics(num_words=4)"
      ],
      "metadata": {
        "colab": {
          "base_uri": "https://localhost:8080/"
        },
        "id": "NRrBdQqg2cLB",
        "outputId": "42de0768-e1ff-4a23-cd6d-7963edbe837a"
      },
      "execution_count": 56,
      "outputs": [
        {
          "output_type": "execute_result",
          "data": {
            "text/plain": [
              "[(0, '0.268*\"운동\" + 0.027*\"도움\" + 0.018*\"운동 최고\" + 0.015*\"운동 도움\"'),\n",
              " (1, '0.040*\"뱃살\" + 0.031*\"추천\" + 0.030*\"감사\" + 0.015*\"강추\"'),\n",
              " (2, '0.081*\"최고\" + 0.017*\"광고\" + 0.011*\"유용\" + 0.009*\"트레이닝\"')]"
            ]
          },
          "metadata": {},
          "execution_count": 56
        }
      ]
    },
    {
      "cell_type": "markdown",
      "source": [
        "### LDA 시각화"
      ],
      "metadata": {
        "id": "Dh4b-aFJ550q"
      }
    },
    {
      "cell_type": "code",
      "source": [
        "# %pip install pyLDAvis"
      ],
      "metadata": {
        "id": "gGajt5-b59LU"
      },
      "execution_count": null,
      "outputs": []
    }
  ]
}