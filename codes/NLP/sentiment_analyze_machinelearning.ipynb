{
 "cells": [
  {
   "cell_type": "markdown",
   "id": "2beca7d8-2d70-42eb-b893-e505850b02b5",
   "metadata": {},
   "source": [
    "## 머신러닝에 의한 감성분석"
   ]
  },
  {
   "cell_type": "code",
   "execution_count": 1,
   "id": "a00ab31e-6b4f-46a4-8b2d-c06ab89e5c37",
   "metadata": {
    "tags": []
   },
   "outputs": [],
   "source": [
    "comments_positive = [\n",
    "    \"맛이 정말 풍부하고, 재료도 신선해서 좋았어요. 서비스도 훌륭했습니다.\",  # 음식\n",
    "    \"해변이 너무 깨끗하고 아름다웠습니다. 다음 여행에서는 더 오래 머물고 싶네요.\",  # 여행지\n",
    "    \"연기력이 대단했고, 스토리 전개가 매우 재미있었습니다. 강력 추천합니다!\",  # 영화\n",
    "    \"노래의 가사와 멜로디가 너무 좋아요, 계속 듣게 되네요.\",  # 음악\n",
    "    \"핸들링이 매우 부드럽고 연비도 좋습니다. 차량 내부 디자인도 세련되었어요.\",  # 자동차\n",
    "    \"배터리 수명이 길고 카메라 기능이 우수합니다. 사용하기 편리한 UI가 마음에 듭니다.\",  # 스마트폰\n",
    "    \"교수님 설명이 명확하시고 이해하기 쉽습니다, 추가 자료도 유용했습니다.\",  # 강의\n",
    "    \"성능 대비 가격이 아주 만족스러워요, 게임을 할 때 지연 없이 부드럽게 실행됩니다.\",  # 컴퓨터 \n",
    "    \"분위기가 정말 좋아서 친구들과 수다 떨기 좋아요, 커피 맛도 최상입니다!\",   #카페 \n",
    "     \"글쓰기 스타일과 주제 모두 제 취향에 딱 맞아서 한 번 읽기 시작하면 멈출 수 없어요.\"   #서적 \n",
    "]\n",
    "\n",
    "comments_negative = [\n",
    "    \"음식이 너무 짜고, 서비스도 별로였어요. 다시 가고 싶지 않네요.\",  # 음식\n",
    "    \"해변이 너무 더러웠고, 주변 시설도 부족했습니다. 다시는 방문하고 싶지 않아요.\",  # 여행지\n",
    "    \"연기력이 별로였고, 스토리 전개도 지루했습니다. 비추합니다!\",  # 영화\n",
    "    \"노래 가사가 이해가 안 가고, 멜로디도 재미없어요. 듣기 싫네요.\",  # 음악\n",
    "    \"핸들링이 너무 뻑뻑하고 연비도 나쁩니다. 차량 내부 디자인도 구식이에요.\",  # 자동차\n",
    "    \"배터리 수명이 짧고 카메라 기능도 별로입니다. 사용하기 어렵습니다.\",  # 스마트폰\n",
    "    \"교수님 설명이 애매하시고 이해하기 어렵습니다, 추가 자료도 도움되지 않았어요.\",  # 강의\n",
    "    \"성능 대비 가격이 너무 비싸요, 게임을 할 때 계속 지연됩니다.\",  # 컴퓨터 \n",
    "    \"분위기가 시끄럽서 친구들과 수다 떨기 힘들었어요, 커피 맛도 그다지...\",   #카페 \n",
    "     \"글쓰기 스타일과 주제 모두 제 취향과 맞지 않아서 한 페이지 읽는 것조차 힘들었어요.\"   #서적 \n",
    "]"
   ]
  },
  {
   "cell_type": "code",
   "execution_count": 2,
   "id": "7d13a277-7a49-42db-bd25-fd134e0a6f5c",
   "metadata": {
    "tags": []
   },
   "outputs": [
    {
     "data": {
      "text/plain": [
       "(10, 10)"
      ]
     },
     "execution_count": 2,
     "metadata": {},
     "output_type": "execute_result"
    }
   ],
   "source": [
    "len(comments_positive), len(comments_negative)"
   ]
  },
  {
   "cell_type": "code",
   "execution_count": 5,
   "id": "183d306e-bdde-4a0c-b0fc-ea33c8f436f4",
   "metadata": {
    "tags": []
   },
   "outputs": [],
   "source": [
    "comments_list = comments_positive + comments_negative"
   ]
  },
  {
   "cell_type": "markdown",
   "id": "aca3874c-3d72-4865-8389-91ea6d0501af",
   "metadata": {},
   "source": [
    "### 형태소 분석기를 사용하여 품사 분류\n",
    "* MeCab을 사용하여 한국어 문장을 형태소 단위로 분석하는 데 사용되는 함수\n",
    "1. mecab.pos()\n",
    "    - 입력된 문장을 형태소 단위로 분석하고, 각 형태소에 대해 품사 정보를 함께 반환\n",
    "    - 반환되는 결과는 (형태소, 품사)의 튜플로 이루어진 리스트\n",
    "2. mecab.morphs()\n",
    "    - 입력된 문장을 형태소 단위로 분석하고 형태소만 반환\n",
    "    - 반환되는 결과는 각각의 형태소들이 포함된 리스트"
   ]
  },
  {
   "cell_type": "code",
   "execution_count": 15,
   "id": "d9df9888-c18a-44fb-9d5d-4183daa3fd53",
   "metadata": {
    "collapsed": true,
    "jupyter": {
     "outputs_hidden": true
    },
    "tags": []
   },
   "outputs": [
    {
     "data": {
      "text/plain": [
       "[['맛',\n",
       "  '이',\n",
       "  '정말',\n",
       "  '풍부',\n",
       "  '하',\n",
       "  '고',\n",
       "  ',',\n",
       "  '재료',\n",
       "  '도',\n",
       "  '신선',\n",
       "  '해서',\n",
       "  '좋',\n",
       "  '았',\n",
       "  '어요',\n",
       "  '.',\n",
       "  '서비스',\n",
       "  '도',\n",
       "  '훌륭',\n",
       "  '했',\n",
       "  '습니다',\n",
       "  '.'],\n",
       " ['해변',\n",
       "  '이',\n",
       "  '너무',\n",
       "  '깨끗',\n",
       "  '하',\n",
       "  '고',\n",
       "  '아름다웠',\n",
       "  '습니다',\n",
       "  '.',\n",
       "  '다음',\n",
       "  '여행',\n",
       "  '에서',\n",
       "  '는',\n",
       "  '더',\n",
       "  '오래',\n",
       "  '머물',\n",
       "  '고',\n",
       "  '싶',\n",
       "  '네요',\n",
       "  '.'],\n",
       " ['연기력',\n",
       "  '이',\n",
       "  '대단',\n",
       "  '했',\n",
       "  '고',\n",
       "  ',',\n",
       "  '스토리',\n",
       "  '전개',\n",
       "  '가',\n",
       "  '매우',\n",
       "  '재미있',\n",
       "  '었',\n",
       "  '습니다',\n",
       "  '.',\n",
       "  '강력',\n",
       "  '추천',\n",
       "  '합니다',\n",
       "  '!'],\n",
       " ['노래',\n",
       "  '의',\n",
       "  '가사',\n",
       "  '와',\n",
       "  '멜로디',\n",
       "  '가',\n",
       "  '너무',\n",
       "  '좋',\n",
       "  '아요',\n",
       "  ',',\n",
       "  '계속',\n",
       "  '듣',\n",
       "  '게',\n",
       "  '되',\n",
       "  '네요',\n",
       "  '.'],\n",
       " ['핸들링',\n",
       "  '이',\n",
       "  '매우',\n",
       "  '부드럽',\n",
       "  '고',\n",
       "  '연비',\n",
       "  '도',\n",
       "  '좋',\n",
       "  '습니다',\n",
       "  '.',\n",
       "  '차량',\n",
       "  '내부',\n",
       "  '디자인',\n",
       "  '도',\n",
       "  '세련',\n",
       "  '되',\n",
       "  '었',\n",
       "  '어요',\n",
       "  '.'],\n",
       " ['배터리',\n",
       "  '수명',\n",
       "  '이',\n",
       "  '길',\n",
       "  '고',\n",
       "  '카메라',\n",
       "  '기능',\n",
       "  '이',\n",
       "  '우수',\n",
       "  '합니다',\n",
       "  '.',\n",
       "  '사용',\n",
       "  '하',\n",
       "  '기',\n",
       "  '편리',\n",
       "  '한',\n",
       "  'UI',\n",
       "  '가',\n",
       "  '마음',\n",
       "  '에',\n",
       "  '듭니다',\n",
       "  '.'],\n",
       " ['교수',\n",
       "  '님',\n",
       "  '설명',\n",
       "  '이',\n",
       "  '명확',\n",
       "  '하',\n",
       "  '시',\n",
       "  '고',\n",
       "  '이해',\n",
       "  '하',\n",
       "  '기',\n",
       "  '쉽',\n",
       "  '습니다',\n",
       "  ',',\n",
       "  '추가',\n",
       "  '자료',\n",
       "  '도',\n",
       "  '유용',\n",
       "  '했',\n",
       "  '습니다',\n",
       "  '.'],\n",
       " ['성능',\n",
       "  '대비',\n",
       "  '가격',\n",
       "  '이',\n",
       "  '아주',\n",
       "  '만족',\n",
       "  '스러워',\n",
       "  '요',\n",
       "  ',',\n",
       "  '게임',\n",
       "  '을',\n",
       "  '할',\n",
       "  '때',\n",
       "  '지연',\n",
       "  '없이',\n",
       "  '부드럽',\n",
       "  '게',\n",
       "  '실행',\n",
       "  '됩니다',\n",
       "  '.'],\n",
       " ['분위기',\n",
       "  '가',\n",
       "  '정말',\n",
       "  '좋',\n",
       "  '아서',\n",
       "  '친구',\n",
       "  '들',\n",
       "  '과',\n",
       "  '수다',\n",
       "  '떨기',\n",
       "  '좋',\n",
       "  '아요',\n",
       "  ',',\n",
       "  '커피',\n",
       "  '맛',\n",
       "  '도',\n",
       "  '최상',\n",
       "  '입니다',\n",
       "  '!'],\n",
       " ['글쓰기',\n",
       "  '스타일',\n",
       "  '과',\n",
       "  '주제',\n",
       "  '모두',\n",
       "  '제',\n",
       "  '취향',\n",
       "  '에',\n",
       "  '딱',\n",
       "  '맞',\n",
       "  '아서',\n",
       "  '한',\n",
       "  '번',\n",
       "  '읽',\n",
       "  '기',\n",
       "  '시작',\n",
       "  '하',\n",
       "  '면',\n",
       "  '멈출',\n",
       "  '수',\n",
       "  '없',\n",
       "  '어요',\n",
       "  '.'],\n",
       " ['음식',\n",
       "  '이',\n",
       "  '너무',\n",
       "  '짜',\n",
       "  '고',\n",
       "  ',',\n",
       "  '서비스',\n",
       "  '도',\n",
       "  '별로',\n",
       "  '였',\n",
       "  '어요',\n",
       "  '.',\n",
       "  '다시',\n",
       "  '가',\n",
       "  '고',\n",
       "  '싶',\n",
       "  '지',\n",
       "  '않',\n",
       "  '네요',\n",
       "  '.'],\n",
       " ['해변',\n",
       "  '이',\n",
       "  '너무',\n",
       "  '더러웠',\n",
       "  '고',\n",
       "  ',',\n",
       "  '주변',\n",
       "  '시설',\n",
       "  '도',\n",
       "  '부족',\n",
       "  '했',\n",
       "  '습니다',\n",
       "  '.',\n",
       "  '다시',\n",
       "  '는',\n",
       "  '방문',\n",
       "  '하',\n",
       "  '고',\n",
       "  '싶',\n",
       "  '지',\n",
       "  '않',\n",
       "  '아요',\n",
       "  '.'],\n",
       " ['연기력',\n",
       "  '이',\n",
       "  '별로',\n",
       "  '였',\n",
       "  '고',\n",
       "  ',',\n",
       "  '스토리',\n",
       "  '전개',\n",
       "  '도',\n",
       "  '지루',\n",
       "  '했',\n",
       "  '습니다',\n",
       "  '.',\n",
       "  '비추',\n",
       "  '합니다',\n",
       "  '!'],\n",
       " ['노래',\n",
       "  '가사',\n",
       "  '가',\n",
       "  '이해',\n",
       "  '가',\n",
       "  '안',\n",
       "  '가',\n",
       "  '고',\n",
       "  ',',\n",
       "  '멜로디',\n",
       "  '도',\n",
       "  '재미없',\n",
       "  '어요',\n",
       "  '.',\n",
       "  '듣',\n",
       "  '기',\n",
       "  '싫',\n",
       "  '네요',\n",
       "  '.'],\n",
       " ['핸들링',\n",
       "  '이',\n",
       "  '너무',\n",
       "  '뻑뻑',\n",
       "  '하',\n",
       "  '고',\n",
       "  '연비',\n",
       "  '도',\n",
       "  '나쁩니다',\n",
       "  '.',\n",
       "  '차량',\n",
       "  '내부',\n",
       "  '디자인',\n",
       "  '도',\n",
       "  '구식',\n",
       "  '이',\n",
       "  '에요',\n",
       "  '.'],\n",
       " ['배터리',\n",
       "  '수명',\n",
       "  '이',\n",
       "  '짧',\n",
       "  '고',\n",
       "  '카메라',\n",
       "  '기능',\n",
       "  '도',\n",
       "  '별로',\n",
       "  '입니다',\n",
       "  '.',\n",
       "  '사용',\n",
       "  '하',\n",
       "  '기',\n",
       "  '어렵',\n",
       "  '습니다',\n",
       "  '.'],\n",
       " ['교수',\n",
       "  '님',\n",
       "  '설명',\n",
       "  '이',\n",
       "  '애매',\n",
       "  '하',\n",
       "  '시',\n",
       "  '고',\n",
       "  '이해',\n",
       "  '하',\n",
       "  '기',\n",
       "  '어렵',\n",
       "  '습니다',\n",
       "  ',',\n",
       "  '추가',\n",
       "  '자료',\n",
       "  '도',\n",
       "  '도움',\n",
       "  '되',\n",
       "  '지',\n",
       "  '않',\n",
       "  '았',\n",
       "  '어요',\n",
       "  '.'],\n",
       " ['성능',\n",
       "  '대비',\n",
       "  '가격',\n",
       "  '이',\n",
       "  '너무',\n",
       "  '비싸',\n",
       "  '요',\n",
       "  ',',\n",
       "  '게임',\n",
       "  '을',\n",
       "  '할',\n",
       "  '때',\n",
       "  '계속',\n",
       "  '지연',\n",
       "  '됩니다',\n",
       "  '.'],\n",
       " ['분위기',\n",
       "  '가',\n",
       "  '시끄럽',\n",
       "  '서',\n",
       "  '친구',\n",
       "  '들',\n",
       "  '과',\n",
       "  '수다',\n",
       "  '떨기',\n",
       "  '힘들',\n",
       "  '었',\n",
       "  '어요',\n",
       "  ',',\n",
       "  '커피',\n",
       "  '맛',\n",
       "  '도',\n",
       "  '그다지',\n",
       "  '.',\n",
       "  '..'],\n",
       " ['글쓰기',\n",
       "  '스타일',\n",
       "  '과',\n",
       "  '주제',\n",
       "  '모두',\n",
       "  '제',\n",
       "  '취향',\n",
       "  '과',\n",
       "  '맞',\n",
       "  '지',\n",
       "  '않',\n",
       "  '아서',\n",
       "  '한',\n",
       "  '페이지',\n",
       "  '읽',\n",
       "  '는',\n",
       "  '것',\n",
       "  '조차',\n",
       "  '힘들',\n",
       "  '었',\n",
       "  '어요',\n",
       "  '.']]"
      ]
     },
     "execution_count": 15,
     "metadata": {},
     "output_type": "execute_result"
    }
   ],
   "source": [
    "from mecab import MeCab  # mecab: 패키지\n",
    "mecab = MeCab() # mecab: 변수\n",
    "\n",
    "tokenized_comments = list()\n",
    "for comment in comments_list :\n",
    "    comment_morphs = mecab.morphs(comment) # 결과가 리스트로 나옴\n",
    "    # print(' '.join(comment_morphs)) # 문장화\n",
    "    # 추가적으로 불용어 처리 필요\n",
    "    tokenized_comments.append(comment_morphs)\n",
    "tokenized_comments"
   ]
  },
  {
   "cell_type": "markdown",
   "id": "67b8522a-b4ba-472c-9dd2-23c2c9c343aa",
   "metadata": {},
   "source": [
    "### 벡터 토큰화(단어 숫자화)"
   ]
  },
  {
   "cell_type": "code",
   "execution_count": 13,
   "id": "eafb82d2-4054-4c6e-b3a6-2fd22027bbff",
   "metadata": {
    "tags": []
   },
   "outputs": [],
   "source": [
    "from sklearn.feature_extraction.text import CountVectorizer, TfidfVectorizer"
   ]
  },
  {
   "cell_type": "code",
   "execution_count": 21,
   "id": "f2cb12f6-ae3c-4091-92db-6f881fbb3850",
   "metadata": {
    "tags": []
   },
   "outputs": [],
   "source": [
    "comments = list()\n",
    "for token in tokenized_comments:\n",
    "    comments.append(' '.join(token))"
   ]
  },
  {
   "cell_type": "code",
   "execution_count": 23,
   "id": "2fbba6ba-f2dc-48bb-b746-0433b58629f2",
   "metadata": {
    "tags": []
   },
   "outputs": [
    {
     "data": {
      "text/html": [
       "<style>#sk-container-id-3 {color: black;background-color: white;}#sk-container-id-3 pre{padding: 0;}#sk-container-id-3 div.sk-toggleable {background-color: white;}#sk-container-id-3 label.sk-toggleable__label {cursor: pointer;display: block;width: 100%;margin-bottom: 0;padding: 0.3em;box-sizing: border-box;text-align: center;}#sk-container-id-3 label.sk-toggleable__label-arrow:before {content: \"▸\";float: left;margin-right: 0.25em;color: #696969;}#sk-container-id-3 label.sk-toggleable__label-arrow:hover:before {color: black;}#sk-container-id-3 div.sk-estimator:hover label.sk-toggleable__label-arrow:before {color: black;}#sk-container-id-3 div.sk-toggleable__content {max-height: 0;max-width: 0;overflow: hidden;text-align: left;background-color: #f0f8ff;}#sk-container-id-3 div.sk-toggleable__content pre {margin: 0.2em;color: black;border-radius: 0.25em;background-color: #f0f8ff;}#sk-container-id-3 input.sk-toggleable__control:checked~div.sk-toggleable__content {max-height: 200px;max-width: 100%;overflow: auto;}#sk-container-id-3 input.sk-toggleable__control:checked~label.sk-toggleable__label-arrow:before {content: \"▾\";}#sk-container-id-3 div.sk-estimator input.sk-toggleable__control:checked~label.sk-toggleable__label {background-color: #d4ebff;}#sk-container-id-3 div.sk-label input.sk-toggleable__control:checked~label.sk-toggleable__label {background-color: #d4ebff;}#sk-container-id-3 input.sk-hidden--visually {border: 0;clip: rect(1px 1px 1px 1px);clip: rect(1px, 1px, 1px, 1px);height: 1px;margin: -1px;overflow: hidden;padding: 0;position: absolute;width: 1px;}#sk-container-id-3 div.sk-estimator {font-family: monospace;background-color: #f0f8ff;border: 1px dotted black;border-radius: 0.25em;box-sizing: border-box;margin-bottom: 0.5em;}#sk-container-id-3 div.sk-estimator:hover {background-color: #d4ebff;}#sk-container-id-3 div.sk-parallel-item::after {content: \"\";width: 100%;border-bottom: 1px solid gray;flex-grow: 1;}#sk-container-id-3 div.sk-label:hover label.sk-toggleable__label {background-color: #d4ebff;}#sk-container-id-3 div.sk-serial::before {content: \"\";position: absolute;border-left: 1px solid gray;box-sizing: border-box;top: 0;bottom: 0;left: 50%;z-index: 0;}#sk-container-id-3 div.sk-serial {display: flex;flex-direction: column;align-items: center;background-color: white;padding-right: 0.2em;padding-left: 0.2em;position: relative;}#sk-container-id-3 div.sk-item {position: relative;z-index: 1;}#sk-container-id-3 div.sk-parallel {display: flex;align-items: stretch;justify-content: center;background-color: white;position: relative;}#sk-container-id-3 div.sk-item::before, #sk-container-id-3 div.sk-parallel-item::before {content: \"\";position: absolute;border-left: 1px solid gray;box-sizing: border-box;top: 0;bottom: 0;left: 50%;z-index: -1;}#sk-container-id-3 div.sk-parallel-item {display: flex;flex-direction: column;z-index: 1;position: relative;background-color: white;}#sk-container-id-3 div.sk-parallel-item:first-child::after {align-self: flex-end;width: 50%;}#sk-container-id-3 div.sk-parallel-item:last-child::after {align-self: flex-start;width: 50%;}#sk-container-id-3 div.sk-parallel-item:only-child::after {width: 0;}#sk-container-id-3 div.sk-dashed-wrapped {border: 1px dashed gray;margin: 0 0.4em 0.5em 0.4em;box-sizing: border-box;padding-bottom: 0.4em;background-color: white;}#sk-container-id-3 div.sk-label label {font-family: monospace;font-weight: bold;display: inline-block;line-height: 1.2em;}#sk-container-id-3 div.sk-label-container {text-align: center;}#sk-container-id-3 div.sk-container {/* jupyter's `normalize.less` sets `[hidden] { display: none; }` but bootstrap.min.css set `[hidden] { display: none !important; }` so we also need the `!important` here to be able to override the default hidden behavior on the sphinx rendered scikit-learn.org. See: https://github.com/scikit-learn/scikit-learn/issues/21755 */display: inline-block !important;position: relative;}#sk-container-id-3 div.sk-text-repr-fallback {display: none;}</style><div id=\"sk-container-id-3\" class=\"sk-top-container\"><div class=\"sk-text-repr-fallback\"><pre>CountVectorizer()</pre><b>In a Jupyter environment, please rerun this cell to show the HTML representation or trust the notebook. <br />On GitHub, the HTML representation is unable to render, please try loading this page with nbviewer.org.</b></div><div class=\"sk-container\" hidden><div class=\"sk-item\"><div class=\"sk-estimator sk-toggleable\"><input class=\"sk-toggleable__control sk-hidden--visually\" id=\"sk-estimator-id-3\" type=\"checkbox\" checked><label for=\"sk-estimator-id-3\" class=\"sk-toggleable__label sk-toggleable__label-arrow\">CountVectorizer</label><div class=\"sk-toggleable__content\"><pre>CountVectorizer()</pre></div></div></div></div></div>"
      ],
      "text/plain": [
       "CountVectorizer()"
      ]
     },
     "execution_count": 23,
     "metadata": {},
     "output_type": "execute_result"
    }
   ],
   "source": [
    "countVectorizer = CountVectorizer()\n",
    "countVectorizer.fit(comments)"
   ]
  },
  {
   "cell_type": "code",
   "execution_count": 38,
   "id": "036c34bc-c331-490c-a1c5-beca0c6f914e",
   "metadata": {
    "collapsed": true,
    "jupyter": {
     "outputs_hidden": true
    },
    "tags": []
   },
   "outputs": [
    {
     "data": {
      "text/plain": [
       "{'정말': 84,\n",
       " '풍부': 100,\n",
       " '재료': 80,\n",
       " '신선': 58,\n",
       " '해서': 103,\n",
       " '어요': 66,\n",
       " '서비스': 45,\n",
       " '훌륭': 105,\n",
       " '습니다': 54,\n",
       " '해변': 102,\n",
       " '너무': 14,\n",
       " '깨끗': 11,\n",
       " '아름다웠': 60,\n",
       " '다음': 18,\n",
       " '여행': 70,\n",
       " '에서': 68,\n",
       " '오래': 73,\n",
       " '머물': 30,\n",
       " '네요': 15,\n",
       " '연기력': 71,\n",
       " '대단': 19,\n",
       " '스토리': 53,\n",
       " '전개': 83,\n",
       " '매우': 29,\n",
       " '재미있': 82,\n",
       " '강력': 3,\n",
       " '추천': 93,\n",
       " '합니다': 101,\n",
       " '노래': 16,\n",
       " '가사': 2,\n",
       " '멜로디': 32,\n",
       " '아요': 62,\n",
       " '계속': 5,\n",
       " '핸들링': 104,\n",
       " '부드럽': 38,\n",
       " '연비': 72,\n",
       " '차량': 90,\n",
       " '내부': 13,\n",
       " '디자인': 25,\n",
       " '세련': 48,\n",
       " '배터리': 36,\n",
       " '수명': 50,\n",
       " '카메라': 96,\n",
       " '기능': 10,\n",
       " '우수': 74,\n",
       " '사용': 44,\n",
       " '편리': 99,\n",
       " 'ui': 0,\n",
       " '마음': 27,\n",
       " '듭니다': 24,\n",
       " '교수': 6,\n",
       " '설명': 46,\n",
       " '명확': 33,\n",
       " '이해': 77,\n",
       " '추가': 92,\n",
       " '자료': 79,\n",
       " '유용': 75,\n",
       " '성능': 47,\n",
       " '대비': 20,\n",
       " '가격': 1,\n",
       " '아주': 63,\n",
       " '만족': 28,\n",
       " '스러워': 51,\n",
       " '게임': 4,\n",
       " '지연': 89,\n",
       " '없이': 67,\n",
       " '실행': 59,\n",
       " '됩니다': 23,\n",
       " '분위기': 40,\n",
       " '아서': 61,\n",
       " '친구': 95,\n",
       " '수다': 49,\n",
       " '떨기': 26,\n",
       " '커피': 97,\n",
       " '최상': 91,\n",
       " '입니다': 78,\n",
       " '글쓰기': 9,\n",
       " '스타일': 52,\n",
       " '주제': 87,\n",
       " '모두': 34,\n",
       " '취향': 94,\n",
       " '시작': 57,\n",
       " '멈출': 31,\n",
       " '음식': 76,\n",
       " '별로': 37,\n",
       " '다시': 17,\n",
       " '더러웠': 21,\n",
       " '주변': 86,\n",
       " '시설': 56,\n",
       " '부족': 39,\n",
       " '방문': 35,\n",
       " '지루': 88,\n",
       " '비추': 42,\n",
       " '재미없': 81,\n",
       " '뻑뻑': 43,\n",
       " '나쁩니다': 12,\n",
       " '구식': 7,\n",
       " '에요': 69,\n",
       " '어렵': 65,\n",
       " '애매': 64,\n",
       " '도움': 22,\n",
       " '비싸': 41,\n",
       " '시끄럽': 55,\n",
       " '힘들': 106,\n",
       " '그다지': 8,\n",
       " '페이지': 98,\n",
       " '조차': 85}"
      ]
     },
     "execution_count": 38,
     "metadata": {},
     "output_type": "execute_result"
    }
   ],
   "source": [
    "countVectorizer.vocabulary_\n",
    "# 자체적으로 정수 뒤에 소수점이 있음\n",
    "# vocabulary안의 개수만큼 컬럼 생성(차원의 개수도 동일)"
   ]
  },
  {
   "cell_type": "code",
   "execution_count": 27,
   "id": "ae2a29b8-f711-433a-8cc4-6c2e6d3bb7da",
   "metadata": {
    "tags": []
   },
   "outputs": [
    {
     "data": {
      "text/html": [
       "<style>#sk-container-id-5 {color: black;background-color: white;}#sk-container-id-5 pre{padding: 0;}#sk-container-id-5 div.sk-toggleable {background-color: white;}#sk-container-id-5 label.sk-toggleable__label {cursor: pointer;display: block;width: 100%;margin-bottom: 0;padding: 0.3em;box-sizing: border-box;text-align: center;}#sk-container-id-5 label.sk-toggleable__label-arrow:before {content: \"▸\";float: left;margin-right: 0.25em;color: #696969;}#sk-container-id-5 label.sk-toggleable__label-arrow:hover:before {color: black;}#sk-container-id-5 div.sk-estimator:hover label.sk-toggleable__label-arrow:before {color: black;}#sk-container-id-5 div.sk-toggleable__content {max-height: 0;max-width: 0;overflow: hidden;text-align: left;background-color: #f0f8ff;}#sk-container-id-5 div.sk-toggleable__content pre {margin: 0.2em;color: black;border-radius: 0.25em;background-color: #f0f8ff;}#sk-container-id-5 input.sk-toggleable__control:checked~div.sk-toggleable__content {max-height: 200px;max-width: 100%;overflow: auto;}#sk-container-id-5 input.sk-toggleable__control:checked~label.sk-toggleable__label-arrow:before {content: \"▾\";}#sk-container-id-5 div.sk-estimator input.sk-toggleable__control:checked~label.sk-toggleable__label {background-color: #d4ebff;}#sk-container-id-5 div.sk-label input.sk-toggleable__control:checked~label.sk-toggleable__label {background-color: #d4ebff;}#sk-container-id-5 input.sk-hidden--visually {border: 0;clip: rect(1px 1px 1px 1px);clip: rect(1px, 1px, 1px, 1px);height: 1px;margin: -1px;overflow: hidden;padding: 0;position: absolute;width: 1px;}#sk-container-id-5 div.sk-estimator {font-family: monospace;background-color: #f0f8ff;border: 1px dotted black;border-radius: 0.25em;box-sizing: border-box;margin-bottom: 0.5em;}#sk-container-id-5 div.sk-estimator:hover {background-color: #d4ebff;}#sk-container-id-5 div.sk-parallel-item::after {content: \"\";width: 100%;border-bottom: 1px solid gray;flex-grow: 1;}#sk-container-id-5 div.sk-label:hover label.sk-toggleable__label {background-color: #d4ebff;}#sk-container-id-5 div.sk-serial::before {content: \"\";position: absolute;border-left: 1px solid gray;box-sizing: border-box;top: 0;bottom: 0;left: 50%;z-index: 0;}#sk-container-id-5 div.sk-serial {display: flex;flex-direction: column;align-items: center;background-color: white;padding-right: 0.2em;padding-left: 0.2em;position: relative;}#sk-container-id-5 div.sk-item {position: relative;z-index: 1;}#sk-container-id-5 div.sk-parallel {display: flex;align-items: stretch;justify-content: center;background-color: white;position: relative;}#sk-container-id-5 div.sk-item::before, #sk-container-id-5 div.sk-parallel-item::before {content: \"\";position: absolute;border-left: 1px solid gray;box-sizing: border-box;top: 0;bottom: 0;left: 50%;z-index: -1;}#sk-container-id-5 div.sk-parallel-item {display: flex;flex-direction: column;z-index: 1;position: relative;background-color: white;}#sk-container-id-5 div.sk-parallel-item:first-child::after {align-self: flex-end;width: 50%;}#sk-container-id-5 div.sk-parallel-item:last-child::after {align-self: flex-start;width: 50%;}#sk-container-id-5 div.sk-parallel-item:only-child::after {width: 0;}#sk-container-id-5 div.sk-dashed-wrapped {border: 1px dashed gray;margin: 0 0.4em 0.5em 0.4em;box-sizing: border-box;padding-bottom: 0.4em;background-color: white;}#sk-container-id-5 div.sk-label label {font-family: monospace;font-weight: bold;display: inline-block;line-height: 1.2em;}#sk-container-id-5 div.sk-label-container {text-align: center;}#sk-container-id-5 div.sk-container {/* jupyter's `normalize.less` sets `[hidden] { display: none; }` but bootstrap.min.css set `[hidden] { display: none !important; }` so we also need the `!important` here to be able to override the default hidden behavior on the sphinx rendered scikit-learn.org. See: https://github.com/scikit-learn/scikit-learn/issues/21755 */display: inline-block !important;position: relative;}#sk-container-id-5 div.sk-text-repr-fallback {display: none;}</style><div id=\"sk-container-id-5\" class=\"sk-top-container\"><div class=\"sk-text-repr-fallback\"><pre>TfidfVectorizer()</pre><b>In a Jupyter environment, please rerun this cell to show the HTML representation or trust the notebook. <br />On GitHub, the HTML representation is unable to render, please try loading this page with nbviewer.org.</b></div><div class=\"sk-container\" hidden><div class=\"sk-item\"><div class=\"sk-estimator sk-toggleable\"><input class=\"sk-toggleable__control sk-hidden--visually\" id=\"sk-estimator-id-5\" type=\"checkbox\" checked><label for=\"sk-estimator-id-5\" class=\"sk-toggleable__label sk-toggleable__label-arrow\">TfidfVectorizer</label><div class=\"sk-toggleable__content\"><pre>TfidfVectorizer()</pre></div></div></div></div></div>"
      ],
      "text/plain": [
       "TfidfVectorizer()"
      ]
     },
     "execution_count": 27,
     "metadata": {},
     "output_type": "execute_result"
    }
   ],
   "source": [
    "tfidfVectorizer = TfidfVectorizer(use_idf=True)\n",
    "tfidfVectorizer.fit(comments) # 2차원 배열로 교육"
   ]
  },
  {
   "cell_type": "code",
   "execution_count": 28,
   "id": "bb9c1f9b-f6e2-4b27-8f04-c96ed22a3e67",
   "metadata": {
    "collapsed": true,
    "jupyter": {
     "outputs_hidden": true
    },
    "tags": []
   },
   "outputs": [
    {
     "data": {
      "text/plain": [
       "array([3.35137526, 2.94591015, 2.94591015, 3.35137526, 2.94591015,\n",
       "       2.94591015, 2.94591015, 3.35137526, 3.35137526, 2.94591015,\n",
       "       2.94591015, 3.35137526, 3.35137526, 2.94591015, 2.09861229,\n",
       "       2.43508453, 2.94591015, 2.94591015, 3.35137526, 3.35137526,\n",
       "       2.94591015, 3.35137526, 3.35137526, 2.94591015, 3.35137526,\n",
       "       2.94591015, 2.94591015, 3.35137526, 3.35137526, 2.94591015,\n",
       "       3.35137526, 3.35137526, 2.94591015, 3.35137526, 2.94591015,\n",
       "       3.35137526, 2.94591015, 2.65822808, 2.94591015, 3.35137526,\n",
       "       2.94591015, 3.35137526, 3.35137526, 3.35137526, 2.94591015,\n",
       "       2.94591015, 2.94591015, 2.94591015, 3.35137526, 2.94591015,\n",
       "       2.94591015, 3.35137526, 2.94591015, 2.94591015, 1.74193734,\n",
       "       3.35137526, 3.35137526, 3.35137526, 3.35137526, 3.35137526,\n",
       "       3.35137526, 2.65822808, 2.65822808, 3.35137526, 3.35137526,\n",
       "       2.94591015, 1.84729786, 3.35137526, 3.35137526, 3.35137526,\n",
       "       3.35137526, 2.94591015, 2.94591015, 3.35137526, 3.35137526,\n",
       "       3.35137526, 3.35137526, 2.65822808, 2.94591015, 2.94591015,\n",
       "       3.35137526, 3.35137526, 3.35137526, 2.94591015, 2.94591015,\n",
       "       3.35137526, 3.35137526, 2.94591015, 3.35137526, 2.94591015,\n",
       "       2.94591015, 3.35137526, 2.94591015, 3.35137526, 2.94591015,\n",
       "       2.94591015, 2.94591015, 2.94591015, 3.35137526, 3.35137526,\n",
       "       3.35137526, 2.65822808, 2.94591015, 3.35137526, 2.94591015,\n",
       "       3.35137526, 2.94591015])"
      ]
     },
     "execution_count": 28,
     "metadata": {},
     "output_type": "execute_result"
    }
   ],
   "source": [
    "tfidfVectorizer.idf_"
   ]
  },
  {
   "cell_type": "code",
   "execution_count": 34,
   "id": "ecdab9e9-0d5d-496b-8105-00570827f93b",
   "metadata": {
    "tags": []
   },
   "outputs": [
    {
     "data": {
      "text/plain": [
       "<1x107 sparse matrix of type '<class 'numpy.float64'>'\n",
       "\twith 9 stored elements in Compressed Sparse Row format>"
      ]
     },
     "execution_count": 34,
     "metadata": {},
     "output_type": "execute_result"
    }
   ],
   "source": [
    "# 하나의 문장만 벡터화\n",
    "feature = tfidfVectorizer.transform([comments[9]]) # 학습 시 2차원 이용했으므로 변환도 2차원 적용\n",
    "feature"
   ]
  },
  {
   "cell_type": "code",
   "execution_count": 36,
   "id": "100b2b0d-1d14-4408-846e-8459b0cf8731",
   "metadata": {
    "tags": []
   },
   "outputs": [
    {
     "data": {
      "text/plain": [
       "array([[0.        , 0.        , 0.        , 0.        , 0.        ,\n",
       "        0.        , 0.        , 0.        , 0.        , 0.33717886,\n",
       "        0.        , 0.        , 0.        , 0.        , 0.        ,\n",
       "        0.        , 0.        , 0.        , 0.        , 0.        ,\n",
       "        0.        , 0.        , 0.        , 0.        , 0.        ,\n",
       "        0.        , 0.        , 0.        , 0.        , 0.        ,\n",
       "        0.        , 0.38358702, 0.        , 0.        , 0.33717886,\n",
       "        0.        , 0.        , 0.        , 0.        , 0.        ,\n",
       "        0.        , 0.        , 0.        , 0.        , 0.        ,\n",
       "        0.        , 0.        , 0.        , 0.        , 0.        ,\n",
       "        0.        , 0.        , 0.33717886, 0.        , 0.        ,\n",
       "        0.        , 0.        , 0.38358702, 0.        , 0.        ,\n",
       "        0.        , 0.30425175, 0.        , 0.        , 0.        ,\n",
       "        0.        , 0.21143543, 0.        , 0.        , 0.        ,\n",
       "        0.        , 0.        , 0.        , 0.        , 0.        ,\n",
       "        0.        , 0.        , 0.        , 0.        , 0.        ,\n",
       "        0.        , 0.        , 0.        , 0.        , 0.        ,\n",
       "        0.        , 0.        , 0.33717886, 0.        , 0.        ,\n",
       "        0.        , 0.        , 0.        , 0.        , 0.33717886,\n",
       "        0.        , 0.        , 0.        , 0.        , 0.        ,\n",
       "        0.        , 0.        , 0.        , 0.        , 0.        ,\n",
       "        0.        , 0.        ]])"
      ]
     },
     "execution_count": 36,
     "metadata": {},
     "output_type": "execute_result"
    }
   ],
   "source": [
    "feature.toarray() # vocabulary_ 갯수와 사이즈가 같음.\n",
    "# vocabulary에 해당하는 곳은 벡터로 표시되고 아닌 곳은 0으로 표시됨 -> 좌표를 찍을 수 있음"
   ]
  },
  {
   "cell_type": "code",
   "execution_count": 48,
   "id": "63a029c2-4124-442b-8203-6ac46087c073",
   "metadata": {
    "tags": []
   },
   "outputs": [],
   "source": [
    "# 문장 전체 벡터화\n",
    "features = tfidfVectorizer.transform(comments)"
   ]
  },
  {
   "cell_type": "markdown",
   "id": "a6b99eed-0dde-416c-a9cd-197498e22b96",
   "metadata": {
    "tags": []
   },
   "source": [
    "### 목표 변수 생성"
   ]
  },
  {
   "cell_type": "code",
   "execution_count": 40,
   "id": "93fe4f90-0f83-4e2c-9eaa-59546c60e012",
   "metadata": {
    "collapsed": true,
    "jupyter": {
     "outputs_hidden": true
    },
    "tags": []
   },
   "outputs": [
    {
     "data": {
      "text/plain": [
       "['긍정',\n",
       " '긍정',\n",
       " '긍정',\n",
       " '긍정',\n",
       " '긍정',\n",
       " '긍정',\n",
       " '긍정',\n",
       " '긍정',\n",
       " '긍정',\n",
       " '긍정',\n",
       " '부정',\n",
       " '부정',\n",
       " '부정',\n",
       " '부정',\n",
       " '부정',\n",
       " '부정',\n",
       " '부정',\n",
       " '부정',\n",
       " '부정',\n",
       " '부정']"
      ]
     },
     "execution_count": 40,
     "metadata": {},
     "output_type": "execute_result"
    }
   ],
   "source": [
    "target = ['긍정'] * len(comments_positive) + ['부정'] * len(comments_negative)\n",
    "target"
   ]
  },
  {
   "cell_type": "markdown",
   "id": "3f20bbed-5e3d-49ba-9b54-51d54f31490c",
   "metadata": {},
   "source": [
    "### 머신러닝 학습"
   ]
  },
  {
   "cell_type": "code",
   "execution_count": 43,
   "id": "ada74a47-eae1-4a3c-a94d-10ca15fe20bb",
   "metadata": {
    "collapsed": true,
    "jupyter": {
     "outputs_hidden": true
    },
    "tags": []
   },
   "outputs": [
    {
     "name": "stdout",
     "output_type": "stream",
     "text": [
      "Requirement already satisfied: lightgbm in c:\\users\\koreavc\\anaconda3\\lib\\site-packages (4.1.0)\n",
      "Requirement already satisfied: numpy in c:\\users\\koreavc\\anaconda3\\lib\\site-packages (from lightgbm) (1.24.3)\n",
      "Requirement already satisfied: scipy in c:\\users\\koreavc\\anaconda3\\lib\\site-packages (from lightgbm) (1.10.1)\n",
      "Note: you may need to restart the kernel to use updated packages.\n"
     ]
    }
   ],
   "source": [
    "# decision tree 모델이 발전된 것(방식이 딥러닝에 가까움)\n",
    "# %pip install --user lightgbm"
   ]
  },
  {
   "cell_type": "code",
   "execution_count": 46,
   "id": "ed263632-471c-4bb9-95aa-6555d008fad5",
   "metadata": {
    "tags": []
   },
   "outputs": [],
   "source": [
    "from sklearn.svm import SVC   # 선을 그어 표현하는 regression을 일부 이용한 모델"
   ]
  },
  {
   "cell_type": "code",
   "execution_count": 50,
   "id": "093eda81-b4ce-4bd0-85db-af36deff4360",
   "metadata": {
    "tags": []
   },
   "outputs": [
    {
     "data": {
      "text/html": [
       "<style>#sk-container-id-6 {color: black;background-color: white;}#sk-container-id-6 pre{padding: 0;}#sk-container-id-6 div.sk-toggleable {background-color: white;}#sk-container-id-6 label.sk-toggleable__label {cursor: pointer;display: block;width: 100%;margin-bottom: 0;padding: 0.3em;box-sizing: border-box;text-align: center;}#sk-container-id-6 label.sk-toggleable__label-arrow:before {content: \"▸\";float: left;margin-right: 0.25em;color: #696969;}#sk-container-id-6 label.sk-toggleable__label-arrow:hover:before {color: black;}#sk-container-id-6 div.sk-estimator:hover label.sk-toggleable__label-arrow:before {color: black;}#sk-container-id-6 div.sk-toggleable__content {max-height: 0;max-width: 0;overflow: hidden;text-align: left;background-color: #f0f8ff;}#sk-container-id-6 div.sk-toggleable__content pre {margin: 0.2em;color: black;border-radius: 0.25em;background-color: #f0f8ff;}#sk-container-id-6 input.sk-toggleable__control:checked~div.sk-toggleable__content {max-height: 200px;max-width: 100%;overflow: auto;}#sk-container-id-6 input.sk-toggleable__control:checked~label.sk-toggleable__label-arrow:before {content: \"▾\";}#sk-container-id-6 div.sk-estimator input.sk-toggleable__control:checked~label.sk-toggleable__label {background-color: #d4ebff;}#sk-container-id-6 div.sk-label input.sk-toggleable__control:checked~label.sk-toggleable__label {background-color: #d4ebff;}#sk-container-id-6 input.sk-hidden--visually {border: 0;clip: rect(1px 1px 1px 1px);clip: rect(1px, 1px, 1px, 1px);height: 1px;margin: -1px;overflow: hidden;padding: 0;position: absolute;width: 1px;}#sk-container-id-6 div.sk-estimator {font-family: monospace;background-color: #f0f8ff;border: 1px dotted black;border-radius: 0.25em;box-sizing: border-box;margin-bottom: 0.5em;}#sk-container-id-6 div.sk-estimator:hover {background-color: #d4ebff;}#sk-container-id-6 div.sk-parallel-item::after {content: \"\";width: 100%;border-bottom: 1px solid gray;flex-grow: 1;}#sk-container-id-6 div.sk-label:hover label.sk-toggleable__label {background-color: #d4ebff;}#sk-container-id-6 div.sk-serial::before {content: \"\";position: absolute;border-left: 1px solid gray;box-sizing: border-box;top: 0;bottom: 0;left: 50%;z-index: 0;}#sk-container-id-6 div.sk-serial {display: flex;flex-direction: column;align-items: center;background-color: white;padding-right: 0.2em;padding-left: 0.2em;position: relative;}#sk-container-id-6 div.sk-item {position: relative;z-index: 1;}#sk-container-id-6 div.sk-parallel {display: flex;align-items: stretch;justify-content: center;background-color: white;position: relative;}#sk-container-id-6 div.sk-item::before, #sk-container-id-6 div.sk-parallel-item::before {content: \"\";position: absolute;border-left: 1px solid gray;box-sizing: border-box;top: 0;bottom: 0;left: 50%;z-index: -1;}#sk-container-id-6 div.sk-parallel-item {display: flex;flex-direction: column;z-index: 1;position: relative;background-color: white;}#sk-container-id-6 div.sk-parallel-item:first-child::after {align-self: flex-end;width: 50%;}#sk-container-id-6 div.sk-parallel-item:last-child::after {align-self: flex-start;width: 50%;}#sk-container-id-6 div.sk-parallel-item:only-child::after {width: 0;}#sk-container-id-6 div.sk-dashed-wrapped {border: 1px dashed gray;margin: 0 0.4em 0.5em 0.4em;box-sizing: border-box;padding-bottom: 0.4em;background-color: white;}#sk-container-id-6 div.sk-label label {font-family: monospace;font-weight: bold;display: inline-block;line-height: 1.2em;}#sk-container-id-6 div.sk-label-container {text-align: center;}#sk-container-id-6 div.sk-container {/* jupyter's `normalize.less` sets `[hidden] { display: none; }` but bootstrap.min.css set `[hidden] { display: none !important; }` so we also need the `!important` here to be able to override the default hidden behavior on the sphinx rendered scikit-learn.org. See: https://github.com/scikit-learn/scikit-learn/issues/21755 */display: inline-block !important;position: relative;}#sk-container-id-6 div.sk-text-repr-fallback {display: none;}</style><div id=\"sk-container-id-6\" class=\"sk-top-container\"><div class=\"sk-text-repr-fallback\"><pre>SVC()</pre><b>In a Jupyter environment, please rerun this cell to show the HTML representation or trust the notebook. <br />On GitHub, the HTML representation is unable to render, please try loading this page with nbviewer.org.</b></div><div class=\"sk-container\" hidden><div class=\"sk-item\"><div class=\"sk-estimator sk-toggleable\"><input class=\"sk-toggleable__control sk-hidden--visually\" id=\"sk-estimator-id-6\" type=\"checkbox\" checked><label for=\"sk-estimator-id-6\" class=\"sk-toggleable__label sk-toggleable__label-arrow\">SVC</label><div class=\"sk-toggleable__content\"><pre>SVC()</pre></div></div></div></div></div>"
      ],
      "text/plain": [
       "SVC()"
      ]
     },
     "execution_count": 50,
     "metadata": {},
     "output_type": "execute_result"
    }
   ],
   "source": [
    "# 분류형일 경우 : decision tree of SVC 둘 중 하나 선택해서 사용\n",
    "model = SVC()\n",
    "model.fit(features.toarray(), target) # numpy로 변경하기 위해 toarray()를 해줌"
   ]
  },
  {
   "cell_type": "markdown",
   "id": "d4ee00ed-8286-484e-b7c9-467d607ddddd",
   "metadata": {},
   "source": [
    "### 머신러닝을 통한 예측"
   ]
  },
  {
   "cell_type": "code",
   "execution_count": 51,
   "id": "18d3340c-69bb-4867-9efa-101fe14d2893",
   "metadata": {
    "tags": []
   },
   "outputs": [],
   "source": [
    "comment = '코로나19의 여파로 전 세계 교사들과 학생들 모두 혼란스러운 시기를 보내고 있습니다. 어려움 속에서도 학생들을 위해 안간힘을 쓰고 있는 모든 선생님들에게, 응원과 박수를 함께 보냅니다.'"
   ]
  },
  {
   "cell_type": "code",
   "execution_count": 58,
   "id": "a2b8afc2-61f3-4fa8-ad04-a3482632b92a",
   "metadata": {
    "tags": []
   },
   "outputs": [],
   "source": [
    "# 형태소분석(토큰화)\n",
    "tokenized_comment = mecab.morphs(comment)"
   ]
  },
  {
   "cell_type": "code",
   "execution_count": 56,
   "id": "b351ee03-9f71-4ad7-a477-23beac6bfa38",
   "metadata": {
    "tags": []
   },
   "outputs": [
    {
     "data": {
      "text/plain": [
       "array([[0.        , 0.        , 0.        , 0.        , 0.        ,\n",
       "        0.        , 0.        , 0.        , 0.        , 0.        ,\n",
       "        0.        , 0.        , 0.        , 0.        , 0.        ,\n",
       "        0.        , 0.        , 0.        , 0.        , 0.        ,\n",
       "        0.        , 0.        , 0.        , 0.        , 0.        ,\n",
       "        0.        , 0.        , 0.        , 0.        , 0.        ,\n",
       "        0.        , 0.        , 0.        , 0.        , 0.61500789,\n",
       "        0.        , 0.        , 0.        , 0.        , 0.        ,\n",
       "        0.        , 0.        , 0.        , 0.        , 0.        ,\n",
       "        0.        , 0.        , 0.        , 0.        , 0.        ,\n",
       "        0.        , 0.        , 0.        , 0.        , 0.36365848,\n",
       "        0.        , 0.        , 0.        , 0.        , 0.        ,\n",
       "        0.        , 0.        , 0.        , 0.        , 0.        ,\n",
       "        0.        , 0.        , 0.        , 0.69965549, 0.        ,\n",
       "        0.        , 0.        , 0.        , 0.        , 0.        ,\n",
       "        0.        , 0.        , 0.        , 0.        , 0.        ,\n",
       "        0.        , 0.        , 0.        , 0.        , 0.        ,\n",
       "        0.        , 0.        , 0.        , 0.        , 0.        ,\n",
       "        0.        , 0.        , 0.        , 0.        , 0.        ,\n",
       "        0.        , 0.        , 0.        , 0.        , 0.        ,\n",
       "        0.        , 0.        , 0.        , 0.        , 0.        ,\n",
       "        0.        , 0.        ]])"
      ]
     },
     "execution_count": 56,
     "metadata": {},
     "output_type": "execute_result"
    }
   ],
   "source": [
    "vectorized_comment = tfidfVectorizer.transform([' '.join(tokenized_comment)]) # 2차원으로 넣어줌\n",
    "vectorized_comment.toarray()  #벡터화"
   ]
  },
  {
   "cell_type": "code",
   "execution_count": 57,
   "id": "8101c9c0-a909-4704-b037-8325d183ecc6",
   "metadata": {
    "tags": []
   },
   "outputs": [
    {
     "data": {
      "text/plain": [
       "array(['긍정'], dtype='<U2')"
      ]
     },
     "execution_count": 57,
     "metadata": {},
     "output_type": "execute_result"
    }
   ],
   "source": [
    "model.predict(vectorized_comment.toarray())"
   ]
  },
  {
   "cell_type": "code",
   "execution_count": null,
   "id": "08fe207e-f390-4cf0-8e8f-1e5d8d9320fe",
   "metadata": {},
   "outputs": [],
   "source": []
  }
 ],
 "metadata": {
  "kernelspec": {
   "display_name": "Python 3 (ipykernel)",
   "language": "python",
   "name": "python3"
  },
  "language_info": {
   "codemirror_mode": {
    "name": "ipython",
    "version": 3
   },
   "file_extension": ".py",
   "mimetype": "text/x-python",
   "name": "python",
   "nbconvert_exporter": "python",
   "pygments_lexer": "ipython3",
   "version": "3.11.3"
  }
 },
 "nbformat": 4,
 "nbformat_minor": 5
}
