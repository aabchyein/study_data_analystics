{
 "cells": [
  {
   "cell_type": "code",
   "execution_count": 2,
   "id": "388e890d-00f9-46d1-9c0c-80dec7a5a617",
   "metadata": {
    "tags": []
   },
   "outputs": [],
   "source": [
    "sentences = [\n",
    "    \"오늘 날씨가 좋아서 나들이 가고 싶다.\", # -> [오늘, 날씨가, 좋아서, 나들이, 가고, 싶다]\n",
    "    \"이 영화는 정말 재미있었어요.\",\n",
    "    \"맛있는 음식을 먹으러 갈까요?\",\n",
    "    \"운동을 하면 건강에 좋아지는 것 같아요.\",\n",
    "    \"공부하기 싫어서 미루고 있어요.\",\n",
    "    \"여행 계획을 세우고 있는데 어디로 갈까요?\",\n",
    "    \"좋은 책을 읽으면 마음이 편안해져요.\",\n",
    "    \"오늘은 친구들과 만나서 재미있게 놀았어요.\",\n",
    "    \"새로운 언어를 배우는 것은 어려워도 흥미로워요.\",\n",
    "    \"주말에 가족들과 함께 시간을 보내기로 했습니다.\"\n",
    "]"
   ]
  },
  {
   "cell_type": "code",
   "execution_count": 3,
   "id": "5ea7eb83-e8b5-4355-93b8-f1908856d1c2",
   "metadata": {
    "tags": []
   },
   "outputs": [],
   "source": [
    "# gensim은 자연어를 처리하는 라이브러리\n",
    "from gensim.corpora import Dictionary\n",
    "from gensim.models import LdaModel   # 주제어 확인"
   ]
  },
  {
   "cell_type": "markdown",
   "id": "31f7dd1e-e49b-49f5-9163-1fa0b4f73cb0",
   "metadata": {},
   "source": [
    "### 전처리(형태소 분석, 불용어 처리 등)"
   ]
  },
  {
   "cell_type": "code",
   "execution_count": 4,
   "id": "766f56d3-c769-4427-9944-05169f931b1f",
   "metadata": {
    "tags": []
   },
   "outputs": [],
   "source": [
    "from mecab import MeCab\n",
    "mecab = MeCab()"
   ]
  },
  {
   "cell_type": "code",
   "execution_count": 5,
   "id": "68c668ce-ac50-4861-9777-28882bece405",
   "metadata": {
    "tags": []
   },
   "outputs": [
    {
     "data": {
      "text/plain": [
       "[['날씨', '나'],\n",
       " ['영화'],\n",
       " ['음식'],\n",
       " ['운동', '건강', '것'],\n",
       " ['공부'],\n",
       " ['여행', '계획', '어디'],\n",
       " ['책', '마음', '편안'],\n",
       " ['오늘', '친구'],\n",
       " ['언어', '것', '흥미'],\n",
       " ['주말', '가족', '시간']]"
      ]
     },
     "execution_count": 5,
     "metadata": {},
     "output_type": "execute_result"
    }
   ],
   "source": [
    "# 형태분석기 사용해 명사만 추출\n",
    "morphs_list = list()\n",
    "for sentence in sentences :\n",
    "    morphs = mecab.nouns(sentence)\n",
    "    morphs_list.append(morphs)\n",
    "morphs_list"
   ]
  },
  {
   "cell_type": "code",
   "execution_count": 6,
   "id": "128c9bdf-8235-4558-957c-eb1171b0bdea",
   "metadata": {
    "tags": []
   },
   "outputs": [],
   "source": [
    "preprocessed_sentences = morphs_list"
   ]
  },
  {
   "cell_type": "code",
   "execution_count": 7,
   "id": "2c3cd2df-6d89-461b-b594-4cb879a22d73",
   "metadata": {
    "tags": []
   },
   "outputs": [
    {
     "data": {
      "text/plain": [
       "<gensim.corpora.dictionary.Dictionary at 0x1f6bd7fea50>"
      ]
     },
     "execution_count": 7,
     "metadata": {},
     "output_type": "execute_result"
    }
   ],
   "source": [
    "# gensim의 dictionary는 벡터화까지 자동으로 일어남.\n",
    "dictionary = Dictionary(preprocessed_sentences) # sklearn에서의 fit과 같음\n",
    "dictionary"
   ]
  },
  {
   "cell_type": "markdown",
   "id": "a68e243a-b498-4ab2-aa3a-27c97ceb636a",
   "metadata": {},
   "source": [
    "### transform with dictionary"
   ]
  },
  {
   "cell_type": "code",
   "execution_count": 8,
   "id": "a34ebfba-eed9-4053-8ed5-7137276578f5",
   "metadata": {
    "tags": []
   },
   "outputs": [
    {
     "data": {
      "text/plain": [
       "{'나': 0,\n",
       " '날씨': 1,\n",
       " '영화': 2,\n",
       " '음식': 3,\n",
       " '건강': 4,\n",
       " '것': 5,\n",
       " '운동': 6,\n",
       " '공부': 7,\n",
       " '계획': 8,\n",
       " '어디': 9,\n",
       " '여행': 10,\n",
       " '마음': 11,\n",
       " '책': 12,\n",
       " '편안': 13,\n",
       " '오늘': 14,\n",
       " '친구': 15,\n",
       " '언어': 16,\n",
       " '흥미': 17,\n",
       " '가족': 18,\n",
       " '시간': 19,\n",
       " '주말': 20}"
      ]
     },
     "execution_count": 8,
     "metadata": {},
     "output_type": "execute_result"
    }
   ],
   "source": [
    "dictionary.token2id\n",
    "# 컬럼의 수(=차원의 수) : 75개"
   ]
  },
  {
   "cell_type": "code",
   "execution_count": 9,
   "id": "64fcce20-49b0-4f0f-bdf7-64bd699fff18",
   "metadata": {
    "tags": []
   },
   "outputs": [
    {
     "data": {
      "text/plain": [
       "[(0, 1), (1, 1)]"
      ]
     },
     "execution_count": 9,
     "metadata": {},
     "output_type": "execute_result"
    }
   ],
   "source": [
    "dictionary.doc2bow(preprocessed_sentences[0]) # transform"
   ]
  },
  {
   "cell_type": "code",
   "execution_count": 10,
   "id": "a32979e3-6b84-47da-ad48-65d322ff2bda",
   "metadata": {
    "tags": []
   },
   "outputs": [],
   "source": [
    "corpus_list = list()\n",
    "for sentence in preprocessed_sentences:\n",
    "    morphs_vector = dictionary.doc2bow(sentence)\n",
    "    corpus_list.append(morphs_vector) # 리스트에 morphs_vector값을 하나씩 담기\n",
    "# corpus_list"
   ]
  },
  {
   "cell_type": "code",
   "execution_count": 11,
   "id": "8da172f7-d3e3-4cbb-adf4-4bb84f7dba74",
   "metadata": {
    "tags": []
   },
   "outputs": [],
   "source": [
    "# fit\n",
    "lda_model = LdaModel(corpus=corpus_list, id2word=dictionary, num_topics=3) # corpus_list에는 숫자만 담겨있기 때문에 dictionary를 같이 넣어줌\n",
    "\n",
    "## num_topics : 주제로 선정하고 싶은 개수 3개\n",
    "## 여러 문장에서 연관성을 가진 단어만을 뽑아 하나의 문장으로 나열\n",
    "## ex. 여행, 바다, 산, 계획 -> '여행'이라는 하나의 주제가 됨"
   ]
  },
  {
   "cell_type": "code",
   "execution_count": 12,
   "id": "243bbd77-8eef-4b25-b790-92762a1917fa",
   "metadata": {
    "tags": []
   },
   "outputs": [
    {
     "data": {
      "text/plain": [
       "[(0, '0.115*\"날씨\" + 0.111*\"나\" + 0.108*\"공부\" + 0.098*\"영화\" + 0.037*\"음식\"'),\n",
       " (1, '0.105*\"것\" + 0.103*\"운동\" + 0.101*\"오늘\" + 0.100*\"건강\" + 0.100*\"친구\"'),\n",
       " (2, '0.067*\"것\" + 0.066*\"계획\" + 0.066*\"책\" + 0.066*\"언어\" + 0.066*\"마음\"')]"
      ]
     },
     "execution_count": 12,
     "metadata": {},
     "output_type": "execute_result"
    }
   ],
   "source": [
    "lda_model.print_topics(num_words=5)"
   ]
  },
  {
   "cell_type": "markdown",
   "id": "eba95f25-cd8b-403e-b7ea-5a79717cc72e",
   "metadata": {},
   "source": [
    "## 최적의 토픽 단어 수"
   ]
  },
  {
   "cell_type": "code",
   "execution_count": 16,
   "id": "c188ec97-9bc5-4508-be6c-82555da84b53",
   "metadata": {
    "tags": []
   },
   "outputs": [
    {
     "data": {
      "text/plain": [
       "0.7204797018632694"
      ]
     },
     "execution_count": 16,
     "metadata": {},
     "output_type": "execute_result"
    }
   ],
   "source": [
    "# 일관성 점수\n",
    "from gensim.models.coherencemodel import CoherenceModel\n",
    "coherenceModel = CoherenceModel(model=lda_model, texts=morphs_list, dictionary=dictionary) #인스턴스화\n",
    "coherenceModel.get_coherence()"
   ]
  },
  {
   "cell_type": "code",
   "execution_count": 17,
   "id": "39636a4a-e15f-414d-ab9c-4911876781cd",
   "metadata": {
    "tags": []
   },
   "outputs": [
    {
     "data": {
      "text/plain": [
       "-4.17491287655021"
      ]
     },
     "execution_count": 17,
     "metadata": {},
     "output_type": "execute_result"
    }
   ],
   "source": [
    "# 혼잡도 점수\n",
    "lda_model.log_perplexity(corpus_list)"
   ]
  },
  {
   "cell_type": "code",
   "execution_count": 29,
   "id": "72e0486a-3dd0-414c-9e4b-ec4c2c5bb6e8",
   "metadata": {
    "tags": []
   },
   "outputs": [],
   "source": [
    "# 토픽수를 계속 늘려가면서 응집도와 혼잡도를 계산\n",
    "# 최적의 토픽 개수를 찾기 위해서 토픽 개수를 2부터 10까지 선택해서 for문을 돌림\n",
    "start_topic = 2\n",
    "end_topic = 10\n",
    "coherence_scores = list()\n",
    "perplexity_scores = list()\n",
    "for topic_number in range(start_topic, end_topic+1):\n",
    "    lda_model = LdaModel(corpus=corpus_list, id2word=dictionary, num_topics=topic_number)  # fit\n",
    "    coherenceModel = CoherenceModel(model=lda_model, texts=morphs_list, dictionary=dictionary) #인스턴스화\n",
    "    coherence_scores.append(coherenceModel.get_coherence())  # 일관성 점수를 list에 담음\n",
    "    perplexity_scores.append(lda_model.log_perplexity(corpus_list))  # 혼잡도 점수를 list에 담음"
   ]
  },
  {
   "cell_type": "code",
   "execution_count": 19,
   "id": "d4c3648b-e292-4bc8-a3c0-908615ee8f99",
   "metadata": {
    "tags": []
   },
   "outputs": [
    {
     "data": {
      "text/html": [
       "<div>\n",
       "<style scoped>\n",
       "    .dataframe tbody tr th:only-of-type {\n",
       "        vertical-align: middle;\n",
       "    }\n",
       "\n",
       "    .dataframe tbody tr th {\n",
       "        vertical-align: top;\n",
       "    }\n",
       "\n",
       "    .dataframe thead th {\n",
       "        text-align: right;\n",
       "    }\n",
       "</style>\n",
       "<table border=\"1\" class=\"dataframe\">\n",
       "  <thead>\n",
       "    <tr style=\"text-align: right;\">\n",
       "      <th></th>\n",
       "      <th>0</th>\n",
       "      <th>1</th>\n",
       "      <th>2</th>\n",
       "      <th>3</th>\n",
       "      <th>4</th>\n",
       "      <th>5</th>\n",
       "      <th>6</th>\n",
       "      <th>7</th>\n",
       "      <th>8</th>\n",
       "    </tr>\n",
       "  </thead>\n",
       "  <tbody>\n",
       "    <tr>\n",
       "      <th>0</th>\n",
       "      <td>0.722258</td>\n",
       "      <td>0.723955</td>\n",
       "      <td>0.721349</td>\n",
       "      <td>0.723276</td>\n",
       "      <td>0.722824</td>\n",
       "      <td>0.723470</td>\n",
       "      <td>0.722682</td>\n",
       "      <td>0.723578</td>\n",
       "      <td>0.721580</td>\n",
       "    </tr>\n",
       "    <tr>\n",
       "      <th>1</th>\n",
       "      <td>-3.920543</td>\n",
       "      <td>-4.149892</td>\n",
       "      <td>-4.247239</td>\n",
       "      <td>-4.328764</td>\n",
       "      <td>-4.587066</td>\n",
       "      <td>-4.662608</td>\n",
       "      <td>-4.868149</td>\n",
       "      <td>-4.759320</td>\n",
       "      <td>-4.959858</td>\n",
       "    </tr>\n",
       "  </tbody>\n",
       "</table>\n",
       "</div>"
      ],
      "text/plain": [
       "          0         1         2         3         4         5         6  \\\n",
       "0  0.722258  0.723955  0.721349  0.723276  0.722824  0.723470  0.722682   \n",
       "1 -3.920543 -4.149892 -4.247239 -4.328764 -4.587066 -4.662608 -4.868149   \n",
       "\n",
       "          7         8  \n",
       "0  0.723578  0.721580  \n",
       "1 -4.759320 -4.959858  "
      ]
     },
     "execution_count": 19,
     "metadata": {},
     "output_type": "execute_result"
    }
   ],
   "source": [
    "import pandas as pd\n",
    "pd.DataFrame([coherence_scores, perplexity_scores])\n",
    "\n",
    "# 일관성 점수가 높고 혼잡도 점수가 낮은 것을 선택\n",
    "# 일관성이 높은 것 : 1\n",
    "# 혼잡도가 낮은 것 : 0\n",
    "# 토픽 2개가 최적의 개수"
   ]
  },
  {
   "cell_type": "code",
   "execution_count": 28,
   "id": "18252fef-dafe-4466-9b97-0505f63b7693",
   "metadata": {
    "tags": []
   },
   "outputs": [
    {
     "data": {
      "text/html": [
       "<div>\n",
       "<style scoped>\n",
       "    .dataframe tbody tr th:only-of-type {\n",
       "        vertical-align: middle;\n",
       "    }\n",
       "\n",
       "    .dataframe tbody tr th {\n",
       "        vertical-align: top;\n",
       "    }\n",
       "\n",
       "    .dataframe thead th {\n",
       "        text-align: right;\n",
       "    }\n",
       "</style>\n",
       "<table border=\"1\" class=\"dataframe\">\n",
       "  <thead>\n",
       "    <tr style=\"text-align: right;\">\n",
       "      <th></th>\n",
       "      <th>0</th>\n",
       "      <th>1</th>\n",
       "    </tr>\n",
       "  </thead>\n",
       "  <tbody>\n",
       "    <tr>\n",
       "      <th>0</th>\n",
       "      <td>0.722258</td>\n",
       "      <td>-3.920543</td>\n",
       "    </tr>\n",
       "    <tr>\n",
       "      <th>1</th>\n",
       "      <td>0.723955</td>\n",
       "      <td>-4.149892</td>\n",
       "    </tr>\n",
       "    <tr>\n",
       "      <th>2</th>\n",
       "      <td>0.721349</td>\n",
       "      <td>-4.247239</td>\n",
       "    </tr>\n",
       "    <tr>\n",
       "      <th>3</th>\n",
       "      <td>0.723276</td>\n",
       "      <td>-4.328764</td>\n",
       "    </tr>\n",
       "    <tr>\n",
       "      <th>4</th>\n",
       "      <td>0.722824</td>\n",
       "      <td>-4.587066</td>\n",
       "    </tr>\n",
       "    <tr>\n",
       "      <th>5</th>\n",
       "      <td>0.723470</td>\n",
       "      <td>-4.662608</td>\n",
       "    </tr>\n",
       "    <tr>\n",
       "      <th>6</th>\n",
       "      <td>0.722682</td>\n",
       "      <td>-4.868149</td>\n",
       "    </tr>\n",
       "    <tr>\n",
       "      <th>7</th>\n",
       "      <td>0.723578</td>\n",
       "      <td>-4.759320</td>\n",
       "    </tr>\n",
       "    <tr>\n",
       "      <th>8</th>\n",
       "      <td>0.721580</td>\n",
       "      <td>-4.959858</td>\n",
       "    </tr>\n",
       "  </tbody>\n",
       "</table>\n",
       "</div>"
      ],
      "text/plain": [
       "          0         1\n",
       "0  0.722258 -3.920543\n",
       "1  0.723955 -4.149892\n",
       "2  0.721349 -4.247239\n",
       "3  0.723276 -4.328764\n",
       "4  0.722824 -4.587066\n",
       "5  0.723470 -4.662608\n",
       "6  0.722682 -4.868149\n",
       "7  0.723578 -4.759320\n",
       "8  0.721580 -4.959858"
      ]
     },
     "execution_count": 28,
     "metadata": {},
     "output_type": "execute_result"
    }
   ],
   "source": [
    "pd.DataFrame([coherence_scores, perplexity_scores]).T\n",
    "\n",
    "# range를 2부터 시작했으므로 index 0은 2에 해당\n",
    "# 혼잡도가 낮은 -3.920543에 해당하는 토픽 개수 2개일 때를 최적이라고 봄."
   ]
  },
  {
   "cell_type": "code",
   "execution_count": 20,
   "id": "b6428d13-264f-4720-b16f-95f01e7df512",
   "metadata": {
    "tags": []
   },
   "outputs": [],
   "source": [
    "import seaborn as sns\n",
    "import matplotlib.pyplot as plt"
   ]
  },
  {
   "cell_type": "code",
   "execution_count": 26,
   "id": "326a1c88-9163-47a0-867e-b8dce7aa67fb",
   "metadata": {
    "tags": []
   },
   "outputs": [
    {
     "data": {
      "image/png": "[encoded data removed]",
      "text/plain": [
       "<Figure size 640x480 with 1 Axes>"
      ]
     },
     "metadata": {},
     "output_type": "display_data"
    }
   ],
   "source": [
    "sns.lineplot(coherence_scores)\n",
    "sns.lineplot(perplexity_scores)\n",
    "plt.show()"
   ]
  },
  {
   "cell_type": "code",
   "execution_count": null,
   "id": "f970ac28-6e32-41cf-9740-3f606a0372ea",
   "metadata": {},
   "outputs": [],
   "source": []
  }
 ],
 "metadata": {
  "kernelspec": {
   "display_name": "Python 3 (ipykernel)",
   "language": "python",
   "name": "python3"
  },
  "language_info": {
   "codemirror_mode": {
    "name": "ipython",
    "version": 3
   },
   "file_extension": ".py",
   "mimetype": "text/x-python",
   "name": "python",
   "nbconvert_exporter": "python",
   "pygments_lexer": "ipython3",
   "version": "3.11.3"
  }
 },
 "nbformat": 4,
 "nbformat_minor": 5
}
