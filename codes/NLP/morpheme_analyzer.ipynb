{
 "cells": [
  {
   "cell_type": "markdown",
   "id": "68f4333c-ef44-44dc-a912-6a8299b5ee2d",
   "metadata": {},
   "source": [
    "## 한글 형태소 분석기\n",
    "- refer : https://konlpy-ko.readthedocs.io/ko/v0.6.0/"
   ]
  },
  {
   "cell_type": "code",
   "execution_count": 1,
   "id": "ab7126b3-146b-4c8f-8119-5353373ec0ac",
   "metadata": {
    "tags": []
   },
   "outputs": [
    {
     "name": "stdout",
     "output_type": "stream",
     "text": [
      "Requirement already satisfied: konlpy in c:\\users\\koreavc\\anaconda3\\lib\\site-packages (0.6.0)\n",
      "Requirement already satisfied: JPype1>=0.7.0 in c:\\users\\koreavc\\anaconda3\\lib\\site-packages (from konlpy) (1.4.1)\n",
      "Requirement already satisfied: lxml>=4.1.0 in c:\\users\\koreavc\\anaconda3\\lib\\site-packages (from konlpy) (4.9.2)\n",
      "Requirement already satisfied: numpy>=1.6 in c:\\users\\koreavc\\anaconda3\\lib\\site-packages (from konlpy) (1.24.3)\n",
      "Requirement already satisfied: packaging in c:\\users\\koreavc\\anaconda3\\lib\\site-packages (from JPype1>=0.7.0->konlpy) (23.0)\n"
     ]
    }
   ],
   "source": [
    "!pip install konlpy"
   ]
  },
  {
   "cell_type": "markdown",
   "id": "a669e84f-6aa5-4ea9-8530-a383d584bc7a",
   "metadata": {},
   "source": [
    "### Okt : 한글 형태 분석기 중 하나 "
   ]
  },
  {
   "cell_type": "code",
   "execution_count": 2,
   "id": "ce9ea1b7-4ed1-4d51-857c-07c4ad89de2b",
   "metadata": {
    "tags": []
   },
   "outputs": [],
   "source": [
    "from konlpy.tag import Okt"
   ]
  },
  {
   "cell_type": "code",
   "execution_count": 3,
   "id": "21492178-bef9-4e63-9314-3f8673db9995",
   "metadata": {
    "tags": []
   },
   "outputs": [],
   "source": [
    "okt = Okt() # 형태소 분석기 선택"
   ]
  },
  {
   "cell_type": "code",
   "execution_count": 4,
   "id": "8f205557-2f84-4947-878d-42c5287f3469",
   "metadata": {
    "tags": []
   },
   "outputs": [],
   "source": [
    "sentences_list = ['아버지가방에들어가신다'\n",
    "                , '나는 밥을 먹는다.'\n",
    "                , '하늘을 나는 자동차'\n",
    "                , '아이폰 기다리다 지쳐 애플공홈에서 언락폰질러버렸다 6+ 128기가실버ㅋ']"
   ]
  },
  {
   "cell_type": "code",
   "execution_count": 5,
   "id": "71cc3ffb-6971-4771-9a32-5f3a805b4d22",
   "metadata": {
    "tags": []
   },
   "outputs": [
    {
     "data": {
      "text/plain": [
       "['나', '는', '밥', '을', '먹는다', '.']"
      ]
     },
     "execution_count": 5,
     "metadata": {},
     "output_type": "execute_result"
    }
   ],
   "source": [
    "# 토큰화\n",
    "morphs_list = okt.morphs(sentences_list[1])\n",
    "morphs_list"
   ]
  },
  {
   "cell_type": "code",
   "execution_count": 6,
   "id": "afd8ec0a-0c76-4498-9fcf-074a4a7c6b7e",
   "metadata": {
    "tags": []
   },
   "outputs": [
    {
     "data": {
      "text/plain": [
       "[('나', 'Noun'),\n",
       " ('는', 'Josa'),\n",
       " ('밥', 'Noun'),\n",
       " ('을', 'Josa'),\n",
       " ('먹는다', 'Verb'),\n",
       " ('.', 'Punctuation')]"
      ]
     },
     "execution_count": 6,
     "metadata": {},
     "output_type": "execute_result"
    }
   ],
   "source": [
    "# 품사 달기\n",
    "okt.pos(sentences_list[1])"
   ]
  },
  {
   "cell_type": "code",
   "execution_count": 7,
   "id": "eca8d3fc-5e6a-4ee7-b4e7-726d16027237",
   "metadata": {
    "tags": []
   },
   "outputs": [
    {
     "data": {
      "text/plain": [
       "['나', '밥']"
      ]
     },
     "execution_count": 7,
     "metadata": {},
     "output_type": "execute_result"
    }
   ],
   "source": [
    "# 명사만 가져오기\n",
    "okt.nouns(sentences_list[1])"
   ]
  },
  {
   "cell_type": "code",
   "execution_count": 8,
   "id": "865e64fd-fbf2-453c-91b0-afed66f49a18",
   "metadata": {
    "tags": []
   },
   "outputs": [
    {
     "data": {
      "text/plain": [
       "(['아이폰', '애플공홈', '언락폰', '128기', '실버', '애플', '공홈', '128'], ['애플공홈', '애플', '공홈'])"
      ]
     },
     "execution_count": 8,
     "metadata": {},
     "output_type": "execute_result"
    }
   ],
   "source": [
    "# 결합명사 단어별 추출\n",
    "okt.phrases(sentences_list[3]), okt.phrases('애플공홈')"
   ]
  },
  {
   "cell_type": "markdown",
   "id": "8582d8e4-6880-4451-9d1a-f5d792736aed",
   "metadata": {},
   "source": [
    "### Mecab"
   ]
  },
  {
   "cell_type": "code",
   "execution_count": 9,
   "id": "400607b0-e3d8-419a-a44d-1d4deb638d0a",
   "metadata": {
    "tags": []
   },
   "outputs": [
    {
     "name": "stdout",
     "output_type": "stream",
     "text": [
      "Requirement already satisfied: python-mecab-ko in c:\\users\\koreavc\\anaconda3\\lib\\site-packages (1.3.3)\n",
      "Requirement already satisfied: python-mecab-ko-dic in c:\\users\\koreavc\\anaconda3\\lib\\site-packages (from python-mecab-ko) (2.1.1.post2)\n"
     ]
    }
   ],
   "source": [
    "!pip install python-mecab-ko"
   ]
  },
  {
   "cell_type": "code",
   "execution_count": 10,
   "id": "44e945f8-e5eb-449c-8d37-f5eaa72da64b",
   "metadata": {
    "tags": []
   },
   "outputs": [],
   "source": [
    "from mecab import MeCab"
   ]
  },
  {
   "cell_type": "code",
   "execution_count": 11,
   "id": "46061860-2ff4-4e7b-a204-987c5503a598",
   "metadata": {
    "tags": []
   },
   "outputs": [],
   "source": [
    "mecab = MeCab()"
   ]
  },
  {
   "cell_type": "code",
   "execution_count": 12,
   "id": "131f90ac-3dab-4aa2-9b34-0badf52639bf",
   "metadata": {
    "tags": []
   },
   "outputs": [
    {
     "data": {
      "text/plain": [
       "['아버지', '가', '방', '에', '들어가', '신다']"
      ]
     },
     "execution_count": 12,
     "metadata": {},
     "output_type": "execute_result"
    }
   ],
   "source": [
    "# 토큰화\n",
    "mecab.morphs(sentence=sentences_list[0])"
   ]
  },
  {
   "cell_type": "code",
   "execution_count": 13,
   "id": "e15e5409-9fd9-4b36-a360-77afb522af1e",
   "metadata": {
    "tags": []
   },
   "outputs": [
    {
     "data": {
      "text/plain": [
       "[('아버지', 'NNG'),\n",
       " ('가', 'JKS'),\n",
       " ('방', 'NNG'),\n",
       " ('에', 'JKB'),\n",
       " ('들어가', 'VV'),\n",
       " ('신다', 'EP+EC')]"
      ]
     },
     "execution_count": 13,
     "metadata": {},
     "output_type": "execute_result"
    }
   ],
   "source": [
    "# 품사 달기\n",
    "mecab.pos(sentences_list[0])"
   ]
  },
  {
   "cell_type": "code",
   "execution_count": 14,
   "id": "99443324-9daa-4885-ad59-475feec4ff2c",
   "metadata": {
    "tags": []
   },
   "outputs": [
    {
     "name": "stdout",
     "output_type": "stream",
     "text": [
      "['아버지', '가', '방', '에', '들어가', '신다']\n",
      "['나', '는', '밥', '을', '먹', '는다', '.']\n",
      "['하늘', '을', '나', '는', '자동차']\n",
      "['아이폰', '기다리', '다', '지쳐', '애플', '공홈', '에서', '언락', '폰', '질러', '버렸', '다', '6', '+', '128', '기', '가', '실버', 'ㅋ']\n"
     ]
    }
   ],
   "source": [
    "for sentence in sentences_list :\n",
    "    morphs_list = mecab.morphs(sentence)\n",
    "    print(morphs_list)"
   ]
  },
  {
   "cell_type": "code",
   "execution_count": null,
   "id": "ea108030-19ef-4f17-89d7-04799e3019ba",
   "metadata": {},
   "outputs": [],
   "source": []
  }
 ],
 "metadata": {
  "kernelspec": {
   "display_name": "Python 3 (ipykernel)",
   "language": "python",
   "name": "python3"
  },
  "language_info": {
   "codemirror_mode": {
    "name": "ipython",
    "version": 3
   },
   "file_extension": ".py",
   "mimetype": "text/x-python",
   "name": "python",
   "nbconvert_exporter": "python",
   "pygments_lexer": "ipython3",
   "version": "3.11.3"
  }
 },
 "nbformat": 4,
 "nbformat_minor": 5
}
